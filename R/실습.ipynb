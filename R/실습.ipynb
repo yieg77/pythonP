{
 "cells": [
  {
   "cell_type": "code",
   "execution_count": 3,
   "metadata": {},
   "outputs": [
    {
     "data": {
      "text/html": [
       "<table>\n",
       "<thead><tr><th scope=col>sex</th><th scope=col>score</th></tr></thead>\n",
       "<tbody>\n",
       "\t<tr><td>M </td><td> 5</td></tr>\n",
       "\t<tr><td>F </td><td> 4</td></tr>\n",
       "\t<tr><td>NA</td><td> 3</td></tr>\n",
       "\t<tr><td>M </td><td> 4</td></tr>\n",
       "\t<tr><td>F </td><td>NA</td></tr>\n",
       "</tbody>\n",
       "</table>\n"
      ],
      "text/latex": [
       "\\begin{tabular}{r|ll}\n",
       " sex & score\\\\\n",
       "\\hline\n",
       "\t M  &  5\\\\\n",
       "\t F  &  4\\\\\n",
       "\t NA &  3\\\\\n",
       "\t M  &  4\\\\\n",
       "\t F  & NA\\\\\n",
       "\\end{tabular}\n"
      ],
      "text/markdown": [
       "\n",
       "| sex | score |\n",
       "|---|---|\n",
       "| M  |  5 |\n",
       "| F  |  4 |\n",
       "| NA |  3 |\n",
       "| M  |  4 |\n",
       "| F  | NA |\n",
       "\n"
      ],
      "text/plain": [
       "  sex score\n",
       "1 M    5   \n",
       "2 F    4   \n",
       "3 NA   3   \n",
       "4 M    4   \n",
       "5 F   NA   "
      ]
     },
     "metadata": {},
     "output_type": "display_data"
    }
   ],
   "source": [
    "df <- data.frame(sex=c(\"M\",\"F\",NA,\"M\",\"F\"), score=c(5,4,3,4,NA))\n",
    "df"
   ]
  },
  {
   "cell_type": "code",
   "execution_count": 4,
   "metadata": {},
   "outputs": [
    {
     "data": {
      "text/html": [
       "<table>\n",
       "<thead><tr><th scope=col>sex</th><th scope=col>score</th></tr></thead>\n",
       "<tbody>\n",
       "\t<tr><td>FALSE</td><td>FALSE</td></tr>\n",
       "\t<tr><td>FALSE</td><td>FALSE</td></tr>\n",
       "\t<tr><td> TRUE</td><td>FALSE</td></tr>\n",
       "\t<tr><td>FALSE</td><td>FALSE</td></tr>\n",
       "\t<tr><td>FALSE</td><td> TRUE</td></tr>\n",
       "</tbody>\n",
       "</table>\n"
      ],
      "text/latex": [
       "\\begin{tabular}{ll}\n",
       " sex & score\\\\\n",
       "\\hline\n",
       "\t FALSE & FALSE\\\\\n",
       "\t FALSE & FALSE\\\\\n",
       "\t  TRUE & FALSE\\\\\n",
       "\t FALSE & FALSE\\\\\n",
       "\t FALSE &  TRUE\\\\\n",
       "\\end{tabular}\n"
      ],
      "text/markdown": [
       "\n",
       "| sex | score |\n",
       "|---|---|\n",
       "| FALSE | FALSE |\n",
       "| FALSE | FALSE |\n",
       "|  TRUE | FALSE |\n",
       "| FALSE | FALSE |\n",
       "| FALSE |  TRUE |\n",
       "\n"
      ],
      "text/plain": [
       "     sex   score\n",
       "[1,] FALSE FALSE\n",
       "[2,] FALSE FALSE\n",
       "[3,]  TRUE FALSE\n",
       "[4,] FALSE FALSE\n",
       "[5,] FALSE  TRUE"
      ]
     },
     "metadata": {},
     "output_type": "display_data"
    }
   ],
   "source": [
    "is.na(df)"
   ]
  },
  {
   "cell_type": "code",
   "execution_count": 5,
   "metadata": {},
   "outputs": [
    {
     "data": {
      "text/plain": [
       "\n",
       "FALSE  TRUE \n",
       "    8     2 "
      ]
     },
     "metadata": {},
     "output_type": "display_data"
    }
   ],
   "source": [
    "table(is.na(df))"
   ]
  },
  {
   "cell_type": "code",
   "execution_count": 7,
   "metadata": {},
   "outputs": [
    {
     "data": {
      "text/plain": [
       "\n",
       "FALSE  TRUE \n",
       "    4     1 "
      ]
     },
     "metadata": {},
     "output_type": "display_data"
    },
    {
     "data": {
      "text/plain": [
       "\n",
       "FALSE  TRUE \n",
       "    4     1 "
      ]
     },
     "metadata": {},
     "output_type": "display_data"
    }
   ],
   "source": [
    "table(is.na(df$sex))\n",
    "table(is.na(df$score))"
   ]
  },
  {
   "cell_type": "code",
   "execution_count": 8,
   "metadata": {},
   "outputs": [
    {
     "data": {
      "text/html": [
       "&lt;NA&gt;"
      ],
      "text/latex": [
       "<NA>"
      ],
      "text/markdown": [
       "&lt;NA&gt;"
      ],
      "text/plain": [
       "[1] NA"
      ]
     },
     "metadata": {},
     "output_type": "display_data"
    },
    {
     "data": {
      "text/html": [
       "&lt;NA&gt;"
      ],
      "text/latex": [
       "<NA>"
      ],
      "text/markdown": [
       "&lt;NA&gt;"
      ],
      "text/plain": [
       "[1] NA"
      ]
     },
     "metadata": {},
     "output_type": "display_data"
    }
   ],
   "source": [
    "mean(df$score)\n",
    "sum(df$score)"
   ]
  },
  {
   "cell_type": "code",
   "execution_count": 9,
   "metadata": {
    "collapsed": true,
    "jupyter": {
     "outputs_hidden": true
    }
   },
   "outputs": [
    {
     "name": "stdout",
     "output_type": "stream",
     "text": [
      "package 'ggplot2' successfully unpacked and MD5 sums checked\n"
     ]
    },
    {
     "name": "stderr",
     "output_type": "stream",
     "text": [
      "Warning message:\n",
      "\"cannot remove prior installation of package 'ggplot2'\"Warning message in file.copy(savedcopy, lib, recursive = TRUE):\n",
      "\"C:\\ProgramData\\Anaconda3\\Lib\\R\\library\\00LOCK\\ggplot2\\CITATION를 C:\\ProgramData\\Anaconda3\\Lib\\R\\library\\ggplot2\\CITATION로 복사하는데 문제가 발생했습니다: Permission denied\"Warning message in file.copy(savedcopy, lib, recursive = TRUE):\n",
      "\"C:\\ProgramData\\Anaconda3\\Lib\\R\\library\\00LOCK\\ggplot2\\data\\Rdata.rdb를 C:\\ProgramData\\Anaconda3\\Lib\\R\\library\\ggplot2\\data\\Rdata.rdb로 복사하는데 문제가 발생했습니다: Permission denied\"Warning message in file.copy(savedcopy, lib, recursive = TRUE):\n",
      "\"C:\\ProgramData\\Anaconda3\\Lib\\R\\library\\00LOCK\\ggplot2\\data\\Rdata.rds를 C:\\ProgramData\\Anaconda3\\Lib\\R\\library\\ggplot2\\data\\Rdata.rds로 복사하는데 문제가 발생했습니다: Permission denied\"Warning message in file.copy(savedcopy, lib, recursive = TRUE):\n",
      "\"C:\\ProgramData\\Anaconda3\\Lib\\R\\library\\00LOCK\\ggplot2\\data\\Rdata.rdx를 C:\\ProgramData\\Anaconda3\\Lib\\R\\library\\ggplot2\\data\\Rdata.rdx로 복사하는데 문제가 발생했습니다: Permission denied\"Warning message in file.copy(savedcopy, lib, recursive = TRUE):\n",
      "\"C:\\ProgramData\\Anaconda3\\Lib\\R\\library\\00LOCK\\ggplot2\\DESCRIPTION를 C:\\ProgramData\\Anaconda3\\Lib\\R\\library\\ggplot2\\DESCRIPTION로 복사하는데 문제가 발생했습니다: Permission denied\"Warning message in file.copy(savedcopy, lib, recursive = TRUE):\n",
      "\"C:\\ProgramData\\Anaconda3\\Lib\\R\\library\\00LOCK\\ggplot2\\doc\\extending-ggplot2.html를 C:\\ProgramData\\Anaconda3\\Lib\\R\\library\\ggplot2\\doc\\extending-ggplot2.html로 복사하는데 문제가 발생했습니다: Permission denied\"Warning message in file.copy(savedcopy, lib, recursive = TRUE):\n",
      "\"C:\\ProgramData\\Anaconda3\\Lib\\R\\library\\00LOCK\\ggplot2\\doc\\extending-ggplot2.R를 C:\\ProgramData\\Anaconda3\\Lib\\R\\library\\ggplot2\\doc\\extending-ggplot2.R로 복사하는데 문제가 발생했습니다: Permission denied\"Warning message in file.copy(savedcopy, lib, recursive = TRUE):\n",
      "\"C:\\ProgramData\\Anaconda3\\Lib\\R\\library\\00LOCK\\ggplot2\\doc\\extending-ggplot2.Rmd를 C:\\ProgramData\\Anaconda3\\Lib\\R\\library\\ggplot2\\doc\\extending-ggplot2.Rmd로 복사하는데 문제가 발생했습니다: Permission denied\"Warning message in file.copy(savedcopy, lib, recursive = TRUE):\n",
      "\"C:\\ProgramData\\Anaconda3\\Lib\\R\\library\\00LOCK\\ggplot2\\doc\\ggplot2-specs.html를 C:\\ProgramData\\Anaconda3\\Lib\\R\\library\\ggplot2\\doc\\ggplot2-specs.html로 복사하는데 문제가 발생했습니다: Permission denied\"Warning message in file.copy(savedcopy, lib, recursive = TRUE):\n",
      "\"C:\\ProgramData\\Anaconda3\\Lib\\R\\library\\00LOCK\\ggplot2\\doc\\ggplot2-specs.R를 C:\\ProgramData\\Anaconda3\\Lib\\R\\library\\ggplot2\\doc\\ggplot2-specs.R로 복사하는데 문제가 발생했습니다: Permission denied\"Warning message in file.copy(savedcopy, lib, recursive = TRUE):\n",
      "\"C:\\ProgramData\\Anaconda3\\Lib\\R\\library\\00LOCK\\ggplot2\\doc\\ggplot2-specs.Rmd를 C:\\ProgramData\\Anaconda3\\Lib\\R\\library\\ggplot2\\doc\\ggplot2-specs.Rmd로 복사하는데 문제가 발생했습니다: Permission denied\"Warning message in file.copy(savedcopy, lib, recursive = TRUE):\n",
      "\"C:\\ProgramData\\Anaconda3\\Lib\\R\\library\\00LOCK\\ggplot2\\doc\\index.html를 C:\\ProgramData\\Anaconda3\\Lib\\R\\library\\ggplot2\\doc\\index.html로 복사하는데 문제가 발생했습니다: Permission denied\"Warning message in file.copy(savedcopy, lib, recursive = TRUE):\n",
      "\"C:\\ProgramData\\Anaconda3\\Lib\\R\\library\\00LOCK\\ggplot2\\help\\aliases.rds를 C:\\ProgramData\\Anaconda3\\Lib\\R\\library\\ggplot2\\help\\aliases.rds로 복사하는데 문제가 발생했습니다: Permission denied\"Warning message in file.copy(savedcopy, lib, recursive = TRUE):\n",
      "\"C:\\ProgramData\\Anaconda3\\Lib\\R\\library\\00LOCK\\ggplot2\\help\\AnIndex를 C:\\ProgramData\\Anaconda3\\Lib\\R\\library\\ggplot2\\help\\AnIndex로 복사하는데 문제가 발생했습니다: Permission denied\"Warning message in file.copy(savedcopy, lib, recursive = TRUE):\n",
      "\"C:\\ProgramData\\Anaconda3\\Lib\\R\\library\\00LOCK\\ggplot2\\help\\figures\\logo.png를 C:\\ProgramData\\Anaconda3\\Lib\\R\\library\\ggplot2\\help\\figures\\logo.png로 복사하는데 문제가 발생했습니다: Permission denied\"Warning message in file.copy(savedcopy, lib, recursive = TRUE):\n",
      "\"C:\\ProgramData\\Anaconda3\\Lib\\R\\library\\00LOCK\\ggplot2\\help\\figures\\README-example-1.png를 C:\\ProgramData\\Anaconda3\\Lib\\R\\library\\ggplot2\\help\\figures\\README-example-1.png로 복사하는데 문제가 발생했습니다: Permission denied\"Warning message in file.copy(savedcopy, lib, recursive = TRUE):\n",
      "\"C:\\ProgramData\\Anaconda3\\Lib\\R\\library\\00LOCK\\ggplot2\\help\\ggplot2.rdb를 C:\\ProgramData\\Anaconda3\\Lib\\R\\library\\ggplot2\\help\\ggplot2.rdb로 복사하는데 문제가 발생했습니다: Permission denied\"Warning message in file.copy(savedcopy, lib, recursive = TRUE):\n",
      "\"C:\\ProgramData\\Anaconda3\\Lib\\R\\library\\00LOCK\\ggplot2\\help\\ggplot2.rdx를 C:\\ProgramData\\Anaconda3\\Lib\\R\\library\\ggplot2\\help\\ggplot2.rdx로 복사하는데 문제가 발생했습니다: Permission denied\"Warning message in file.copy(savedcopy, lib, recursive = TRUE):\n",
      "\"C:\\ProgramData\\Anaconda3\\Lib\\R\\library\\00LOCK\\ggplot2\\help\\paths.rds를 C:\\ProgramData\\Anaconda3\\Lib\\R\\library\\ggplot2\\help\\paths.rds로 복사하는데 문제가 발생했습니다: Permission denied\"Warning message in file.copy(savedcopy, lib, recursive = TRUE):\n",
      "\"C:\\ProgramData\\Anaconda3\\Lib\\R\\library\\00LOCK\\ggplot2\\html\\00Index.html를 C:\\ProgramData\\Anaconda3\\Lib\\R\\library\\ggplot2\\html\\00Index.html로 복사하는데 문제가 발생했습니다: Permission denied\"Warning message in file.copy(savedcopy, lib, recursive = TRUE):\n",
      "\"C:\\ProgramData\\Anaconda3\\Lib\\R\\library\\00LOCK\\ggplot2\\html\\absoluteGrob.html를 C:\\ProgramData\\Anaconda3\\Lib\\R\\library\\ggplot2\\html\\absoluteGrob.html로 복사하는데 문제가 발생했습니다: Permission denied\"Warning message in file.copy(savedcopy, lib, recursive = TRUE):\n",
      "\"C:\\ProgramData\\Anaconda3\\Lib\\R\\library\\00LOCK\\ggplot2\\html\\add_theme.html를 C:\\ProgramData\\Anaconda3\\Lib\\R\\library\\ggplot2\\html\\add_theme.html로 복사하는데 문제가 발생했습니다: Permission denied\"Warning message in file.copy(savedcopy, lib, recursive = TRUE):\n",
      "\"C:\\ProgramData\\Anaconda3\\Lib\\R\\library\\00LOCK\\ggplot2\\html\\aes.html를 C:\\ProgramData\\Anaconda3\\Lib\\R\\library\\ggplot2\\html\\aes.html로 복사하는데 문제가 발생했습니다: Permission denied\"Warning message in file.copy(savedcopy, lib, recursive = TRUE):\n",
      "\"C:\\ProgramData\\Anaconda3\\Lib\\R\\library\\00LOCK\\ggplot2\\html\\aes_.html를 C:\\ProgramData\\Anaconda3\\Lib\\R\\library\\ggplot2\\html\\aes_.html로 복사하는데 문제가 발생했습니다: Permission denied\"Warning message in file.copy(savedcopy, lib, recursive = TRUE):\n",
      "\"C:\\ProgramData\\Anaconda3\\Lib\\R\\library\\00LOCK\\ggplot2\\html\\aes_all.html를 C:\\ProgramData\\Anaconda3\\Lib\\R\\library\\ggplot2\\html\\aes_all.html로 복사하는데 문제가 발생했습니다: Permission denied\"Warning message in file.copy(savedcopy, lib, recursive = TRUE):\n",
      "\"C:\\ProgramData\\Anaconda3\\Lib\\R\\library\\00LOCK\\ggplot2\\html\\aes_auto.html를 C:\\ProgramData\\Anaconda3\\Lib\\R\\library\\ggplot2\\html\\aes_auto.html로 복사하는데 문제가 발생했습니다: Permission denied\"Warning message in file.copy(savedcopy, lib, recursive = TRUE):\n",
      "\"C:\\ProgramData\\Anaconda3\\Lib\\R\\library\\00LOCK\\ggplot2\\html\\aes_colour_fill_alpha.html를 C:\\ProgramData\\Anaconda3\\Lib\\R\\library\\ggplot2\\html\\aes_colour_fill_alpha.html로 복사하는데 문제가 발생했습니다: Permission denied\"Warning message in file.copy(savedcopy, lib, recursive = TRUE):\n",
      "\"C:\\ProgramData\\Anaconda3\\Lib\\R\\library\\00LOCK\\ggplot2\\html\\aes_group_order.html를 C:\\ProgramData\\Anaconda3\\Lib\\R\\library\\ggplot2\\html\\aes_group_order.html로 복사하는데 문제가 발생했습니다: Permission denied\"Warning message in file.copy(savedcopy, lib, recursive = TRUE):\n",
      "\"C:\\ProgramData\\Anaconda3\\Lib\\R\\library\\00LOCK\\ggplot2\\html\\aes_linetype_size_shape.html를 C:\\ProgramData\\Anaconda3\\Lib\\R\\library\\ggplot2\\html\\aes_linetype_size_shape.html로 복사하는데 문제가 발생했습니다: Permission denied\"Warning message in file.copy(savedcopy, lib, recursive = TRUE):\n",
      "\"C:\\ProgramData\\Anaconda3\\Lib\\R\\library\\00LOCK\\ggplot2\\html\\aes_position.html를 C:\\ProgramData\\Anaconda3\\Lib\\R\\library\\ggplot2\\html\\aes_position.html로 복사하는데 문제가 발생했습니다: Permission denied\"Warning message in file.copy(savedcopy, lib, recursive = TRUE):\n",
      "\"C:\\ProgramData\\Anaconda3\\Lib\\R\\library\\00LOCK\\ggplot2\\html\\annotate.html를 C:\\ProgramData\\Anaconda3\\Lib\\R\\library\\ggplot2\\html\\annotate.html로 복사하는데 문제가 발생했습니다: Permission denied\"Warning message in file.copy(savedcopy, lib, recursive = TRUE):\n",
      "\"C:\\ProgramData\\Anaconda3\\Lib\\R\\library\\00LOCK\\ggplot2\\html\\annotation_custom.html를 C:\\ProgramData\\Anaconda3\\Lib\\R\\library\\ggplot2\\html\\annotation_custom.html로 복사하는데 문제가 발생했습니다: Permission denied\"Warning message in file.copy(savedcopy, lib, recursive = TRUE):\n",
      "\"C:\\ProgramData\\Anaconda3\\Lib\\R\\library\\00LOCK\\ggplot2\\html\\annotation_logticks.html를 C:\\ProgramData\\Anaconda3\\Lib\\R\\library\\ggplot2\\html\\annotation_logticks.html로 복사하는데 문제가 발생했습니다: Permission denied\"Warning message in file.copy(savedcopy, lib, recursive = TRUE):\n",
      "\"C:\\ProgramData\\Anaconda3\\Lib\\R\\library\\00LOCK\\ggplot2\\html\\annotation_map.html를 C:\\ProgramData\\Anaconda3\\Lib\\R\\library\\ggplot2\\html\\annotation_map.html로 복사하는데 문제가 발생했습니다: Permission denied\"Warning message in file.copy(savedcopy, lib, recursive = TRUE):\n",
      "\"C:\\ProgramData\\Anaconda3\\Lib\\R\\library\\00LOCK\\ggplot2\\html\\annotation_raster.html를 C:\\ProgramData\\Anaconda3\\Lib\\R\\library\\ggplot2\\html\\annotation_raster.html로 복사하는데 문제가 발생했습니다: Permission denied\"Warning message in file.copy(savedcopy, lib, recursive = TRUE):\n",
      "\"C:\\ProgramData\\Anaconda3\\Lib\\R\\library\\00LOCK\\ggplot2\\html\\as.list.ggproto.html를 C:\\ProgramData\\Anaconda3\\Lib\\R\\library\\ggplot2\\html\\as.list.ggproto.html로 복사하는데 문제가 발생했습니다: Permission denied\"Warning message in file.copy(savedcopy, lib, recursive = TRUE):\n",
      "\"C:\\ProgramData\\Anaconda3\\Lib\\R\\library\\00LOCK\\ggplot2\\html\\as_labeller.html를 C:\\ProgramData\\Anaconda3\\Lib\\R\\library\\ggplot2\\html\\as_labeller.html로 복사하는데 문제가 발생했습니다: Permission denied\"Warning message in file.copy(savedcopy, lib, recursive = TRUE):\n",
      "\"C:\\ProgramData\\Anaconda3\\Lib\\R\\library\\00LOCK\\ggplot2\\html\\autolayer.html를 C:\\ProgramData\\Anaconda3\\Lib\\R\\library\\ggplot2\\html\\autolayer.html로 복사하는데 문제가 발생했습니다: Permission denied\"Warning message in file.copy(savedcopy, lib, recursive = TRUE):\n",
      "\"C:\\ProgramData\\Anaconda3\\Lib\\R\\library\\00LOCK\\ggplot2\\html\\autoplot.html를 C:\\ProgramData\\Anaconda3\\Lib\\R\\library\\ggplot2\\html\\autoplot.html로 복사하는데 문제가 발생했습니다: Permission denied\"Warning message in file.copy(savedcopy, lib, recursive = TRUE):\n",
      "\"C:\\ProgramData\\Anaconda3\\Lib\\R\\library\\00LOCK\\ggplot2\\html\\benchplot.html를 C:\\ProgramData\\Anaconda3\\Lib\\R\\library\\ggplot2\\html\\benchplot.html로 복사하는데 문제가 발생했습니다: Permission denied\"Warning message in file.copy(savedcopy, lib, recursive = TRUE):\n",
      "\"C:\\ProgramData\\Anaconda3\\Lib\\R\\library\\00LOCK\\ggplot2\\html\\borders.html를 C:\\ProgramData\\Anaconda3\\Lib\\R\\library\\ggplot2\\html\\borders.html로 복사하는데 문제가 발생했습니다: Permission denied\"Warning message in file.copy(savedcopy, lib, recursive = TRUE):\n",
      "\"C:\\ProgramData\\Anaconda3\\Lib\\R\\library\\00LOCK\\ggplot2\\html\\calc_element.html를 C:\\ProgramData\\Anaconda3\\Lib\\R\\library\\ggplot2\\html\\calc_element.html로 복사하는데 문제가 발생했습니다: Permission denied\"Warning message in file.copy(savedcopy, lib, recursive = TRUE):\n",
      "\"C:\\ProgramData\\Anaconda3\\Lib\\R\\library\\00LOCK\\ggplot2\\html\\combine_vars.html를 C:\\ProgramData\\Anaconda3\\Lib\\R\\library\\ggplot2\\html\\combine_vars.html로 복사하는데 문제가 발생했습니다: Permission denied\"Warning message in file.copy(savedcopy, lib, recursive = TRUE):\n",
      "\"C:\\ProgramData\\Anaconda3\\Lib\\R\\library\\00LOCK\\ggplot2\\html\\continuous_scale.html를 C:\\ProgramData\\Anaconda3\\Lib\\R\\library\\ggplot2\\html\\continuous_scale.html로 복사하는데 문제가 발생했습니다: Permission denied\"Warning message in file.copy(savedcopy, lib, recursive = TRUE):\n",
      "\"C:\\ProgramData\\Anaconda3\\Lib\\R\\library\\00LOCK\\ggplot2\\html\\coord_cartesian.html를 C:\\ProgramData\\Anaconda3\\Lib\\R\\library\\ggplot2\\html\\coord_cartesian.html로 복사하는데 문제가 발생했습니다: Permission denied\"Warning message in file.copy(savedcopy, lib, recursive = TRUE):\n",
      "\"C:\\ProgramData\\Anaconda3\\Lib\\R\\library\\00LOCK\\ggplot2\\html\\coord_fixed.html를 C:\\ProgramData\\Anaconda3\\Lib\\R\\library\\ggplot2\\html\\coord_fixed.html로 복사하는데 문제가 발생했습니다: Permission denied\"Warning message in file.copy(savedcopy, lib, recursive = TRUE):\n",
      "\"C:\\ProgramData\\Anaconda3\\Lib\\R\\library\\00LOCK\\ggplot2\\html\\coord_flip.html를 C:\\ProgramData\\Anaconda3\\Lib\\R\\library\\ggplot2\\html\\coord_flip.html로 복사하는데 문제가 발생했습니다: Permission denied\"Warning message in file.copy(savedcopy, lib, recursive = TRUE):\n",
      "\"C:\\ProgramData\\Anaconda3\\Lib\\R\\library\\00LOCK\\ggplot2\\html\\coord_map.html를 C:\\ProgramData\\Anaconda3\\Lib\\R\\library\\ggplot2\\html\\coord_map.html로 복사하는데 문제가 발생했습니다: Permission denied\"Warning message in file.copy(savedcopy, lib, recursive = TRUE):\n",
      "\"C:\\ProgramData\\Anaconda3\\Lib\\R\\library\\00LOCK\\ggplot2\\html\\coord_munch.html를 C:\\ProgramData\\Anaconda3\\Lib\\R\\library\\ggplot2\\html\\coord_munch.html로 복사하는데 문제가 발생했습니다: Permission denied\"Warning message in file.copy(savedcopy, lib, recursive = TRUE):\n",
      "\"C:\\ProgramData\\Anaconda3\\Lib\\R\\library\\00LOCK\\ggplot2\\html\\coord_polar.html를 C:\\ProgramData\\Anaconda3\\Lib\\R\\library\\ggplot2\\html\\coord_polar.html로 복사하는데 문제가 발생했습니다: Permission denied\"Warning message in file.copy(savedcopy, lib, recursive = TRUE):\n",
      "\"C:\\ProgramData\\Anaconda3\\Lib\\R\\library\\00LOCK\\ggplot2\\html\\coord_trans.html를 C:\\ProgramData\\Anaconda3\\Lib\\R\\library\\ggplot2\\html\\coord_trans.html로 복사하는데 문제가 발생했습니다: Permission denied\"Warning message in file.copy(savedcopy, lib, recursive = TRUE):\n",
      "\"C:\\ProgramData\\Anaconda3\\Lib\\R\\library\\00LOCK\\ggplot2\\html\\cut_interval.html를 C:\\ProgramData\\Anaconda3\\Lib\\R\\library\\ggplot2\\html\\cut_interval.html로 복사하는데 문제가 발생했습니다: Permission denied\"Warning message in file.copy(savedcopy, lib, recursive = TRUE):\n",
      "\"C:\\ProgramData\\Anaconda3\\Lib\\R\\library\\00LOCK\\ggplot2\\html\\diamonds.html를 C:\\ProgramData\\Anaconda3\\Lib\\R\\library\\ggplot2\\html\\diamonds.html로 복사하는데 문제가 발생했습니다: Permission denied\"Warning message in file.copy(savedcopy, lib, recursive = TRUE):\n",
      "\"C:\\ProgramData\\Anaconda3\\Lib\\R\\library\\00LOCK\\ggplot2\\html\\discrete_scale.html를 C:\\ProgramData\\Anaconda3\\Lib\\R\\library\\ggplot2\\html\\discrete_scale.html로 복사하는데 문제가 발생했습니다: Permission denied\"Warning message in file.copy(savedcopy, lib, recursive = TRUE):\n",
      "\"C:\\ProgramData\\Anaconda3\\Lib\\R\\library\\00LOCK\\ggplot2\\html\\draw_key.html를 C:\\ProgramData\\Anaconda3\\Lib\\R\\library\\ggplot2\\html\\draw_key.html로 복사하는데 문제가 발생했습니다: Permission denied\"Warning message in file.copy(savedcopy, lib, recursive = TRUE):\n",
      "\"C:\\ProgramData\\Anaconda3\\Lib\\R\\library\\00LOCK\\ggplot2\\html\\economics.html를 C:\\ProgramData\\Anaconda3\\Lib\\R\\library\\ggplot2\\html\\economics.html로 복사하는데 문제가 발생했습니다: Permission denied\"Warning message in file.copy(savedcopy, lib, recursive = TRUE):\n",
      "\"C:\\ProgramData\\Anaconda3\\Lib\\R\\library\\00LOCK\\ggplot2\\html\\element.html를 C:\\ProgramData\\Anaconda3\\Lib\\R\\library\\ggplot2\\html\\element.html로 복사하는데 문제가 발생했습니다: Permission denied\"Warning message in file.copy(savedcopy, lib, recursive = TRUE):\n",
      "\"C:\\ProgramData\\Anaconda3\\Lib\\R\\library\\00LOCK\\ggplot2\\html\\element_grob.html를 C:\\ProgramData\\Anaconda3\\Lib\\R\\library\\ggplot2\\html\\element_grob.html로 복사하는데 문제가 발생했습니다: Permission denied\"Warning message in file.copy(savedcopy, lib, recursive = TRUE):\n",
      "\"C:\\ProgramData\\Anaconda3\\Lib\\R\\library\\00LOCK\\ggplot2\\html\\expand_limits.html를 C:\\ProgramData\\Anaconda3\\Lib\\R\\library\\ggplot2\\html\\expand_limits.html로 복사하는데 문제가 발생했습니다: Permission denied\"Warning message in file.copy(savedcopy, lib, recursive = TRUE):\n",
      "\"C:\\ProgramData\\Anaconda3\\Lib\\R\\library\\00LOCK\\ggplot2\\html\\expand_scale.html를 C:\\ProgramData\\Anaconda3\\Lib\\R\\library\\ggplot2\\html\\expand_scale.html로 복사하는데 문제가 발생했습니다: Permission denied\"Warning message in file.copy(savedcopy, lib, recursive = TRUE):\n",
      "\"C:\\ProgramData\\Anaconda3\\Lib\\R\\library\\00LOCK\\ggplot2\\html\\facet_grid.html를 C:\\ProgramData\\Anaconda3\\Lib\\R\\library\\ggplot2\\html\\facet_grid.html로 복사하는데 문제가 발생했습니다: Permission denied\"Warning message in file.copy(savedcopy, lib, recursive = TRUE):\n",
      "\"C:\\ProgramData\\Anaconda3\\Lib\\R\\library\\00LOCK\\ggplot2\\html\\facet_null.html를 C:\\ProgramData\\Anaconda3\\Lib\\R\\library\\ggplot2\\html\\facet_null.html로 복사하는데 문제가 발생했습니다: Permission denied\"Warning message in file.copy(savedcopy, lib, recursive = TRUE):\n",
      "\"C:\\ProgramData\\Anaconda3\\Lib\\R\\library\\00LOCK\\ggplot2\\html\\facet_wrap.html를 C:\\ProgramData\\Anaconda3\\Lib\\R\\library\\ggplot2\\html\\facet_wrap.html로 복사하는데 문제가 발생했습니다: Permission denied\"Warning message in file.copy(savedcopy, lib, recursive = TRUE):\n",
      "\"C:\\ProgramData\\Anaconda3\\Lib\\R\\library\\00LOCK\\ggplot2\\html\\faithfuld.html를 C:\\ProgramData\\Anaconda3\\Lib\\R\\library\\ggplot2\\html\\faithfuld.html로 복사하는데 문제가 발생했습니다: Permission denied\"Warning message in file.copy(savedcopy, lib, recursive = TRUE):\n",
      "\"C:\\ProgramData\\Anaconda3\\Lib\\R\\library\\00LOCK\\ggplot2\\html\\find_panel.html를 C:\\ProgramData\\Anaconda3\\Lib\\R\\library\\ggplot2\\html\\find_panel.html로 복사하는데 문제가 발생했습니다: Permission denied\"Warning message in file.copy(savedcopy, lib, recursive = TRUE):\n",
      "\"C:\\ProgramData\\Anaconda3\\Lib\\R\\library\\00LOCK\\ggplot2\\html\\fortify-multcomp.html를 C:\\ProgramData\\Anaconda3\\Lib\\R\\library\\ggplot2\\html\\fortify-multcomp.html로 복사하는데 문제가 발생했습니다: Permission denied\"Warning message in file.copy(savedcopy, lib, recursive = TRUE):\n",
      "\"C:\\ProgramData\\Anaconda3\\Lib\\R\\library\\00LOCK\\ggplot2\\html\\fortify.html를 C:\\ProgramData\\Anaconda3\\Lib\\R\\library\\ggplot2\\html\\fortify.html로 복사하는데 문제가 발생했습니다: Permission denied\"Warning message in file.copy(savedcopy, lib, recursive = TRUE):\n",
      "\"C:\\ProgramData\\Anaconda3\\Lib\\R\\library\\00LOCK\\ggplot2\\html\\fortify.lm.html를 C:\\ProgramData\\Anaconda3\\Lib\\R\\library\\ggplot2\\html\\fortify.lm.html로 복사하는데 문제가 발생했습니다: Permission denied\"Warning message in file.copy(savedcopy, lib, recursive = TRUE):\n",
      "\"C:\\ProgramData\\Anaconda3\\Lib\\R\\library\\00LOCK\\ggplot2\\html\\fortify.map.html를 C:\\ProgramData\\Anaconda3\\Lib\\R\\library\\ggplot2\\html\\fortify.map.html로 복사하는데 문제가 발생했습니다: Permission denied\"Warning message in file.copy(savedcopy, lib, recursive = TRUE):\n",
      "\"C:\\ProgramData\\Anaconda3\\Lib\\R\\library\\00LOCK\\ggplot2\\html\\fortify.sp.html를 C:\\ProgramData\\Anaconda3\\Lib\\R\\library\\ggplot2\\html\\fortify.sp.html로 복사하는데 문제가 발생했습니다: Permission denied\"Warning message in file.copy(savedcopy, lib, recursive = TRUE):\n",
      "\"C:\\ProgramData\\Anaconda3\\Lib\\R\\library\\00LOCK\\ggplot2\\html\\geom_abline.html를 C:\\ProgramData\\Anaconda3\\Lib\\R\\library\\ggplot2\\html\\geom_abline.html로 복사하는데 문제가 발생했습니다: Permission denied\"Warning message in file.copy(savedcopy, lib, recursive = TRUE):\n",
      "\"C:\\ProgramData\\Anaconda3\\Lib\\R\\library\\00LOCK\\ggplot2\\html\\geom_bar.html를 C:\\ProgramData\\Anaconda3\\Lib\\R\\library\\ggplot2\\html\\geom_bar.html로 복사하는데 문제가 발생했습니다: Permission denied\"Warning message in file.copy(savedcopy, lib, recursive = TRUE):\n",
      "\"C:\\ProgramData\\Anaconda3\\Lib\\R\\library\\00LOCK\\ggplot2\\html\\geom_bin2d.html를 C:\\ProgramData\\Anaconda3\\Lib\\R\\library\\ggplot2\\html\\geom_bin2d.html로 복사하는데 문제가 발생했습니다: Permission denied\"Warning message in file.copy(savedcopy, lib, recursive = TRUE):\n",
      "\"C:\\ProgramData\\Anaconda3\\Lib\\R\\library\\00LOCK\\ggplot2\\html\\geom_blank.html를 C:\\ProgramData\\Anaconda3\\Lib\\R\\library\\ggplot2\\html\\geom_blank.html로 복사하는데 문제가 발생했습니다: Permission denied\"Warning message in file.copy(savedcopy, lib, recursive = TRUE):\n",
      "\"C:\\ProgramData\\Anaconda3\\Lib\\R\\library\\00LOCK\\ggplot2\\html\\geom_boxplot.html를 C:\\ProgramData\\Anaconda3\\Lib\\R\\library\\ggplot2\\html\\geom_boxplot.html로 복사하는데 문제가 발생했습니다: Permission denied\"Warning message in file.copy(savedcopy, lib, recursive = TRUE):\n",
      "\"C:\\ProgramData\\Anaconda3\\Lib\\R\\library\\00LOCK\\ggplot2\\html\\geom_contour.html를 C:\\ProgramData\\Anaconda3\\Lib\\R\\library\\ggplot2\\html\\geom_contour.html로 복사하는데 문제가 발생했습니다: Permission denied\"Warning message in file.copy(savedcopy, lib, recursive = TRUE):\n",
      "\"C:\\ProgramData\\Anaconda3\\Lib\\R\\library\\00LOCK\\ggplot2\\html\\geom_count.html를 C:\\ProgramData\\Anaconda3\\Lib\\R\\library\\ggplot2\\html\\geom_count.html로 복사하는데 문제가 발생했습니다: Permission denied\"Warning message in file.copy(savedcopy, lib, recursive = TRUE):\n",
      "\"C:\\ProgramData\\Anaconda3\\Lib\\R\\library\\00LOCK\\ggplot2\\html\\geom_density.html를 C:\\ProgramData\\Anaconda3\\Lib\\R\\library\\ggplot2\\html\\geom_density.html로 복사하는데 문제가 발생했습니다: Permission denied\"Warning message in file.copy(savedcopy, lib, recursive = TRUE):\n",
      "\"C:\\ProgramData\\Anaconda3\\Lib\\R\\library\\00LOCK\\ggplot2\\html\\geom_density_2d.html를 C:\\ProgramData\\Anaconda3\\Lib\\R\\library\\ggplot2\\html\\geom_density_2d.html로 복사하는데 문제가 발생했습니다: Permission denied\"Warning message in file.copy(savedcopy, lib, recursive = TRUE):\n",
      "\"C:\\ProgramData\\Anaconda3\\Lib\\R\\library\\00LOCK\\ggplot2\\html\\geom_dotplot.html를 C:\\ProgramData\\Anaconda3\\Lib\\R\\library\\ggplot2\\html\\geom_dotplot.html로 복사하는데 문제가 발생했습니다: Permission denied\"Warning message in file.copy(savedcopy, lib, recursive = TRUE):\n",
      "\"C:\\ProgramData\\Anaconda3\\Lib\\R\\library\\00LOCK\\ggplot2\\html\\geom_errorbarh.html를 C:\\ProgramData\\Anaconda3\\Lib\\R\\library\\ggplot2\\html\\geom_errorbarh.html로 복사하는데 문제가 발생했습니다: Permission denied\"Warning message in file.copy(savedcopy, lib, recursive = TRUE):\n",
      "\"C:\\ProgramData\\Anaconda3\\Lib\\R\\library\\00LOCK\\ggplot2\\html\\geom_hex.html를 C:\\ProgramData\\Anaconda3\\Lib\\R\\library\\ggplot2\\html\\geom_hex.html로 복사하는데 문제가 발생했습니다: Permission denied\"Warning message in file.copy(savedcopy, lib, recursive = TRUE):\n",
      "\"C:\\ProgramData\\Anaconda3\\Lib\\R\\library\\00LOCK\\ggplot2\\html\\geom_histogram.html를 C:\\ProgramData\\Anaconda3\\Lib\\R\\library\\ggplot2\\html\\geom_histogram.html로 복사하는데 문제가 발생했습니다: Permission denied\"Warning message in file.copy(savedcopy, lib, recursive = TRUE):\n",
      "\"C:\\ProgramData\\Anaconda3\\Lib\\R\\library\\00LOCK\\ggplot2\\html\\geom_jitter.html를 C:\\ProgramData\\Anaconda3\\Lib\\R\\library\\ggplot2\\html\\geom_jitter.html로 복사하는데 문제가 발생했습니다: Permission denied\"Warning message in file.copy(savedcopy, lib, recursive = TRUE):\n",
      "\"C:\\ProgramData\\Anaconda3\\Lib\\R\\library\\00LOCK\\ggplot2\\html\\geom_linerange.html를 C:\\ProgramData\\Anaconda3\\Lib\\R\\library\\ggplot2\\html\\geom_linerange.html로 복사하는데 문제가 발생했습니다: Permission denied\"Warning message in file.copy(savedcopy, lib, recursive = TRUE):\n",
      "\"C:\\ProgramData\\Anaconda3\\Lib\\R\\library\\00LOCK\\ggplot2\\html\\geom_map.html를 C:\\ProgramData\\Anaconda3\\Lib\\R\\library\\ggplot2\\html\\geom_map.html로 복사하는데 문제가 발생했습니다: Permission denied\"Warning message in file.copy(savedcopy, lib, recursive = TRUE):\n",
      "\"C:\\ProgramData\\Anaconda3\\Lib\\R\\library\\00LOCK\\ggplot2\\html\\geom_path.html를 C:\\ProgramData\\Anaconda3\\Lib\\R\\library\\ggplot2\\html\\geom_path.html로 복사하는데 문제가 발생했습니다: Permission denied\"Warning message in file.copy(savedcopy, lib, recursive = TRUE):\n",
      "\"C:\\ProgramData\\Anaconda3\\Lib\\R\\library\\00LOCK\\ggplot2\\html\\geom_point.html를 C:\\ProgramData\\Anaconda3\\Lib\\R\\library\\ggplot2\\html\\geom_point.html로 복사하는데 문제가 발생했습니다: Permission denied\"Warning message in file.copy(savedcopy, lib, recursive = TRUE):\n",
      "\"C:\\ProgramData\\Anaconda3\\Lib\\R\\library\\00LOCK\\ggplot2\\html\\geom_polygon.html를 C:\\ProgramData\\Anaconda3\\Lib\\R\\library\\ggplot2\\html\\geom_polygon.html로 복사하는데 문제가 발생했습니다: Permission denied\"Warning message in file.copy(savedcopy, lib, recursive = TRUE):\n",
      "\"C:\\ProgramData\\Anaconda3\\Lib\\R\\library\\00LOCK\\ggplot2\\html\\geom_qq.html를 C:\\ProgramData\\Anaconda3\\Lib\\R\\library\\ggplot2\\html\\geom_qq.html로 복사하는데 문제가 발생했습니다: Permission denied\"Warning message in file.copy(savedcopy, lib, recursive = TRUE):\n",
      "\"C:\\ProgramData\\Anaconda3\\Lib\\R\\library\\00LOCK\\ggplot2\\html\\geom_quantile.html를 C:\\ProgramData\\Anaconda3\\Lib\\R\\library\\ggplot2\\html\\geom_quantile.html로 복사하는데 문제가 발생했습니다: Permission denied\"Warning message in file.copy(savedcopy, lib, recursive = TRUE):\n",
      "\"C:\\ProgramData\\Anaconda3\\Lib\\R\\library\\00LOCK\\ggplot2\\html\\geom_ribbon.html를 C:\\ProgramData\\Anaconda3\\Lib\\R\\library\\ggplot2\\html\\geom_ribbon.html로 복사하는데 문제가 발생했습니다: Permission denied\"Warning message in file.copy(savedcopy, lib, recursive = TRUE):\n",
      "\"C:\\ProgramData\\Anaconda3\\Lib\\R\\library\\00LOCK\\ggplot2\\html\\geom_rug.html를 C:\\ProgramData\\Anaconda3\\Lib\\R\\library\\ggplot2\\html\\geom_rug.html로 복사하는데 문제가 발생했습니다: Permission denied\"Warning message in file.copy(savedcopy, lib, recursive = TRUE):\n",
      "\"C:\\ProgramData\\Anaconda3\\Lib\\R\\library\\00LOCK\\ggplot2\\html\\geom_segment.html를 C:\\ProgramData\\Anaconda3\\Lib\\R\\library\\ggplot2\\html\\geom_segment.html로 복사하는데 문제가 발생했습니다: Permission denied\"Warning message in file.copy(savedcopy, lib, recursive = TRUE):\n",
      "\"C:\\ProgramData\\Anaconda3\\Lib\\R\\library\\00LOCK\\ggplot2\\html\\geom_smooth.html를 C:\\ProgramData\\Anaconda3\\Lib\\R\\library\\ggplot2\\html\\geom_smooth.html로 복사하는데 문제가 발생했습니다: Permission denied\"Warning message in file.copy(savedcopy, lib, recursive = TRUE):\n",
      "\"C:\\ProgramData\\Anaconda3\\Lib\\R\\library\\00LOCK\\ggplot2\\html\\geom_spoke.html를 C:\\ProgramData\\Anaconda3\\Lib\\R\\library\\ggplot2\\html\\geom_spoke.html로 복사하는데 문제가 발생했습니다: Permission denied\"Warning message in file.copy(savedcopy, lib, recursive = TRUE):\n",
      "\"C:\\ProgramData\\Anaconda3\\Lib\\R\\library\\00LOCK\\ggplot2\\html\\geom_text.html를 C:\\ProgramData\\Anaconda3\\Lib\\R\\library\\ggplot2\\html\\geom_text.html로 복사하는데 문제가 발생했습니다: Permission denied\"Warning message in file.copy(savedcopy, lib, recursive = TRUE):\n",
      "\"C:\\ProgramData\\Anaconda3\\Lib\\R\\library\\00LOCK\\ggplot2\\html\\geom_tile.html를 C:\\ProgramData\\Anaconda3\\Lib\\R\\library\\ggplot2\\html\\geom_tile.html로 복사하는데 문제가 발생했습니다: Permission denied\"Warning message in file.copy(savedcopy, lib, recursive = TRUE):\n",
      "\"C:\\ProgramData\\Anaconda3\\Lib\\R\\library\\00LOCK\\ggplot2\\html\\geom_violin.html를 C:\\ProgramData\\Anaconda3\\Lib\\R\\library\\ggplot2\\html\\geom_violin.html로 복사하는데 문제가 발생했습니다: Permission denied\"Warning message in file.copy(savedcopy, lib, recursive = TRUE):\n",
      "\"C:\\ProgramData\\Anaconda3\\Lib\\R\\library\\00LOCK\\ggplot2\\html\\gg-add.html를 C:\\ProgramData\\Anaconda3\\Lib\\R\\library\\ggplot2\\html\\gg-add.html로 복사하는데 문제가 발생했습니다: Permission denied\"Warning message in file.copy(savedcopy, lib, recursive = TRUE):\n",
      "\"C:\\ProgramData\\Anaconda3\\Lib\\R\\library\\00LOCK\\ggplot2\\html\\ggplot.html를 C:\\ProgramData\\Anaconda3\\Lib\\R\\library\\ggplot2\\html\\ggplot.html로 복사하는데 문제가 발생했습니다: Permission denied\"Warning message in file.copy(savedcopy, lib, recursive = TRUE):\n",
      "\"C:\\ProgramData\\Anaconda3\\Lib\\R\\library\\00LOCK\\ggplot2\\html\\ggplot2-ggproto.html를 C:\\ProgramData\\Anaconda3\\Lib\\R\\library\\ggplot2\\html\\ggplot2-ggproto.html로 복사하는데 문제가 발생했습니다: Permission denied\"Warning message in file.copy(savedcopy, lib, recursive = TRUE):\n",
      "\"C:\\ProgramData\\Anaconda3\\Lib\\R\\library\\00LOCK\\ggplot2\\html\\ggplot2-package.html를 C:\\ProgramData\\Anaconda3\\Lib\\R\\library\\ggplot2\\html\\ggplot2-package.html로 복사하는데 문제가 발생했습니다: Permission denied\"Warning message in file.copy(savedcopy, lib, recursive = TRUE):\n",
      "\"C:\\ProgramData\\Anaconda3\\Lib\\R\\library\\00LOCK\\ggplot2\\html\\ggplotGrob.html를 C:\\ProgramData\\Anaconda3\\Lib\\R\\library\\ggplot2\\html\\ggplotGrob.html로 복사하는데 문제가 발생했습니다: Permission denied\"Warning message in file.copy(savedcopy, lib, recursive = TRUE):\n",
      "\"C:\\ProgramData\\Anaconda3\\Lib\\R\\library\\00LOCK\\ggplot2\\html\\ggplot_add.html를 C:\\ProgramData\\Anaconda3\\Lib\\R\\library\\ggplot2\\html\\ggplot_add.html로 복사하는데 문제가 발생했습니다: Permission denied\"Warning message in file.copy(savedcopy, lib, recursive = TRUE):\n",
      "\"C:\\ProgramData\\Anaconda3\\Lib\\R\\library\\00LOCK\\ggplot2\\html\\ggplot_build.html를 C:\\ProgramData\\Anaconda3\\Lib\\R\\library\\ggplot2\\html\\ggplot_build.html로 복사하는데 문제가 발생했습니다: Permission denied\"Warning message in file.copy(savedcopy, lib, recursive = TRUE):\n",
      "\"C:\\ProgramData\\Anaconda3\\Lib\\R\\library\\00LOCK\\ggplot2\\html\\ggplot_gtable.html를 C:\\ProgramData\\Anaconda3\\Lib\\R\\library\\ggplot2\\html\\ggplot_gtable.html로 복사하는데 문제가 발생했습니다: Permission denied\"Warning message in file.copy(savedcopy, lib, recursive = TRUE):\n",
      "\"C:\\ProgramData\\Anaconda3\\Lib\\R\\library\\00LOCK\\ggplot2\\html\\ggproto.html를 C:\\ProgramData\\Anaconda3\\Lib\\R\\library\\ggplot2\\html\\ggproto.html로 복사하는데 문제가 발생했습니다: Permission denied\"Warning message in file.copy(savedcopy, lib, recursive = TRUE):\n",
      "\"C:\\ProgramData\\Anaconda3\\Lib\\R\\library\\00LOCK\\ggplot2\\html\\ggsave.html를 C:\\ProgramData\\Anaconda3\\Lib\\R\\library\\ggplot2\\html\\ggsave.html로 복사하는데 문제가 발생했습니다: Permission denied\"Warning message in file.copy(savedcopy, lib, recursive = TRUE):\n",
      "\"C:\\ProgramData\\Anaconda3\\Lib\\R\\library\\00LOCK\\ggplot2\\html\\ggsf.html를 C:\\ProgramData\\Anaconda3\\Lib\\R\\library\\ggplot2\\html\\ggsf.html로 복사하는데 문제가 발생했습니다: Permission denied\"Warning message in file.copy(savedcopy, lib, recursive = TRUE):\n",
      "\"C:\\ProgramData\\Anaconda3\\Lib\\R\\library\\00LOCK\\ggplot2\\html\\ggtheme.html를 C:\\ProgramData\\Anaconda3\\Lib\\R\\library\\ggplot2\\html\\ggtheme.html로 복사하는데 문제가 발생했습니다: Permission denied\"Warning message in file.copy(savedcopy, lib, recursive = TRUE):\n",
      "\"C:\\ProgramData\\Anaconda3\\Lib\\R\\library\\00LOCK\\ggplot2\\html\\gg_dep.html를 C:\\ProgramData\\Anaconda3\\Lib\\R\\library\\ggplot2\\html\\gg_dep.html로 복사하는데 문제가 발생했습니다: Permission denied\"Warning message in file.copy(savedcopy, lib, recursive = TRUE):\n",
      "\"C:\\ProgramData\\Anaconda3\\Lib\\R\\library\\00LOCK\\ggplot2\\html\\graphical-units.html를 C:\\ProgramData\\Anaconda3\\Lib\\R\\library\\ggplot2\\html\\graphical-units.html로 복사하는데 문제가 발생했습니다: Permission denied\"Warning message in file.copy(savedcopy, lib, recursive = TRUE):\n",
      "\"C:\\ProgramData\\Anaconda3\\Lib\\R\\library\\00LOCK\\ggplot2\\html\\guide-exts.html를 C:\\ProgramData\\Anaconda3\\Lib\\R\\library\\ggplot2\\html\\guide-exts.html로 복사하는데 문제가 발생했습니다: Permission denied\"Warning message in file.copy(savedcopy, lib, recursive = TRUE):\n",
      "\"C:\\ProgramData\\Anaconda3\\Lib\\R\\library\\00LOCK\\ggplot2\\html\\guides.html를 C:\\ProgramData\\Anaconda3\\Lib\\R\\library\\ggplot2\\html\\guides.html로 복사하는데 문제가 발생했습니다: Permission denied\"Warning message in file.copy(savedcopy, lib, recursive = TRUE):\n",
      "\"C:\\ProgramData\\Anaconda3\\Lib\\R\\library\\00LOCK\\ggplot2\\html\\guide_colourbar.html를 C:\\ProgramData\\Anaconda3\\Lib\\R\\library\\ggplot2\\html\\guide_colourbar.html로 복사하는데 문제가 발생했습니다: Permission denied\"Warning message in file.copy(savedcopy, lib, recursive = TRUE):\n",
      "\"C:\\ProgramData\\Anaconda3\\Lib\\R\\library\\00LOCK\\ggplot2\\html\\guide_legend.html를 C:\\ProgramData\\Anaconda3\\Lib\\R\\library\\ggplot2\\html\\guide_legend.html로 복사하는데 문제가 발생했습니다: Permission denied\"Warning message in file.copy(savedcopy, lib, recursive = TRUE):\n",
      "\"C:\\ProgramData\\Anaconda3\\Lib\\R\\library\\00LOCK\\ggplot2\\html\\hmisc.html를 C:\\ProgramData\\Anaconda3\\Lib\\R\\library\\ggplot2\\html\\hmisc.html로 복사하는데 문제가 발생했습니다: Permission denied\"Warning message in file.copy(savedcopy, lib, recursive = TRUE):\n",
      "\"C:\\ProgramData\\Anaconda3\\Lib\\R\\library\\00LOCK\\ggplot2\\html\\is.Coord.html를 C:\\ProgramData\\Anaconda3\\Lib\\R\\library\\ggplot2\\html\\is.Coord.html로 복사하는데 문제가 발생했습니다: Permission denied\"Warning message in file.copy(savedcopy, lib, recursive = TRUE):\n",
      "\"C:\\ProgramData\\Anaconda3\\Lib\\R\\library\\00LOCK\\ggplot2\\html\\is.facet.html를 C:\\ProgramData\\Anaconda3\\Lib\\R\\library\\ggplot2\\html\\is.facet.html로 복사하는데 문제가 발생했습니다: Permission denied\"Warning message in file.copy(savedcopy, lib, recursive = TRUE):\n",
      "\"C:\\ProgramData\\Anaconda3\\Lib\\R\\library\\00LOCK\\ggplot2\\html\\is.ggplot.html를 C:\\ProgramData\\Anaconda3\\Lib\\R\\library\\ggplot2\\html\\is.ggplot.html로 복사하는데 문제가 발생했습니다: Permission denied\"Warning message in file.copy(savedcopy, lib, recursive = TRUE):\n",
      "\"C:\\ProgramData\\Anaconda3\\Lib\\R\\library\\00LOCK\\ggplot2\\html\\is.rel.html를 C:\\ProgramData\\Anaconda3\\Lib\\R\\library\\ggplot2\\html\\is.rel.html로 복사하는데 문제가 발생했습니다: Permission denied\"Warning message in file.copy(savedcopy, lib, recursive = TRUE):\n",
      "\"C:\\ProgramData\\Anaconda3\\Lib\\R\\library\\00LOCK\\ggplot2\\html\\is.theme.html를 C:\\ProgramData\\Anaconda3\\Lib\\R\\library\\ggplot2\\html\\is.theme.html로 복사하는데 문제가 발생했습니다: Permission denied\"Warning message in file.copy(savedcopy, lib, recursive = TRUE):\n",
      "\"C:\\ProgramData\\Anaconda3\\Lib\\R\\library\\00LOCK\\ggplot2\\html\\labeller.html를 C:\\ProgramData\\Anaconda3\\Lib\\R\\library\\ggplot2\\html\\labeller.html로 복사하는데 문제가 발생했습니다: Permission denied\"Warning message in file.copy(savedcopy, lib, recursive = TRUE):\n",
      "\"C:\\ProgramData\\Anaconda3\\Lib\\R\\library\\00LOCK\\ggplot2\\html\\labellers.html를 C:\\ProgramData\\Anaconda3\\Lib\\R\\library\\ggplot2\\html\\labellers.html로 복사하는데 문제가 발생했습니다: Permission denied\"Warning message in file.copy(savedcopy, lib, recursive = TRUE):\n",
      "\"C:\\ProgramData\\Anaconda3\\Lib\\R\\library\\00LOCK\\ggplot2\\html\\label_bquote.html를 C:\\ProgramData\\Anaconda3\\Lib\\R\\library\\ggplot2\\html\\label_bquote.html로 복사하는데 문제가 발생했습니다: Permission denied\"Warning message in file.copy(savedcopy, lib, recursive = TRUE):\n",
      "\"C:\\ProgramData\\Anaconda3\\Lib\\R\\library\\00LOCK\\ggplot2\\html\\labs.html를 C:\\ProgramData\\Anaconda3\\Lib\\R\\library\\ggplot2\\html\\labs.html로 복사하는데 문제가 발생했습니다: Permission denied\"Warning message in file.copy(savedcopy, lib, recursive = TRUE):\n",
      "\"C:\\ProgramData\\Anaconda3\\Lib\\R\\library\\00LOCK\\ggplot2\\html\\last_plot.html를 C:\\ProgramData\\Anaconda3\\Lib\\R\\library\\ggplot2\\html\\last_plot.html로 복사하는데 문제가 발생했습니다: Permission denied\"Warning message in file.copy(savedcopy, lib, recursive = TRUE):\n",
      "\"C:\\ProgramData\\Anaconda3\\Lib\\R\\library\\00LOCK\\ggplot2\\html\\layer.html를 C:\\ProgramData\\Anaconda3\\Lib\\R\\library\\ggplot2\\html\\layer.html로 복사하는데 문제가 발생했습니다: Permission denied\"Warning message in file.copy(savedcopy, lib, recursive = TRUE):\n",
      "\"C:\\ProgramData\\Anaconda3\\Lib\\R\\library\\00LOCK\\ggplot2\\html\\limits.html를 C:\\ProgramData\\Anaconda3\\Lib\\R\\library\\ggplot2\\html\\limits.html로 복사하는데 문제가 발생했습니다: Permission denied\"Warning message in file.copy(savedcopy, lib, recursive = TRUE):\n",
      "\"C:\\ProgramData\\Anaconda3\\Lib\\R\\library\\00LOCK\\ggplot2\\html\\lims.html를 C:\\ProgramData\\Anaconda3\\Lib\\R\\library\\ggplot2\\html\\lims.html로 복사하는데 문제가 발생했습니다: Permission denied\"Warning message in file.copy(savedcopy, lib, recursive = TRUE):\n",
      "\"C:\\ProgramData\\Anaconda3\\Lib\\R\\library\\00LOCK\\ggplot2\\html\\luv_colours.html를 C:\\ProgramData\\Anaconda3\\Lib\\R\\library\\ggplot2\\html\\luv_colours.html로 복사하는데 문제가 발생했습니다: Permission denied\"Warning message in file.copy(savedcopy, lib, recursive = TRUE):\n",
      "\"C:\\ProgramData\\Anaconda3\\Lib\\R\\library\\00LOCK\\ggplot2\\html\\map_data.html를 C:\\ProgramData\\Anaconda3\\Lib\\R\\library\\ggplot2\\html\\map_data.html로 복사하는데 문제가 발생했습니다: Permission denied\"Warning message in file.copy(savedcopy, lib, recursive = TRUE):\n",
      "\"C:\\ProgramData\\Anaconda3\\Lib\\R\\library\\00LOCK\\ggplot2\\html\\max_height.html를 C:\\ProgramData\\Anaconda3\\Lib\\R\\library\\ggplot2\\html\\max_height.html로 복사하는데 문제가 발생했습니다: Permission denied\"Warning message in file.copy(savedcopy, lib, recursive = TRUE):\n",
      "\"C:\\ProgramData\\Anaconda3\\Lib\\R\\library\\00LOCK\\ggplot2\\html\\mean_se.html를 C:\\ProgramData\\Anaconda3\\Lib\\R\\library\\ggplot2\\html\\mean_se.html로 복사하는데 문제가 발생했습니다: Permission denied\"Warning message in file.copy(savedcopy, lib, recursive = TRUE):\n",
      "\"C:\\ProgramData\\Anaconda3\\Lib\\R\\library\\00LOCK\\ggplot2\\html\\merge_element.html를 C:\\ProgramData\\Anaconda3\\Lib\\R\\library\\ggplot2\\html\\merge_element.html로 복사하는데 문제가 발생했습니다: Permission denied\"Warning message in file.copy(savedcopy, lib, recursive = TRUE):\n",
      "\"C:\\ProgramData\\Anaconda3\\Lib\\R\\library\\00LOCK\\ggplot2\\html\\midwest.html를 C:\\ProgramData\\Anaconda3\\Lib\\R\\library\\ggplot2\\html\\midwest.html로 복사하는데 문제가 발생했습니다: Permission denied\"Warning message in file.copy(savedcopy, lib, recursive = TRUE):\n",
      "\"C:\\ProgramData\\Anaconda3\\Lib\\R\\library\\00LOCK\\ggplot2\\html\\mpg.html를 C:\\ProgramData\\Anaconda3\\Lib\\R\\library\\ggplot2\\html\\mpg.html로 복사하는데 문제가 발생했습니다: Permission denied\"Warning message in file.copy(savedcopy, lib, recursive = TRUE):\n",
      "\"C:\\ProgramData\\Anaconda3\\Lib\\R\\library\\00LOCK\\ggplot2\\html\\msleep.html를 C:\\ProgramData\\Anaconda3\\Lib\\R\\library\\ggplot2\\html\\msleep.html로 복사하는데 문제가 발생했습니다: Permission denied\"Warning message in file.copy(savedcopy, lib, recursive = TRUE):\n",
      "\"C:\\ProgramData\\Anaconda3\\Lib\\R\\library\\00LOCK\\ggplot2\\html\\position_dodge.html를 C:\\ProgramData\\Anaconda3\\Lib\\R\\library\\ggplot2\\html\\position_dodge.html로 복사하는데 문제가 발생했습니다: Permission denied\"Warning message in file.copy(savedcopy, lib, recursive = TRUE):\n",
      "\"C:\\ProgramData\\Anaconda3\\Lib\\R\\library\\00LOCK\\ggplot2\\html\\position_identity.html를 C:\\ProgramData\\Anaconda3\\Lib\\R\\library\\ggplot2\\html\\position_identity.html로 복사하는데 문제가 발생했습니다: Permission denied\"Warning message in file.copy(savedcopy, lib, recursive = TRUE):\n",
      "\"C:\\ProgramData\\Anaconda3\\Lib\\R\\library\\00LOCK\\ggplot2\\html\\position_jitter.html를 C:\\ProgramData\\Anaconda3\\Lib\\R\\library\\ggplot2\\html\\position_jitter.html로 복사하는데 문제가 발생했습니다: Permission denied\"Warning message in file.copy(savedcopy, lib, recursive = TRUE):\n",
      "\"C:\\ProgramData\\Anaconda3\\Lib\\R\\library\\00LOCK\\ggplot2\\html\\position_jitterdodge.html를 C:\\ProgramData\\Anaconda3\\Lib\\R\\library\\ggplot2\\html\\position_jitterdodge.html로 복사하는데 문제가 발생했습니다: Permission denied\"Warning message in file.copy(savedcopy, lib, recursive = TRUE):\n",
      "\"C:\\ProgramData\\Anaconda3\\Lib\\R\\library\\00LOCK\\ggplot2\\html\\position_nudge.html를 C:\\ProgramData\\Anaconda3\\Lib\\R\\library\\ggplot2\\html\\position_nudge.html로 복사하는데 문제가 발생했습니다: Permission denied\"Warning message in file.copy(savedcopy, lib, recursive = TRUE):\n",
      "\"C:\\ProgramData\\Anaconda3\\Lib\\R\\library\\00LOCK\\ggplot2\\html\\position_stack.html를 C:\\ProgramData\\Anaconda3\\Lib\\R\\library\\ggplot2\\html\\position_stack.html로 복사하는데 문제가 발생했습니다: Permission denied\"Warning message in file.copy(savedcopy, lib, recursive = TRUE):\n",
      "\"C:\\ProgramData\\Anaconda3\\Lib\\R\\library\\00LOCK\\ggplot2\\html\\presidential.html를 C:\\ProgramData\\Anaconda3\\Lib\\R\\library\\ggplot2\\html\\presidential.html로 복사하는데 문제가 발생했습니다: Permission denied\"Warning message in file.copy(savedcopy, lib, recursive = TRUE):\n",
      "\"C:\\ProgramData\\Anaconda3\\Lib\\R\\library\\00LOCK\\ggplot2\\html\\print.ggplot.html를 C:\\ProgramData\\Anaconda3\\Lib\\R\\library\\ggplot2\\html\\print.ggplot.html로 복사하는데 문제가 발생했습니다: Permission denied\"Warning message in file.copy(savedcopy, lib, recursive = TRUE):\n",
      "\"C:\\ProgramData\\Anaconda3\\Lib\\R\\library\\00LOCK\\ggplot2\\html\\print.ggproto.html를 C:\\ProgramData\\Anaconda3\\Lib\\R\\library\\ggplot2\\html\\print.ggproto.html로 복사하는데 문제가 발생했습니다: Permission denied\"Warning message in file.copy(savedcopy, lib, recursive = TRUE):\n",
      "\"C:\\ProgramData\\Anaconda3\\Lib\\R\\library\\00LOCK\\ggplot2\\html\\qplot.html를 C:\\ProgramData\\Anaconda3\\Lib\\R\\library\\ggplot2\\html\\qplot.html로 복사하는데 문제가 발생했습니다: Permission denied\"Warning message in file.copy(savedcopy, lib, recursive = TRUE):\n",
      "\"C:\\ProgramData\\Anaconda3\\Lib\\R\\library\\00LOCK\\ggplot2\\html\\R.css를 C:\\ProgramData\\Anaconda3\\Lib\\R\\library\\ggplot2\\html\\R.css로 복사하는데 문제가 발생했습니다: Permission denied\"Warning message in file.copy(savedcopy, lib, recursive = TRUE):\n",
      "\"C:\\ProgramData\\Anaconda3\\Lib\\R\\library\\00LOCK\\ggplot2\\html\\reexports.html를 C:\\ProgramData\\Anaconda3\\Lib\\R\\library\\ggplot2\\html\\reexports.html로 복사하는데 문제가 발생했습니다: Permission denied\"Warning message in file.copy(savedcopy, lib, recursive = TRUE):\n",
      "\"C:\\ProgramData\\Anaconda3\\Lib\\R\\library\\00LOCK\\ggplot2\\html\\remove_missing.html를 C:\\ProgramData\\Anaconda3\\Lib\\R\\library\\ggplot2\\html\\remove_missing.html로 복사하는데 문제가 발생했습니다: Permission denied\"Warning message in file.copy(savedcopy, lib, recursive = TRUE):\n",
      "\"C:\\ProgramData\\Anaconda3\\Lib\\R\\library\\00LOCK\\ggplot2\\html\\render_axes.html를 C:\\ProgramData\\Anaconda3\\Lib\\R\\library\\ggplot2\\html\\render_axes.html로 복사하는데 문제가 발생했습니다: Permission denied\"Warning message in file.copy(savedcopy, lib, recursive = TRUE):\n",
      "\"C:\\ProgramData\\Anaconda3\\Lib\\R\\library\\00LOCK\\ggplot2\\html\\render_strips.html를 C:\\ProgramData\\Anaconda3\\Lib\\R\\library\\ggplot2\\html\\render_strips.html로 복사하는데 문제가 발생했습니다: Permission denied\"Warning message in file.copy(savedcopy, lib, recursive = TRUE):\n",
      "\"C:\\ProgramData\\Anaconda3\\Lib\\R\\library\\00LOCK\\ggplot2\\html\\resolution.html를 C:\\ProgramData\\Anaconda3\\Lib\\R\\library\\ggplot2\\html\\resolution.html로 복사하는데 문제가 발생했습니다: Permission denied\"Warning message in file.copy(savedcopy, lib, recursive = TRUE):\n",
      "\"C:\\ProgramData\\Anaconda3\\Lib\\R\\library\\00LOCK\\ggplot2\\html\\scale_alpha.html를 C:\\ProgramData\\Anaconda3\\Lib\\R\\library\\ggplot2\\html\\scale_alpha.html로 복사하는데 문제가 발생했습니다: Permission denied\"Warning message in file.copy(savedcopy, lib, recursive = TRUE):\n",
      "\"C:\\ProgramData\\Anaconda3\\Lib\\R\\library\\00LOCK\\ggplot2\\html\\scale_brewer.html를 C:\\ProgramData\\Anaconda3\\Lib\\R\\library\\ggplot2\\html\\scale_brewer.html로 복사하는데 문제가 발생했습니다: Permission denied\"Warning message in file.copy(savedcopy, lib, recursive = TRUE):\n",
      "\"C:\\ProgramData\\Anaconda3\\Lib\\R\\library\\00LOCK\\ggplot2\\html\\scale_colour_continuous.html를 C:\\ProgramData\\Anaconda3\\Lib\\R\\library\\ggplot2\\html\\scale_colour_continuous.html로 복사하는데 문제가 발생했습니다: Permission denied\"Warning message in file.copy(savedcopy, lib, recursive = TRUE):\n",
      "\"C:\\ProgramData\\Anaconda3\\Lib\\R\\library\\00LOCK\\ggplot2\\html\\scale_continuous.html를 C:\\ProgramData\\Anaconda3\\Lib\\R\\library\\ggplot2\\html\\scale_continuous.html로 복사하는데 문제가 발생했습니다: Permission denied\"Warning message in file.copy(savedcopy, lib, recursive = TRUE):\n",
      "\"C:\\ProgramData\\Anaconda3\\Lib\\R\\library\\00LOCK\\ggplot2\\html\\scale_date.html를 C:\\ProgramData\\Anaconda3\\Lib\\R\\library\\ggplot2\\html\\scale_date.html로 복사하는데 문제가 발생했습니다: Permission denied\"Warning message in file.copy(savedcopy, lib, recursive = TRUE):\n",
      "\"C:\\ProgramData\\Anaconda3\\Lib\\R\\library\\00LOCK\\ggplot2\\html\\scale_discrete.html를 C:\\ProgramData\\Anaconda3\\Lib\\R\\library\\ggplot2\\html\\scale_discrete.html로 복사하는데 문제가 발생했습니다: Permission denied\"Warning message in file.copy(savedcopy, lib, recursive = TRUE):\n",
      "\"C:\\ProgramData\\Anaconda3\\Lib\\R\\library\\00LOCK\\ggplot2\\html\\scale_gradient.html를 C:\\ProgramData\\Anaconda3\\Lib\\R\\library\\ggplot2\\html\\scale_gradient.html로 복사하는데 문제가 발생했습니다: Permission denied\"Warning message in file.copy(savedcopy, lib, recursive = TRUE):\n",
      "\"C:\\ProgramData\\Anaconda3\\Lib\\R\\library\\00LOCK\\ggplot2\\html\\scale_grey.html를 C:\\ProgramData\\Anaconda3\\Lib\\R\\library\\ggplot2\\html\\scale_grey.html로 복사하는데 문제가 발생했습니다: Permission denied\"Warning message in file.copy(savedcopy, lib, recursive = TRUE):\n",
      "\"C:\\ProgramData\\Anaconda3\\Lib\\R\\library\\00LOCK\\ggplot2\\html\\scale_hue.html를 C:\\ProgramData\\Anaconda3\\Lib\\R\\library\\ggplot2\\html\\scale_hue.html로 복사하는데 문제가 발생했습니다: Permission denied\"Warning message in file.copy(savedcopy, lib, recursive = TRUE):\n",
      "\"C:\\ProgramData\\Anaconda3\\Lib\\R\\library\\00LOCK\\ggplot2\\html\\scale_identity.html를 C:\\ProgramData\\Anaconda3\\Lib\\R\\library\\ggplot2\\html\\scale_identity.html로 복사하는데 문제가 발생했습니다: Permission denied\"Warning message in file.copy(savedcopy, lib, recursive = TRUE):\n",
      "\"C:\\ProgramData\\Anaconda3\\Lib\\R\\library\\00LOCK\\ggplot2\\html\\scale_linetype.html를 C:\\ProgramData\\Anaconda3\\Lib\\R\\library\\ggplot2\\html\\scale_linetype.html로 복사하는데 문제가 발생했습니다: Permission denied\"Warning message in file.copy(savedcopy, lib, recursive = TRUE):\n",
      "\"C:\\ProgramData\\Anaconda3\\Lib\\R\\library\\00LOCK\\ggplot2\\html\\scale_manual.html를 C:\\ProgramData\\Anaconda3\\Lib\\R\\library\\ggplot2\\html\\scale_manual.html로 복사하는데 문제가 발생했습니다: Permission denied\"Warning message in file.copy(savedcopy, lib, recursive = TRUE):\n",
      "\"C:\\ProgramData\\Anaconda3\\Lib\\R\\library\\00LOCK\\ggplot2\\html\\scale_shape.html를 C:\\ProgramData\\Anaconda3\\Lib\\R\\library\\ggplot2\\html\\scale_shape.html로 복사하는데 문제가 발생했습니다: Permission denied\"Warning message in file.copy(savedcopy, lib, recursive = TRUE):\n",
      "\"C:\\ProgramData\\Anaconda3\\Lib\\R\\library\\00LOCK\\ggplot2\\html\\scale_size.html를 C:\\ProgramData\\Anaconda3\\Lib\\R\\library\\ggplot2\\html\\scale_size.html로 복사하는데 문제가 발생했습니다: Permission denied\"Warning message in file.copy(savedcopy, lib, recursive = TRUE):\n",
      "\"C:\\ProgramData\\Anaconda3\\Lib\\R\\library\\00LOCK\\ggplot2\\html\\scale_type.html를 C:\\ProgramData\\Anaconda3\\Lib\\R\\library\\ggplot2\\html\\scale_type.html로 복사하는데 문제가 발생했습니다: Permission denied\"Warning message in file.copy(savedcopy, lib, recursive = TRUE):\n",
      "\"C:\\ProgramData\\Anaconda3\\Lib\\R\\library\\00LOCK\\ggplot2\\html\\scale_viridis.html를 C:\\ProgramData\\Anaconda3\\Lib\\R\\library\\ggplot2\\html\\scale_viridis.html로 복사하는데 문제가 발생했습니다: Permission denied\"Warning message in file.copy(savedcopy, lib, recursive = TRUE):\n",
      "\"C:\\ProgramData\\Anaconda3\\Lib\\R\\library\\00LOCK\\ggplot2\\html\\seals.html를 C:\\ProgramData\\Anaconda3\\Lib\\R\\library\\ggplot2\\html\\seals.html로 복사하는데 문제가 발생했습니다: Permission denied\"Warning message in file.copy(savedcopy, lib, recursive = TRUE):\n",
      "\"C:\\ProgramData\\Anaconda3\\Lib\\R\\library\\00LOCK\\ggplot2\\html\\sec_axis.html를 C:\\ProgramData\\Anaconda3\\Lib\\R\\library\\ggplot2\\html\\sec_axis.html로 복사하는데 문제가 발생했습니다: Permission denied\"Warning message in file.copy(savedcopy, lib, recursive = TRUE):\n",
      "\"C:\\ProgramData\\Anaconda3\\Lib\\R\\library\\00LOCK\\ggplot2\\html\\set_last_plot.html를 C:\\ProgramData\\Anaconda3\\Lib\\R\\library\\ggplot2\\html\\set_last_plot.html로 복사하는데 문제가 발생했습니다: Permission denied\"Warning message in file.copy(savedcopy, lib, recursive = TRUE):\n",
      "\"C:\\ProgramData\\Anaconda3\\Lib\\R\\library\\00LOCK\\ggplot2\\html\\should_stop.html를 C:\\ProgramData\\Anaconda3\\Lib\\R\\library\\ggplot2\\html\\should_stop.html로 복사하는데 문제가 발생했습니다: Permission denied\"Warning message in file.copy(savedcopy, lib, recursive = TRUE):\n",
      "\"C:\\ProgramData\\Anaconda3\\Lib\\R\\library\\00LOCK\\ggplot2\\html\\standardise_aes_names.html를 C:\\ProgramData\\Anaconda3\\Lib\\R\\library\\ggplot2\\html\\standardise_aes_names.html로 복사하는데 문제가 발생했습니다: Permission denied\"Warning message in file.copy(savedcopy, lib, recursive = TRUE):\n",
      "\"C:\\ProgramData\\Anaconda3\\Lib\\R\\library\\00LOCK\\ggplot2\\html\\stat.html를 C:\\ProgramData\\Anaconda3\\Lib\\R\\library\\ggplot2\\html\\stat.html로 복사하는데 문제가 발생했습니다: Permission denied\"Warning message in file.copy(savedcopy, lib, recursive = TRUE):\n",
      "\"C:\\ProgramData\\Anaconda3\\Lib\\R\\library\\00LOCK\\ggplot2\\html\\stat_ecdf.html를 C:\\ProgramData\\Anaconda3\\Lib\\R\\library\\ggplot2\\html\\stat_ecdf.html로 복사하는데 문제가 발생했습니다: Permission denied\"Warning message in file.copy(savedcopy, lib, recursive = TRUE):\n",
      "\"C:\\ProgramData\\Anaconda3\\Lib\\R\\library\\00LOCK\\ggplot2\\html\\stat_ellipse.html를 C:\\ProgramData\\Anaconda3\\Lib\\R\\library\\ggplot2\\html\\stat_ellipse.html로 복사하는데 문제가 발생했습니다: Permission denied\"Warning message in file.copy(savedcopy, lib, recursive = TRUE):\n",
      "\"C:\\ProgramData\\Anaconda3\\Lib\\R\\library\\00LOCK\\ggplot2\\html\\stat_function.html를 C:\\ProgramData\\Anaconda3\\Lib\\R\\library\\ggplot2\\html\\stat_function.html로 복사하는데 문제가 발생했습니다: Permission denied\"Warning message in file.copy(savedcopy, lib, recursive = TRUE):\n",
      "\"C:\\ProgramData\\Anaconda3\\Lib\\R\\library\\00LOCK\\ggplot2\\html\\stat_identity.html를 C:\\ProgramData\\Anaconda3\\Lib\\R\\library\\ggplot2\\html\\stat_identity.html로 복사하는데 문제가 발생했습니다: Permission denied\"Warning message in file.copy(savedcopy, lib, recursive = TRUE):\n",
      "\"C:\\ProgramData\\Anaconda3\\Lib\\R\\library\\00LOCK\\ggplot2\\html\\stat_sf_coordinates.html를 C:\\ProgramData\\Anaconda3\\Lib\\R\\library\\ggplot2\\html\\stat_sf_coordinates.html로 복사하는데 문제가 발생했습니다: Permission denied\"Warning message in file.copy(savedcopy, lib, recursive = TRUE):\n",
      "\"C:\\ProgramData\\Anaconda3\\Lib\\R\\library\\00LOCK\\ggplot2\\html\\stat_summary.html를 C:\\ProgramData\\Anaconda3\\Lib\\R\\library\\ggplot2\\html\\stat_summary.html로 복사하는데 문제가 발생했습니다: Permission denied\"Warning message in file.copy(savedcopy, lib, recursive = TRUE):\n",
      "\"C:\\ProgramData\\Anaconda3\\Lib\\R\\library\\00LOCK\\ggplot2\\html\\stat_summary_2d.html를 C:\\ProgramData\\Anaconda3\\Lib\\R\\library\\ggplot2\\html\\stat_summary_2d.html로 복사하는데 문제가 발생했습니다: Permission denied\"Warning message in file.copy(savedcopy, lib, recursive = TRUE):\n",
      "\"C:\\ProgramData\\Anaconda3\\Lib\\R\\library\\00LOCK\\ggplot2\\html\\stat_unique.html를 C:\\ProgramData\\Anaconda3\\Lib\\R\\library\\ggplot2\\html\\stat_unique.html로 복사하는데 문제가 발생했습니다: Permission denied\"Warning message in file.copy(savedcopy, lib, recursive = TRUE):\n",
      "\"C:\\ProgramData\\Anaconda3\\Lib\\R\\library\\00LOCK\\ggplot2\\html\\summarise_plot.html를 C:\\ProgramData\\Anaconda3\\Lib\\R\\library\\ggplot2\\html\\summarise_plot.html로 복사하는데 문제가 발생했습니다: Permission denied\"Warning message in file.copy(savedcopy, lib, recursive = TRUE):\n",
      "\"C:\\ProgramData\\Anaconda3\\Lib\\R\\library\\00LOCK\\ggplot2\\html\\summary.ggplot.html를 C:\\ProgramData\\Anaconda3\\Lib\\R\\library\\ggplot2\\html\\summary.ggplot.html로 복사하는데 문제가 발생했습니다: Permission denied\"Warning message in file.copy(savedcopy, lib, recursive = TRUE):\n",
      "\"C:\\ProgramData\\Anaconda3\\Lib\\R\\library\\00LOCK\\ggplot2\\html\\theme.html를 C:\\ProgramData\\Anaconda3\\Lib\\R\\library\\ggplot2\\html\\theme.html로 복사하는데 문제가 발생했습니다: Permission denied\"Warning message in file.copy(savedcopy, lib, recursive = TRUE):\n",
      "\"C:\\ProgramData\\Anaconda3\\Lib\\R\\library\\00LOCK\\ggplot2\\html\\theme_get.html를 C:\\ProgramData\\Anaconda3\\Lib\\R\\library\\ggplot2\\html\\theme_get.html로 복사하는데 문제가 발생했습니다: Permission denied\"Warning message in file.copy(savedcopy, lib, recursive = TRUE):\n",
      "\"C:\\ProgramData\\Anaconda3\\Lib\\R\\library\\00LOCK\\ggplot2\\html\\tidyeval.html를 C:\\ProgramData\\Anaconda3\\Lib\\R\\library\\ggplot2\\html\\tidyeval.html로 복사하는데 문제가 발생했습니다: Permission denied\"Warning message in file.copy(savedcopy, lib, recursive = TRUE):\n",
      "\"C:\\ProgramData\\Anaconda3\\Lib\\R\\library\\00LOCK\\ggplot2\\html\\transform_position.html를 C:\\ProgramData\\Anaconda3\\Lib\\R\\library\\ggplot2\\html\\transform_position.html로 복사하는데 문제가 발생했습니다: Permission denied\"Warning message in file.copy(savedcopy, lib, recursive = TRUE):\n",
      "\"C:\\ProgramData\\Anaconda3\\Lib\\R\\library\\00LOCK\\ggplot2\\html\\translate_qplot_ggplot.html를 C:\\ProgramData\\Anaconda3\\Lib\\R\\library\\ggplot2\\html\\translate_qplot_ggplot.html로 복사하는데 문제가 발생했습니다: Permission denied\"Warning message in file.copy(savedcopy, lib, recursive = TRUE):\n",
      "\"C:\\ProgramData\\Anaconda3\\Lib\\R\\library\\00LOCK\\ggplot2\\html\\translate_qplot_lattice.html를 C:\\ProgramData\\Anaconda3\\Lib\\R\\library\\ggplot2\\html\\translate_qplot_lattice.html로 복사하는데 문제가 발생했습니다: Permission denied\"Warning message in file.copy(savedcopy, lib, recursive = TRUE):\n",
      "\"C:\\ProgramData\\Anaconda3\\Lib\\R\\library\\00LOCK\\ggplot2\\html\\txhousing.html를 C:\\ProgramData\\Anaconda3\\Lib\\R\\library\\ggplot2\\html\\txhousing.html로 복사하는데 문제가 발생했습니다: Permission denied\"Warning message in file.copy(savedcopy, lib, recursive = TRUE):\n",
      "\"C:\\ProgramData\\Anaconda3\\Lib\\R\\library\\00LOCK\\ggplot2\\html\\update_defaults.html를 C:\\ProgramData\\Anaconda3\\Lib\\R\\library\\ggplot2\\html\\update_defaults.html로 복사하는데 문제가 발생했습니다: Permission denied\"Warning message in file.copy(savedcopy, lib, recursive = TRUE):\n",
      "\"C:\\ProgramData\\Anaconda3\\Lib\\R\\library\\00LOCK\\ggplot2\\html\\update_labels.html를 C:\\ProgramData\\Anaconda3\\Lib\\R\\library\\ggplot2\\html\\update_labels.html로 복사하는데 문제가 발생했습니다: Permission denied\"Warning message in file.copy(savedcopy, lib, recursive = TRUE):\n",
      "\"C:\\ProgramData\\Anaconda3\\Lib\\R\\library\\00LOCK\\ggplot2\\html\\vars.html를 C:\\ProgramData\\Anaconda3\\Lib\\R\\library\\ggplot2\\html\\vars.html로 복사하는데 문제가 발생했습니다: Permission denied\"Warning message in file.copy(savedcopy, lib, recursive = TRUE):\n",
      "\"C:\\ProgramData\\Anaconda3\\Lib\\R\\library\\00LOCK\\ggplot2\\html\\waiver.html를 C:\\ProgramData\\Anaconda3\\Lib\\R\\library\\ggplot2\\html\\waiver.html로 복사하는데 문제가 발생했습니다: Permission denied\"Warning message in file.copy(savedcopy, lib, recursive = TRUE):\n",
      "\"C:\\ProgramData\\Anaconda3\\Lib\\R\\library\\00LOCK\\ggplot2\\html\\wrap_dims.html를 C:\\ProgramData\\Anaconda3\\Lib\\R\\library\\ggplot2\\html\\wrap_dims.html로 복사하는데 문제가 발생했습니다: Permission denied\"Warning message in file.copy(savedcopy, lib, recursive = TRUE):\n",
      "\"C:\\ProgramData\\Anaconda3\\Lib\\R\\library\\00LOCK\\ggplot2\\html\\zeroGrob.html를 C:\\ProgramData\\Anaconda3\\Lib\\R\\library\\ggplot2\\html\\zeroGrob.html로 복사하는데 문제가 발생했습니다: Permission denied\"Warning message in file.copy(savedcopy, lib, recursive = TRUE):\n",
      "\"C:\\ProgramData\\Anaconda3\\Lib\\R\\library\\00LOCK\\ggplot2\\INDEX를 C:\\ProgramData\\Anaconda3\\Lib\\R\\library\\ggplot2\\INDEX로 복사하는데 문제가 발생했습니다: Permission denied\"Warning message in file.copy(savedcopy, lib, recursive = TRUE):\n",
      "\"C:\\ProgramData\\Anaconda3\\Lib\\R\\library\\00LOCK\\ggplot2\\LICENSE를 C:\\ProgramData\\Anaconda3\\Lib\\R\\library\\ggplot2\\LICENSE로 복사하는데 문제가 발생했습니다: Permission denied\"Warning message in file.copy(savedcopy, lib, recursive = TRUE):\n",
      "\"C:\\ProgramData\\Anaconda3\\Lib\\R\\library\\00LOCK\\ggplot2\\MD5를 C:\\ProgramData\\Anaconda3\\Lib\\R\\library\\ggplot2\\MD5로 복사하는데 문제가 발생했습니다: Permission denied\"Warning message in file.copy(savedcopy, lib, recursive = TRUE):\n",
      "\"C:\\ProgramData\\Anaconda3\\Lib\\R\\library\\00LOCK\\ggplot2\\Meta\\data.rds를 C:\\ProgramData\\Anaconda3\\Lib\\R\\library\\ggplot2\\Meta\\data.rds로 복사하는데 문제가 발생했습니다: Permission denied\"Warning message in file.copy(savedcopy, lib, recursive = TRUE):\n",
      "\"C:\\ProgramData\\Anaconda3\\Lib\\R\\library\\00LOCK\\ggplot2\\Meta\\features.rds를 C:\\ProgramData\\Anaconda3\\Lib\\R\\library\\ggplot2\\Meta\\features.rds로 복사하는데 문제가 발생했습니다: Permission denied\"Warning message in file.copy(savedcopy, lib, recursive = TRUE):\n",
      "\"C:\\ProgramData\\Anaconda3\\Lib\\R\\library\\00LOCK\\ggplot2\\Meta\\hsearch.rds를 C:\\ProgramData\\Anaconda3\\Lib\\R\\library\\ggplot2\\Meta\\hsearch.rds로 복사하는데 문제가 발생했습니다: Permission denied\"Warning message in file.copy(savedcopy, lib, recursive = TRUE):\n",
      "\"C:\\ProgramData\\Anaconda3\\Lib\\R\\library\\00LOCK\\ggplot2\\Meta\\links.rds를 C:\\ProgramData\\Anaconda3\\Lib\\R\\library\\ggplot2\\Meta\\links.rds로 복사하는데 문제가 발생했습니다: Permission denied\"Warning message in file.copy(savedcopy, lib, recursive = TRUE):\n",
      "\"C:\\ProgramData\\Anaconda3\\Lib\\R\\library\\00LOCK\\ggplot2\\Meta\\nsInfo.rds를 C:\\ProgramData\\Anaconda3\\Lib\\R\\library\\ggplot2\\Meta\\nsInfo.rds로 복사하는데 문제가 발생했습니다: Permission denied\"Warning message in file.copy(savedcopy, lib, recursive = TRUE):\n",
      "\"C:\\ProgramData\\Anaconda3\\Lib\\R\\library\\00LOCK\\ggplot2\\Meta\\package.rds를 C:\\ProgramData\\Anaconda3\\Lib\\R\\library\\ggplot2\\Meta\\package.rds로 복사하는데 문제가 발생했습니다: Permission denied\"Warning message in file.copy(savedcopy, lib, recursive = TRUE):\n",
      "\"C:\\ProgramData\\Anaconda3\\Lib\\R\\library\\00LOCK\\ggplot2\\Meta\\Rd.rds를 C:\\ProgramData\\Anaconda3\\Lib\\R\\library\\ggplot2\\Meta\\Rd.rds로 복사하는데 문제가 발생했습니다: Permission denied\"Warning message in file.copy(savedcopy, lib, recursive = TRUE):\n",
      "\"C:\\ProgramData\\Anaconda3\\Lib\\R\\library\\00LOCK\\ggplot2\\Meta\\vignette.rds를 C:\\ProgramData\\Anaconda3\\Lib\\R\\library\\ggplot2\\Meta\\vignette.rds로 복사하는데 문제가 발생했습니다: Permission denied\"Warning message in file.copy(savedcopy, lib, recursive = TRUE):\n",
      "\"C:\\ProgramData\\Anaconda3\\Lib\\R\\library\\00LOCK\\ggplot2\\NAMESPACE를 C:\\ProgramData\\Anaconda3\\Lib\\R\\library\\ggplot2\\NAMESPACE로 복사하는데 문제가 발생했습니다: Permission denied\"Warning message in file.copy(savedcopy, lib, recursive = TRUE):\n",
      "\"C:\\ProgramData\\Anaconda3\\Lib\\R\\library\\00LOCK\\ggplot2\\NEWS.md를 C:\\ProgramData\\Anaconda3\\Lib\\R\\library\\ggplot2\\NEWS.md로 복사하는데 문제가 발생했습니다: Permission denied\"Warning message in file.copy(savedcopy, lib, recursive = TRUE):\n",
      "\"C:\\ProgramData\\Anaconda3\\Lib\\R\\library\\00LOCK\\ggplot2\\R\\ggplot2를 C:\\ProgramData\\Anaconda3\\Lib\\R\\library\\ggplot2\\R\\ggplot2로 복사하는데 문제가 발생했습니다: Permission denied\"Warning message in file.copy(savedcopy, lib, recursive = TRUE):\n",
      "\"C:\\ProgramData\\Anaconda3\\Lib\\R\\library\\00LOCK\\ggplot2\\R\\ggplot2.rdb를 C:\\ProgramData\\Anaconda3\\Lib\\R\\library\\ggplot2\\R\\ggplot2.rdb로 복사하는데 문제가 발생했습니다: Permission denied\"Warning message in file.copy(savedcopy, lib, recursive = TRUE):\n",
      "\"C:\\ProgramData\\Anaconda3\\Lib\\R\\library\\00LOCK\\ggplot2\\R\\ggplot2.rdx를 C:\\ProgramData\\Anaconda3\\Lib\\R\\library\\ggplot2\\R\\ggplot2.rdx로 복사하는데 문제가 발생했습니다: Permission denied\"Warning message:\n",
      "\"restored 'ggplot2'\""
     ]
    },
    {
     "name": "stdout",
     "output_type": "stream",
     "text": [
      "\n",
      "The downloaded binary packages are in\n",
      "\tC:\\Users\\ICT03_07\\AppData\\Local\\Temp\\Rtmpk97K7q\\downloaded_packages\n"
     ]
    },
    {
     "name": "stderr",
     "output_type": "stream",
     "text": [
      "Registered S3 methods overwritten by 'ggplot2':\n",
      "  method         from \n",
      "  [.quosures     rlang\n",
      "  c.quosures     rlang\n",
      "  print.quosures rlang\n"
     ]
    }
   ],
   "source": [
    "install.packages(\"ggplot2\")\n",
    "library(ggplot2)"
   ]
  },
  {
   "cell_type": "code",
   "execution_count": 12,
   "metadata": {},
   "outputs": [
    {
     "data": {
      "text/html": [
       "<ol class=list-inline>\n",
       "\t<li>'a'</li>\n",
       "\t<li>'a'</li>\n",
       "\t<li>'b'</li>\n",
       "\t<li>'c'</li>\n",
       "</ol>\n"
      ],
      "text/latex": [
       "\\begin{enumerate*}\n",
       "\\item 'a'\n",
       "\\item 'a'\n",
       "\\item 'b'\n",
       "\\item 'c'\n",
       "\\end{enumerate*}\n"
      ],
      "text/markdown": [
       "1. 'a'\n",
       "2. 'a'\n",
       "3. 'b'\n",
       "4. 'c'\n",
       "\n",
       "\n"
      ],
      "text/plain": [
       "[1] \"a\" \"a\" \"b\" \"c\""
      ]
     },
     "metadata": {},
     "output_type": "display_data"
    },
    {
     "data": {
      "image/png": "[encoded data removed]",
      "text/plain": [
       "plot without title"
      ]
     },
     "metadata": {},
     "output_type": "display_data"
    }
   ],
   "source": [
    "x <- c(\"a\", \"a\", \"b\", \"c\")\n",
    "x \n",
    "qplot(x)"
   ]
  },
  {
   "cell_type": "code",
   "execution_count": 13,
   "metadata": {
    "collapsed": true,
    "jupyter": {
     "outputs_hidden": true
    }
   },
   "outputs": [
    {
     "name": "stderr",
     "output_type": "stream",
     "text": [
      "also installing the dependency 'rlang'\n",
      "\n"
     ]
    },
    {
     "name": "stdout",
     "output_type": "stream",
     "text": [
      "package 'rlang' successfully unpacked and MD5 sums checked\n"
     ]
    },
    {
     "name": "stderr",
     "output_type": "stream",
     "text": [
      "Warning message:\n",
      "\"cannot remove prior installation of package 'rlang'\"Warning message in file.copy(savedcopy, lib, recursive = TRUE):\n",
      "\"C:\\ProgramData\\Anaconda3\\Lib\\R\\library\\00LOCK\\rlang\\DESCRIPTION를 C:\\ProgramData\\Anaconda3\\Lib\\R\\library\\rlang\\DESCRIPTION로 복사하는데 문제가 발생했습니다: Permission denied\"Warning message in file.copy(savedcopy, lib, recursive = TRUE):\n",
      "\"C:\\ProgramData\\Anaconda3\\Lib\\R\\library\\00LOCK\\rlang\\help\\aliases.rds를 C:\\ProgramData\\Anaconda3\\Lib\\R\\library\\rlang\\help\\aliases.rds로 복사하는데 문제가 발생했습니다: Permission denied\"Warning message in file.copy(savedcopy, lib, recursive = TRUE):\n",
      "\"C:\\ProgramData\\Anaconda3\\Lib\\R\\library\\00LOCK\\rlang\\help\\AnIndex를 C:\\ProgramData\\Anaconda3\\Lib\\R\\library\\rlang\\help\\AnIndex로 복사하는데 문제가 발생했습니다: Permission denied\"Warning message in file.copy(savedcopy, lib, recursive = TRUE):\n",
      "\"C:\\ProgramData\\Anaconda3\\Lib\\R\\library\\00LOCK\\rlang\\help\\figures\\lifecycle-archived.svg를 C:\\ProgramData\\Anaconda3\\Lib\\R\\library\\rlang\\help\\figures\\lifecycle-archived.svg로 복사하는데 문제가 발생했습니다: Permission denied\"Warning message in file.copy(savedcopy, lib, recursive = TRUE):\n",
      "\"C:\\ProgramData\\Anaconda3\\Lib\\R\\library\\00LOCK\\rlang\\help\\figures\\lifecycle-defunct.svg를 C:\\ProgramData\\Anaconda3\\Lib\\R\\library\\rlang\\help\\figures\\lifecycle-defunct.svg로 복사하는데 문제가 발생했습니다: Permission denied\"Warning message in file.copy(savedcopy, lib, recursive = TRUE):\n",
      "\"C:\\ProgramData\\Anaconda3\\Lib\\R\\library\\00LOCK\\rlang\\help\\figures\\lifecycle-deprecated.svg를 C:\\ProgramData\\Anaconda3\\Lib\\R\\library\\rlang\\help\\figures\\lifecycle-deprecated.svg로 복사하는데 문제가 발생했습니다: Permission denied\"Warning message in file.copy(savedcopy, lib, recursive = TRUE):\n",
      "\"C:\\ProgramData\\Anaconda3\\Lib\\R\\library\\00LOCK\\rlang\\help\\figures\\lifecycle-experimental.svg를 C:\\ProgramData\\Anaconda3\\Lib\\R\\library\\rlang\\help\\figures\\lifecycle-experimental.svg로 복사하는데 문제가 발생했습니다: Permission denied\"Warning message in file.copy(savedcopy, lib, recursive = TRUE):\n",
      "\"C:\\ProgramData\\Anaconda3\\Lib\\R\\library\\00LOCK\\rlang\\help\\figures\\lifecycle-maturing.svg를 C:\\ProgramData\\Anaconda3\\Lib\\R\\library\\rlang\\help\\figures\\lifecycle-maturing.svg로 복사하는데 문제가 발생했습니다: Permission denied\"Warning message in file.copy(savedcopy, lib, recursive = TRUE):\n",
      "\"C:\\ProgramData\\Anaconda3\\Lib\\R\\library\\00LOCK\\rlang\\help\\figures\\lifecycle-questioning.svg를 C:\\ProgramData\\Anaconda3\\Lib\\R\\library\\rlang\\help\\figures\\lifecycle-questioning.svg로 복사하는데 문제가 발생했습니다: Permission denied\"Warning message in file.copy(savedcopy, lib, recursive = TRUE):\n",
      "\"C:\\ProgramData\\Anaconda3\\Lib\\R\\library\\00LOCK\\rlang\\help\\figures\\lifecycle-retired.svg를 C:\\ProgramData\\Anaconda3\\Lib\\R\\library\\rlang\\help\\figures\\lifecycle-retired.svg로 복사하는데 문제가 발생했습니다: Permission denied\"Warning message in file.copy(savedcopy, lib, recursive = TRUE):\n",
      "\"C:\\ProgramData\\Anaconda3\\Lib\\R\\library\\00LOCK\\rlang\\help\\figures\\lifecycle-soft-deprecated.svg를 C:\\ProgramData\\Anaconda3\\Lib\\R\\library\\rlang\\help\\figures\\lifecycle-soft-deprecated.svg로 복사하는데 문제가 발생했습니다: Permission denied\"Warning message in file.copy(savedcopy, lib, recursive = TRUE):\n",
      "\"C:\\ProgramData\\Anaconda3\\Lib\\R\\library\\00LOCK\\rlang\\help\\figures\\lifecycle-stable.svg를 C:\\ProgramData\\Anaconda3\\Lib\\R\\library\\rlang\\help\\figures\\lifecycle-stable.svg로 복사하는데 문제가 발생했습니다: Permission denied\"Warning message in file.copy(savedcopy, lib, recursive = TRUE):\n",
      "\"C:\\ProgramData\\Anaconda3\\Lib\\R\\library\\00LOCK\\rlang\\help\\figures\\rlang.png를 C:\\ProgramData\\Anaconda3\\Lib\\R\\library\\rlang\\help\\figures\\rlang.png로 복사하는데 문제가 발생했습니다: Permission denied\"Warning message in file.copy(savedcopy, lib, recursive = TRUE):\n",
      "\"C:\\ProgramData\\Anaconda3\\Lib\\R\\library\\00LOCK\\rlang\\help\\paths.rds를 C:\\ProgramData\\Anaconda3\\Lib\\R\\library\\rlang\\help\\paths.rds로 복사하는데 문제가 발생했습니다: Permission denied\"Warning message in file.copy(savedcopy, lib, recursive = TRUE):\n",
      "\"C:\\ProgramData\\Anaconda3\\Lib\\R\\library\\00LOCK\\rlang\\help\\rlang.rdb를 C:\\ProgramData\\Anaconda3\\Lib\\R\\library\\rlang\\help\\rlang.rdb로 복사하는데 문제가 발생했습니다: Permission denied\"Warning message in file.copy(savedcopy, lib, recursive = TRUE):\n",
      "\"C:\\ProgramData\\Anaconda3\\Lib\\R\\library\\00LOCK\\rlang\\help\\rlang.rdx를 C:\\ProgramData\\Anaconda3\\Lib\\R\\library\\rlang\\help\\rlang.rdx로 복사하는데 문제가 발생했습니다: Permission denied\"Warning message in file.copy(savedcopy, lib, recursive = TRUE):\n",
      "\"C:\\ProgramData\\Anaconda3\\Lib\\R\\library\\00LOCK\\rlang\\html\\00Index.html를 C:\\ProgramData\\Anaconda3\\Lib\\R\\library\\rlang\\html\\00Index.html로 복사하는데 문제가 발생했습니다: Permission denied\"Warning message in file.copy(savedcopy, lib, recursive = TRUE):\n",
      "\"C:\\ProgramData\\Anaconda3\\Lib\\R\\library\\00LOCK\\rlang\\html\\abort.html를 C:\\ProgramData\\Anaconda3\\Lib\\R\\library\\rlang\\html\\abort.html로 복사하는데 문제가 발생했습니다: Permission denied\"Warning message in file.copy(savedcopy, lib, recursive = TRUE):\n",
      "\"C:\\ProgramData\\Anaconda3\\Lib\\R\\library\\00LOCK\\rlang\\html\\are_na.html를 C:\\ProgramData\\Anaconda3\\Lib\\R\\library\\rlang\\html\\are_na.html로 복사하는데 문제가 발생했습니다: Permission denied\"Warning message in file.copy(savedcopy, lib, recursive = TRUE):\n",
      "\"C:\\ProgramData\\Anaconda3\\Lib\\R\\library\\00LOCK\\rlang\\html\\arg_match.html를 C:\\ProgramData\\Anaconda3\\Lib\\R\\library\\rlang\\html\\arg_match.html로 복사하는데 문제가 발생했습니다: Permission denied\"Warning message in file.copy(savedcopy, lib, recursive = TRUE):\n",
      "\"C:\\ProgramData\\Anaconda3\\Lib\\R\\library\\00LOCK\\rlang\\html\\as_box.html를 C:\\ProgramData\\Anaconda3\\Lib\\R\\library\\rlang\\html\\as_box.html로 복사하는데 문제가 발생했습니다: Permission denied\"Warning message in file.copy(savedcopy, lib, recursive = TRUE):\n",
      "\"C:\\ProgramData\\Anaconda3\\Lib\\R\\library\\00LOCK\\rlang\\html\\as_bytes.html를 C:\\ProgramData\\Anaconda3\\Lib\\R\\library\\rlang\\html\\as_bytes.html로 복사하는데 문제가 발생했습니다: Permission denied\"Warning message in file.copy(savedcopy, lib, recursive = TRUE):\n",
      "\"C:\\ProgramData\\Anaconda3\\Lib\\R\\library\\00LOCK\\rlang\\html\\as_data_mask.html를 C:\\ProgramData\\Anaconda3\\Lib\\R\\library\\rlang\\html\\as_data_mask.html로 복사하는데 문제가 발생했습니다: Permission denied\"Warning message in file.copy(savedcopy, lib, recursive = TRUE):\n",
      "\"C:\\ProgramData\\Anaconda3\\Lib\\R\\library\\00LOCK\\rlang\\html\\as_env.html를 C:\\ProgramData\\Anaconda3\\Lib\\R\\library\\rlang\\html\\as_env.html로 복사하는데 문제가 발생했습니다: Permission denied\"Warning message in file.copy(savedcopy, lib, recursive = TRUE):\n",
      "\"C:\\ProgramData\\Anaconda3\\Lib\\R\\library\\00LOCK\\rlang\\html\\as_environment.html를 C:\\ProgramData\\Anaconda3\\Lib\\R\\library\\rlang\\html\\as_environment.html로 복사하는데 문제가 발생했습니다: Permission denied\"Warning message in file.copy(savedcopy, lib, recursive = TRUE):\n",
      "\"C:\\ProgramData\\Anaconda3\\Lib\\R\\library\\00LOCK\\rlang\\html\\as_function.html를 C:\\ProgramData\\Anaconda3\\Lib\\R\\library\\rlang\\html\\as_function.html로 복사하는데 문제가 발생했습니다: Permission denied\"Warning message in file.copy(savedcopy, lib, recursive = TRUE):\n",
      "\"C:\\ProgramData\\Anaconda3\\Lib\\R\\library\\00LOCK\\rlang\\html\\as_label.html를 C:\\ProgramData\\Anaconda3\\Lib\\R\\library\\rlang\\html\\as_label.html로 복사하는데 문제가 발생했습니다: Permission denied\"Warning message in file.copy(savedcopy, lib, recursive = TRUE):\n",
      "\"C:\\ProgramData\\Anaconda3\\Lib\\R\\library\\00LOCK\\rlang\\html\\as_name.html를 C:\\ProgramData\\Anaconda3\\Lib\\R\\library\\rlang\\html\\as_name.html로 복사하는데 문제가 발생했습니다: Permission denied\"Warning message in file.copy(savedcopy, lib, recursive = TRUE):\n",
      "\"C:\\ProgramData\\Anaconda3\\Lib\\R\\library\\00LOCK\\rlang\\html\\as_overscope.html를 C:\\ProgramData\\Anaconda3\\Lib\\R\\library\\rlang\\html\\as_overscope.html로 복사하는데 문제가 발생했습니다: Permission denied\"Warning message in file.copy(savedcopy, lib, recursive = TRUE):\n",
      "\"C:\\ProgramData\\Anaconda3\\Lib\\R\\library\\00LOCK\\rlang\\html\\as_pairlist.html를 C:\\ProgramData\\Anaconda3\\Lib\\R\\library\\rlang\\html\\as_pairlist.html로 복사하는데 문제가 발생했습니다: Permission denied\"Warning message in file.copy(savedcopy, lib, recursive = TRUE):\n",
      "\"C:\\ProgramData\\Anaconda3\\Lib\\R\\library\\00LOCK\\rlang\\html\\as_quosure.html를 C:\\ProgramData\\Anaconda3\\Lib\\R\\library\\rlang\\html\\as_quosure.html로 복사하는데 문제가 발생했습니다: Permission denied\"Warning message in file.copy(savedcopy, lib, recursive = TRUE):\n",
      "\"C:\\ProgramData\\Anaconda3\\Lib\\R\\library\\00LOCK\\rlang\\html\\as_string.html를 C:\\ProgramData\\Anaconda3\\Lib\\R\\library\\rlang\\html\\as_string.html로 복사하는데 문제가 발생했습니다: Permission denied\"Warning message in file.copy(savedcopy, lib, recursive = TRUE):\n",
      "\"C:\\ProgramData\\Anaconda3\\Lib\\R\\library\\00LOCK\\rlang\\html\\as_utf8_character.html를 C:\\ProgramData\\Anaconda3\\Lib\\R\\library\\rlang\\html\\as_utf8_character.html로 복사하는데 문제가 발생했습니다: Permission denied\"Warning message in file.copy(savedcopy, lib, recursive = TRUE):\n",
      "\"C:\\ProgramData\\Anaconda3\\Lib\\R\\library\\00LOCK\\rlang\\html\\bare-type-predicates.html를 C:\\ProgramData\\Anaconda3\\Lib\\R\\library\\rlang\\html\\bare-type-predicates.html로 복사하는데 문제가 발생했습니다: Permission denied\"Warning message in file.copy(savedcopy, lib, recursive = TRUE):\n",
      "\"C:\\ProgramData\\Anaconda3\\Lib\\R\\library\\00LOCK\\rlang\\html\\box.html를 C:\\ProgramData\\Anaconda3\\Lib\\R\\library\\rlang\\html\\box.html로 복사하는데 문제가 발생했습니다: Permission denied\"Warning message in file.copy(savedcopy, lib, recursive = TRUE):\n",
      "\"C:\\ProgramData\\Anaconda3\\Lib\\R\\library\\00LOCK\\rlang\\html\\call2.html를 C:\\ProgramData\\Anaconda3\\Lib\\R\\library\\rlang\\html\\call2.html로 복사하는데 문제가 발생했습니다: Permission denied\"Warning message in file.copy(savedcopy, lib, recursive = TRUE):\n",
      "\"C:\\ProgramData\\Anaconda3\\Lib\\R\\library\\00LOCK\\rlang\\html\\caller_env.html를 C:\\ProgramData\\Anaconda3\\Lib\\R\\library\\rlang\\html\\caller_env.html로 복사하는데 문제가 발생했습니다: Permission denied\"Warning message in file.copy(savedcopy, lib, recursive = TRUE):\n",
      "\"C:\\ProgramData\\Anaconda3\\Lib\\R\\library\\00LOCK\\rlang\\html\\caller_fn.html를 C:\\ProgramData\\Anaconda3\\Lib\\R\\library\\rlang\\html\\caller_fn.html로 복사하는데 문제가 발생했습니다: Permission denied\"Warning message in file.copy(savedcopy, lib, recursive = TRUE):\n",
      "\"C:\\ProgramData\\Anaconda3\\Lib\\R\\library\\00LOCK\\rlang\\html\\caller_frame.html를 C:\\ProgramData\\Anaconda3\\Lib\\R\\library\\rlang\\html\\caller_frame.html로 복사하는데 문제가 발생했습니다: Permission denied\"Warning message in file.copy(savedcopy, lib, recursive = TRUE):\n",
      "\"C:\\ProgramData\\Anaconda3\\Lib\\R\\library\\00LOCK\\rlang\\html\\call_args.html를 C:\\ProgramData\\Anaconda3\\Lib\\R\\library\\rlang\\html\\call_args.html로 복사하는데 문제가 발생했습니다: Permission denied\"Warning message in file.copy(savedcopy, lib, recursive = TRUE):\n",
      "\"C:\\ProgramData\\Anaconda3\\Lib\\R\\library\\00LOCK\\rlang\\html\\call_fn.html를 C:\\ProgramData\\Anaconda3\\Lib\\R\\library\\rlang\\html\\call_fn.html로 복사하는데 문제가 발생했습니다: Permission denied\"Warning message in file.copy(savedcopy, lib, recursive = TRUE):\n",
      "\"C:\\ProgramData\\Anaconda3\\Lib\\R\\library\\00LOCK\\rlang\\html\\call_inspect.html를 C:\\ProgramData\\Anaconda3\\Lib\\R\\library\\rlang\\html\\call_inspect.html로 복사하는데 문제가 발생했습니다: Permission denied\"Warning message in file.copy(savedcopy, lib, recursive = TRUE):\n",
      "\"C:\\ProgramData\\Anaconda3\\Lib\\R\\library\\00LOCK\\rlang\\html\\call_modify.html를 C:\\ProgramData\\Anaconda3\\Lib\\R\\library\\rlang\\html\\call_modify.html로 복사하는데 문제가 발생했습니다: Permission denied\"Warning message in file.copy(savedcopy, lib, recursive = TRUE):\n",
      "\"C:\\ProgramData\\Anaconda3\\Lib\\R\\library\\00LOCK\\rlang\\html\\call_name.html를 C:\\ProgramData\\Anaconda3\\Lib\\R\\library\\rlang\\html\\call_name.html로 복사하는데 문제가 발생했습니다: Permission denied\"Warning message in file.copy(savedcopy, lib, recursive = TRUE):\n",
      "\"C:\\ProgramData\\Anaconda3\\Lib\\R\\library\\00LOCK\\rlang\\html\\call_standardise.html를 C:\\ProgramData\\Anaconda3\\Lib\\R\\library\\rlang\\html\\call_standardise.html로 복사하는데 문제가 발생했습니다: Permission denied\"Warning message in file.copy(savedcopy, lib, recursive = TRUE):\n",
      "\"C:\\ProgramData\\Anaconda3\\Lib\\R\\library\\00LOCK\\rlang\\html\\catch_cnd.html를 C:\\ProgramData\\Anaconda3\\Lib\\R\\library\\rlang\\html\\catch_cnd.html로 복사하는데 문제가 발생했습니다: Permission denied\"Warning message in file.copy(savedcopy, lib, recursive = TRUE):\n",
      "\"C:\\ProgramData\\Anaconda3\\Lib\\R\\library\\00LOCK\\rlang\\html\\chr_unserialise_unicode.html를 C:\\ProgramData\\Anaconda3\\Lib\\R\\library\\rlang\\html\\chr_unserialise_unicode.html로 복사하는데 문제가 발생했습니다: Permission denied\"Warning message in file.copy(savedcopy, lib, recursive = TRUE):\n",
      "\"C:\\ProgramData\\Anaconda3\\Lib\\R\\library\\00LOCK\\rlang\\html\\cnd.html를 C:\\ProgramData\\Anaconda3\\Lib\\R\\library\\rlang\\html\\cnd.html로 복사하는데 문제가 발생했습니다: Permission denied\"Warning message in file.copy(savedcopy, lib, recursive = TRUE):\n",
      "\"C:\\ProgramData\\Anaconda3\\Lib\\R\\library\\00LOCK\\rlang\\html\\cnd_muffle.html를 C:\\ProgramData\\Anaconda3\\Lib\\R\\library\\rlang\\html\\cnd_muffle.html로 복사하는데 문제가 발생했습니다: Permission denied\"Warning message in file.copy(savedcopy, lib, recursive = TRUE):\n",
      "\"C:\\ProgramData\\Anaconda3\\Lib\\R\\library\\00LOCK\\rlang\\html\\cnd_signal.html를 C:\\ProgramData\\Anaconda3\\Lib\\R\\library\\rlang\\html\\cnd_signal.html로 복사하는데 문제가 발생했습니다: Permission denied\"Warning message in file.copy(savedcopy, lib, recursive = TRUE):\n",
      "\"C:\\ProgramData\\Anaconda3\\Lib\\R\\library\\00LOCK\\rlang\\html\\cnd_type.html를 C:\\ProgramData\\Anaconda3\\Lib\\R\\library\\rlang\\html\\cnd_type.html로 복사하는데 문제가 발생했습니다: Permission denied\"Warning message in file.copy(savedcopy, lib, recursive = TRUE):\n",
      "\"C:\\ProgramData\\Anaconda3\\Lib\\R\\library\\00LOCK\\rlang\\html\\dictionary.html를 C:\\ProgramData\\Anaconda3\\Lib\\R\\library\\rlang\\html\\dictionary.html로 복사하는데 문제가 발생했습니다: Permission denied\"Warning message in file.copy(savedcopy, lib, recursive = TRUE):\n",
      "\"C:\\ProgramData\\Anaconda3\\Lib\\R\\library\\00LOCK\\rlang\\html\\done.html를 C:\\ProgramData\\Anaconda3\\Lib\\R\\library\\rlang\\html\\done.html로 복사하는데 문제가 발생했습니다: Permission denied\"Warning message in file.copy(savedcopy, lib, recursive = TRUE):\n",
      "\"C:\\ProgramData\\Anaconda3\\Lib\\R\\library\\00LOCK\\rlang\\html\\dots_definitions.html를 C:\\ProgramData\\Anaconda3\\Lib\\R\\library\\rlang\\html\\dots_definitions.html로 복사하는데 문제가 발생했습니다: Permission denied\"Warning message in file.copy(savedcopy, lib, recursive = TRUE):\n",
      "\"C:\\ProgramData\\Anaconda3\\Lib\\R\\library\\00LOCK\\rlang\\html\\dots_n.html를 C:\\ProgramData\\Anaconda3\\Lib\\R\\library\\rlang\\html\\dots_n.html로 복사하는데 문제가 발생했습니다: Permission denied\"Warning message in file.copy(savedcopy, lib, recursive = TRUE):\n",
      "\"C:\\ProgramData\\Anaconda3\\Lib\\R\\library\\00LOCK\\rlang\\html\\dots_values.html를 C:\\ProgramData\\Anaconda3\\Lib\\R\\library\\rlang\\html\\dots_values.html로 복사하는데 문제가 발생했습니다: Permission denied\"Warning message in file.copy(savedcopy, lib, recursive = TRUE):\n",
      "\"C:\\ProgramData\\Anaconda3\\Lib\\R\\library\\00LOCK\\rlang\\html\\duplicate.html를 C:\\ProgramData\\Anaconda3\\Lib\\R\\library\\rlang\\html\\duplicate.html로 복사하는데 문제가 발생했습니다: Permission denied\"Warning message in file.copy(savedcopy, lib, recursive = TRUE):\n",
      "\"C:\\ProgramData\\Anaconda3\\Lib\\R\\library\\00LOCK\\rlang\\html\\empty_env.html를 C:\\ProgramData\\Anaconda3\\Lib\\R\\library\\rlang\\html\\empty_env.html로 복사하는데 문제가 발생했습니다: Permission denied\"Warning message in file.copy(savedcopy, lib, recursive = TRUE):\n",
      "\"C:\\ProgramData\\Anaconda3\\Lib\\R\\library\\00LOCK\\rlang\\html\\entrace.html를 C:\\ProgramData\\Anaconda3\\Lib\\R\\library\\rlang\\html\\entrace.html로 복사하는데 문제가 발생했습니다: Permission denied\"Warning message in file.copy(savedcopy, lib, recursive = TRUE):\n",
      "\"C:\\ProgramData\\Anaconda3\\Lib\\R\\library\\00LOCK\\rlang\\html\\env.html를 C:\\ProgramData\\Anaconda3\\Lib\\R\\library\\rlang\\html\\env.html로 복사하는데 문제가 발생했습니다: Permission denied\"Warning message in file.copy(savedcopy, lib, recursive = TRUE):\n",
      "\"C:\\ProgramData\\Anaconda3\\Lib\\R\\library\\00LOCK\\rlang\\html\\env_bind.html를 C:\\ProgramData\\Anaconda3\\Lib\\R\\library\\rlang\\html\\env_bind.html로 복사하는데 문제가 발생했습니다: Permission denied\"Warning message in file.copy(savedcopy, lib, recursive = TRUE):\n",
      "\"C:\\ProgramData\\Anaconda3\\Lib\\R\\library\\00LOCK\\rlang\\html\\env_binding_are_active.html를 C:\\ProgramData\\Anaconda3\\Lib\\R\\library\\rlang\\html\\env_binding_are_active.html로 복사하는데 문제가 발생했습니다: Permission denied\"Warning message in file.copy(savedcopy, lib, recursive = TRUE):\n",
      "\"C:\\ProgramData\\Anaconda3\\Lib\\R\\library\\00LOCK\\rlang\\html\\env_binding_lock.html를 C:\\ProgramData\\Anaconda3\\Lib\\R\\library\\rlang\\html\\env_binding_lock.html로 복사하는데 문제가 발생했습니다: Permission denied\"Warning message in file.copy(savedcopy, lib, recursive = TRUE):\n",
      "\"C:\\ProgramData\\Anaconda3\\Lib\\R\\library\\00LOCK\\rlang\\html\\env_bind_exprs.html를 C:\\ProgramData\\Anaconda3\\Lib\\R\\library\\rlang\\html\\env_bind_exprs.html로 복사하는데 문제가 발생했습니다: Permission denied\"Warning message in file.copy(savedcopy, lib, recursive = TRUE):\n",
      "\"C:\\ProgramData\\Anaconda3\\Lib\\R\\library\\00LOCK\\rlang\\html\\env_bury.html를 C:\\ProgramData\\Anaconda3\\Lib\\R\\library\\rlang\\html\\env_bury.html로 복사하는데 문제가 발생했습니다: Permission denied\"Warning message in file.copy(savedcopy, lib, recursive = TRUE):\n",
      "\"C:\\ProgramData\\Anaconda3\\Lib\\R\\library\\00LOCK\\rlang\\html\\env_clone.html를 C:\\ProgramData\\Anaconda3\\Lib\\R\\library\\rlang\\html\\env_clone.html로 복사하는데 문제가 발생했습니다: Permission denied\"Warning message in file.copy(savedcopy, lib, recursive = TRUE):\n",
      "\"C:\\ProgramData\\Anaconda3\\Lib\\R\\library\\00LOCK\\rlang\\html\\env_depth.html를 C:\\ProgramData\\Anaconda3\\Lib\\R\\library\\rlang\\html\\env_depth.html로 복사하는데 문제가 발생했습니다: Permission denied\"Warning message in file.copy(savedcopy, lib, recursive = TRUE):\n",
      "\"C:\\ProgramData\\Anaconda3\\Lib\\R\\library\\00LOCK\\rlang\\html\\env_get.html를 C:\\ProgramData\\Anaconda3\\Lib\\R\\library\\rlang\\html\\env_get.html로 복사하는데 문제가 발생했습니다: Permission denied\"Warning message in file.copy(savedcopy, lib, recursive = TRUE):\n",
      "\"C:\\ProgramData\\Anaconda3\\Lib\\R\\library\\00LOCK\\rlang\\html\\env_has.html를 C:\\ProgramData\\Anaconda3\\Lib\\R\\library\\rlang\\html\\env_has.html로 복사하는데 문제가 발생했습니다: Permission denied\"Warning message in file.copy(savedcopy, lib, recursive = TRUE):\n",
      "\"C:\\ProgramData\\Anaconda3\\Lib\\R\\library\\00LOCK\\rlang\\html\\env_inherits.html를 C:\\ProgramData\\Anaconda3\\Lib\\R\\library\\rlang\\html\\env_inherits.html로 복사하는데 문제가 발생했습니다: Permission denied\"Warning message in file.copy(savedcopy, lib, recursive = TRUE):\n",
      "\"C:\\ProgramData\\Anaconda3\\Lib\\R\\library\\00LOCK\\rlang\\html\\env_lock.html를 C:\\ProgramData\\Anaconda3\\Lib\\R\\library\\rlang\\html\\env_lock.html로 복사하는데 문제가 발생했습니다: Permission denied\"Warning message in file.copy(savedcopy, lib, recursive = TRUE):\n",
      "\"C:\\ProgramData\\Anaconda3\\Lib\\R\\library\\00LOCK\\rlang\\html\\env_name.html를 C:\\ProgramData\\Anaconda3\\Lib\\R\\library\\rlang\\html\\env_name.html로 복사하는데 문제가 발생했습니다: Permission denied\"Warning message in file.copy(savedcopy, lib, recursive = TRUE):\n",
      "\"C:\\ProgramData\\Anaconda3\\Lib\\R\\library\\00LOCK\\rlang\\html\\env_names.html를 C:\\ProgramData\\Anaconda3\\Lib\\R\\library\\rlang\\html\\env_names.html로 복사하는데 문제가 발생했습니다: Permission denied\"Warning message in file.copy(savedcopy, lib, recursive = TRUE):\n",
      "\"C:\\ProgramData\\Anaconda3\\Lib\\R\\library\\00LOCK\\rlang\\html\\env_parent.html를 C:\\ProgramData\\Anaconda3\\Lib\\R\\library\\rlang\\html\\env_parent.html로 복사하는데 문제가 발생했습니다: Permission denied\"Warning message in file.copy(savedcopy, lib, recursive = TRUE):\n",
      "\"C:\\ProgramData\\Anaconda3\\Lib\\R\\library\\00LOCK\\rlang\\html\\env_poke.html를 C:\\ProgramData\\Anaconda3\\Lib\\R\\library\\rlang\\html\\env_poke.html로 복사하는데 문제가 발생했습니다: Permission denied\"Warning message in file.copy(savedcopy, lib, recursive = TRUE):\n",
      "\"C:\\ProgramData\\Anaconda3\\Lib\\R\\library\\00LOCK\\rlang\\html\\env_print.html를 C:\\ProgramData\\Anaconda3\\Lib\\R\\library\\rlang\\html\\env_print.html로 복사하는데 문제가 발생했습니다: Permission denied\"Warning message in file.copy(savedcopy, lib, recursive = TRUE):\n",
      "\"C:\\ProgramData\\Anaconda3\\Lib\\R\\library\\00LOCK\\rlang\\html\\env_unbind.html를 C:\\ProgramData\\Anaconda3\\Lib\\R\\library\\rlang\\html\\env_unbind.html로 복사하는데 문제가 발생했습니다: Permission denied\"Warning message in file.copy(savedcopy, lib, recursive = TRUE):\n",
      "\"C:\\ProgramData\\Anaconda3\\Lib\\R\\library\\00LOCK\\rlang\\html\\env_unlock.html를 C:\\ProgramData\\Anaconda3\\Lib\\R\\library\\rlang\\html\\env_unlock.html로 복사하는데 문제가 발생했습니다: Permission denied\"Warning message in file.copy(savedcopy, lib, recursive = TRUE):\n",
      "\"C:\\ProgramData\\Anaconda3\\Lib\\R\\library\\00LOCK\\rlang\\html\\eval_bare.html를 C:\\ProgramData\\Anaconda3\\Lib\\R\\library\\rlang\\html\\eval_bare.html로 복사하는데 문제가 발생했습니다: Permission denied\"Warning message in file.copy(savedcopy, lib, recursive = TRUE):\n",
      "\"C:\\ProgramData\\Anaconda3\\Lib\\R\\library\\00LOCK\\rlang\\html\\eval_tidy.html를 C:\\ProgramData\\Anaconda3\\Lib\\R\\library\\rlang\\html\\eval_tidy.html로 복사하는데 문제가 발생했습니다: Permission denied\"Warning message in file.copy(savedcopy, lib, recursive = TRUE):\n",
      "\"C:\\ProgramData\\Anaconda3\\Lib\\R\\library\\00LOCK\\rlang\\html\\eval_tidy_.html를 C:\\ProgramData\\Anaconda3\\Lib\\R\\library\\rlang\\html\\eval_tidy_.html로 복사하는데 문제가 발생했습니다: Permission denied\"Warning message in file.copy(savedcopy, lib, recursive = TRUE):\n",
      "\"C:\\ProgramData\\Anaconda3\\Lib\\R\\library\\00LOCK\\rlang\\html\\exec.html를 C:\\ProgramData\\Anaconda3\\Lib\\R\\library\\rlang\\html\\exec.html로 복사하는데 문제가 발생했습니다: Permission denied\"Warning message in file.copy(savedcopy, lib, recursive = TRUE):\n",
      "\"C:\\ProgramData\\Anaconda3\\Lib\\R\\library\\00LOCK\\rlang\\html\\exiting.html를 C:\\ProgramData\\Anaconda3\\Lib\\R\\library\\rlang\\html\\exiting.html로 복사하는데 문제가 발생했습니다: Permission denied\"Warning message in file.copy(savedcopy, lib, recursive = TRUE):\n",
      "\"C:\\ProgramData\\Anaconda3\\Lib\\R\\library\\00LOCK\\rlang\\html\\exprs_auto_name.html를 C:\\ProgramData\\Anaconda3\\Lib\\R\\library\\rlang\\html\\exprs_auto_name.html로 복사하는데 문제가 발생했습니다: Permission denied\"Warning message in file.copy(savedcopy, lib, recursive = TRUE):\n",
      "\"C:\\ProgramData\\Anaconda3\\Lib\\R\\library\\00LOCK\\rlang\\html\\expr_interp.html를 C:\\ProgramData\\Anaconda3\\Lib\\R\\library\\rlang\\html\\expr_interp.html로 복사하는데 문제가 발생했습니다: Permission denied\"Warning message in file.copy(savedcopy, lib, recursive = TRUE):\n",
      "\"C:\\ProgramData\\Anaconda3\\Lib\\R\\library\\00LOCK\\rlang\\html\\expr_label.html를 C:\\ProgramData\\Anaconda3\\Lib\\R\\library\\rlang\\html\\expr_label.html로 복사하는데 문제가 발생했습니다: Permission denied\"Warning message in file.copy(savedcopy, lib, recursive = TRUE):\n",
      "\"C:\\ProgramData\\Anaconda3\\Lib\\R\\library\\00LOCK\\rlang\\html\\expr_print.html를 C:\\ProgramData\\Anaconda3\\Lib\\R\\library\\rlang\\html\\expr_print.html로 복사하는데 문제가 발생했습니다: Permission denied\"Warning message in file.copy(savedcopy, lib, recursive = TRUE):\n",
      "\"C:\\ProgramData\\Anaconda3\\Lib\\R\\library\\00LOCK\\rlang\\html\\flatten.html를 C:\\ProgramData\\Anaconda3\\Lib\\R\\library\\rlang\\html\\flatten.html로 복사하는데 문제가 발생했습니다: Permission denied\"Warning message in file.copy(savedcopy, lib, recursive = TRUE):\n",
      "\"C:\\ProgramData\\Anaconda3\\Lib\\R\\library\\00LOCK\\rlang\\html\\fn_body.html를 C:\\ProgramData\\Anaconda3\\Lib\\R\\library\\rlang\\html\\fn_body.html로 복사하는데 문제가 발생했습니다: Permission denied\"Warning message in file.copy(savedcopy, lib, recursive = TRUE):\n",
      "\"C:\\ProgramData\\Anaconda3\\Lib\\R\\library\\00LOCK\\rlang\\html\\fn_env.html를 C:\\ProgramData\\Anaconda3\\Lib\\R\\library\\rlang\\html\\fn_env.html로 복사하는데 문제가 발생했습니다: Permission denied\"Warning message in file.copy(savedcopy, lib, recursive = TRUE):\n",
      "\"C:\\ProgramData\\Anaconda3\\Lib\\R\\library\\00LOCK\\rlang\\html\\fn_fmls.html를 C:\\ProgramData\\Anaconda3\\Lib\\R\\library\\rlang\\html\\fn_fmls.html로 복사하는데 문제가 발생했습니다: Permission denied\"Warning message in file.copy(savedcopy, lib, recursive = TRUE):\n",
      "\"C:\\ProgramData\\Anaconda3\\Lib\\R\\library\\00LOCK\\rlang\\html\\frame_position.html를 C:\\ProgramData\\Anaconda3\\Lib\\R\\library\\rlang\\html\\frame_position.html로 복사하는데 문제가 발생했습니다: Permission denied\"Warning message in file.copy(savedcopy, lib, recursive = TRUE):\n",
      "\"C:\\ProgramData\\Anaconda3\\Lib\\R\\library\\00LOCK\\rlang\\html\\friendly_type.html를 C:\\ProgramData\\Anaconda3\\Lib\\R\\library\\rlang\\html\\friendly_type.html로 복사하는데 문제가 발생했습니다: Permission denied\"Warning message in file.copy(savedcopy, lib, recursive = TRUE):\n",
      "\"C:\\ProgramData\\Anaconda3\\Lib\\R\\library\\00LOCK\\rlang\\html\\f_rhs.html를 C:\\ProgramData\\Anaconda3\\Lib\\R\\library\\rlang\\html\\f_rhs.html로 복사하는데 문제가 발생했습니다: Permission denied\"Warning message in file.copy(savedcopy, lib, recursive = TRUE):\n",
      "\"C:\\ProgramData\\Anaconda3\\Lib\\R\\library\\00LOCK\\rlang\\html\\f_text.html를 C:\\ProgramData\\Anaconda3\\Lib\\R\\library\\rlang\\html\\f_text.html로 복사하는데 문제가 발생했습니다: Permission denied\"Warning message in file.copy(savedcopy, lib, recursive = TRUE):\n",
      "\"C:\\ProgramData\\Anaconda3\\Lib\\R\\library\\00LOCK\\rlang\\html\\get_env.html를 C:\\ProgramData\\Anaconda3\\Lib\\R\\library\\rlang\\html\\get_env.html로 복사하는데 문제가 발생했습니다: Permission denied\"Warning message in file.copy(savedcopy, lib, recursive = TRUE):\n",
      "\"C:\\ProgramData\\Anaconda3\\Lib\\R\\library\\00LOCK\\rlang\\html\\has_length.html를 C:\\ProgramData\\Anaconda3\\Lib\\R\\library\\rlang\\html\\has_length.html로 복사하는데 문제가 발생했습니다: Permission denied\"Warning message in file.copy(savedcopy, lib, recursive = TRUE):\n",
      "\"C:\\ProgramData\\Anaconda3\\Lib\\R\\library\\00LOCK\\rlang\\html\\has_name.html를 C:\\ProgramData\\Anaconda3\\Lib\\R\\library\\rlang\\html\\has_name.html로 복사하는데 문제가 발생했습니다: Permission denied\"Warning message in file.copy(savedcopy, lib, recursive = TRUE):\n",
      "\"C:\\ProgramData\\Anaconda3\\Lib\\R\\library\\00LOCK\\rlang\\html\\inherits_any.html를 C:\\ProgramData\\Anaconda3\\Lib\\R\\library\\rlang\\html\\inherits_any.html로 복사하는데 문제가 발생했습니다: Permission denied\"Warning message in file.copy(savedcopy, lib, recursive = TRUE):\n",
      "\"C:\\ProgramData\\Anaconda3\\Lib\\R\\library\\00LOCK\\rlang\\html\\invoke.html를 C:\\ProgramData\\Anaconda3\\Lib\\R\\library\\rlang\\html\\invoke.html로 복사하는데 문제가 발생했습니다: Permission denied\"Warning message in file.copy(savedcopy, lib, recursive = TRUE):\n",
      "\"C:\\ProgramData\\Anaconda3\\Lib\\R\\library\\00LOCK\\rlang\\html\\is_call.html를 C:\\ProgramData\\Anaconda3\\Lib\\R\\library\\rlang\\html\\is_call.html로 복사하는데 문제가 발생했습니다: Permission denied\"Warning message in file.copy(savedcopy, lib, recursive = TRUE):\n",
      "\"C:\\ProgramData\\Anaconda3\\Lib\\R\\library\\00LOCK\\rlang\\html\\is_callable.html를 C:\\ProgramData\\Anaconda3\\Lib\\R\\library\\rlang\\html\\is_callable.html로 복사하는데 문제가 발생했습니다: Permission denied\"Warning message in file.copy(savedcopy, lib, recursive = TRUE):\n",
      "\"C:\\ProgramData\\Anaconda3\\Lib\\R\\library\\00LOCK\\rlang\\html\\is_condition.html를 C:\\ProgramData\\Anaconda3\\Lib\\R\\library\\rlang\\html\\is_condition.html로 복사하는데 문제가 발생했습니다: Permission denied\"Warning message in file.copy(savedcopy, lib, recursive = TRUE):\n",
      "\"C:\\ProgramData\\Anaconda3\\Lib\\R\\library\\00LOCK\\rlang\\html\\is_copyable.html를 C:\\ProgramData\\Anaconda3\\Lib\\R\\library\\rlang\\html\\is_copyable.html로 복사하는데 문제가 발생했습니다: Permission denied\"Warning message in file.copy(savedcopy, lib, recursive = TRUE):\n",
      "\"C:\\ProgramData\\Anaconda3\\Lib\\R\\library\\00LOCK\\rlang\\html\\is_empty.html를 C:\\ProgramData\\Anaconda3\\Lib\\R\\library\\rlang\\html\\is_empty.html로 복사하는데 문제가 발생했습니다: Permission denied\"Warning message in file.copy(savedcopy, lib, recursive = TRUE):\n",
      "\"C:\\ProgramData\\Anaconda3\\Lib\\R\\library\\00LOCK\\rlang\\html\\is_env.html를 C:\\ProgramData\\Anaconda3\\Lib\\R\\library\\rlang\\html\\is_env.html로 복사하는데 문제가 발생했습니다: Permission denied\"Warning message in file.copy(savedcopy, lib, recursive = TRUE):\n",
      "\"C:\\ProgramData\\Anaconda3\\Lib\\R\\library\\00LOCK\\rlang\\html\\is_environment.html를 C:\\ProgramData\\Anaconda3\\Lib\\R\\library\\rlang\\html\\is_environment.html로 복사하는데 문제가 발생했습니다: Permission denied\"Warning message in file.copy(savedcopy, lib, recursive = TRUE):\n",
      "\"C:\\ProgramData\\Anaconda3\\Lib\\R\\library\\00LOCK\\rlang\\html\\is_expr.html를 C:\\ProgramData\\Anaconda3\\Lib\\R\\library\\rlang\\html\\is_expr.html로 복사하는데 문제가 발생했습니다: Permission denied\"Warning message in file.copy(savedcopy, lib, recursive = TRUE):\n",
      "\"C:\\ProgramData\\Anaconda3\\Lib\\R\\library\\00LOCK\\rlang\\html\\is_expression.html를 C:\\ProgramData\\Anaconda3\\Lib\\R\\library\\rlang\\html\\is_expression.html로 복사하는데 문제가 발생했습니다: Permission denied\"Warning message in file.copy(savedcopy, lib, recursive = TRUE):\n",
      "\"C:\\ProgramData\\Anaconda3\\Lib\\R\\library\\00LOCK\\rlang\\html\\is_formula.html를 C:\\ProgramData\\Anaconda3\\Lib\\R\\library\\rlang\\html\\is_formula.html로 복사하는데 문제가 발생했습니다: Permission denied\"Warning message in file.copy(savedcopy, lib, recursive = TRUE):\n",
      "\"C:\\ProgramData\\Anaconda3\\Lib\\R\\library\\00LOCK\\rlang\\html\\is_frame.html를 C:\\ProgramData\\Anaconda3\\Lib\\R\\library\\rlang\\html\\is_frame.html로 복사하는데 문제가 발생했습니다: Permission denied\"Warning message in file.copy(savedcopy, lib, recursive = TRUE):\n",
      "\"C:\\ProgramData\\Anaconda3\\Lib\\R\\library\\00LOCK\\rlang\\html\\is_function.html를 C:\\ProgramData\\Anaconda3\\Lib\\R\\library\\rlang\\html\\is_function.html로 복사하는데 문제가 발생했습니다: Permission denied\"Warning message in file.copy(savedcopy, lib, recursive = TRUE):\n",
      "\"C:\\ProgramData\\Anaconda3\\Lib\\R\\library\\00LOCK\\rlang\\html\\is_installed.html를 C:\\ProgramData\\Anaconda3\\Lib\\R\\library\\rlang\\html\\is_installed.html로 복사하는데 문제가 발생했습니다: Permission denied\"Warning message in file.copy(savedcopy, lib, recursive = TRUE):\n",
      "\"C:\\ProgramData\\Anaconda3\\Lib\\R\\library\\00LOCK\\rlang\\html\\is_integerish.html를 C:\\ProgramData\\Anaconda3\\Lib\\R\\library\\rlang\\html\\is_integerish.html로 복사하는데 문제가 발생했습니다: Permission denied\"Warning message in file.copy(savedcopy, lib, recursive = TRUE):\n",
      "\"C:\\ProgramData\\Anaconda3\\Lib\\R\\library\\00LOCK\\rlang\\html\\is_interactive.html를 C:\\ProgramData\\Anaconda3\\Lib\\R\\library\\rlang\\html\\is_interactive.html로 복사하는데 문제가 발생했습니다: Permission denied\"Warning message in file.copy(savedcopy, lib, recursive = TRUE):\n",
      "\"C:\\ProgramData\\Anaconda3\\Lib\\R\\library\\00LOCK\\rlang\\html\\is_lang.html를 C:\\ProgramData\\Anaconda3\\Lib\\R\\library\\rlang\\html\\is_lang.html로 복사하는데 문제가 발생했습니다: Permission denied\"Warning message in file.copy(savedcopy, lib, recursive = TRUE):\n",
      "\"C:\\ProgramData\\Anaconda3\\Lib\\R\\library\\00LOCK\\rlang\\html\\is_named.html를 C:\\ProgramData\\Anaconda3\\Lib\\R\\library\\rlang\\html\\is_named.html로 복사하는데 문제가 발생했습니다: Permission denied\"Warning message in file.copy(savedcopy, lib, recursive = TRUE):\n",
      "\"C:\\ProgramData\\Anaconda3\\Lib\\R\\library\\00LOCK\\rlang\\html\\is_namespace.html를 C:\\ProgramData\\Anaconda3\\Lib\\R\\library\\rlang\\html\\is_namespace.html로 복사하는데 문제가 발생했습니다: Permission denied\"Warning message in file.copy(savedcopy, lib, recursive = TRUE):\n",
      "\"C:\\ProgramData\\Anaconda3\\Lib\\R\\library\\00LOCK\\rlang\\html\\is_pairlist.html를 C:\\ProgramData\\Anaconda3\\Lib\\R\\library\\rlang\\html\\is_pairlist.html로 복사하는데 문제가 발생했습니다: Permission denied\"Warning message in file.copy(savedcopy, lib, recursive = TRUE):\n",
      "\"C:\\ProgramData\\Anaconda3\\Lib\\R\\library\\00LOCK\\rlang\\html\\is_quosureish.html를 C:\\ProgramData\\Anaconda3\\Lib\\R\\library\\rlang\\html\\is_quosureish.html로 복사하는데 문제가 발생했습니다: Permission denied\"Warning message in file.copy(savedcopy, lib, recursive = TRUE):\n",
      "\"C:\\ProgramData\\Anaconda3\\Lib\\R\\library\\00LOCK\\rlang\\html\\is_reference.html를 C:\\ProgramData\\Anaconda3\\Lib\\R\\library\\rlang\\html\\is_reference.html로 복사하는데 문제가 발생했습니다: Permission denied\"Warning message in file.copy(savedcopy, lib, recursive = TRUE):\n",
      "\"C:\\ProgramData\\Anaconda3\\Lib\\R\\library\\00LOCK\\rlang\\html\\is_stack.html를 C:\\ProgramData\\Anaconda3\\Lib\\R\\library\\rlang\\html\\is_stack.html로 복사하는데 문제가 발생했습니다: Permission denied\"Warning message in file.copy(savedcopy, lib, recursive = TRUE):\n",
      "\"C:\\ProgramData\\Anaconda3\\Lib\\R\\library\\00LOCK\\rlang\\html\\is_symbol.html를 C:\\ProgramData\\Anaconda3\\Lib\\R\\library\\rlang\\html\\is_symbol.html로 복사하는데 문제가 발생했습니다: Permission denied\"Warning message in file.copy(savedcopy, lib, recursive = TRUE):\n",
      "\"C:\\ProgramData\\Anaconda3\\Lib\\R\\library\\00LOCK\\rlang\\html\\is_true.html를 C:\\ProgramData\\Anaconda3\\Lib\\R\\library\\rlang\\html\\is_true.html로 복사하는데 문제가 발생했습니다: Permission denied\"Warning message in file.copy(savedcopy, lib, recursive = TRUE):\n",
      "\"C:\\ProgramData\\Anaconda3\\Lib\\R\\library\\00LOCK\\rlang\\html\\lang.html를 C:\\ProgramData\\Anaconda3\\Lib\\R\\library\\rlang\\html\\lang.html로 복사하는데 문제가 발생했습니다: Permission denied\"Warning message in file.copy(savedcopy, lib, recursive = TRUE):\n",
      "\"C:\\ProgramData\\Anaconda3\\Lib\\R\\library\\00LOCK\\rlang\\html\\lang_head.html를 C:\\ProgramData\\Anaconda3\\Lib\\R\\library\\rlang\\html\\lang_head.html로 복사하는데 문제가 발생했습니다: Permission denied\"Warning message in file.copy(savedcopy, lib, recursive = TRUE):\n",
      "\"C:\\ProgramData\\Anaconda3\\Lib\\R\\library\\00LOCK\\rlang\\html\\lang_modify.html를 C:\\ProgramData\\Anaconda3\\Lib\\R\\library\\rlang\\html\\lang_modify.html로 복사하는데 문제가 발생했습니다: Permission denied\"Warning message in file.copy(savedcopy, lib, recursive = TRUE):\n",
      "\"C:\\ProgramData\\Anaconda3\\Lib\\R\\library\\00LOCK\\rlang\\html\\last_error.html를 C:\\ProgramData\\Anaconda3\\Lib\\R\\library\\rlang\\html\\last_error.html로 복사하는데 문제가 발생했습니다: Permission denied\"Warning message in file.copy(savedcopy, lib, recursive = TRUE):\n",
      "\"C:\\ProgramData\\Anaconda3\\Lib\\R\\library\\00LOCK\\rlang\\html\\lifecycle.html를 C:\\ProgramData\\Anaconda3\\Lib\\R\\library\\rlang\\html\\lifecycle.html로 복사하는데 문제가 발생했습니다: Permission denied\"Warning message in file.copy(savedcopy, lib, recursive = TRUE):\n",
      "\"C:\\ProgramData\\Anaconda3\\Lib\\R\\library\\00LOCK\\rlang\\html\\missing.html를 C:\\ProgramData\\Anaconda3\\Lib\\R\\library\\rlang\\html\\missing.html로 복사하는데 문제가 발생했습니다: Permission denied\"Warning message in file.copy(savedcopy, lib, recursive = TRUE):\n",
      "\"C:\\ProgramData\\Anaconda3\\Lib\\R\\library\\00LOCK\\rlang\\html\\missing_arg.html를 C:\\ProgramData\\Anaconda3\\Lib\\R\\library\\rlang\\html\\missing_arg.html로 복사하는데 문제가 발생했습니다: Permission denied\"Warning message in file.copy(savedcopy, lib, recursive = TRUE):\n",
      "\"C:\\ProgramData\\Anaconda3\\Lib\\R\\library\\00LOCK\\rlang\\html\\modify.html를 C:\\ProgramData\\Anaconda3\\Lib\\R\\library\\rlang\\html\\modify.html로 복사하는데 문제가 발생했습니다: Permission denied\"Warning message in file.copy(savedcopy, lib, recursive = TRUE):\n",
      "\"C:\\ProgramData\\Anaconda3\\Lib\\R\\library\\00LOCK\\rlang\\html\\mut_node_car.html를 C:\\ProgramData\\Anaconda3\\Lib\\R\\library\\rlang\\html\\mut_node_car.html로 복사하는데 문제가 발생했습니다: Permission denied\"Warning message in file.copy(savedcopy, lib, recursive = TRUE):\n",
      "\"C:\\ProgramData\\Anaconda3\\Lib\\R\\library\\00LOCK\\rlang\\html\\mut_utf8_locale.html를 C:\\ProgramData\\Anaconda3\\Lib\\R\\library\\rlang\\html\\mut_utf8_locale.html로 복사하는데 문제가 발생했습니다: Permission denied\"Warning message in file.copy(savedcopy, lib, recursive = TRUE):\n",
      "\"C:\\ProgramData\\Anaconda3\\Lib\\R\\library\\00LOCK\\rlang\\html\\names2.html를 C:\\ProgramData\\Anaconda3\\Lib\\R\\library\\rlang\\html\\names2.html로 복사하는데 문제가 발생했습니다: Permission denied\"Warning message in file.copy(savedcopy, lib, recursive = TRUE):\n",
      "\"C:\\ProgramData\\Anaconda3\\Lib\\R\\library\\00LOCK\\rlang\\html\\new-vector-along-retired.html를 C:\\ProgramData\\Anaconda3\\Lib\\R\\library\\rlang\\html\\new-vector-along-retired.html로 복사하는데 문제가 발생했습니다: Permission denied\"Warning message in file.copy(savedcopy, lib, recursive = TRUE):\n",
      "\"C:\\ProgramData\\Anaconda3\\Lib\\R\\library\\00LOCK\\rlang\\html\\new-vector.html를 C:\\ProgramData\\Anaconda3\\Lib\\R\\library\\rlang\\html\\new-vector.html로 복사하는데 문제가 발생했습니다: Permission denied\"Warning message in file.copy(savedcopy, lib, recursive = TRUE):\n",
      "\"C:\\ProgramData\\Anaconda3\\Lib\\R\\library\\00LOCK\\rlang\\html\\new_call.html를 C:\\ProgramData\\Anaconda3\\Lib\\R\\library\\rlang\\html\\new_call.html로 복사하는데 문제가 발생했습니다: Permission denied\"Warning message in file.copy(savedcopy, lib, recursive = TRUE):\n",
      "\"C:\\ProgramData\\Anaconda3\\Lib\\R\\library\\00LOCK\\rlang\\html\\new_formula.html를 C:\\ProgramData\\Anaconda3\\Lib\\R\\library\\rlang\\html\\new_formula.html로 복사하는데 문제가 발생했습니다: Permission denied\"Warning message in file.copy(savedcopy, lib, recursive = TRUE):\n",
      "\"C:\\ProgramData\\Anaconda3\\Lib\\R\\library\\00LOCK\\rlang\\html\\new_function.html를 C:\\ProgramData\\Anaconda3\\Lib\\R\\library\\rlang\\html\\new_function.html로 복사하는데 문제가 발생했습니다: Permission denied\"Warning message in file.copy(savedcopy, lib, recursive = TRUE):\n",
      "\"C:\\ProgramData\\Anaconda3\\Lib\\R\\library\\00LOCK\\rlang\\html\\new_node.html를 C:\\ProgramData\\Anaconda3\\Lib\\R\\library\\rlang\\html\\new_node.html로 복사하는데 문제가 발생했습니다: Permission denied\"Warning message in file.copy(savedcopy, lib, recursive = TRUE):\n",
      "\"C:\\ProgramData\\Anaconda3\\Lib\\R\\library\\00LOCK\\rlang\\html\\new_quosures.html를 C:\\ProgramData\\Anaconda3\\Lib\\R\\library\\rlang\\html\\new_quosures.html로 복사하는데 문제가 발생했습니다: Permission denied\"Warning message in file.copy(savedcopy, lib, recursive = TRUE):\n",
      "\"C:\\ProgramData\\Anaconda3\\Lib\\R\\library\\00LOCK\\rlang\\html\\ns_env.html를 C:\\ProgramData\\Anaconda3\\Lib\\R\\library\\rlang\\html\\ns_env.html로 복사하는데 문제가 발생했습니다: Permission denied\"Warning message in file.copy(savedcopy, lib, recursive = TRUE):\n",
      "\"C:\\ProgramData\\Anaconda3\\Lib\\R\\library\\00LOCK\\rlang\\html\\op-definition.html를 C:\\ProgramData\\Anaconda3\\Lib\\R\\library\\rlang\\html\\op-definition.html로 복사하는데 문제가 발생했습니다: Permission denied\"Warning message in file.copy(savedcopy, lib, recursive = TRUE):\n",
      "\"C:\\ProgramData\\Anaconda3\\Lib\\R\\library\\00LOCK\\rlang\\html\\op-get-attr.html를 C:\\ProgramData\\Anaconda3\\Lib\\R\\library\\rlang\\html\\op-get-attr.html로 복사하는데 문제가 발생했습니다: Permission denied\"Warning message in file.copy(savedcopy, lib, recursive = TRUE):\n",
      "\"C:\\ProgramData\\Anaconda3\\Lib\\R\\library\\00LOCK\\rlang\\html\\op-na-default.html를 C:\\ProgramData\\Anaconda3\\Lib\\R\\library\\rlang\\html\\op-na-default.html로 복사하는데 문제가 발생했습니다: Permission denied\"Warning message in file.copy(savedcopy, lib, recursive = TRUE):\n",
      "\"C:\\ProgramData\\Anaconda3\\Lib\\R\\library\\00LOCK\\rlang\\html\\op-null-default.html를 C:\\ProgramData\\Anaconda3\\Lib\\R\\library\\rlang\\html\\op-null-default.html로 복사하는데 문제가 발생했습니다: Permission denied\"Warning message in file.copy(savedcopy, lib, recursive = TRUE):\n",
      "\"C:\\ProgramData\\Anaconda3\\Lib\\R\\library\\00LOCK\\rlang\\html\\overscope_eval_next.html를 C:\\ProgramData\\Anaconda3\\Lib\\R\\library\\rlang\\html\\overscope_eval_next.html로 복사하는데 문제가 발생했습니다: Permission denied\"Warning message in file.copy(savedcopy, lib, recursive = TRUE):\n",
      "\"C:\\ProgramData\\Anaconda3\\Lib\\R\\library\\00LOCK\\rlang\\html\\parse_expr.html를 C:\\ProgramData\\Anaconda3\\Lib\\R\\library\\rlang\\html\\parse_expr.html로 복사하는데 문제가 발생했습니다: Permission denied\"Warning message in file.copy(savedcopy, lib, recursive = TRUE):\n",
      "\"C:\\ProgramData\\Anaconda3\\Lib\\R\\library\\00LOCK\\rlang\\html\\parse_quosure.html를 C:\\ProgramData\\Anaconda3\\Lib\\R\\library\\rlang\\html\\parse_quosure.html로 복사하는데 문제가 발생했습니다: Permission denied\"Warning message in file.copy(savedcopy, lib, recursive = TRUE):\n",
      "\"C:\\ProgramData\\Anaconda3\\Lib\\R\\library\\00LOCK\\rlang\\html\\prepend.html를 C:\\ProgramData\\Anaconda3\\Lib\\R\\library\\rlang\\html\\prepend.html로 복사하는데 문제가 발생했습니다: Permission denied\"Warning message in file.copy(savedcopy, lib, recursive = TRUE):\n",
      "\"C:\\ProgramData\\Anaconda3\\Lib\\R\\library\\00LOCK\\rlang\\html\\prim_name.html를 C:\\ProgramData\\Anaconda3\\Lib\\R\\library\\rlang\\html\\prim_name.html로 복사하는데 문제가 발생했습니다: Permission denied\"Warning message in file.copy(savedcopy, lib, recursive = TRUE):\n",
      "\"C:\\ProgramData\\Anaconda3\\Lib\\R\\library\\00LOCK\\rlang\\html\\quasiquotation.html를 C:\\ProgramData\\Anaconda3\\Lib\\R\\library\\rlang\\html\\quasiquotation.html로 복사하는데 문제가 발생했습니다: Permission denied\"Warning message in file.copy(savedcopy, lib, recursive = TRUE):\n",
      "\"C:\\ProgramData\\Anaconda3\\Lib\\R\\library\\00LOCK\\rlang\\html\\quosure.html를 C:\\ProgramData\\Anaconda3\\Lib\\R\\library\\rlang\\html\\quosure.html로 복사하는데 문제가 발생했습니다: Permission denied\"Warning message in file.copy(savedcopy, lib, recursive = TRUE):\n",
      "\"C:\\ProgramData\\Anaconda3\\Lib\\R\\library\\00LOCK\\rlang\\html\\quotation.html를 C:\\ProgramData\\Anaconda3\\Lib\\R\\library\\rlang\\html\\quotation.html로 복사하는데 문제가 발생했습니다: Permission denied\"Warning message in file.copy(savedcopy, lib, recursive = TRUE):\n",
      "\"C:\\ProgramData\\Anaconda3\\Lib\\R\\library\\00LOCK\\rlang\\html\\quo_expr.html를 C:\\ProgramData\\Anaconda3\\Lib\\R\\library\\rlang\\html\\quo_expr.html로 복사하는데 문제가 발생했습니다: Permission denied\"Warning message in file.copy(savedcopy, lib, recursive = TRUE):\n",
      "\"C:\\ProgramData\\Anaconda3\\Lib\\R\\library\\00LOCK\\rlang\\html\\quo_label.html를 C:\\ProgramData\\Anaconda3\\Lib\\R\\library\\rlang\\html\\quo_label.html로 복사하는데 문제가 발생했습니다: Permission denied\"Warning message in file.copy(savedcopy, lib, recursive = TRUE):\n",
      "\"C:\\ProgramData\\Anaconda3\\Lib\\R\\library\\00LOCK\\rlang\\html\\quo_squash.html를 C:\\ProgramData\\Anaconda3\\Lib\\R\\library\\rlang\\html\\quo_squash.html로 복사하는데 문제가 발생했습니다: Permission denied\"Warning message in file.copy(savedcopy, lib, recursive = TRUE):\n",
      "\"C:\\ProgramData\\Anaconda3\\Lib\\R\\library\\00LOCK\\rlang\\html\\R.css를 C:\\ProgramData\\Anaconda3\\Lib\\R\\library\\rlang\\html\\R.css로 복사하는데 문제가 발생했습니다: Permission denied\"Warning message in file.copy(savedcopy, lib, recursive = TRUE):\n",
      "\"C:\\ProgramData\\Anaconda3\\Lib\\R\\library\\00LOCK\\rlang\\html\\rep_along.html를 C:\\ProgramData\\Anaconda3\\Lib\\R\\library\\rlang\\html\\rep_along.html로 복사하는데 문제가 발생했습니다: Permission denied\"Warning message in file.copy(savedcopy, lib, recursive = TRUE):\n",
      "\"C:\\ProgramData\\Anaconda3\\Lib\\R\\library\\00LOCK\\rlang\\html\\restarting.html를 C:\\ProgramData\\Anaconda3\\Lib\\R\\library\\rlang\\html\\restarting.html로 복사하는데 문제가 발생했습니다: Permission denied\"Warning message in file.copy(savedcopy, lib, recursive = TRUE):\n",
      "\"C:\\ProgramData\\Anaconda3\\Lib\\R\\library\\00LOCK\\rlang\\html\\return_from.html를 C:\\ProgramData\\Anaconda3\\Lib\\R\\library\\rlang\\html\\return_from.html로 복사하는데 문제가 발생했습니다: Permission denied\"Warning message in file.copy(savedcopy, lib, recursive = TRUE):\n",
      "\"C:\\ProgramData\\Anaconda3\\Lib\\R\\library\\00LOCK\\rlang\\html\\rlang_backtrace_on_error.html를 C:\\ProgramData\\Anaconda3\\Lib\\R\\library\\rlang\\html\\rlang_backtrace_on_error.html로 복사하는데 문제가 발생했습니다: Permission denied\"Warning message in file.copy(savedcopy, lib, recursive = TRUE):\n",
      "\"C:\\ProgramData\\Anaconda3\\Lib\\R\\library\\00LOCK\\rlang\\html\\rst_abort.html를 C:\\ProgramData\\Anaconda3\\Lib\\R\\library\\rlang\\html\\rst_abort.html로 복사하는데 문제가 발생했습니다: Permission denied\"Warning message in file.copy(savedcopy, lib, recursive = TRUE):\n",
      "\"C:\\ProgramData\\Anaconda3\\Lib\\R\\library\\00LOCK\\rlang\\html\\rst_list.html를 C:\\ProgramData\\Anaconda3\\Lib\\R\\library\\rlang\\html\\rst_list.html로 복사하는데 문제가 발생했습니다: Permission denied\"Warning message in file.copy(savedcopy, lib, recursive = TRUE):\n",
      "\"C:\\ProgramData\\Anaconda3\\Lib\\R\\library\\00LOCK\\rlang\\html\\scalar-type-predicates.html를 C:\\ProgramData\\Anaconda3\\Lib\\R\\library\\rlang\\html\\scalar-type-predicates.html로 복사하는데 문제가 발생했습니다: Permission denied\"Warning message in file.copy(savedcopy, lib, recursive = TRUE):\n",
      "\"C:\\ProgramData\\Anaconda3\\Lib\\R\\library\\00LOCK\\rlang\\html\\scoped_bindings.html를 C:\\ProgramData\\Anaconda3\\Lib\\R\\library\\rlang\\html\\scoped_bindings.html로 복사하는데 문제가 발생했습니다: Permission denied\"Warning message in file.copy(savedcopy, lib, recursive = TRUE):\n",
      "\"C:\\ProgramData\\Anaconda3\\Lib\\R\\library\\00LOCK\\rlang\\html\\scoped_env.html를 C:\\ProgramData\\Anaconda3\\Lib\\R\\library\\rlang\\html\\scoped_env.html로 복사하는데 문제가 발생했습니다: Permission denied\"Warning message in file.copy(savedcopy, lib, recursive = TRUE):\n",
      "\"C:\\ProgramData\\Anaconda3\\Lib\\R\\library\\00LOCK\\rlang\\html\\scoped_options.html를 C:\\ProgramData\\Anaconda3\\Lib\\R\\library\\rlang\\html\\scoped_options.html로 복사하는데 문제가 발생했습니다: Permission denied\"Warning message in file.copy(savedcopy, lib, recursive = TRUE):\n",
      "\"C:\\ProgramData\\Anaconda3\\Lib\\R\\library\\00LOCK\\rlang\\html\\search_envs.html를 C:\\ProgramData\\Anaconda3\\Lib\\R\\library\\rlang\\html\\search_envs.html로 복사하는데 문제가 발생했습니다: Permission denied\"Warning message in file.copy(savedcopy, lib, recursive = TRUE):\n",
      "\"C:\\ProgramData\\Anaconda3\\Lib\\R\\library\\00LOCK\\rlang\\html\\seq2.html를 C:\\ProgramData\\Anaconda3\\Lib\\R\\library\\rlang\\html\\seq2.html로 복사하는데 문제가 발생했습니다: Permission denied\"Warning message in file.copy(savedcopy, lib, recursive = TRUE):\n",
      "\"C:\\ProgramData\\Anaconda3\\Lib\\R\\library\\00LOCK\\rlang\\html\\set_attrs.html를 C:\\ProgramData\\Anaconda3\\Lib\\R\\library\\rlang\\html\\set_attrs.html로 복사하는데 문제가 발생했습니다: Permission denied\"Warning message in file.copy(savedcopy, lib, recursive = TRUE):\n",
      "\"C:\\ProgramData\\Anaconda3\\Lib\\R\\library\\00LOCK\\rlang\\html\\set_chr_encoding.html를 C:\\ProgramData\\Anaconda3\\Lib\\R\\library\\rlang\\html\\set_chr_encoding.html로 복사하는데 문제가 발생했습니다: Permission denied\"Warning message in file.copy(savedcopy, lib, recursive = TRUE):\n",
      "\"C:\\ProgramData\\Anaconda3\\Lib\\R\\library\\00LOCK\\rlang\\html\\set_expr.html를 C:\\ProgramData\\Anaconda3\\Lib\\R\\library\\rlang\\html\\set_expr.html로 복사하는데 문제가 발생했습니다: Permission denied\"Warning message in file.copy(savedcopy, lib, recursive = TRUE):\n",
      "\"C:\\ProgramData\\Anaconda3\\Lib\\R\\library\\00LOCK\\rlang\\html\\set_names.html를 C:\\ProgramData\\Anaconda3\\Lib\\R\\library\\rlang\\html\\set_names.html로 복사하는데 문제가 발생했습니다: Permission denied\"Warning message in file.copy(savedcopy, lib, recursive = TRUE):\n",
      "\"C:\\ProgramData\\Anaconda3\\Lib\\R\\library\\00LOCK\\rlang\\html\\splice.html를 C:\\ProgramData\\Anaconda3\\Lib\\R\\library\\rlang\\html\\splice.html로 복사하는데 문제가 발생했습니다: Permission denied\"Warning message in file.copy(savedcopy, lib, recursive = TRUE):\n",
      "\"C:\\ProgramData\\Anaconda3\\Lib\\R\\library\\00LOCK\\rlang\\html\\stack.html를 C:\\ProgramData\\Anaconda3\\Lib\\R\\library\\rlang\\html\\stack.html로 복사하는데 문제가 발생했습니다: Permission denied\"Warning message in file.copy(savedcopy, lib, recursive = TRUE):\n",
      "\"C:\\ProgramData\\Anaconda3\\Lib\\R\\library\\00LOCK\\rlang\\html\\stack_trim.html를 C:\\ProgramData\\Anaconda3\\Lib\\R\\library\\rlang\\html\\stack_trim.html로 복사하는데 문제가 발생했습니다: Permission denied\"Warning message in file.copy(savedcopy, lib, recursive = TRUE):\n",
      "\"C:\\ProgramData\\Anaconda3\\Lib\\R\\library\\00LOCK\\rlang\\html\\string.html를 C:\\ProgramData\\Anaconda3\\Lib\\R\\library\\rlang\\html\\string.html로 복사하는데 문제가 발생했습니다: Permission denied\"Warning message in file.copy(savedcopy, lib, recursive = TRUE):\n",
      "\"C:\\ProgramData\\Anaconda3\\Lib\\R\\library\\00LOCK\\rlang\\html\\switch_lang.html를 C:\\ProgramData\\Anaconda3\\Lib\\R\\library\\rlang\\html\\switch_lang.html로 복사하는데 문제가 발생했습니다: Permission denied\"Warning message in file.copy(savedcopy, lib, recursive = TRUE):\n",
      "\"C:\\ProgramData\\Anaconda3\\Lib\\R\\library\\00LOCK\\rlang\\html\\switch_type.html를 C:\\ProgramData\\Anaconda3\\Lib\\R\\library\\rlang\\html\\switch_type.html로 복사하는데 문제가 발생했습니다: Permission denied\"Warning message in file.copy(savedcopy, lib, recursive = TRUE):\n",
      "\"C:\\ProgramData\\Anaconda3\\Lib\\R\\library\\00LOCK\\rlang\\html\\sym.html를 C:\\ProgramData\\Anaconda3\\Lib\\R\\library\\rlang\\html\\sym.html로 복사하는데 문제가 발생했습니다: Permission denied\"Warning message in file.copy(savedcopy, lib, recursive = TRUE):\n",
      "\"C:\\ProgramData\\Anaconda3\\Lib\\R\\library\\00LOCK\\rlang\\html\\tidy-dots.html를 C:\\ProgramData\\Anaconda3\\Lib\\R\\library\\rlang\\html\\tidy-dots.html로 복사하는데 문제가 발생했습니다: Permission denied\"Warning message in file.copy(savedcopy, lib, recursive = TRUE):\n",
      "\"C:\\ProgramData\\Anaconda3\\Lib\\R\\library\\00LOCK\\rlang\\html\\tidyeval-data.html를 C:\\ProgramData\\Anaconda3\\Lib\\R\\library\\rlang\\html\\tidyeval-data.html로 복사하는데 문제가 발생했습니다: Permission denied\"Warning message in file.copy(savedcopy, lib, recursive = TRUE):\n",
      "\"C:\\ProgramData\\Anaconda3\\Lib\\R\\library\\00LOCK\\rlang\\html\\trace_back.html를 C:\\ProgramData\\Anaconda3\\Lib\\R\\library\\rlang\\html\\trace_back.html로 복사하는데 문제가 발생했습니다: Permission denied\"Warning message in file.copy(savedcopy, lib, recursive = TRUE):\n",
      "\"C:\\ProgramData\\Anaconda3\\Lib\\R\\library\\00LOCK\\rlang\\html\\type-predicates.html를 C:\\ProgramData\\Anaconda3\\Lib\\R\\library\\rlang\\html\\type-predicates.html로 복사하는데 문제가 발생했습니다: Permission denied\"Warning message in file.copy(savedcopy, lib, recursive = TRUE):\n",
      "\"C:\\ProgramData\\Anaconda3\\Lib\\R\\library\\00LOCK\\rlang\\html\\type_of.html를 C:\\ProgramData\\Anaconda3\\Lib\\R\\library\\rlang\\html\\type_of.html로 복사하는데 문제가 발생했습니다: Permission denied\"Warning message in file.copy(savedcopy, lib, recursive = TRUE):\n",
      "\"C:\\ProgramData\\Anaconda3\\Lib\\R\\library\\00LOCK\\rlang\\html\\UQE.html를 C:\\ProgramData\\Anaconda3\\Lib\\R\\library\\rlang\\html\\UQE.html로 복사하는데 문제가 발생했습니다: Permission denied\"Warning message in file.copy(savedcopy, lib, recursive = TRUE):\n",
      "\"C:\\ProgramData\\Anaconda3\\Lib\\R\\library\\00LOCK\\rlang\\html\\vector-coercion.html를 C:\\ProgramData\\Anaconda3\\Lib\\R\\library\\rlang\\html\\vector-coercion.html로 복사하는데 문제가 발생했습니다: Permission denied\"Warning message in file.copy(savedcopy, lib, recursive = TRUE):\n",
      "\"C:\\ProgramData\\Anaconda3\\Lib\\R\\library\\00LOCK\\rlang\\html\\vector-construction.html를 C:\\ProgramData\\Anaconda3\\Lib\\R\\library\\rlang\\html\\vector-construction.html로 복사하는데 문제가 발생했습니다: Permission denied\"Warning message in file.copy(savedcopy, lib, recursive = TRUE):\n",
      "\"C:\\ProgramData\\Anaconda3\\Lib\\R\\library\\00LOCK\\rlang\\html\\vector-old-ctors.html를 C:\\ProgramData\\Anaconda3\\Lib\\R\\library\\rlang\\html\\vector-old-ctors.html로 복사하는데 문제가 발생했습니다: Permission denied\"Warning message in file.copy(savedcopy, lib, recursive = TRUE):\n",
      "\"C:\\ProgramData\\Anaconda3\\Lib\\R\\library\\00LOCK\\rlang\\html\\vec_poke_n.html를 C:\\ProgramData\\Anaconda3\\Lib\\R\\library\\rlang\\html\\vec_poke_n.html로 복사하는데 문제가 발생했습니다: Permission denied\"Warning message in file.copy(savedcopy, lib, recursive = TRUE):\n",
      "\"C:\\ProgramData\\Anaconda3\\Lib\\R\\library\\00LOCK\\rlang\\html\\with_abort.html를 C:\\ProgramData\\Anaconda3\\Lib\\R\\library\\rlang\\html\\with_abort.html로 복사하는데 문제가 발생했습니다: Permission denied\"Warning message in file.copy(savedcopy, lib, recursive = TRUE):\n",
      "\"C:\\ProgramData\\Anaconda3\\Lib\\R\\library\\00LOCK\\rlang\\html\\with_env.html를 C:\\ProgramData\\Anaconda3\\Lib\\R\\library\\rlang\\html\\with_env.html로 복사하는데 문제가 발생했습니다: Permission denied\"Warning message in file.copy(savedcopy, lib, recursive = TRUE):\n",
      "\"C:\\ProgramData\\Anaconda3\\Lib\\R\\library\\00LOCK\\rlang\\html\\with_handlers.html를 C:\\ProgramData\\Anaconda3\\Lib\\R\\library\\rlang\\html\\with_handlers.html로 복사하는데 문제가 발생했습니다: Permission denied\"Warning message in file.copy(savedcopy, lib, recursive = TRUE):\n",
      "\"C:\\ProgramData\\Anaconda3\\Lib\\R\\library\\00LOCK\\rlang\\html\\with_restarts.html를 C:\\ProgramData\\Anaconda3\\Lib\\R\\library\\rlang\\html\\with_restarts.html로 복사하는데 문제가 발생했습니다: Permission denied\"Warning message in file.copy(savedcopy, lib, recursive = TRUE):\n",
      "\"C:\\ProgramData\\Anaconda3\\Lib\\R\\library\\00LOCK\\rlang\\html\\zap.html를 C:\\ProgramData\\Anaconda3\\Lib\\R\\library\\rlang\\html\\zap.html로 복사하는데 문제가 발생했습니다: Permission denied\"Warning message in file.copy(savedcopy, lib, recursive = TRUE):\n",
      "\"C:\\ProgramData\\Anaconda3\\Lib\\R\\library\\00LOCK\\rlang\\INDEX를 C:\\ProgramData\\Anaconda3\\Lib\\R\\library\\rlang\\INDEX로 복사하는데 문제가 발생했습니다: Permission denied\"Warning message in file.copy(savedcopy, lib, recursive = TRUE):\n",
      "\"C:\\ProgramData\\Anaconda3\\Lib\\R\\library\\00LOCK\\rlang\\libs\\x64\\rlang.dll를 C:\\ProgramData\\Anaconda3\\Lib\\R\\library\\rlang\\libs\\x64\\rlang.dll로 복사하는데 문제가 발생했습니다: Permission denied\"Warning message in file.copy(savedcopy, lib, recursive = TRUE):\n",
      "\"C:\\ProgramData\\Anaconda3\\Lib\\R\\library\\00LOCK\\rlang\\MD5를 C:\\ProgramData\\Anaconda3\\Lib\\R\\library\\rlang\\MD5로 복사하는데 문제가 발생했습니다: Permission denied\"Warning message in file.copy(savedcopy, lib, recursive = TRUE):\n",
      "\"C:\\ProgramData\\Anaconda3\\Lib\\R\\library\\00LOCK\\rlang\\Meta\\features.rds를 C:\\ProgramData\\Anaconda3\\Lib\\R\\library\\rlang\\Meta\\features.rds로 복사하는데 문제가 발생했습니다: Permission denied\"Warning message in file.copy(savedcopy, lib, recursive = TRUE):\n",
      "\"C:\\ProgramData\\Anaconda3\\Lib\\R\\library\\00LOCK\\rlang\\Meta\\hsearch.rds를 C:\\ProgramData\\Anaconda3\\Lib\\R\\library\\rlang\\Meta\\hsearch.rds로 복사하는데 문제가 발생했습니다: Permission denied\"Warning message in file.copy(savedcopy, lib, recursive = TRUE):\n",
      "\"C:\\ProgramData\\Anaconda3\\Lib\\R\\library\\00LOCK\\rlang\\Meta\\links.rds를 C:\\ProgramData\\Anaconda3\\Lib\\R\\library\\rlang\\Meta\\links.rds로 복사하는데 문제가 발생했습니다: Permission denied\"Warning message in file.copy(savedcopy, lib, recursive = TRUE):\n",
      "\"C:\\ProgramData\\Anaconda3\\Lib\\R\\library\\00LOCK\\rlang\\Meta\\nsInfo.rds를 C:\\ProgramData\\Anaconda3\\Lib\\R\\library\\rlang\\Meta\\nsInfo.rds로 복사하는데 문제가 발생했습니다: Permission denied\"Warning message in file.copy(savedcopy, lib, recursive = TRUE):\n",
      "\"C:\\ProgramData\\Anaconda3\\Lib\\R\\library\\00LOCK\\rlang\\Meta\\package.rds를 C:\\ProgramData\\Anaconda3\\Lib\\R\\library\\rlang\\Meta\\package.rds로 복사하는데 문제가 발생했습니다: Permission denied\"Warning message in file.copy(savedcopy, lib, recursive = TRUE):\n",
      "\"C:\\ProgramData\\Anaconda3\\Lib\\R\\library\\00LOCK\\rlang\\Meta\\Rd.rds를 C:\\ProgramData\\Anaconda3\\Lib\\R\\library\\rlang\\Meta\\Rd.rds로 복사하는데 문제가 발생했습니다: Permission denied\"Warning message in file.copy(savedcopy, lib, recursive = TRUE):\n",
      "\"C:\\ProgramData\\Anaconda3\\Lib\\R\\library\\00LOCK\\rlang\\NAMESPACE를 C:\\ProgramData\\Anaconda3\\Lib\\R\\library\\rlang\\NAMESPACE로 복사하는데 문제가 발생했습니다: Permission denied\"Warning message in file.copy(savedcopy, lib, recursive = TRUE):\n",
      "\"C:\\ProgramData\\Anaconda3\\Lib\\R\\library\\00LOCK\\rlang\\NEWS.md를 C:\\ProgramData\\Anaconda3\\Lib\\R\\library\\rlang\\NEWS.md로 복사하는데 문제가 발생했습니다: Permission denied\"Warning message in file.copy(savedcopy, lib, recursive = TRUE):\n",
      "\"C:\\ProgramData\\Anaconda3\\Lib\\R\\library\\00LOCK\\rlang\\R\\rlang를 C:\\ProgramData\\Anaconda3\\Lib\\R\\library\\rlang\\R\\rlang로 복사하는데 문제가 발생했습니다: Permission denied\"Warning message in file.copy(savedcopy, lib, recursive = TRUE):\n",
      "\"C:\\ProgramData\\Anaconda3\\Lib\\R\\library\\00LOCK\\rlang\\R\\rlang.rdb를 C:\\ProgramData\\Anaconda3\\Lib\\R\\library\\rlang\\R\\rlang.rdb로 복사하는데 문제가 발생했습니다: Permission denied\"Warning message in file.copy(savedcopy, lib, recursive = TRUE):\n",
      "\"C:\\ProgramData\\Anaconda3\\Lib\\R\\library\\00LOCK\\rlang\\R\\rlang.rdx를 C:\\ProgramData\\Anaconda3\\Lib\\R\\library\\rlang\\R\\rlang.rdx로 복사하는데 문제가 발생했습니다: Permission denied\"Warning message:\n",
      "\"restored 'rlang'\""
     ]
    },
    {
     "name": "stdout",
     "output_type": "stream",
     "text": [
      "package 'dplyr' successfully unpacked and MD5 sums checked\n"
     ]
    },
    {
     "name": "stderr",
     "output_type": "stream",
     "text": [
      "Warning message:\n",
      "\"cannot remove prior installation of package 'dplyr'\"Warning message in file.copy(savedcopy, lib, recursive = TRUE):\n",
      "\"C:\\ProgramData\\Anaconda3\\Lib\\R\\library\\00LOCK\\dplyr\\data\\Rdata.rdb를 C:\\ProgramData\\Anaconda3\\Lib\\R\\library\\dplyr\\data\\Rdata.rdb로 복사하는데 문제가 발생했습니다: Permission denied\"Warning message in file.copy(savedcopy, lib, recursive = TRUE):\n",
      "\"C:\\ProgramData\\Anaconda3\\Lib\\R\\library\\00LOCK\\dplyr\\data\\Rdata.rds를 C:\\ProgramData\\Anaconda3\\Lib\\R\\library\\dplyr\\data\\Rdata.rds로 복사하는데 문제가 발생했습니다: Permission denied\"Warning message in file.copy(savedcopy, lib, recursive = TRUE):\n",
      "\"C:\\ProgramData\\Anaconda3\\Lib\\R\\library\\00LOCK\\dplyr\\data\\Rdata.rdx를 C:\\ProgramData\\Anaconda3\\Lib\\R\\library\\dplyr\\data\\Rdata.rdx로 복사하는데 문제가 발생했습니다: Permission denied\"Warning message in file.copy(savedcopy, lib, recursive = TRUE):\n",
      "\"C:\\ProgramData\\Anaconda3\\Lib\\R\\library\\00LOCK\\dplyr\\DESCRIPTION를 C:\\ProgramData\\Anaconda3\\Lib\\R\\library\\dplyr\\DESCRIPTION로 복사하는데 문제가 발생했습니다: Permission denied\"Warning message in file.copy(savedcopy, lib, recursive = TRUE):\n",
      "\"C:\\ProgramData\\Anaconda3\\Lib\\R\\library\\00LOCK\\dplyr\\doc\\compatibility.html를 C:\\ProgramData\\Anaconda3\\Lib\\R\\library\\dplyr\\doc\\compatibility.html로 복사하는데 문제가 발생했습니다: Permission denied\"Warning message in file.copy(savedcopy, lib, recursive = TRUE):\n",
      "\"C:\\ProgramData\\Anaconda3\\Lib\\R\\library\\00LOCK\\dplyr\\doc\\compatibility.R를 C:\\ProgramData\\Anaconda3\\Lib\\R\\library\\dplyr\\doc\\compatibility.R로 복사하는데 문제가 발생했습니다: Permission denied\"Warning message in file.copy(savedcopy, lib, recursive = TRUE):\n",
      "\"C:\\ProgramData\\Anaconda3\\Lib\\R\\library\\00LOCK\\dplyr\\doc\\compatibility.Rmd를 C:\\ProgramData\\Anaconda3\\Lib\\R\\library\\dplyr\\doc\\compatibility.Rmd로 복사하는데 문제가 발생했습니다: Permission denied\"Warning message in file.copy(savedcopy, lib, recursive = TRUE):\n",
      "\"C:\\ProgramData\\Anaconda3\\Lib\\R\\library\\00LOCK\\dplyr\\doc\\dplyr.html를 C:\\ProgramData\\Anaconda3\\Lib\\R\\library\\dplyr\\doc\\dplyr.html로 복사하는데 문제가 발생했습니다: Permission denied\"Warning message in file.copy(savedcopy, lib, recursive = TRUE):\n",
      "\"C:\\ProgramData\\Anaconda3\\Lib\\R\\library\\00LOCK\\dplyr\\doc\\dplyr.R를 C:\\ProgramData\\Anaconda3\\Lib\\R\\library\\dplyr\\doc\\dplyr.R로 복사하는데 문제가 발생했습니다: Permission denied\"Warning message in file.copy(savedcopy, lib, recursive = TRUE):\n",
      "\"C:\\ProgramData\\Anaconda3\\Lib\\R\\library\\00LOCK\\dplyr\\doc\\dplyr.Rmd를 C:\\ProgramData\\Anaconda3\\Lib\\R\\library\\dplyr\\doc\\dplyr.Rmd로 복사하는데 문제가 발생했습니다: Permission denied\"Warning message in file.copy(savedcopy, lib, recursive = TRUE):\n",
      "\"C:\\ProgramData\\Anaconda3\\Lib\\R\\library\\00LOCK\\dplyr\\doc\\index.html를 C:\\ProgramData\\Anaconda3\\Lib\\R\\library\\dplyr\\doc\\index.html로 복사하는데 문제가 발생했습니다: Permission denied\"Warning message in file.copy(savedcopy, lib, recursive = TRUE):\n",
      "\"C:\\ProgramData\\Anaconda3\\Lib\\R\\library\\00LOCK\\dplyr\\doc\\programming.html를 C:\\ProgramData\\Anaconda3\\Lib\\R\\library\\dplyr\\doc\\programming.html로 복사하는데 문제가 발생했습니다: Permission denied\"Warning message in file.copy(savedcopy, lib, recursive = TRUE):\n",
      "\"C:\\ProgramData\\Anaconda3\\Lib\\R\\library\\00LOCK\\dplyr\\doc\\programming.R를 C:\\ProgramData\\Anaconda3\\Lib\\R\\library\\dplyr\\doc\\programming.R로 복사하는데 문제가 발생했습니다: Permission denied\"Warning message in file.copy(savedcopy, lib, recursive = TRUE):\n",
      "\"C:\\ProgramData\\Anaconda3\\Lib\\R\\library\\00LOCK\\dplyr\\doc\\programming.Rmd를 C:\\ProgramData\\Anaconda3\\Lib\\R\\library\\dplyr\\doc\\programming.Rmd로 복사하는데 문제가 발생했습니다: Permission denied\"Warning message in file.copy(savedcopy, lib, recursive = TRUE):\n",
      "\"C:\\ProgramData\\Anaconda3\\Lib\\R\\library\\00LOCK\\dplyr\\doc\\two-table.html를 C:\\ProgramData\\Anaconda3\\Lib\\R\\library\\dplyr\\doc\\two-table.html로 복사하는데 문제가 발생했습니다: Permission denied\"Warning message in file.copy(savedcopy, lib, recursive = TRUE):\n",
      "\"C:\\ProgramData\\Anaconda3\\Lib\\R\\library\\00LOCK\\dplyr\\doc\\two-table.R를 C:\\ProgramData\\Anaconda3\\Lib\\R\\library\\dplyr\\doc\\two-table.R로 복사하는데 문제가 발생했습니다: Permission denied\"Warning message in file.copy(savedcopy, lib, recursive = TRUE):\n",
      "\"C:\\ProgramData\\Anaconda3\\Lib\\R\\library\\00LOCK\\dplyr\\doc\\two-table.Rmd를 C:\\ProgramData\\Anaconda3\\Lib\\R\\library\\dplyr\\doc\\two-table.Rmd로 복사하는데 문제가 발생했습니다: Permission denied\"Warning message in file.copy(savedcopy, lib, recursive = TRUE):\n",
      "\"C:\\ProgramData\\Anaconda3\\Lib\\R\\library\\00LOCK\\dplyr\\doc\\window-functions.html를 C:\\ProgramData\\Anaconda3\\Lib\\R\\library\\dplyr\\doc\\window-functions.html로 복사하는데 문제가 발생했습니다: Permission denied\"Warning message in file.copy(savedcopy, lib, recursive = TRUE):\n",
      "\"C:\\ProgramData\\Anaconda3\\Lib\\R\\library\\00LOCK\\dplyr\\doc\\window-functions.R를 C:\\ProgramData\\Anaconda3\\Lib\\R\\library\\dplyr\\doc\\window-functions.R로 복사하는데 문제가 발생했습니다: Permission denied\"Warning message in file.copy(savedcopy, lib, recursive = TRUE):\n",
      "\"C:\\ProgramData\\Anaconda3\\Lib\\R\\library\\00LOCK\\dplyr\\doc\\window-functions.Rmd를 C:\\ProgramData\\Anaconda3\\Lib\\R\\library\\dplyr\\doc\\window-functions.Rmd로 복사하는데 문제가 발생했습니다: Permission denied\"Warning message in file.copy(savedcopy, lib, recursive = TRUE):\n",
      "\"C:\\ProgramData\\Anaconda3\\Lib\\R\\library\\00LOCK\\dplyr\\help\\aliases.rds를 C:\\ProgramData\\Anaconda3\\Lib\\R\\library\\dplyr\\help\\aliases.rds로 복사하는데 문제가 발생했습니다: Permission denied\"Warning message in file.copy(savedcopy, lib, recursive = TRUE):\n",
      "\"C:\\ProgramData\\Anaconda3\\Lib\\R\\library\\00LOCK\\dplyr\\help\\AnIndex를 C:\\ProgramData\\Anaconda3\\Lib\\R\\library\\dplyr\\help\\AnIndex로 복사하는데 문제가 발생했습니다: Permission denied\"Warning message in file.copy(savedcopy, lib, recursive = TRUE):\n",
      "\"C:\\ProgramData\\Anaconda3\\Lib\\R\\library\\00LOCK\\dplyr\\help\\dplyr.rdb를 C:\\ProgramData\\Anaconda3\\Lib\\R\\library\\dplyr\\help\\dplyr.rdb로 복사하는데 문제가 발생했습니다: Permission denied\"Warning message in file.copy(savedcopy, lib, recursive = TRUE):\n",
      "\"C:\\ProgramData\\Anaconda3\\Lib\\R\\library\\00LOCK\\dplyr\\help\\dplyr.rdx를 C:\\ProgramData\\Anaconda3\\Lib\\R\\library\\dplyr\\help\\dplyr.rdx로 복사하는데 문제가 발생했습니다: Permission denied\"Warning message in file.copy(savedcopy, lib, recursive = TRUE):\n",
      "\"C:\\ProgramData\\Anaconda3\\Lib\\R\\library\\00LOCK\\dplyr\\help\\figures\\lifecycle-archived.svg를 C:\\ProgramData\\Anaconda3\\Lib\\R\\library\\dplyr\\help\\figures\\lifecycle-archived.svg로 복사하는데 문제가 발생했습니다: Permission denied\"Warning message in file.copy(savedcopy, lib, recursive = TRUE):\n",
      "\"C:\\ProgramData\\Anaconda3\\Lib\\R\\library\\00LOCK\\dplyr\\help\\figures\\lifecycle-defunct.svg를 C:\\ProgramData\\Anaconda3\\Lib\\R\\library\\dplyr\\help\\figures\\lifecycle-defunct.svg로 복사하는데 문제가 발생했습니다: Permission denied\"Warning message in file.copy(savedcopy, lib, recursive = TRUE):\n",
      "\"C:\\ProgramData\\Anaconda3\\Lib\\R\\library\\00LOCK\\dplyr\\help\\figures\\lifecycle-deprecated.svg를 C:\\ProgramData\\Anaconda3\\Lib\\R\\library\\dplyr\\help\\figures\\lifecycle-deprecated.svg로 복사하는데 문제가 발생했습니다: Permission denied\"Warning message in file.copy(savedcopy, lib, recursive = TRUE):\n",
      "\"C:\\ProgramData\\Anaconda3\\Lib\\R\\library\\00LOCK\\dplyr\\help\\figures\\lifecycle-experimental.svg를 C:\\ProgramData\\Anaconda3\\Lib\\R\\library\\dplyr\\help\\figures\\lifecycle-experimental.svg로 복사하는데 문제가 발생했습니다: Permission denied\"Warning message in file.copy(savedcopy, lib, recursive = TRUE):\n",
      "\"C:\\ProgramData\\Anaconda3\\Lib\\R\\library\\00LOCK\\dplyr\\help\\figures\\lifecycle-maturing.svg를 C:\\ProgramData\\Anaconda3\\Lib\\R\\library\\dplyr\\help\\figures\\lifecycle-maturing.svg로 복사하는데 문제가 발생했습니다: Permission denied\"Warning message in file.copy(savedcopy, lib, recursive = TRUE):\n",
      "\"C:\\ProgramData\\Anaconda3\\Lib\\R\\library\\00LOCK\\dplyr\\help\\figures\\lifecycle-questioning.svg를 C:\\ProgramData\\Anaconda3\\Lib\\R\\library\\dplyr\\help\\figures\\lifecycle-questioning.svg로 복사하는데 문제가 발생했습니다: Permission denied\"Warning message in file.copy(savedcopy, lib, recursive = TRUE):\n",
      "\"C:\\ProgramData\\Anaconda3\\Lib\\R\\library\\00LOCK\\dplyr\\help\\figures\\lifecycle-retired.svg를 C:\\ProgramData\\Anaconda3\\Lib\\R\\library\\dplyr\\help\\figures\\lifecycle-retired.svg로 복사하는데 문제가 발생했습니다: Permission denied\"Warning message in file.copy(savedcopy, lib, recursive = TRUE):\n",
      "\"C:\\ProgramData\\Anaconda3\\Lib\\R\\library\\00LOCK\\dplyr\\help\\figures\\lifecycle-soft-deprecated.svg를 C:\\ProgramData\\Anaconda3\\Lib\\R\\library\\dplyr\\help\\figures\\lifecycle-soft-deprecated.svg로 복사하는데 문제가 발생했습니다: Permission denied\"Warning message in file.copy(savedcopy, lib, recursive = TRUE):\n",
      "\"C:\\ProgramData\\Anaconda3\\Lib\\R\\library\\00LOCK\\dplyr\\help\\figures\\lifecycle-stable.svg를 C:\\ProgramData\\Anaconda3\\Lib\\R\\library\\dplyr\\help\\figures\\lifecycle-stable.svg로 복사하는데 문제가 발생했습니다: Permission denied\"Warning message in file.copy(savedcopy, lib, recursive = TRUE):\n",
      "\"C:\\ProgramData\\Anaconda3\\Lib\\R\\library\\00LOCK\\dplyr\\help\\figures\\logo.png를 C:\\ProgramData\\Anaconda3\\Lib\\R\\library\\dplyr\\help\\figures\\logo.png로 복사하는데 문제가 발생했습니다: Permission denied\"Warning message in file.copy(savedcopy, lib, recursive = TRUE):\n",
      "\"C:\\ProgramData\\Anaconda3\\Lib\\R\\library\\00LOCK\\dplyr\\help\\paths.rds를 C:\\ProgramData\\Anaconda3\\Lib\\R\\library\\dplyr\\help\\paths.rds로 복사하는데 문제가 발생했습니다: Permission denied\"Warning message in file.copy(savedcopy, lib, recursive = TRUE):\n",
      "\"C:\\ProgramData\\Anaconda3\\Lib\\R\\library\\00LOCK\\dplyr\\html\\00Index.html를 C:\\ProgramData\\Anaconda3\\Lib\\R\\library\\dplyr\\html\\00Index.html로 복사하는데 문제가 발생했습니다: Permission denied\"Warning message in file.copy(savedcopy, lib, recursive = TRUE):\n",
      "\"C:\\ProgramData\\Anaconda3\\Lib\\R\\library\\00LOCK\\dplyr\\html\\add_rownames.html를 C:\\ProgramData\\Anaconda3\\Lib\\R\\library\\dplyr\\html\\add_rownames.html로 복사하는데 문제가 발생했습니다: Permission denied\"Warning message in file.copy(savedcopy, lib, recursive = TRUE):\n",
      "\"C:\\ProgramData\\Anaconda3\\Lib\\R\\library\\00LOCK\\dplyr\\html\\all_equal.html를 C:\\ProgramData\\Anaconda3\\Lib\\R\\library\\dplyr\\html\\all_equal.html로 복사하는데 문제가 발생했습니다: Permission denied\"Warning message in file.copy(savedcopy, lib, recursive = TRUE):\n",
      "\"C:\\ProgramData\\Anaconda3\\Lib\\R\\library\\00LOCK\\dplyr\\html\\all_vars.html를 C:\\ProgramData\\Anaconda3\\Lib\\R\\library\\dplyr\\html\\all_vars.html로 복사하는데 문제가 발생했습니다: Permission denied\"Warning message in file.copy(savedcopy, lib, recursive = TRUE):\n",
      "\"C:\\ProgramData\\Anaconda3\\Lib\\R\\library\\00LOCK\\dplyr\\html\\arrange.html를 C:\\ProgramData\\Anaconda3\\Lib\\R\\library\\dplyr\\html\\arrange.html로 복사하는데 문제가 발생했습니다: Permission denied\"Warning message in file.copy(savedcopy, lib, recursive = TRUE):\n",
      "\"C:\\ProgramData\\Anaconda3\\Lib\\R\\library\\00LOCK\\dplyr\\html\\arrange_all.html를 C:\\ProgramData\\Anaconda3\\Lib\\R\\library\\dplyr\\html\\arrange_all.html로 복사하는데 문제가 발생했습니다: Permission denied\"Warning message in file.copy(savedcopy, lib, recursive = TRUE):\n",
      "\"C:\\ProgramData\\Anaconda3\\Lib\\R\\library\\00LOCK\\dplyr\\html\\as.table.tbl_cube.html를 C:\\ProgramData\\Anaconda3\\Lib\\R\\library\\dplyr\\html\\as.table.tbl_cube.html로 복사하는데 문제가 발생했습니다: Permission denied\"Warning message in file.copy(savedcopy, lib, recursive = TRUE):\n",
      "\"C:\\ProgramData\\Anaconda3\\Lib\\R\\library\\00LOCK\\dplyr\\html\\as.tbl_cube.html를 C:\\ProgramData\\Anaconda3\\Lib\\R\\library\\dplyr\\html\\as.tbl_cube.html로 복사하는데 문제가 발생했습니다: Permission denied\"Warning message in file.copy(savedcopy, lib, recursive = TRUE):\n",
      "\"C:\\ProgramData\\Anaconda3\\Lib\\R\\library\\00LOCK\\dplyr\\html\\auto_copy.html를 C:\\ProgramData\\Anaconda3\\Lib\\R\\library\\dplyr\\html\\auto_copy.html로 복사하는데 문제가 발생했습니다: Permission denied\"Warning message in file.copy(savedcopy, lib, recursive = TRUE):\n",
      "\"C:\\ProgramData\\Anaconda3\\Lib\\R\\library\\00LOCK\\dplyr\\html\\backend_dbplyr.html를 C:\\ProgramData\\Anaconda3\\Lib\\R\\library\\dplyr\\html\\backend_dbplyr.html로 복사하는데 문제가 발생했습니다: Permission denied\"Warning message in file.copy(savedcopy, lib, recursive = TRUE):\n",
      "\"C:\\ProgramData\\Anaconda3\\Lib\\R\\library\\00LOCK\\dplyr\\html\\band_members.html를 C:\\ProgramData\\Anaconda3\\Lib\\R\\library\\dplyr\\html\\band_members.html로 복사하는데 문제가 발생했습니다: Permission denied\"Warning message in file.copy(savedcopy, lib, recursive = TRUE):\n",
      "\"C:\\ProgramData\\Anaconda3\\Lib\\R\\library\\00LOCK\\dplyr\\html\\bench_compare.html를 C:\\ProgramData\\Anaconda3\\Lib\\R\\library\\dplyr\\html\\bench_compare.html로 복사하는데 문제가 발생했습니다: Permission denied\"Warning message in file.copy(savedcopy, lib, recursive = TRUE):\n",
      "\"C:\\ProgramData\\Anaconda3\\Lib\\R\\library\\00LOCK\\dplyr\\html\\between.html를 C:\\ProgramData\\Anaconda3\\Lib\\R\\library\\dplyr\\html\\between.html로 복사하는데 문제가 발생했습니다: Permission denied\"Warning message in file.copy(savedcopy, lib, recursive = TRUE):\n",
      "\"C:\\ProgramData\\Anaconda3\\Lib\\R\\library\\00LOCK\\dplyr\\html\\bind.html를 C:\\ProgramData\\Anaconda3\\Lib\\R\\library\\dplyr\\html\\bind.html로 복사하는데 문제가 발생했습니다: Permission denied\"Warning message in file.copy(savedcopy, lib, recursive = TRUE):\n",
      "\"C:\\ProgramData\\Anaconda3\\Lib\\R\\library\\00LOCK\\dplyr\\html\\case_when.html를 C:\\ProgramData\\Anaconda3\\Lib\\R\\library\\dplyr\\html\\case_when.html로 복사하는데 문제가 발생했습니다: Permission denied\"Warning message in file.copy(savedcopy, lib, recursive = TRUE):\n",
      "\"C:\\ProgramData\\Anaconda3\\Lib\\R\\library\\00LOCK\\dplyr\\html\\check_dbplyr.html를 C:\\ProgramData\\Anaconda3\\Lib\\R\\library\\dplyr\\html\\check_dbplyr.html로 복사하는데 문제가 발생했습니다: Permission denied\"Warning message in file.copy(savedcopy, lib, recursive = TRUE):\n",
      "\"C:\\ProgramData\\Anaconda3\\Lib\\R\\library\\00LOCK\\dplyr\\html\\coalesce.html를 C:\\ProgramData\\Anaconda3\\Lib\\R\\library\\dplyr\\html\\coalesce.html로 복사하는데 문제가 발생했습니다: Permission denied\"Warning message in file.copy(savedcopy, lib, recursive = TRUE):\n",
      "\"C:\\ProgramData\\Anaconda3\\Lib\\R\\library\\00LOCK\\dplyr\\html\\combine.html를 C:\\ProgramData\\Anaconda3\\Lib\\R\\library\\dplyr\\html\\combine.html로 복사하는데 문제가 발생했습니다: Permission denied\"Warning message in file.copy(savedcopy, lib, recursive = TRUE):\n",
      "\"C:\\ProgramData\\Anaconda3\\Lib\\R\\library\\00LOCK\\dplyr\\html\\common_by.html를 C:\\ProgramData\\Anaconda3\\Lib\\R\\library\\dplyr\\html\\common_by.html로 복사하는데 문제가 발생했습니다: Permission denied\"Warning message in file.copy(savedcopy, lib, recursive = TRUE):\n",
      "\"C:\\ProgramData\\Anaconda3\\Lib\\R\\library\\00LOCK\\dplyr\\html\\compute.html를 C:\\ProgramData\\Anaconda3\\Lib\\R\\library\\dplyr\\html\\compute.html로 복사하는데 문제가 발생했습니다: Permission denied\"Warning message in file.copy(savedcopy, lib, recursive = TRUE):\n",
      "\"C:\\ProgramData\\Anaconda3\\Lib\\R\\library\\00LOCK\\dplyr\\html\\copy_to.html를 C:\\ProgramData\\Anaconda3\\Lib\\R\\library\\dplyr\\html\\copy_to.html로 복사하는데 문제가 발생했습니다: Permission denied\"Warning message in file.copy(savedcopy, lib, recursive = TRUE):\n",
      "\"C:\\ProgramData\\Anaconda3\\Lib\\R\\library\\00LOCK\\dplyr\\html\\cumall.html를 C:\\ProgramData\\Anaconda3\\Lib\\R\\library\\dplyr\\html\\cumall.html로 복사하는데 문제가 발생했습니다: Permission denied\"Warning message in file.copy(savedcopy, lib, recursive = TRUE):\n",
      "\"C:\\ProgramData\\Anaconda3\\Lib\\R\\library\\00LOCK\\dplyr\\html\\desc.html를 C:\\ProgramData\\Anaconda3\\Lib\\R\\library\\dplyr\\html\\desc.html로 복사하는데 문제가 발생했습니다: Permission denied\"Warning message in file.copy(savedcopy, lib, recursive = TRUE):\n",
      "\"C:\\ProgramData\\Anaconda3\\Lib\\R\\library\\00LOCK\\dplyr\\html\\dim_desc.html를 C:\\ProgramData\\Anaconda3\\Lib\\R\\library\\dplyr\\html\\dim_desc.html로 복사하는데 문제가 발생했습니다: Permission denied\"Warning message in file.copy(savedcopy, lib, recursive = TRUE):\n",
      "\"C:\\ProgramData\\Anaconda3\\Lib\\R\\library\\00LOCK\\dplyr\\html\\distinct.html를 C:\\ProgramData\\Anaconda3\\Lib\\R\\library\\dplyr\\html\\distinct.html로 복사하는데 문제가 발생했습니다: Permission denied\"Warning message in file.copy(savedcopy, lib, recursive = TRUE):\n",
      "\"C:\\ProgramData\\Anaconda3\\Lib\\R\\library\\00LOCK\\dplyr\\html\\distinct_all.html를 C:\\ProgramData\\Anaconda3\\Lib\\R\\library\\dplyr\\html\\distinct_all.html로 복사하는데 문제가 발생했습니다: Permission denied\"Warning message in file.copy(savedcopy, lib, recursive = TRUE):\n",
      "\"C:\\ProgramData\\Anaconda3\\Lib\\R\\library\\00LOCK\\dplyr\\html\\do.html를 C:\\ProgramData\\Anaconda3\\Lib\\R\\library\\dplyr\\html\\do.html로 복사하는데 문제가 발생했습니다: Permission denied\"Warning message in file.copy(savedcopy, lib, recursive = TRUE):\n",
      "\"C:\\ProgramData\\Anaconda3\\Lib\\R\\library\\00LOCK\\dplyr\\html\\dplyr-package.html를 C:\\ProgramData\\Anaconda3\\Lib\\R\\library\\dplyr\\html\\dplyr-package.html로 복사하는데 문제가 발생했습니다: Permission denied\"Warning message in file.copy(savedcopy, lib, recursive = TRUE):\n",
      "\"C:\\ProgramData\\Anaconda3\\Lib\\R\\library\\00LOCK\\dplyr\\html\\dr_dplyr.html를 C:\\ProgramData\\Anaconda3\\Lib\\R\\library\\dplyr\\html\\dr_dplyr.html로 복사하는데 문제가 발생했습니다: Permission denied\"Warning message in file.copy(savedcopy, lib, recursive = TRUE):\n",
      "\"C:\\ProgramData\\Anaconda3\\Lib\\R\\library\\00LOCK\\dplyr\\html\\explain.html를 C:\\ProgramData\\Anaconda3\\Lib\\R\\library\\dplyr\\html\\explain.html로 복사하는데 문제가 발생했습니다: Permission denied\"Warning message in file.copy(savedcopy, lib, recursive = TRUE):\n",
      "\"C:\\ProgramData\\Anaconda3\\Lib\\R\\library\\00LOCK\\dplyr\\html\\failwith.html를 C:\\ProgramData\\Anaconda3\\Lib\\R\\library\\dplyr\\html\\failwith.html로 복사하는데 문제가 발생했습니다: Permission denied\"Warning message in file.copy(savedcopy, lib, recursive = TRUE):\n",
      "\"C:\\ProgramData\\Anaconda3\\Lib\\R\\library\\00LOCK\\dplyr\\html\\filter.html를 C:\\ProgramData\\Anaconda3\\Lib\\R\\library\\dplyr\\html\\filter.html로 복사하는데 문제가 발생했습니다: Permission denied\"Warning message in file.copy(savedcopy, lib, recursive = TRUE):\n",
      "\"C:\\ProgramData\\Anaconda3\\Lib\\R\\library\\00LOCK\\dplyr\\html\\filter_all.html를 C:\\ProgramData\\Anaconda3\\Lib\\R\\library\\dplyr\\html\\filter_all.html로 복사하는데 문제가 발생했습니다: Permission denied\"Warning message in file.copy(savedcopy, lib, recursive = TRUE):\n",
      "\"C:\\ProgramData\\Anaconda3\\Lib\\R\\library\\00LOCK\\dplyr\\html\\funs.html를 C:\\ProgramData\\Anaconda3\\Lib\\R\\library\\dplyr\\html\\funs.html로 복사하는데 문제가 발생했습니다: Permission denied\"Warning message in file.copy(savedcopy, lib, recursive = TRUE):\n",
      "\"C:\\ProgramData\\Anaconda3\\Lib\\R\\library\\00LOCK\\dplyr\\html\\grouped_df.html를 C:\\ProgramData\\Anaconda3\\Lib\\R\\library\\dplyr\\html\\grouped_df.html로 복사하는데 문제가 발생했습니다: Permission denied\"Warning message in file.copy(savedcopy, lib, recursive = TRUE):\n",
      "\"C:\\ProgramData\\Anaconda3\\Lib\\R\\library\\00LOCK\\dplyr\\html\\groups.html를 C:\\ProgramData\\Anaconda3\\Lib\\R\\library\\dplyr\\html\\groups.html로 복사하는데 문제가 발생했습니다: Permission denied\"Warning message in file.copy(savedcopy, lib, recursive = TRUE):\n",
      "\"C:\\ProgramData\\Anaconda3\\Lib\\R\\library\\00LOCK\\dplyr\\html\\group_by.html를 C:\\ProgramData\\Anaconda3\\Lib\\R\\library\\dplyr\\html\\group_by.html로 복사하는데 문제가 발생했습니다: Permission denied\"Warning message in file.copy(savedcopy, lib, recursive = TRUE):\n",
      "\"C:\\ProgramData\\Anaconda3\\Lib\\R\\library\\00LOCK\\dplyr\\html\\group_by_all.html를 C:\\ProgramData\\Anaconda3\\Lib\\R\\library\\dplyr\\html\\group_by_all.html로 복사하는데 문제가 발생했습니다: Permission denied\"Warning message in file.copy(savedcopy, lib, recursive = TRUE):\n",
      "\"C:\\ProgramData\\Anaconda3\\Lib\\R\\library\\00LOCK\\dplyr\\html\\group_by_prepare.html를 C:\\ProgramData\\Anaconda3\\Lib\\R\\library\\dplyr\\html\\group_by_prepare.html로 복사하는데 문제가 발생했습니다: Permission denied\"Warning message in file.copy(savedcopy, lib, recursive = TRUE):\n",
      "\"C:\\ProgramData\\Anaconda3\\Lib\\R\\library\\00LOCK\\dplyr\\html\\group_cols.html를 C:\\ProgramData\\Anaconda3\\Lib\\R\\library\\dplyr\\html\\group_cols.html로 복사하는데 문제가 발생했습니다: Permission denied\"Warning message in file.copy(savedcopy, lib, recursive = TRUE):\n",
      "\"C:\\ProgramData\\Anaconda3\\Lib\\R\\library\\00LOCK\\dplyr\\html\\group_data.html를 C:\\ProgramData\\Anaconda3\\Lib\\R\\library\\dplyr\\html\\group_data.html로 복사하는데 문제가 발생했습니다: Permission denied\"Warning message in file.copy(savedcopy, lib, recursive = TRUE):\n",
      "\"C:\\ProgramData\\Anaconda3\\Lib\\R\\library\\00LOCK\\dplyr\\html\\group_indices.html를 C:\\ProgramData\\Anaconda3\\Lib\\R\\library\\dplyr\\html\\group_indices.html로 복사하는데 문제가 발생했습니다: Permission denied\"Warning message in file.copy(savedcopy, lib, recursive = TRUE):\n",
      "\"C:\\ProgramData\\Anaconda3\\Lib\\R\\library\\00LOCK\\dplyr\\html\\group_map.html를 C:\\ProgramData\\Anaconda3\\Lib\\R\\library\\dplyr\\html\\group_map.html로 복사하는데 문제가 발생했습니다: Permission denied\"Warning message in file.copy(savedcopy, lib, recursive = TRUE):\n",
      "\"C:\\ProgramData\\Anaconda3\\Lib\\R\\library\\00LOCK\\dplyr\\html\\group_nest.html를 C:\\ProgramData\\Anaconda3\\Lib\\R\\library\\dplyr\\html\\group_nest.html로 복사하는데 문제가 발생했습니다: Permission denied\"Warning message in file.copy(savedcopy, lib, recursive = TRUE):\n",
      "\"C:\\ProgramData\\Anaconda3\\Lib\\R\\library\\00LOCK\\dplyr\\html\\group_size.html를 C:\\ProgramData\\Anaconda3\\Lib\\R\\library\\dplyr\\html\\group_size.html로 복사하는데 문제가 발생했습니다: Permission denied\"Warning message in file.copy(savedcopy, lib, recursive = TRUE):\n",
      "\"C:\\ProgramData\\Anaconda3\\Lib\\R\\library\\00LOCK\\dplyr\\html\\group_split.html를 C:\\ProgramData\\Anaconda3\\Lib\\R\\library\\dplyr\\html\\group_split.html로 복사하는데 문제가 발생했습니다: Permission denied\"Warning message in file.copy(savedcopy, lib, recursive = TRUE):\n",
      "\"C:\\ProgramData\\Anaconda3\\Lib\\R\\library\\00LOCK\\dplyr\\html\\group_trim.html를 C:\\ProgramData\\Anaconda3\\Lib\\R\\library\\dplyr\\html\\group_trim.html로 복사하는데 문제가 발생했습니다: Permission denied\"Warning message in file.copy(savedcopy, lib, recursive = TRUE):\n",
      "\"C:\\ProgramData\\Anaconda3\\Lib\\R\\library\\00LOCK\\dplyr\\html\\hybrid_call.html를 C:\\ProgramData\\Anaconda3\\Lib\\R\\library\\dplyr\\html\\hybrid_call.html로 복사하는데 문제가 발생했습니다: Permission denied\"Warning message in file.copy(savedcopy, lib, recursive = TRUE):\n",
      "\"C:\\ProgramData\\Anaconda3\\Lib\\R\\library\\00LOCK\\dplyr\\html\\id.html를 C:\\ProgramData\\Anaconda3\\Lib\\R\\library\\dplyr\\html\\id.html로 복사하는데 문제가 발생했습니다: Permission denied\"Warning message in file.copy(savedcopy, lib, recursive = TRUE):\n",
      "\"C:\\ProgramData\\Anaconda3\\Lib\\R\\library\\00LOCK\\dplyr\\html\\ident.html를 C:\\ProgramData\\Anaconda3\\Lib\\R\\library\\dplyr\\html\\ident.html로 복사하는데 문제가 발생했습니다: Permission denied\"Warning message in file.copy(savedcopy, lib, recursive = TRUE):\n",
      "\"C:\\ProgramData\\Anaconda3\\Lib\\R\\library\\00LOCK\\dplyr\\html\\if_else.html를 C:\\ProgramData\\Anaconda3\\Lib\\R\\library\\dplyr\\html\\if_else.html로 복사하는데 문제가 발생했습니다: Permission denied\"Warning message in file.copy(savedcopy, lib, recursive = TRUE):\n",
      "\"C:\\ProgramData\\Anaconda3\\Lib\\R\\library\\00LOCK\\dplyr\\html\\init_logging.html를 C:\\ProgramData\\Anaconda3\\Lib\\R\\library\\dplyr\\html\\init_logging.html로 복사하는데 문제가 발생했습니다: Permission denied\"Warning message in file.copy(savedcopy, lib, recursive = TRUE):\n",
      "\"C:\\ProgramData\\Anaconda3\\Lib\\R\\library\\00LOCK\\dplyr\\html\\join.html를 C:\\ProgramData\\Anaconda3\\Lib\\R\\library\\dplyr\\html\\join.html로 복사하는데 문제가 발생했습니다: Permission denied\"Warning message in file.copy(savedcopy, lib, recursive = TRUE):\n",
      "\"C:\\ProgramData\\Anaconda3\\Lib\\R\\library\\00LOCK\\dplyr\\html\\join.tbl_df.html를 C:\\ProgramData\\Anaconda3\\Lib\\R\\library\\dplyr\\html\\join.tbl_df.html로 복사하는데 문제가 발생했습니다: Permission denied\"Warning message in file.copy(savedcopy, lib, recursive = TRUE):\n",
      "\"C:\\ProgramData\\Anaconda3\\Lib\\R\\library\\00LOCK\\dplyr\\html\\lead-lag.html를 C:\\ProgramData\\Anaconda3\\Lib\\R\\library\\dplyr\\html\\lead-lag.html로 복사하는데 문제가 발생했습니다: Permission denied\"Warning message in file.copy(savedcopy, lib, recursive = TRUE):\n",
      "\"C:\\ProgramData\\Anaconda3\\Lib\\R\\library\\00LOCK\\dplyr\\html\\location.html를 C:\\ProgramData\\Anaconda3\\Lib\\R\\library\\dplyr\\html\\location.html로 복사하는데 문제가 발생했습니다: Permission denied\"Warning message in file.copy(savedcopy, lib, recursive = TRUE):\n",
      "\"C:\\ProgramData\\Anaconda3\\Lib\\R\\library\\00LOCK\\dplyr\\html\\make_tbl.html를 C:\\ProgramData\\Anaconda3\\Lib\\R\\library\\dplyr\\html\\make_tbl.html로 복사하는데 문제가 발생했습니다: Permission denied\"Warning message in file.copy(savedcopy, lib, recursive = TRUE):\n",
      "\"C:\\ProgramData\\Anaconda3\\Lib\\R\\library\\00LOCK\\dplyr\\html\\mutate.html를 C:\\ProgramData\\Anaconda3\\Lib\\R\\library\\dplyr\\html\\mutate.html로 복사하는데 문제가 발생했습니다: Permission denied\"Warning message in file.copy(savedcopy, lib, recursive = TRUE):\n",
      "\"C:\\ProgramData\\Anaconda3\\Lib\\R\\library\\00LOCK\\dplyr\\html\\mutate_all.html를 C:\\ProgramData\\Anaconda3\\Lib\\R\\library\\dplyr\\html\\mutate_all.html로 복사하는데 문제가 발생했습니다: Permission denied\"Warning message in file.copy(savedcopy, lib, recursive = TRUE):\n",
      "\"C:\\ProgramData\\Anaconda3\\Lib\\R\\library\\00LOCK\\dplyr\\html\\n.html를 C:\\ProgramData\\Anaconda3\\Lib\\R\\library\\dplyr\\html\\n.html로 복사하는데 문제가 발생했습니다: Permission denied\"Warning message in file.copy(savedcopy, lib, recursive = TRUE):\n",
      "\"C:\\ProgramData\\Anaconda3\\Lib\\R\\library\\00LOCK\\dplyr\\html\\nasa.html를 C:\\ProgramData\\Anaconda3\\Lib\\R\\library\\dplyr\\html\\nasa.html로 복사하는데 문제가 발생했습니다: Permission denied\"Warning message in file.copy(savedcopy, lib, recursive = TRUE):\n",
      "\"C:\\ProgramData\\Anaconda3\\Lib\\R\\library\\00LOCK\\dplyr\\html\\na_if.html를 C:\\ProgramData\\Anaconda3\\Lib\\R\\library\\dplyr\\html\\na_if.html로 복사하는데 문제가 발생했습니다: Permission denied\"Warning message in file.copy(savedcopy, lib, recursive = TRUE):\n",
      "\"C:\\ProgramData\\Anaconda3\\Lib\\R\\library\\00LOCK\\dplyr\\html\\near.html를 C:\\ProgramData\\Anaconda3\\Lib\\R\\library\\dplyr\\html\\near.html로 복사하는데 문제가 발생했습니다: Permission denied\"Warning message in file.copy(savedcopy, lib, recursive = TRUE):\n",
      "\"C:\\ProgramData\\Anaconda3\\Lib\\R\\library\\00LOCK\\dplyr\\html\\new_grouped_df.html를 C:\\ProgramData\\Anaconda3\\Lib\\R\\library\\dplyr\\html\\new_grouped_df.html로 복사하는데 문제가 발생했습니다: Permission denied\"Warning message in file.copy(savedcopy, lib, recursive = TRUE):\n",
      "\"C:\\ProgramData\\Anaconda3\\Lib\\R\\library\\00LOCK\\dplyr\\html\\nth.html를 C:\\ProgramData\\Anaconda3\\Lib\\R\\library\\dplyr\\html\\nth.html로 복사하는데 문제가 발생했습니다: Permission denied\"Warning message in file.copy(savedcopy, lib, recursive = TRUE):\n",
      "\"C:\\ProgramData\\Anaconda3\\Lib\\R\\library\\00LOCK\\dplyr\\html\\n_distinct.html를 C:\\ProgramData\\Anaconda3\\Lib\\R\\library\\dplyr\\html\\n_distinct.html로 복사하는데 문제가 발생했습니다: Permission denied\"Warning message in file.copy(savedcopy, lib, recursive = TRUE):\n",
      "\"C:\\ProgramData\\Anaconda3\\Lib\\R\\library\\00LOCK\\dplyr\\html\\order_by.html를 C:\\ProgramData\\Anaconda3\\Lib\\R\\library\\dplyr\\html\\order_by.html로 복사하는데 문제가 발생했습니다: Permission denied\"Warning message in file.copy(savedcopy, lib, recursive = TRUE):\n",
      "\"C:\\ProgramData\\Anaconda3\\Lib\\R\\library\\00LOCK\\dplyr\\html\\progress_estimated.html를 C:\\ProgramData\\Anaconda3\\Lib\\R\\library\\dplyr\\html\\progress_estimated.html로 복사하는데 문제가 발생했습니다: Permission denied\"Warning message in file.copy(savedcopy, lib, recursive = TRUE):\n",
      "\"C:\\ProgramData\\Anaconda3\\Lib\\R\\library\\00LOCK\\dplyr\\html\\pull.html를 C:\\ProgramData\\Anaconda3\\Lib\\R\\library\\dplyr\\html\\pull.html로 복사하는데 문제가 발생했습니다: Permission denied\"Warning message in file.copy(savedcopy, lib, recursive = TRUE):\n",
      "\"C:\\ProgramData\\Anaconda3\\Lib\\R\\library\\00LOCK\\dplyr\\html\\R.css를 C:\\ProgramData\\Anaconda3\\Lib\\R\\library\\dplyr\\html\\R.css로 복사하는데 문제가 발생했습니다: Permission denied\"Warning message in file.copy(savedcopy, lib, recursive = TRUE):\n",
      "\"C:\\ProgramData\\Anaconda3\\Lib\\R\\library\\00LOCK\\dplyr\\html\\ranking.html를 C:\\ProgramData\\Anaconda3\\Lib\\R\\library\\dplyr\\html\\ranking.html로 복사하는데 문제가 발생했습니다: Permission denied\"Warning message in file.copy(savedcopy, lib, recursive = TRUE):\n",
      "\"C:\\ProgramData\\Anaconda3\\Lib\\R\\library\\00LOCK\\dplyr\\html\\recode.html를 C:\\ProgramData\\Anaconda3\\Lib\\R\\library\\dplyr\\html\\recode.html로 복사하는데 문제가 발생했습니다: Permission denied\"Warning message in file.copy(savedcopy, lib, recursive = TRUE):\n",
      "\"C:\\ProgramData\\Anaconda3\\Lib\\R\\library\\00LOCK\\dplyr\\html\\reexports.html를 C:\\ProgramData\\Anaconda3\\Lib\\R\\library\\dplyr\\html\\reexports.html로 복사하는데 문제가 발생했습니다: Permission denied\"Warning message in file.copy(savedcopy, lib, recursive = TRUE):\n",
      "\"C:\\ProgramData\\Anaconda3\\Lib\\R\\library\\00LOCK\\dplyr\\html\\rowwise.html를 C:\\ProgramData\\Anaconda3\\Lib\\R\\library\\dplyr\\html\\rowwise.html로 복사하는데 문제가 발생했습니다: Permission denied\"Warning message in file.copy(savedcopy, lib, recursive = TRUE):\n",
      "\"C:\\ProgramData\\Anaconda3\\Lib\\R\\library\\00LOCK\\dplyr\\html\\same_src.html를 C:\\ProgramData\\Anaconda3\\Lib\\R\\library\\dplyr\\html\\same_src.html로 복사하는데 문제가 발생했습니다: Permission denied\"Warning message in file.copy(savedcopy, lib, recursive = TRUE):\n",
      "\"C:\\ProgramData\\Anaconda3\\Lib\\R\\library\\00LOCK\\dplyr\\html\\sample.html를 C:\\ProgramData\\Anaconda3\\Lib\\R\\library\\dplyr\\html\\sample.html로 복사하는데 문제가 발생했습니다: Permission denied\"Warning message in file.copy(savedcopy, lib, recursive = TRUE):\n",
      "\"C:\\ProgramData\\Anaconda3\\Lib\\R\\library\\00LOCK\\dplyr\\html\\scoped.html를 C:\\ProgramData\\Anaconda3\\Lib\\R\\library\\dplyr\\html\\scoped.html로 복사하는데 문제가 발생했습니다: Permission denied\"Warning message in file.copy(savedcopy, lib, recursive = TRUE):\n",
      "\"C:\\ProgramData\\Anaconda3\\Lib\\R\\library\\00LOCK\\dplyr\\html\\se-deprecated.html를 C:\\ProgramData\\Anaconda3\\Lib\\R\\library\\dplyr\\html\\se-deprecated.html로 복사하는데 문제가 발생했습니다: Permission denied\"Warning message in file.copy(savedcopy, lib, recursive = TRUE):\n",
      "\"C:\\ProgramData\\Anaconda3\\Lib\\R\\library\\00LOCK\\dplyr\\html\\select.html를 C:\\ProgramData\\Anaconda3\\Lib\\R\\library\\dplyr\\html\\select.html로 복사하는데 문제가 발생했습니다: Permission denied\"Warning message in file.copy(savedcopy, lib, recursive = TRUE):\n",
      "\"C:\\ProgramData\\Anaconda3\\Lib\\R\\library\\00LOCK\\dplyr\\html\\select_all.html를 C:\\ProgramData\\Anaconda3\\Lib\\R\\library\\dplyr\\html\\select_all.html로 복사하는데 문제가 발생했습니다: Permission denied\"Warning message in file.copy(savedcopy, lib, recursive = TRUE):\n",
      "\"C:\\ProgramData\\Anaconda3\\Lib\\R\\library\\00LOCK\\dplyr\\html\\select_vars.html를 C:\\ProgramData\\Anaconda3\\Lib\\R\\library\\dplyr\\html\\select_vars.html로 복사하는데 문제가 발생했습니다: Permission denied\"Warning message in file.copy(savedcopy, lib, recursive = TRUE):\n",
      "\"C:\\ProgramData\\Anaconda3\\Lib\\R\\library\\00LOCK\\dplyr\\html\\setops.html를 C:\\ProgramData\\Anaconda3\\Lib\\R\\library\\dplyr\\html\\setops.html로 복사하는데 문제가 발생했습니다: Permission denied\"Warning message in file.copy(savedcopy, lib, recursive = TRUE):\n",
      "\"C:\\ProgramData\\Anaconda3\\Lib\\R\\library\\00LOCK\\dplyr\\html\\slice.html를 C:\\ProgramData\\Anaconda3\\Lib\\R\\library\\dplyr\\html\\slice.html로 복사하는데 문제가 발생했습니다: Permission denied\"Warning message in file.copy(savedcopy, lib, recursive = TRUE):\n",
      "\"C:\\ProgramData\\Anaconda3\\Lib\\R\\library\\00LOCK\\dplyr\\html\\sql.html를 C:\\ProgramData\\Anaconda3\\Lib\\R\\library\\dplyr\\html\\sql.html로 복사하는데 문제가 발생했습니다: Permission denied\"Warning message in file.copy(savedcopy, lib, recursive = TRUE):\n",
      "\"C:\\ProgramData\\Anaconda3\\Lib\\R\\library\\00LOCK\\dplyr\\html\\src.html를 C:\\ProgramData\\Anaconda3\\Lib\\R\\library\\dplyr\\html\\src.html로 복사하는데 문제가 발생했습니다: Permission denied\"Warning message in file.copy(savedcopy, lib, recursive = TRUE):\n",
      "\"C:\\ProgramData\\Anaconda3\\Lib\\R\\library\\00LOCK\\dplyr\\html\\src_dbi.html를 C:\\ProgramData\\Anaconda3\\Lib\\R\\library\\dplyr\\html\\src_dbi.html로 복사하는데 문제가 발생했습니다: Permission denied\"Warning message in file.copy(savedcopy, lib, recursive = TRUE):\n",
      "\"C:\\ProgramData\\Anaconda3\\Lib\\R\\library\\00LOCK\\dplyr\\html\\src_local.html를 C:\\ProgramData\\Anaconda3\\Lib\\R\\library\\dplyr\\html\\src_local.html로 복사하는데 문제가 발생했습니다: Permission denied\"Warning message in file.copy(savedcopy, lib, recursive = TRUE):\n",
      "\"C:\\ProgramData\\Anaconda3\\Lib\\R\\library\\00LOCK\\dplyr\\html\\src_tbls.html를 C:\\ProgramData\\Anaconda3\\Lib\\R\\library\\dplyr\\html\\src_tbls.html로 복사하는데 문제가 발생했습니다: Permission denied\"Warning message in file.copy(savedcopy, lib, recursive = TRUE):\n",
      "\"C:\\ProgramData\\Anaconda3\\Lib\\R\\library\\00LOCK\\dplyr\\html\\starwars.html를 C:\\ProgramData\\Anaconda3\\Lib\\R\\library\\dplyr\\html\\starwars.html로 복사하는데 문제가 발생했습니다: Permission denied\"Warning message in file.copy(savedcopy, lib, recursive = TRUE):\n",
      "\"C:\\ProgramData\\Anaconda3\\Lib\\R\\library\\00LOCK\\dplyr\\html\\storms.html를 C:\\ProgramData\\Anaconda3\\Lib\\R\\library\\dplyr\\html\\storms.html로 복사하는데 문제가 발생했습니다: Permission denied\"Warning message in file.copy(savedcopy, lib, recursive = TRUE):\n",
      "\"C:\\ProgramData\\Anaconda3\\Lib\\R\\library\\00LOCK\\dplyr\\html\\summarise.html를 C:\\ProgramData\\Anaconda3\\Lib\\R\\library\\dplyr\\html\\summarise.html로 복사하는데 문제가 발생했습니다: Permission denied\"Warning message in file.copy(savedcopy, lib, recursive = TRUE):\n",
      "\"C:\\ProgramData\\Anaconda3\\Lib\\R\\library\\00LOCK\\dplyr\\html\\summarise_all.html를 C:\\ProgramData\\Anaconda3\\Lib\\R\\library\\dplyr\\html\\summarise_all.html로 복사하는데 문제가 발생했습니다: Permission denied\"Warning message in file.copy(savedcopy, lib, recursive = TRUE):\n",
      "\"C:\\ProgramData\\Anaconda3\\Lib\\R\\library\\00LOCK\\dplyr\\html\\summarise_each.html를 C:\\ProgramData\\Anaconda3\\Lib\\R\\library\\dplyr\\html\\summarise_each.html로 복사하는데 문제가 발생했습니다: Permission denied\"Warning message in file.copy(savedcopy, lib, recursive = TRUE):\n",
      "\"C:\\ProgramData\\Anaconda3\\Lib\\R\\library\\00LOCK\\dplyr\\html\\tally.html를 C:\\ProgramData\\Anaconda3\\Lib\\R\\library\\dplyr\\html\\tally.html로 복사하는데 문제가 발생했습니다: Permission denied\"Warning message in file.copy(savedcopy, lib, recursive = TRUE):\n",
      "\"C:\\ProgramData\\Anaconda3\\Lib\\R\\library\\00LOCK\\dplyr\\html\\tbl.html를 C:\\ProgramData\\Anaconda3\\Lib\\R\\library\\dplyr\\html\\tbl.html로 복사하는데 문제가 발생했습니다: Permission denied\"Warning message in file.copy(savedcopy, lib, recursive = TRUE):\n",
      "\"C:\\ProgramData\\Anaconda3\\Lib\\R\\library\\00LOCK\\dplyr\\html\\tbl_cube.html를 C:\\ProgramData\\Anaconda3\\Lib\\R\\library\\dplyr\\html\\tbl_cube.html로 복사하는데 문제가 발생했습니다: Permission denied\"Warning message in file.copy(savedcopy, lib, recursive = TRUE):\n",
      "\"C:\\ProgramData\\Anaconda3\\Lib\\R\\library\\00LOCK\\dplyr\\html\\tbl_df.html를 C:\\ProgramData\\Anaconda3\\Lib\\R\\library\\dplyr\\html\\tbl_df.html로 복사하는데 문제가 발생했습니다: Permission denied\"Warning message in file.copy(savedcopy, lib, recursive = TRUE):\n",
      "\"C:\\ProgramData\\Anaconda3\\Lib\\R\\library\\00LOCK\\dplyr\\html\\tbl_vars.html를 C:\\ProgramData\\Anaconda3\\Lib\\R\\library\\dplyr\\html\\tbl_vars.html로 복사하는데 문제가 발생했습니다: Permission denied\"Warning message in file.copy(savedcopy, lib, recursive = TRUE):\n",
      "\"C:\\ProgramData\\Anaconda3\\Lib\\R\\library\\00LOCK\\dplyr\\html\\tidyeval.html를 C:\\ProgramData\\Anaconda3\\Lib\\R\\library\\dplyr\\html\\tidyeval.html로 복사하는데 문제가 발생했습니다: Permission denied\"Warning message in file.copy(savedcopy, lib, recursive = TRUE):\n",
      "\"C:\\ProgramData\\Anaconda3\\Lib\\R\\library\\00LOCK\\dplyr\\html\\top_n.html를 C:\\ProgramData\\Anaconda3\\Lib\\R\\library\\dplyr\\html\\top_n.html로 복사하는데 문제가 발생했습니다: Permission denied\"Warning message in file.copy(savedcopy, lib, recursive = TRUE):\n",
      "\"C:\\ProgramData\\Anaconda3\\Lib\\R\\library\\00LOCK\\dplyr\\html\\vars.html를 C:\\ProgramData\\Anaconda3\\Lib\\R\\library\\dplyr\\html\\vars.html로 복사하는데 문제가 발생했습니다: Permission denied\"Warning message in file.copy(savedcopy, lib, recursive = TRUE):\n",
      "\"C:\\ProgramData\\Anaconda3\\Lib\\R\\library\\00LOCK\\dplyr\\html\\with_order.html를 C:\\ProgramData\\Anaconda3\\Lib\\R\\library\\dplyr\\html\\with_order.html로 복사하는데 문제가 발생했습니다: Permission denied\"Warning message in file.copy(savedcopy, lib, recursive = TRUE):\n",
      "\"C:\\ProgramData\\Anaconda3\\Lib\\R\\library\\00LOCK\\dplyr\\include\\dplyr\\allow_list.h를 C:\\ProgramData\\Anaconda3\\Lib\\R\\library\\dplyr\\include\\dplyr\\allow_list.h로 복사하는데 문제가 발생했습니다: Permission denied\"Warning message in file.copy(savedcopy, lib, recursive = TRUE):\n",
      "\"C:\\ProgramData\\Anaconda3\\Lib\\R\\library\\00LOCK\\dplyr\\include\\dplyr\\checks.h를 C:\\ProgramData\\Anaconda3\\Lib\\R\\library\\dplyr\\include\\dplyr\\checks.h로 복사하는데 문제가 발생했습니다: Permission denied\"Warning message in file.copy(savedcopy, lib, recursive = TRUE):\n",
      "\"C:\\ProgramData\\Anaconda3\\Lib\\R\\library\\00LOCK\\dplyr\\include\\dplyr\\Collecter.h를 C:\\ProgramData\\Anaconda3\\Lib\\R\\library\\dplyr\\include\\dplyr\\Collecter.h로 복사하는데 문제가 발생했습니다: Permission denied\"Warning message in file.copy(savedcopy, lib, recursive = TRUE):\n",
      "\"C:\\ProgramData\\Anaconda3\\Lib\\R\\library\\00LOCK\\dplyr\\include\\dplyr\\config.h를 C:\\ProgramData\\Anaconda3\\Lib\\R\\library\\dplyr\\include\\dplyr\\config.h로 복사하는데 문제가 발생했습니다: Permission denied\"Warning message in file.copy(savedcopy, lib, recursive = TRUE):\n",
      "\"C:\\ProgramData\\Anaconda3\\Lib\\R\\library\\00LOCK\\dplyr\\include\\dplyr\\data\\DataMask.h를 C:\\ProgramData\\Anaconda3\\Lib\\R\\library\\dplyr\\include\\dplyr\\data\\DataMask.h로 복사하는데 문제가 발생했습니다: Permission denied\"Warning message in file.copy(savedcopy, lib, recursive = TRUE):\n",
      "\"C:\\ProgramData\\Anaconda3\\Lib\\R\\library\\00LOCK\\dplyr\\include\\dplyr\\data\\GroupedDataFrame.h를 C:\\ProgramData\\Anaconda3\\Lib\\R\\library\\dplyr\\include\\dplyr\\data\\GroupedDataFrame.h로 복사하는데 문제가 발생했습니다: Permission denied\"Warning message in file.copy(savedcopy, lib, recursive = TRUE):\n",
      "\"C:\\ProgramData\\Anaconda3\\Lib\\R\\library\\00LOCK\\dplyr\\include\\dplyr\\data\\NaturalDataFrame.h를 C:\\ProgramData\\Anaconda3\\Lib\\R\\library\\dplyr\\include\\dplyr\\data\\NaturalDataFrame.h로 복사하는데 문제가 발생했습니다: Permission denied\"Warning message in file.copy(savedcopy, lib, recursive = TRUE):\n",
      "\"C:\\ProgramData\\Anaconda3\\Lib\\R\\library\\00LOCK\\dplyr\\include\\dplyr\\data\\RowwiseDataFrame.h를 C:\\ProgramData\\Anaconda3\\Lib\\R\\library\\dplyr\\include\\dplyr\\data\\RowwiseDataFrame.h로 복사하는데 문제가 발생했습니다: Permission denied\"Warning message in file.copy(savedcopy, lib, recursive = TRUE):\n",
      "\"C:\\ProgramData\\Anaconda3\\Lib\\R\\library\\00LOCK\\dplyr\\include\\dplyr\\dplyr.h를 C:\\ProgramData\\Anaconda3\\Lib\\R\\library\\dplyr\\include\\dplyr\\dplyr.h로 복사하는데 문제가 발생했습니다: Permission denied\"Warning message in file.copy(savedcopy, lib, recursive = TRUE):\n",
      "\"C:\\ProgramData\\Anaconda3\\Lib\\R\\library\\00LOCK\\dplyr\\include\\dplyr\\Groups.h를 C:\\ProgramData\\Anaconda3\\Lib\\R\\library\\dplyr\\include\\dplyr\\Groups.h로 복사하는데 문제가 발생했습니다: Permission denied\"Warning message in file.copy(savedcopy, lib, recursive = TRUE):\n",
      "\"C:\\ProgramData\\Anaconda3\\Lib\\R\\library\\00LOCK\\dplyr\\include\\dplyr\\hybrid\\Column.h를 C:\\ProgramData\\Anaconda3\\Lib\\R\\library\\dplyr\\include\\dplyr\\hybrid\\Column.h로 복사하는데 문제가 발생했습니다: Permission denied\"Warning message in file.copy(savedcopy, lib, recursive = TRUE):\n",
      "\"C:\\ProgramData\\Anaconda3\\Lib\\R\\library\\00LOCK\\dplyr\\include\\dplyr\\hybrid\\Dispatch.h를 C:\\ProgramData\\Anaconda3\\Lib\\R\\library\\dplyr\\include\\dplyr\\hybrid\\Dispatch.h로 복사하는데 문제가 발생했습니다: Permission denied\"Warning message in file.copy(savedcopy, lib, recursive = TRUE):\n",
      "\"C:\\ProgramData\\Anaconda3\\Lib\\R\\library\\00LOCK\\dplyr\\include\\dplyr\\hybrid\\Expression.h를 C:\\ProgramData\\Anaconda3\\Lib\\R\\library\\dplyr\\include\\dplyr\\hybrid\\Expression.h로 복사하는데 문제가 발생했습니다: Permission denied\"Warning message in file.copy(savedcopy, lib, recursive = TRUE):\n",
      "\"C:\\ProgramData\\Anaconda3\\Lib\\R\\library\\00LOCK\\dplyr\\include\\dplyr\\hybrid\\hybrid.h를 C:\\ProgramData\\Anaconda3\\Lib\\R\\library\\dplyr\\include\\dplyr\\hybrid\\hybrid.h로 복사하는데 문제가 발생했습니다: Permission denied\"Warning message in file.copy(savedcopy, lib, recursive = TRUE):\n",
      "\"C:\\ProgramData\\Anaconda3\\Lib\\R\\library\\00LOCK\\dplyr\\include\\dplyr\\hybrid\\HybridVectorScalarResult.h를 C:\\ProgramData\\Anaconda3\\Lib\\R\\library\\dplyr\\include\\dplyr\\hybrid\\HybridVectorScalarResult.h로 복사하는데 문제가 발생했습니다: Permission denied\"Warning message in file.copy(savedcopy, lib, recursive = TRUE):\n",
      "\"C:\\ProgramData\\Anaconda3\\Lib\\R\\library\\00LOCK\\dplyr\\include\\dplyr\\hybrid\\HybridVectorSummaryRecycleResult.h를 C:\\ProgramData\\Anaconda3\\Lib\\R\\library\\dplyr\\include\\dplyr\\hybrid\\HybridVectorSummaryRecycleResult.h로 복사하는데 문제가 발생했습니다: Permission denied\"Warning message in file.copy(savedcopy, lib, recursive = TRUE):\n",
      "\"C:\\ProgramData\\Anaconda3\\Lib\\R\\library\\00LOCK\\dplyr\\include\\dplyr\\hybrid\\HybridVectorVectorResult.h를 C:\\ProgramData\\Anaconda3\\Lib\\R\\library\\dplyr\\include\\dplyr\\hybrid\\HybridVectorVectorResult.h로 복사하는데 문제가 발생했습니다: Permission denied\"Warning message in file.copy(savedcopy, lib, recursive = TRUE):\n",
      "\"C:\\ProgramData\\Anaconda3\\Lib\\R\\library\\00LOCK\\dplyr\\include\\dplyr\\hybrid\\scalar_result\\first_last.h를 C:\\ProgramData\\Anaconda3\\Lib\\R\\library\\dplyr\\include\\dplyr\\hybrid\\scalar_result\\first_last.h로 복사하는데 문제가 발생했습니다: Permission denied\"Warning message in file.copy(savedcopy, lib, recursive = TRUE):\n",
      "\"C:\\ProgramData\\Anaconda3\\Lib\\R\\library\\00LOCK\\dplyr\\include\\dplyr\\hybrid\\scalar_result\\group_indices.h를 C:\\ProgramData\\Anaconda3\\Lib\\R\\library\\dplyr\\include\\dplyr\\hybrid\\scalar_result\\group_indices.h로 복사하는데 문제가 발생했습니다: Permission denied\"Warning message in file.copy(savedcopy, lib, recursive = TRUE):\n",
      "\"C:\\ProgramData\\Anaconda3\\Lib\\R\\library\\00LOCK\\dplyr\\include\\dplyr\\hybrid\\scalar_result\\mean_sd_var.h를 C:\\ProgramData\\Anaconda3\\Lib\\R\\library\\dplyr\\include\\dplyr\\hybrid\\scalar_result\\mean_sd_var.h로 복사하는데 문제가 발생했습니다: Permission denied\"Warning message in file.copy(savedcopy, lib, recursive = TRUE):\n",
      "\"C:\\ProgramData\\Anaconda3\\Lib\\R\\library\\00LOCK\\dplyr\\include\\dplyr\\hybrid\\scalar_result\\min_max.h를 C:\\ProgramData\\Anaconda3\\Lib\\R\\library\\dplyr\\include\\dplyr\\hybrid\\scalar_result\\min_max.h로 복사하는데 문제가 발생했습니다: Permission denied\"Warning message in file.copy(savedcopy, lib, recursive = TRUE):\n",
      "\"C:\\ProgramData\\Anaconda3\\Lib\\R\\library\\00LOCK\\dplyr\\include\\dplyr\\hybrid\\scalar_result\\n.h를 C:\\ProgramData\\Anaconda3\\Lib\\R\\library\\dplyr\\include\\dplyr\\hybrid\\scalar_result\\n.h로 복사하는데 문제가 발생했습니다: Permission denied\"Warning message in file.copy(savedcopy, lib, recursive = TRUE):\n",
      "\"C:\\ProgramData\\Anaconda3\\Lib\\R\\library\\00LOCK\\dplyr\\include\\dplyr\\hybrid\\scalar_result\\n_distinct.h를 C:\\ProgramData\\Anaconda3\\Lib\\R\\library\\dplyr\\include\\dplyr\\hybrid\\scalar_result\\n_distinct.h로 복사하는데 문제가 발생했습니다: Permission denied\"Warning message in file.copy(savedcopy, lib, recursive = TRUE):\n",
      "\"C:\\ProgramData\\Anaconda3\\Lib\\R\\library\\00LOCK\\dplyr\\include\\dplyr\\hybrid\\scalar_result\\sum.h를 C:\\ProgramData\\Anaconda3\\Lib\\R\\library\\dplyr\\include\\dplyr\\hybrid\\scalar_result\\sum.h로 복사하는데 문제가 발생했습니다: Permission denied\"Warning message in file.copy(savedcopy, lib, recursive = TRUE):\n",
      "\"C:\\ProgramData\\Anaconda3\\Lib\\R\\library\\00LOCK\\dplyr\\include\\dplyr\\hybrid\\vector_result\\echo.h를 C:\\ProgramData\\Anaconda3\\Lib\\R\\library\\dplyr\\include\\dplyr\\hybrid\\vector_result\\echo.h로 복사하는데 문제가 발생했습니다: Permission denied\"Warning message in file.copy(savedcopy, lib, recursive = TRUE):\n",
      "\"C:\\ProgramData\\Anaconda3\\Lib\\R\\library\\00LOCK\\dplyr\\include\\dplyr\\hybrid\\vector_result\\in.h를 C:\\ProgramData\\Anaconda3\\Lib\\R\\library\\dplyr\\include\\dplyr\\hybrid\\vector_result\\in.h로 복사하는데 문제가 발생했습니다: Permission denied\"Warning message in file.copy(savedcopy, lib, recursive = TRUE):\n",
      "\"C:\\ProgramData\\Anaconda3\\Lib\\R\\library\\00LOCK\\dplyr\\include\\dplyr\\hybrid\\vector_result\\lead_lag.h를 C:\\ProgramData\\Anaconda3\\Lib\\R\\library\\dplyr\\include\\dplyr\\hybrid\\vector_result\\lead_lag.h로 복사하는데 문제가 발생했습니다: Permission denied\"Warning message in file.copy(savedcopy, lib, recursive = TRUE):\n",
      "\"C:\\ProgramData\\Anaconda3\\Lib\\R\\library\\00LOCK\\dplyr\\include\\dplyr\\hybrid\\vector_result\\ntile.h를 C:\\ProgramData\\Anaconda3\\Lib\\R\\library\\dplyr\\include\\dplyr\\hybrid\\vector_result\\ntile.h로 복사하는데 문제가 발생했습니다: Permission denied\"Warning message in file.copy(savedcopy, lib, recursive = TRUE):\n",
      "\"C:\\ProgramData\\Anaconda3\\Lib\\R\\library\\00LOCK\\dplyr\\include\\dplyr\\hybrid\\vector_result\\rank.h를 C:\\ProgramData\\Anaconda3\\Lib\\R\\library\\dplyr\\include\\dplyr\\hybrid\\vector_result\\rank.h로 복사하는데 문제가 발생했습니다: Permission denied\"Warning message in file.copy(savedcopy, lib, recursive = TRUE):\n",
      "\"C:\\ProgramData\\Anaconda3\\Lib\\R\\library\\00LOCK\\dplyr\\include\\dplyr\\hybrid\\vector_result\\row_number.h를 C:\\ProgramData\\Anaconda3\\Lib\\R\\library\\dplyr\\include\\dplyr\\hybrid\\vector_result\\row_number.h로 복사하는데 문제가 발생했습니다: Permission denied\"Warning message in file.copy(savedcopy, lib, recursive = TRUE):\n",
      "\"C:\\ProgramData\\Anaconda3\\Lib\\R\\library\\00LOCK\\dplyr\\include\\dplyr\\lifecycle.h를 C:\\ProgramData\\Anaconda3\\Lib\\R\\library\\dplyr\\include\\dplyr\\lifecycle.h로 복사하는데 문제가 발생했습니다: Permission denied\"Warning message in file.copy(savedcopy, lib, recursive = TRUE):\n",
      "\"C:\\ProgramData\\Anaconda3\\Lib\\R\\library\\00LOCK\\dplyr\\include\\dplyr\\main.h를 C:\\ProgramData\\Anaconda3\\Lib\\R\\library\\dplyr\\include\\dplyr\\main.h로 복사하는데 문제가 발생했습니다: Permission denied\"Warning message in file.copy(savedcopy, lib, recursive = TRUE):\n",
      "\"C:\\ProgramData\\Anaconda3\\Lib\\R\\library\\00LOCK\\dplyr\\include\\dplyr\\NamedListAccumulator.h를 C:\\ProgramData\\Anaconda3\\Lib\\R\\library\\dplyr\\include\\dplyr\\NamedListAccumulator.h로 복사하는데 문제가 발생했습니다: Permission denied\"Warning message in file.copy(savedcopy, lib, recursive = TRUE):\n",
      "\"C:\\ProgramData\\Anaconda3\\Lib\\R\\library\\00LOCK\\dplyr\\include\\dplyr\\registration.h를 C:\\ProgramData\\Anaconda3\\Lib\\R\\library\\dplyr\\include\\dplyr\\registration.h로 복사하는데 문제가 발생했습니다: Permission denied\"Warning message in file.copy(savedcopy, lib, recursive = TRUE):\n",
      "\"C:\\ProgramData\\Anaconda3\\Lib\\R\\library\\00LOCK\\dplyr\\include\\dplyr\\standard\\GroupedCallReducer.h를 C:\\ProgramData\\Anaconda3\\Lib\\R\\library\\dplyr\\include\\dplyr\\standard\\GroupedCallReducer.h로 복사하는데 문제가 발생했습니다: Permission denied\"Warning message in file.copy(savedcopy, lib, recursive = TRUE):\n",
      "\"C:\\ProgramData\\Anaconda3\\Lib\\R\\library\\00LOCK\\dplyr\\include\\dplyr\\symbols.h를 C:\\ProgramData\\Anaconda3\\Lib\\R\\library\\dplyr\\include\\dplyr\\symbols.h로 복사하는데 문제가 발생했습니다: Permission denied\"Warning message in file.copy(savedcopy, lib, recursive = TRUE):\n",
      "\"C:\\ProgramData\\Anaconda3\\Lib\\R\\library\\00LOCK\\dplyr\\include\\dplyr\\visitors\\CharacterVectorOrderer.h를 C:\\ProgramData\\Anaconda3\\Lib\\R\\library\\dplyr\\include\\dplyr\\visitors\\CharacterVectorOrderer.h로 복사하는데 문제가 발생했습니다: Permission denied\"Warning message in file.copy(savedcopy, lib, recursive = TRUE):\n",
      "\"C:\\ProgramData\\Anaconda3\\Lib\\R\\library\\00LOCK\\dplyr\\include\\dplyr\\visitors\\Comparer.h를 C:\\ProgramData\\Anaconda3\\Lib\\R\\library\\dplyr\\include\\dplyr\\visitors\\Comparer.h로 복사하는데 문제가 발생했습니다: Permission denied\"Warning message in file.copy(savedcopy, lib, recursive = TRUE):\n",
      "\"C:\\ProgramData\\Anaconda3\\Lib\\R\\library\\00LOCK\\dplyr\\include\\dplyr\\visitors\\join\\Column.h를 C:\\ProgramData\\Anaconda3\\Lib\\R\\library\\dplyr\\include\\dplyr\\visitors\\join\\Column.h로 복사하는데 문제가 발생했습니다: Permission denied\"Warning message in file.copy(savedcopy, lib, recursive = TRUE):\n",
      "\"C:\\ProgramData\\Anaconda3\\Lib\\R\\library\\00LOCK\\dplyr\\include\\dplyr\\visitors\\join\\DataFrameJoinVisitors.h를 C:\\ProgramData\\Anaconda3\\Lib\\R\\library\\dplyr\\include\\dplyr\\visitors\\join\\DataFrameJoinVisitors.h로 복사하는데 문제가 발생했습니다: Permission denied\"Warning message in file.copy(savedcopy, lib, recursive = TRUE):\n",
      "\"C:\\ProgramData\\Anaconda3\\Lib\\R\\library\\00LOCK\\dplyr\\include\\dplyr\\visitors\\join\\JoinVisitor.h를 C:\\ProgramData\\Anaconda3\\Lib\\R\\library\\dplyr\\include\\dplyr\\visitors\\join\\JoinVisitor.h로 복사하는데 문제가 발생했습니다: Permission denied\"Warning message in file.copy(savedcopy, lib, recursive = TRUE):\n",
      "\"C:\\ProgramData\\Anaconda3\\Lib\\R\\library\\00LOCK\\dplyr\\include\\dplyr\\visitors\\join\\JoinVisitorImpl.h를 C:\\ProgramData\\Anaconda3\\Lib\\R\\library\\dplyr\\include\\dplyr\\visitors\\join\\JoinVisitorImpl.h로 복사하는데 문제가 발생했습니다: Permission denied\"Warning message in file.copy(savedcopy, lib, recursive = TRUE):\n",
      "\"C:\\ProgramData\\Anaconda3\\Lib\\R\\library\\00LOCK\\dplyr\\include\\dplyr\\visitors\\join\\join_match.h를 C:\\ProgramData\\Anaconda3\\Lib\\R\\library\\dplyr\\include\\dplyr\\visitors\\join\\join_match.h로 복사하는데 문제가 발생했습니다: Permission denied\"Warning message in file.copy(savedcopy, lib, recursive = TRUE):\n",
      "\"C:\\ProgramData\\Anaconda3\\Lib\\R\\library\\00LOCK\\dplyr\\include\\dplyr\\visitors\\order\\Order.h를 C:\\ProgramData\\Anaconda3\\Lib\\R\\library\\dplyr\\include\\dplyr\\visitors\\order\\Order.h로 복사하는데 문제가 발생했습니다: Permission denied\"Warning message in file.copy(savedcopy, lib, recursive = TRUE):\n",
      "\"C:\\ProgramData\\Anaconda3\\Lib\\R\\library\\00LOCK\\dplyr\\include\\dplyr\\visitors\\order\\OrderVisitor.h를 C:\\ProgramData\\Anaconda3\\Lib\\R\\library\\dplyr\\include\\dplyr\\visitors\\order\\OrderVisitor.h로 복사하는데 문제가 발생했습니다: Permission denied\"Warning message in file.copy(savedcopy, lib, recursive = TRUE):\n",
      "\"C:\\ProgramData\\Anaconda3\\Lib\\R\\library\\00LOCK\\dplyr\\include\\dplyr\\visitors\\order\\OrderVisitorImpl.h를 C:\\ProgramData\\Anaconda3\\Lib\\R\\library\\dplyr\\include\\dplyr\\visitors\\order\\OrderVisitorImpl.h로 복사하는데 문제가 발생했습니다: Permission denied\"Warning message in file.copy(savedcopy, lib, recursive = TRUE):\n",
      "\"C:\\ProgramData\\Anaconda3\\Lib\\R\\library\\00LOCK\\dplyr\\include\\dplyr\\visitors\\SliceVisitor.h를 C:\\ProgramData\\Anaconda3\\Lib\\R\\library\\dplyr\\include\\dplyr\\visitors\\SliceVisitor.h로 복사하는데 문제가 발생했습니다: Permission denied\"Warning message in file.copy(savedcopy, lib, recursive = TRUE):\n",
      "\"C:\\ProgramData\\Anaconda3\\Lib\\R\\library\\00LOCK\\dplyr\\include\\dplyr\\visitors\\subset\\column_subset.h를 C:\\ProgramData\\Anaconda3\\Lib\\R\\library\\dplyr\\include\\dplyr\\visitors\\subset\\column_subset.h로 복사하는데 문제가 발생했습니다: Permission denied\"Warning message in file.copy(savedcopy, lib, recursive = TRUE):\n",
      "\"C:\\ProgramData\\Anaconda3\\Lib\\R\\library\\00LOCK\\dplyr\\include\\dplyr\\visitors\\subset\\DataFrameSelect.h를 C:\\ProgramData\\Anaconda3\\Lib\\R\\library\\dplyr\\include\\dplyr\\visitors\\subset\\DataFrameSelect.h로 복사하는데 문제가 발생했습니다: Permission denied\"Warning message in file.copy(savedcopy, lib, recursive = TRUE):\n",
      "\"C:\\ProgramData\\Anaconda3\\Lib\\R\\library\\00LOCK\\dplyr\\include\\dplyr\\visitors\\subset\\DataFrameSubsetVisitors.h를 C:\\ProgramData\\Anaconda3\\Lib\\R\\library\\dplyr\\include\\dplyr\\visitors\\subset\\DataFrameSubsetVisitors.h로 복사하는데 문제가 발생했습니다: Permission denied\"Warning message in file.copy(savedcopy, lib, recursive = TRUE):\n",
      "\"C:\\ProgramData\\Anaconda3\\Lib\\R\\library\\00LOCK\\dplyr\\include\\dplyr\\visitors\\vector\\DataFrameColumnVisitor.h를 C:\\ProgramData\\Anaconda3\\Lib\\R\\library\\dplyr\\include\\dplyr\\visitors\\vector\\DataFrameColumnVisitor.h로 복사하는데 문제가 발생했습니다: Permission denied\"Warning message in file.copy(savedcopy, lib, recursive = TRUE):\n",
      "\"C:\\ProgramData\\Anaconda3\\Lib\\R\\library\\00LOCK\\dplyr\\include\\dplyr\\visitors\\vector\\DataFrameVisitors.h를 C:\\ProgramData\\Anaconda3\\Lib\\R\\library\\dplyr\\include\\dplyr\\visitors\\vector\\DataFrameVisitors.h로 복사하는데 문제가 발생했습니다: Permission denied\"Warning message in file.copy(savedcopy, lib, recursive = TRUE):\n",
      "\"C:\\ProgramData\\Anaconda3\\Lib\\R\\library\\00LOCK\\dplyr\\include\\dplyr\\visitors\\vector\\MatrixColumnVisitor.h를 C:\\ProgramData\\Anaconda3\\Lib\\R\\library\\dplyr\\include\\dplyr\\visitors\\vector\\MatrixColumnVisitor.h로 복사하는데 문제가 발생했습니다: Permission denied\"Warning message in file.copy(savedcopy, lib, recursive = TRUE):\n",
      "\"C:\\ProgramData\\Anaconda3\\Lib\\R\\library\\00LOCK\\dplyr\\include\\dplyr\\visitors\\vector\\MultipleVectorVisitors.h를 C:\\ProgramData\\Anaconda3\\Lib\\R\\library\\dplyr\\include\\dplyr\\visitors\\vector\\MultipleVectorVisitors.h로 복사하는데 문제가 발생했습니다: Permission denied\"Warning message in file.copy(savedcopy, lib, recursive = TRUE):\n",
      "\"C:\\ProgramData\\Anaconda3\\Lib\\R\\library\\00LOCK\\dplyr\\include\\dplyr\\visitors\\vector\\VectorVisitor.h를 C:\\ProgramData\\Anaconda3\\Lib\\R\\library\\dplyr\\include\\dplyr\\visitors\\vector\\VectorVisitor.h로 복사하는데 문제가 발생했습니다: Permission denied\"Warning message in file.copy(savedcopy, lib, recursive = TRUE):\n",
      "\"C:\\ProgramData\\Anaconda3\\Lib\\R\\library\\00LOCK\\dplyr\\include\\dplyr\\visitors\\vector\\VectorVisitorImpl.h를 C:\\ProgramData\\Anaconda3\\Lib\\R\\library\\dplyr\\include\\dplyr\\visitors\\vector\\VectorVisitorImpl.h로 복사하는데 문제가 발생했습니다: Permission denied\"Warning message in file.copy(savedcopy, lib, recursive = TRUE):\n",
      "\"C:\\ProgramData\\Anaconda3\\Lib\\R\\library\\00LOCK\\dplyr\\include\\dplyr\\visitors\\vector\\visitor.h를 C:\\ProgramData\\Anaconda3\\Lib\\R\\library\\dplyr\\include\\dplyr\\visitors\\vector\\visitor.h로 복사하는데 문제가 발생했습니다: Permission denied\"Warning message in file.copy(savedcopy, lib, recursive = TRUE):\n",
      "\"C:\\ProgramData\\Anaconda3\\Lib\\R\\library\\00LOCK\\dplyr\\include\\dplyr\\visitors\\vector\\visitor_impl.h를 C:\\ProgramData\\Anaconda3\\Lib\\R\\library\\dplyr\\include\\dplyr\\visitors\\vector\\visitor_impl.h로 복사하는데 문제가 발생했습니다: Permission denied\"Warning message in file.copy(savedcopy, lib, recursive = TRUE):\n",
      "\"C:\\ProgramData\\Anaconda3\\Lib\\R\\library\\00LOCK\\dplyr\\include\\dplyr\\visitor_set\\VisitorEqualPredicate.h를 C:\\ProgramData\\Anaconda3\\Lib\\R\\library\\dplyr\\include\\dplyr\\visitor_set\\VisitorEqualPredicate.h로 복사하는데 문제가 발생했습니다: Permission denied\"Warning message in file.copy(savedcopy, lib, recursive = TRUE):\n",
      "\"C:\\ProgramData\\Anaconda3\\Lib\\R\\library\\00LOCK\\dplyr\\include\\dplyr\\visitor_set\\VisitorHash.h를 C:\\ProgramData\\Anaconda3\\Lib\\R\\library\\dplyr\\include\\dplyr\\visitor_set\\VisitorHash.h로 복사하는데 문제가 발생했습니다: Permission denied\"Warning message in file.copy(savedcopy, lib, recursive = TRUE):\n",
      "\"C:\\ProgramData\\Anaconda3\\Lib\\R\\library\\00LOCK\\dplyr\\include\\dplyr\\visitor_set\\VisitorSetEqual.h를 C:\\ProgramData\\Anaconda3\\Lib\\R\\library\\dplyr\\include\\dplyr\\visitor_set\\VisitorSetEqual.h로 복사하는데 문제가 발생했습니다: Permission denied\"Warning message in file.copy(savedcopy, lib, recursive = TRUE):\n",
      "\"C:\\ProgramData\\Anaconda3\\Lib\\R\\library\\00LOCK\\dplyr\\include\\dplyr\\visitor_set\\VisitorSetEqualPredicate.h를 C:\\ProgramData\\Anaconda3\\Lib\\R\\library\\dplyr\\include\\dplyr\\visitor_set\\VisitorSetEqualPredicate.h로 복사하는데 문제가 발생했습니다: Permission denied\"Warning message in file.copy(savedcopy, lib, recursive = TRUE):\n",
      "\"C:\\ProgramData\\Anaconda3\\Lib\\R\\library\\00LOCK\\dplyr\\include\\dplyr\\visitor_set\\VisitorSetGreater.h를 C:\\ProgramData\\Anaconda3\\Lib\\R\\library\\dplyr\\include\\dplyr\\visitor_set\\VisitorSetGreater.h로 복사하는데 문제가 발생했습니다: Permission denied\"Warning message in file.copy(savedcopy, lib, recursive = TRUE):\n",
      "\"C:\\ProgramData\\Anaconda3\\Lib\\R\\library\\00LOCK\\dplyr\\include\\dplyr\\visitor_set\\VisitorSetHash.h를 C:\\ProgramData\\Anaconda3\\Lib\\R\\library\\dplyr\\include\\dplyr\\visitor_set\\VisitorSetHash.h로 복사하는데 문제가 발생했습니다: Permission denied\"Warning message in file.copy(savedcopy, lib, recursive = TRUE):\n",
      "\"C:\\ProgramData\\Anaconda3\\Lib\\R\\library\\00LOCK\\dplyr\\include\\dplyr\\visitor_set\\VisitorSetHasher.h를 C:\\ProgramData\\Anaconda3\\Lib\\R\\library\\dplyr\\include\\dplyr\\visitor_set\\VisitorSetHasher.h로 복사하는데 문제가 발생했습니다: Permission denied\"Warning message in file.copy(savedcopy, lib, recursive = TRUE):\n",
      "\"C:\\ProgramData\\Anaconda3\\Lib\\R\\library\\00LOCK\\dplyr\\include\\dplyr\\visitor_set\\VisitorSetIndexMap.h를 C:\\ProgramData\\Anaconda3\\Lib\\R\\library\\dplyr\\include\\dplyr\\visitor_set\\VisitorSetIndexMap.h로 복사하는데 문제가 발생했습니다: Permission denied\"Warning message in file.copy(savedcopy, lib, recursive = TRUE):\n",
      "\"C:\\ProgramData\\Anaconda3\\Lib\\R\\library\\00LOCK\\dplyr\\include\\dplyr\\visitor_set\\VisitorSetIndexSet.h를 C:\\ProgramData\\Anaconda3\\Lib\\R\\library\\dplyr\\include\\dplyr\\visitor_set\\VisitorSetIndexSet.h로 복사하는데 문제가 발생했습니다: Permission denied\"Warning message in file.copy(savedcopy, lib, recursive = TRUE):\n",
      "\"C:\\ProgramData\\Anaconda3\\Lib\\R\\library\\00LOCK\\dplyr\\include\\dplyr\\visitor_set\\VisitorSetLess.h를 C:\\ProgramData\\Anaconda3\\Lib\\R\\library\\dplyr\\include\\dplyr\\visitor_set\\VisitorSetLess.h로 복사하는데 문제가 발생했습니다: Permission denied\"Warning message in file.copy(savedcopy, lib, recursive = TRUE):\n",
      "\"C:\\ProgramData\\Anaconda3\\Lib\\R\\library\\00LOCK\\dplyr\\include\\dplyr\\visitor_set\\visitor_set.h를 C:\\ProgramData\\Anaconda3\\Lib\\R\\library\\dplyr\\include\\dplyr\\visitor_set\\visitor_set.h로 복사하는데 문제가 발생했습니다: Permission denied\"Warning message in file.copy(savedcopy, lib, recursive = TRUE):\n",
      "\"C:\\ProgramData\\Anaconda3\\Lib\\R\\library\\00LOCK\\dplyr\\include\\dplyr\\workarounds\\installChar.h를 C:\\ProgramData\\Anaconda3\\Lib\\R\\library\\dplyr\\include\\dplyr\\workarounds\\installChar.h로 복사하는데 문제가 발생했습니다: Permission denied\"Warning message in file.copy(savedcopy, lib, recursive = TRUE):\n",
      "\"C:\\ProgramData\\Anaconda3\\Lib\\R\\library\\00LOCK\\dplyr\\include\\dplyr\\workarounds\\static_assert.h를 C:\\ProgramData\\Anaconda3\\Lib\\R\\library\\dplyr\\include\\dplyr\\workarounds\\static_assert.h로 복사하는데 문제가 발생했습니다: Permission denied\"Warning message in file.copy(savedcopy, lib, recursive = TRUE):\n",
      "\"C:\\ProgramData\\Anaconda3\\Lib\\R\\library\\00LOCK\\dplyr\\include\\dplyr\\workarounds\\xlen.h를 C:\\ProgramData\\Anaconda3\\Lib\\R\\library\\dplyr\\include\\dplyr\\workarounds\\xlen.h로 복사하는데 문제가 발생했습니다: Permission denied\"Warning message in file.copy(savedcopy, lib, recursive = TRUE):\n",
      "\"C:\\ProgramData\\Anaconda3\\Lib\\R\\library\\00LOCK\\dplyr\\include\\dplyr.h를 C:\\ProgramData\\Anaconda3\\Lib\\R\\library\\dplyr\\include\\dplyr.h로 복사하는데 문제가 발생했습니다: Permission denied\"Warning message in file.copy(savedcopy, lib, recursive = TRUE):\n",
      "\"C:\\ProgramData\\Anaconda3\\Lib\\R\\library\\00LOCK\\dplyr\\include\\dplyr_RcppExports.h를 C:\\ProgramData\\Anaconda3\\Lib\\R\\library\\dplyr\\include\\dplyr_RcppExports.h로 복사하는데 문제가 발생했습니다: Permission denied\"Warning message in file.copy(savedcopy, lib, recursive = TRUE):\n",
      "\"C:\\ProgramData\\Anaconda3\\Lib\\R\\library\\00LOCK\\dplyr\\include\\dplyr_types.h를 C:\\ProgramData\\Anaconda3\\Lib\\R\\library\\dplyr\\include\\dplyr_types.h로 복사하는데 문제가 발생했습니다: Permission denied\"Warning message in file.copy(savedcopy, lib, recursive = TRUE):\n",
      "\"C:\\ProgramData\\Anaconda3\\Lib\\R\\library\\00LOCK\\dplyr\\include\\solaris\\solaris.h를 C:\\ProgramData\\Anaconda3\\Lib\\R\\library\\dplyr\\include\\solaris\\solaris.h로 복사하는데 문제가 발생했습니다: Permission denied\"Warning message in file.copy(savedcopy, lib, recursive = TRUE):\n",
      "\"C:\\ProgramData\\Anaconda3\\Lib\\R\\library\\00LOCK\\dplyr\\include\\tools\\all_na.h를 C:\\ProgramData\\Anaconda3\\Lib\\R\\library\\dplyr\\include\\tools\\all_na.h로 복사하는데 문제가 발생했습니다: Permission denied\"Warning message in file.copy(savedcopy, lib, recursive = TRUE):\n",
      "\"C:\\ProgramData\\Anaconda3\\Lib\\R\\library\\00LOCK\\dplyr\\include\\tools\\bad.h를 C:\\ProgramData\\Anaconda3\\Lib\\R\\library\\dplyr\\include\\tools\\bad.h로 복사하는데 문제가 발생했습니다: Permission denied\"Warning message in file.copy(savedcopy, lib, recursive = TRUE):\n",
      "\"C:\\ProgramData\\Anaconda3\\Lib\\R\\library\\00LOCK\\dplyr\\include\\tools\\BoolResult.h를 C:\\ProgramData\\Anaconda3\\Lib\\R\\library\\dplyr\\include\\tools\\BoolResult.h로 복사하는데 문제가 발생했습니다: Permission denied\"Warning message in file.copy(savedcopy, lib, recursive = TRUE):\n",
      "\"C:\\ProgramData\\Anaconda3\\Lib\\R\\library\\00LOCK\\dplyr\\include\\tools\\collapse.h를 C:\\ProgramData\\Anaconda3\\Lib\\R\\library\\dplyr\\include\\tools\\collapse.h로 복사하는데 문제가 발생했습니다: Permission denied\"Warning message in file.copy(savedcopy, lib, recursive = TRUE):\n",
      "\"C:\\ProgramData\\Anaconda3\\Lib\\R\\library\\00LOCK\\dplyr\\include\\tools\\comparisons.h를 C:\\ProgramData\\Anaconda3\\Lib\\R\\library\\dplyr\\include\\tools\\comparisons.h로 복사하는데 문제가 발생했습니다: Permission denied\"Warning message in file.copy(savedcopy, lib, recursive = TRUE):\n",
      "\"C:\\ProgramData\\Anaconda3\\Lib\\R\\library\\00LOCK\\dplyr\\include\\tools\\debug.h를 C:\\ProgramData\\Anaconda3\\Lib\\R\\library\\dplyr\\include\\tools\\debug.h로 복사하는데 문제가 발생했습니다: Permission denied\"Warning message in file.copy(savedcopy, lib, recursive = TRUE):\n",
      "\"C:\\ProgramData\\Anaconda3\\Lib\\R\\library\\00LOCK\\dplyr\\include\\tools\\default_value.h를 C:\\ProgramData\\Anaconda3\\Lib\\R\\library\\dplyr\\include\\tools\\default_value.h로 복사하는데 문제가 발생했습니다: Permission denied\"Warning message in file.copy(savedcopy, lib, recursive = TRUE):\n",
      "\"C:\\ProgramData\\Anaconda3\\Lib\\R\\library\\00LOCK\\dplyr\\include\\tools\\encoding.h를 C:\\ProgramData\\Anaconda3\\Lib\\R\\library\\dplyr\\include\\tools\\encoding.h로 복사하는데 문제가 발생했습니다: Permission denied\"Warning message in file.copy(savedcopy, lib, recursive = TRUE):\n",
      "\"C:\\ProgramData\\Anaconda3\\Lib\\R\\library\\00LOCK\\dplyr\\include\\tools\\hash.h를 C:\\ProgramData\\Anaconda3\\Lib\\R\\library\\dplyr\\include\\tools\\hash.h로 복사하는데 문제가 발생했습니다: Permission denied\"Warning message in file.copy(savedcopy, lib, recursive = TRUE):\n",
      "\"C:\\ProgramData\\Anaconda3\\Lib\\R\\library\\00LOCK\\dplyr\\include\\tools\\match.h를 C:\\ProgramData\\Anaconda3\\Lib\\R\\library\\dplyr\\include\\tools\\match.h로 복사하는데 문제가 발생했습니다: Permission denied\"Warning message in file.copy(savedcopy, lib, recursive = TRUE):\n",
      "\"C:\\ProgramData\\Anaconda3\\Lib\\R\\library\\00LOCK\\dplyr\\include\\tools\\pointer_vector.h를 C:\\ProgramData\\Anaconda3\\Lib\\R\\library\\dplyr\\include\\tools\\pointer_vector.h로 복사하는데 문제가 발생했습니다: Permission denied\"Warning message in file.copy(savedcopy, lib, recursive = TRUE):\n",
      "\"C:\\ProgramData\\Anaconda3\\Lib\\R\\library\\00LOCK\\dplyr\\include\\tools\\Quosure.h를 C:\\ProgramData\\Anaconda3\\Lib\\R\\library\\dplyr\\include\\tools\\Quosure.h로 복사하는데 문제가 발생했습니다: Permission denied\"Warning message in file.copy(savedcopy, lib, recursive = TRUE):\n",
      "\"C:\\ProgramData\\Anaconda3\\Lib\\R\\library\\00LOCK\\dplyr\\include\\tools\\rlang-export.h를 C:\\ProgramData\\Anaconda3\\Lib\\R\\library\\dplyr\\include\\tools\\rlang-export.h로 복사하는데 문제가 발생했습니다: Permission denied\"Warning message in file.copy(savedcopy, lib, recursive = TRUE):\n",
      "\"C:\\ProgramData\\Anaconda3\\Lib\\R\\library\\00LOCK\\dplyr\\include\\tools\\scalar_type.h를 C:\\ProgramData\\Anaconda3\\Lib\\R\\library\\dplyr\\include\\tools\\scalar_type.h로 복사하는데 문제가 발생했습니다: Permission denied\"Warning message in file.copy(savedcopy, lib, recursive = TRUE):\n",
      "\"C:\\ProgramData\\Anaconda3\\Lib\\R\\library\\00LOCK\\dplyr\\include\\tools\\set_rownames.h를 C:\\ProgramData\\Anaconda3\\Lib\\R\\library\\dplyr\\include\\tools\\set_rownames.h로 복사하는데 문제가 발생했습니다: Permission denied\"Warning message in file.copy(savedcopy, lib, recursive = TRUE):\n",
      "\"C:\\ProgramData\\Anaconda3\\Lib\\R\\library\\00LOCK\\dplyr\\include\\tools\\SlicingIndex.h를 C:\\ProgramData\\Anaconda3\\Lib\\R\\library\\dplyr\\include\\tools\\SlicingIndex.h로 복사하는데 문제가 발생했습니다: Permission denied\"Warning message in file.copy(savedcopy, lib, recursive = TRUE):\n",
      "\"C:\\ProgramData\\Anaconda3\\Lib\\R\\library\\00LOCK\\dplyr\\include\\tools\\SymbolMap.h를 C:\\ProgramData\\Anaconda3\\Lib\\R\\library\\dplyr\\include\\tools\\SymbolMap.h로 복사하는데 문제가 발생했습니다: Permission denied\"Warning message in file.copy(savedcopy, lib, recursive = TRUE):\n",
      "\"C:\\ProgramData\\Anaconda3\\Lib\\R\\library\\00LOCK\\dplyr\\include\\tools\\SymbolString.h를 C:\\ProgramData\\Anaconda3\\Lib\\R\\library\\dplyr\\include\\tools\\SymbolString.h로 복사하는데 문제가 발생했습니다: Permission denied\"Warning message in file.copy(savedcopy, lib, recursive = TRUE):\n",
      "\"C:\\ProgramData\\Anaconda3\\Lib\\R\\library\\00LOCK\\dplyr\\include\\tools\\SymbolVector.h를 C:\\ProgramData\\Anaconda3\\Lib\\R\\library\\dplyr\\include\\tools\\SymbolVector.h로 복사하는데 문제가 발생했습니다: Permission denied\"Warning message in file.copy(savedcopy, lib, recursive = TRUE):\n",
      "\"C:\\ProgramData\\Anaconda3\\Lib\\R\\library\\00LOCK\\dplyr\\include\\tools\\tools.h를 C:\\ProgramData\\Anaconda3\\Lib\\R\\library\\dplyr\\include\\tools\\tools.h로 복사하는데 문제가 발생했습니다: Permission denied\"Warning message in file.copy(savedcopy, lib, recursive = TRUE):\n",
      "\"C:\\ProgramData\\Anaconda3\\Lib\\R\\library\\00LOCK\\dplyr\\include\\tools\\train.h를 C:\\ProgramData\\Anaconda3\\Lib\\R\\library\\dplyr\\include\\tools\\train.h로 복사하는데 문제가 발생했습니다: Permission denied\"Warning message in file.copy(savedcopy, lib, recursive = TRUE):\n",
      "\"C:\\ProgramData\\Anaconda3\\Lib\\R\\library\\00LOCK\\dplyr\\include\\tools\\utils.h를 C:\\ProgramData\\Anaconda3\\Lib\\R\\library\\dplyr\\include\\tools\\utils.h로 복사하는데 문제가 발생했습니다: Permission denied\"Warning message in file.copy(savedcopy, lib, recursive = TRUE):\n",
      "\"C:\\ProgramData\\Anaconda3\\Lib\\R\\library\\00LOCK\\dplyr\\include\\tools\\VectorView.h를 C:\\ProgramData\\Anaconda3\\Lib\\R\\library\\dplyr\\include\\tools\\VectorView.h로 복사하는데 문제가 발생했습니다: Permission denied\"Warning message in file.copy(savedcopy, lib, recursive = TRUE):\n",
      "\"C:\\ProgramData\\Anaconda3\\Lib\\R\\library\\00LOCK\\dplyr\\include\\tools\\vector_class.h를 C:\\ProgramData\\Anaconda3\\Lib\\R\\library\\dplyr\\include\\tools\\vector_class.h로 복사하는데 문제가 발생했습니다: Permission denied\"Warning message in file.copy(savedcopy, lib, recursive = TRUE):\n",
      "\"C:\\ProgramData\\Anaconda3\\Lib\\R\\library\\00LOCK\\dplyr\\INDEX를 C:\\ProgramData\\Anaconda3\\Lib\\R\\library\\dplyr\\INDEX로 복사하는데 문제가 발생했습니다: Permission denied\"Warning message in file.copy(savedcopy, lib, recursive = TRUE):\n",
      "\"C:\\ProgramData\\Anaconda3\\Lib\\R\\library\\00LOCK\\dplyr\\libs\\x64\\dplyr.dll를 C:\\ProgramData\\Anaconda3\\Lib\\R\\library\\dplyr\\libs\\x64\\dplyr.dll로 복사하는데 문제가 발생했습니다: Permission denied\"Warning message in file.copy(savedcopy, lib, recursive = TRUE):\n",
      "\"C:\\ProgramData\\Anaconda3\\Lib\\R\\library\\00LOCK\\dplyr\\LICENSE를 C:\\ProgramData\\Anaconda3\\Lib\\R\\library\\dplyr\\LICENSE로 복사하는데 문제가 발생했습니다: Permission denied\"Warning message in file.copy(savedcopy, lib, recursive = TRUE):\n",
      "\"C:\\ProgramData\\Anaconda3\\Lib\\R\\library\\00LOCK\\dplyr\\MD5를 C:\\ProgramData\\Anaconda3\\Lib\\R\\library\\dplyr\\MD5로 복사하는데 문제가 발생했습니다: Permission denied\"Warning message in file.copy(savedcopy, lib, recursive = TRUE):\n",
      "\"C:\\ProgramData\\Anaconda3\\Lib\\R\\library\\00LOCK\\dplyr\\Meta\\data.rds를 C:\\ProgramData\\Anaconda3\\Lib\\R\\library\\dplyr\\Meta\\data.rds로 복사하는데 문제가 발생했습니다: Permission denied\"Warning message in file.copy(savedcopy, lib, recursive = TRUE):\n",
      "\"C:\\ProgramData\\Anaconda3\\Lib\\R\\library\\00LOCK\\dplyr\\Meta\\features.rds를 C:\\ProgramData\\Anaconda3\\Lib\\R\\library\\dplyr\\Meta\\features.rds로 복사하는데 문제가 발생했습니다: Permission denied\"Warning message in file.copy(savedcopy, lib, recursive = TRUE):\n",
      "\"C:\\ProgramData\\Anaconda3\\Lib\\R\\library\\00LOCK\\dplyr\\Meta\\hsearch.rds를 C:\\ProgramData\\Anaconda3\\Lib\\R\\library\\dplyr\\Meta\\hsearch.rds로 복사하는데 문제가 발생했습니다: Permission denied\"Warning message in file.copy(savedcopy, lib, recursive = TRUE):\n",
      "\"C:\\ProgramData\\Anaconda3\\Lib\\R\\library\\00LOCK\\dplyr\\Meta\\links.rds를 C:\\ProgramData\\Anaconda3\\Lib\\R\\library\\dplyr\\Meta\\links.rds로 복사하는데 문제가 발생했습니다: Permission denied\"Warning message in file.copy(savedcopy, lib, recursive = TRUE):\n",
      "\"C:\\ProgramData\\Anaconda3\\Lib\\R\\library\\00LOCK\\dplyr\\Meta\\nsInfo.rds를 C:\\ProgramData\\Anaconda3\\Lib\\R\\library\\dplyr\\Meta\\nsInfo.rds로 복사하는데 문제가 발생했습니다: Permission denied\"Warning message in file.copy(savedcopy, lib, recursive = TRUE):\n",
      "\"C:\\ProgramData\\Anaconda3\\Lib\\R\\library\\00LOCK\\dplyr\\Meta\\package.rds를 C:\\ProgramData\\Anaconda3\\Lib\\R\\library\\dplyr\\Meta\\package.rds로 복사하는데 문제가 발생했습니다: Permission denied\"Warning message in file.copy(savedcopy, lib, recursive = TRUE):\n",
      "\"C:\\ProgramData\\Anaconda3\\Lib\\R\\library\\00LOCK\\dplyr\\Meta\\Rd.rds를 C:\\ProgramData\\Anaconda3\\Lib\\R\\library\\dplyr\\Meta\\Rd.rds로 복사하는데 문제가 발생했습니다: Permission denied\"Warning message in file.copy(savedcopy, lib, recursive = TRUE):\n",
      "\"C:\\ProgramData\\Anaconda3\\Lib\\R\\library\\00LOCK\\dplyr\\Meta\\vignette.rds를 C:\\ProgramData\\Anaconda3\\Lib\\R\\library\\dplyr\\Meta\\vignette.rds로 복사하는데 문제가 발생했습니다: Permission denied\"Warning message in file.copy(savedcopy, lib, recursive = TRUE):\n",
      "\"C:\\ProgramData\\Anaconda3\\Lib\\R\\library\\00LOCK\\dplyr\\NAMESPACE를 C:\\ProgramData\\Anaconda3\\Lib\\R\\library\\dplyr\\NAMESPACE로 복사하는데 문제가 발생했습니다: Permission denied\"Warning message in file.copy(savedcopy, lib, recursive = TRUE):\n",
      "\"C:\\ProgramData\\Anaconda3\\Lib\\R\\library\\00LOCK\\dplyr\\NEWS.md를 C:\\ProgramData\\Anaconda3\\Lib\\R\\library\\dplyr\\NEWS.md로 복사하는데 문제가 발생했습니다: Permission denied\"Warning message in file.copy(savedcopy, lib, recursive = TRUE):\n",
      "\"C:\\ProgramData\\Anaconda3\\Lib\\R\\library\\00LOCK\\dplyr\\R\\dplyr를 C:\\ProgramData\\Anaconda3\\Lib\\R\\library\\dplyr\\R\\dplyr로 복사하는데 문제가 발생했습니다: Permission denied\"Warning message in file.copy(savedcopy, lib, recursive = TRUE):\n",
      "\"C:\\ProgramData\\Anaconda3\\Lib\\R\\library\\00LOCK\\dplyr\\R\\dplyr.rdb를 C:\\ProgramData\\Anaconda3\\Lib\\R\\library\\dplyr\\R\\dplyr.rdb로 복사하는데 문제가 발생했습니다: Permission denied\"Warning message in file.copy(savedcopy, lib, recursive = TRUE):\n",
      "\"C:\\ProgramData\\Anaconda3\\Lib\\R\\library\\00LOCK\\dplyr\\R\\dplyr.rdx를 C:\\ProgramData\\Anaconda3\\Lib\\R\\library\\dplyr\\R\\dplyr.rdx로 복사하는데 문제가 발생했습니다: Permission denied\"Warning message:\n",
      "\"restored 'dplyr'\""
     ]
    },
    {
     "name": "stdout",
     "output_type": "stream",
     "text": [
      "\n",
      "The downloaded binary packages are in\n",
      "\tC:\\Users\\ICT03_07\\AppData\\Local\\Temp\\Rtmpk97K7q\\downloaded_packages\n"
     ]
    },
    {
     "name": "stderr",
     "output_type": "stream",
     "text": [
      "\n",
      "Attaching package: 'dplyr'\n",
      "\n",
      "The following objects are masked from 'package:stats':\n",
      "\n",
      "    filter, lag\n",
      "\n",
      "The following objects are masked from 'package:base':\n",
      "\n",
      "    intersect, setdiff, setequal, union\n",
      "\n"
     ]
    }
   ],
   "source": [
    "install.packages(\"dplyr\")\n",
    "library(dplyr)"
   ]
  },
  {
   "cell_type": "code",
   "execution_count": 15,
   "metadata": {},
   "outputs": [
    {
     "data": {
      "text/html": [
       "<table>\n",
       "<thead><tr><th scope=col>sex</th><th scope=col>score</th></tr></thead>\n",
       "<tbody>\n",
       "\t<tr><td>F </td><td>NA</td></tr>\n",
       "</tbody>\n",
       "</table>\n"
      ],
      "text/latex": [
       "\\begin{tabular}{r|ll}\n",
       " sex & score\\\\\n",
       "\\hline\n",
       "\t F  & NA\\\\\n",
       "\\end{tabular}\n"
      ],
      "text/markdown": [
       "\n",
       "| sex | score |\n",
       "|---|---|\n",
       "| F  | NA |\n",
       "\n"
      ],
      "text/plain": [
       "  sex score\n",
       "1 F   NA   "
      ]
     },
     "metadata": {},
     "output_type": "display_data"
    },
    {
     "data": {
      "text/html": [
       "<table>\n",
       "<thead><tr><th scope=col>sex</th><th scope=col>score</th></tr></thead>\n",
       "<tbody>\n",
       "\t<tr><td>M </td><td>5 </td></tr>\n",
       "\t<tr><td>F </td><td>4 </td></tr>\n",
       "\t<tr><td>NA</td><td>3 </td></tr>\n",
       "\t<tr><td>M </td><td>4 </td></tr>\n",
       "</tbody>\n",
       "</table>\n"
      ],
      "text/latex": [
       "\\begin{tabular}{r|ll}\n",
       " sex & score\\\\\n",
       "\\hline\n",
       "\t M  & 5 \\\\\n",
       "\t F  & 4 \\\\\n",
       "\t NA & 3 \\\\\n",
       "\t M  & 4 \\\\\n",
       "\\end{tabular}\n"
      ],
      "text/markdown": [
       "\n",
       "| sex | score |\n",
       "|---|---|\n",
       "| M  | 5  |\n",
       "| F  | 4  |\n",
       "| NA | 3  |\n",
       "| M  | 4  |\n",
       "\n"
      ],
      "text/plain": [
       "  sex score\n",
       "1 M   5    \n",
       "2 F   4    \n",
       "3 NA  3    \n",
       "4 M   4    "
      ]
     },
     "metadata": {},
     "output_type": "display_data"
    }
   ],
   "source": [
    "library(dplyr)\n",
    "\n",
    "df %>% filter(is.na(score))\n",
    "\n",
    "df %>% filter(!is.na(score))"
   ]
  },
  {
   "cell_type": "code",
   "execution_count": 19,
   "metadata": {},
   "outputs": [
    {
     "data": {
      "text/html": [
       "<table>\n",
       "<thead><tr><th scope=col>sex</th><th scope=col>score</th></tr></thead>\n",
       "<tbody>\n",
       "\t<tr><td>M </td><td>5 </td></tr>\n",
       "\t<tr><td>F </td><td>4 </td></tr>\n",
       "\t<tr><td>NA</td><td>3 </td></tr>\n",
       "\t<tr><td>M </td><td>4 </td></tr>\n",
       "</tbody>\n",
       "</table>\n"
      ],
      "text/latex": [
       "\\begin{tabular}{r|ll}\n",
       " sex & score\\\\\n",
       "\\hline\n",
       "\t M  & 5 \\\\\n",
       "\t F  & 4 \\\\\n",
       "\t NA & 3 \\\\\n",
       "\t M  & 4 \\\\\n",
       "\\end{tabular}\n"
      ],
      "text/markdown": [
       "\n",
       "| sex | score |\n",
       "|---|---|\n",
       "| M  | 5  |\n",
       "| F  | 4  |\n",
       "| NA | 3  |\n",
       "| M  | 4  |\n",
       "\n"
      ],
      "text/plain": [
       "  sex score\n",
       "1 M   5    \n",
       "2 F   4    \n",
       "3 NA  3    \n",
       "4 M   4    "
      ]
     },
     "metadata": {},
     "output_type": "display_data"
    }
   ],
   "source": [
    "df_nomiss <- df %>% filter(!is.na(score))\n",
    "df_nomiss"
   ]
  },
  {
   "cell_type": "code",
   "execution_count": 21,
   "metadata": {},
   "outputs": [
    {
     "data": {
      "text/html": [
       "4"
      ],
      "text/latex": [
       "4"
      ],
      "text/markdown": [
       "4"
      ],
      "text/plain": [
       "[1] 4"
      ]
     },
     "metadata": {},
     "output_type": "display_data"
    },
    {
     "data": {
      "text/html": [
       "16"
      ],
      "text/latex": [
       "16"
      ],
      "text/markdown": [
       "16"
      ],
      "text/plain": [
       "[1] 16"
      ]
     },
     "metadata": {},
     "output_type": "display_data"
    }
   ],
   "source": [
    "mean(df_nomiss$score)\n",
    "sum(df_nomiss$score)"
   ]
  },
  {
   "cell_type": "code",
   "execution_count": 22,
   "metadata": {},
   "outputs": [
    {
     "data": {
      "text/html": [
       "<table>\n",
       "<thead><tr><th scope=col>sex</th><th scope=col>score</th></tr></thead>\n",
       "<tbody>\n",
       "\t<tr><td>M</td><td>5</td></tr>\n",
       "\t<tr><td>F</td><td>4</td></tr>\n",
       "\t<tr><td>M</td><td>4</td></tr>\n",
       "</tbody>\n",
       "</table>\n"
      ],
      "text/latex": [
       "\\begin{tabular}{r|ll}\n",
       " sex & score\\\\\n",
       "\\hline\n",
       "\t M & 5\\\\\n",
       "\t F & 4\\\\\n",
       "\t M & 4\\\\\n",
       "\\end{tabular}\n"
      ],
      "text/markdown": [
       "\n",
       "| sex | score |\n",
       "|---|---|\n",
       "| M | 5 |\n",
       "| F | 4 |\n",
       "| M | 4 |\n",
       "\n"
      ],
      "text/plain": [
       "  sex score\n",
       "1 M   5    \n",
       "2 F   4    \n",
       "3 M   4    "
      ]
     },
     "metadata": {},
     "output_type": "display_data"
    }
   ],
   "source": [
    "df_nomiss <- df %>% filter(!is.na(score) & !is.na(sex))\n",
    "df_nomiss"
   ]
  },
  {
   "cell_type": "code",
   "execution_count": 25,
   "metadata": {},
   "outputs": [
    {
     "data": {
      "text/html": [
       "<table>\n",
       "<thead><tr><th></th><th scope=col>sex</th><th scope=col>score</th></tr></thead>\n",
       "<tbody>\n",
       "\t<tr><th scope=row>1</th><td>M</td><td>5</td></tr>\n",
       "\t<tr><th scope=row>2</th><td>F</td><td>4</td></tr>\n",
       "\t<tr><th scope=row>4</th><td>M</td><td>4</td></tr>\n",
       "</tbody>\n",
       "</table>\n"
      ],
      "text/latex": [
       "\\begin{tabular}{r|ll}\n",
       "  & sex & score\\\\\n",
       "\\hline\n",
       "\t1 & M & 5\\\\\n",
       "\t2 & F & 4\\\\\n",
       "\t4 & M & 4\\\\\n",
       "\\end{tabular}\n"
      ],
      "text/markdown": [
       "\n",
       "| <!--/--> | sex | score |\n",
       "|---|---|---|\n",
       "| 1 | M | 5 |\n",
       "| 2 | F | 4 |\n",
       "| 4 | M | 4 |\n",
       "\n"
      ],
      "text/plain": [
       "  sex score\n",
       "1 M   5    \n",
       "2 F   4    \n",
       "4 M   4    "
      ]
     },
     "metadata": {},
     "output_type": "display_data"
    }
   ],
   "source": [
    "df_nomiss2 <- na.omit(df)\n",
    "df_nomiss2"
   ]
  },
  {
   "cell_type": "code",
   "execution_count": 27,
   "metadata": {},
   "outputs": [
    {
     "data": {
      "text/html": [
       "4"
      ],
      "text/latex": [
       "4"
      ],
      "text/markdown": [
       "4"
      ],
      "text/plain": [
       "[1] 4"
      ]
     },
     "metadata": {},
     "output_type": "display_data"
    },
    {
     "data": {
      "text/html": [
       "16"
      ],
      "text/latex": [
       "16"
      ],
      "text/markdown": [
       "16"
      ],
      "text/plain": [
       "[1] 16"
      ]
     },
     "metadata": {},
     "output_type": "display_data"
    }
   ],
   "source": [
    "mean(df$score, na.rm=T)\n",
    "sum(df$score, na.rm=T)"
   ]
  },
  {
   "cell_type": "code",
   "execution_count": 35,
   "metadata": {},
   "outputs": [
    {
     "data": {
      "text/html": [
       "<ol class=list-inline>\n",
       "\t<li>90</li>\n",
       "\t<li>80</li>\n",
       "\t<li>60</li>\n",
       "\t<li>70</li>\n",
       "</ol>\n"
      ],
      "text/latex": [
       "\\begin{enumerate*}\n",
       "\\item 90\n",
       "\\item 80\n",
       "\\item 60\n",
       "\\item 70\n",
       "\\end{enumerate*}\n"
      ],
      "text/markdown": [
       "1. 90\n",
       "2. 80\n",
       "3. 60\n",
       "4. 70\n",
       "\n",
       "\n"
      ],
      "text/plain": [
       "[1] 90 80 60 70"
      ]
     },
     "metadata": {},
     "output_type": "display_data"
    }
   ],
   "source": [
    "english <- c(90,80,60,70)\n",
    "english"
   ]
  },
  {
   "cell_type": "code",
   "execution_count": 32,
   "metadata": {},
   "outputs": [
    {
     "data": {
      "text/html": [
       "<ol class=list-inline>\n",
       "\t<li>50</li>\n",
       "\t<li>60</li>\n",
       "\t<li>100</li>\n",
       "\t<li>20</li>\n",
       "</ol>\n"
      ],
      "text/latex": [
       "\\begin{enumerate*}\n",
       "\\item 50\n",
       "\\item 60\n",
       "\\item 100\n",
       "\\item 20\n",
       "\\end{enumerate*}\n"
      ],
      "text/markdown": [
       "1. 50\n",
       "2. 60\n",
       "3. 100\n",
       "4. 20\n",
       "\n",
       "\n"
      ],
      "text/plain": [
       "[1]  50  60 100  20"
      ]
     },
     "metadata": {},
     "output_type": "display_data"
    }
   ],
   "source": [
    "math <- c(50,60,100,20)\n",
    "math"
   ]
  },
  {
   "cell_type": "code",
   "execution_count": 36,
   "metadata": {},
   "outputs": [
    {
     "data": {
      "text/html": [
       "<table>\n",
       "<thead><tr><th scope=col>english</th><th scope=col>math</th></tr></thead>\n",
       "<tbody>\n",
       "\t<tr><td>90 </td><td> 50</td></tr>\n",
       "\t<tr><td>80 </td><td> 60</td></tr>\n",
       "\t<tr><td>60 </td><td>100</td></tr>\n",
       "\t<tr><td>70 </td><td> 20</td></tr>\n",
       "</tbody>\n",
       "</table>\n"
      ],
      "text/latex": [
       "\\begin{tabular}{r|ll}\n",
       " english & math\\\\\n",
       "\\hline\n",
       "\t 90  &  50\\\\\n",
       "\t 80  &  60\\\\\n",
       "\t 60  & 100\\\\\n",
       "\t 70  &  20\\\\\n",
       "\\end{tabular}\n"
      ],
      "text/markdown": [
       "\n",
       "| english | math |\n",
       "|---|---|\n",
       "| 90  |  50 |\n",
       "| 80  |  60 |\n",
       "| 60  | 100 |\n",
       "| 70  |  20 |\n",
       "\n"
      ],
      "text/plain": [
       "  english math\n",
       "1 90       50 \n",
       "2 80       60 \n",
       "3 60      100 \n",
       "4 70       20 "
      ]
     },
     "metadata": {},
     "output_type": "display_data"
    }
   ],
   "source": [
    "df_midterm <- data.frame(english, math)\n",
    "df_midterm"
   ]
  },
  {
   "cell_type": "code",
   "execution_count": 37,
   "metadata": {},
   "outputs": [
    {
     "data": {
      "text/html": [
       "<ol class=list-inline>\n",
       "\t<li>1</li>\n",
       "\t<li>1</li>\n",
       "\t<li>2</li>\n",
       "\t<li>2</li>\n",
       "</ol>\n"
      ],
      "text/latex": [
       "\\begin{enumerate*}\n",
       "\\item 1\n",
       "\\item 1\n",
       "\\item 2\n",
       "\\item 2\n",
       "\\end{enumerate*}\n"
      ],
      "text/markdown": [
       "1. 1\n",
       "2. 1\n",
       "3. 2\n",
       "4. 2\n",
       "\n",
       "\n"
      ],
      "text/plain": [
       "[1] 1 1 2 2"
      ]
     },
     "metadata": {},
     "output_type": "display_data"
    },
    {
     "data": {
      "text/html": [
       "<table>\n",
       "<thead><tr><th scope=col>english</th><th scope=col>math</th><th scope=col>class</th></tr></thead>\n",
       "<tbody>\n",
       "\t<tr><td>90 </td><td> 50</td><td>1  </td></tr>\n",
       "\t<tr><td>80 </td><td> 60</td><td>1  </td></tr>\n",
       "\t<tr><td>60 </td><td>100</td><td>2  </td></tr>\n",
       "\t<tr><td>70 </td><td> 20</td><td>2  </td></tr>\n",
       "</tbody>\n",
       "</table>\n"
      ],
      "text/latex": [
       "\\begin{tabular}{r|lll}\n",
       " english & math & class\\\\\n",
       "\\hline\n",
       "\t 90  &  50 & 1  \\\\\n",
       "\t 80  &  60 & 1  \\\\\n",
       "\t 60  & 100 & 2  \\\\\n",
       "\t 70  &  20 & 2  \\\\\n",
       "\\end{tabular}\n"
      ],
      "text/markdown": [
       "\n",
       "| english | math | class |\n",
       "|---|---|---|\n",
       "| 90  |  50 | 1   |\n",
       "| 80  |  60 | 1   |\n",
       "| 60  | 100 | 2   |\n",
       "| 70  |  20 | 2   |\n",
       "\n"
      ],
      "text/plain": [
       "  english math class\n",
       "1 90       50  1    \n",
       "2 80       60  1    \n",
       "3 60      100  2    \n",
       "4 70       20  2    "
      ]
     },
     "metadata": {},
     "output_type": "display_data"
    }
   ],
   "source": [
    "class <- c(1,1,2,2)\n",
    "class\n",
    "\n",
    "df_midterm <- data.frame(english, math, class)\n",
    "df_midterm"
   ]
  },
  {
   "cell_type": "code",
   "execution_count": 39,
   "metadata": {
    "collapsed": true,
    "jupyter": {
     "outputs_hidden": true
    }
   },
   "outputs": [
    {
     "data": {
      "text/html": [
       "<table>\n",
       "<thead><tr><th scope=col>id</th><th scope=col>class</th><th scope=col>math</th><th scope=col>english</th><th scope=col>science</th></tr></thead>\n",
       "<tbody>\n",
       "\t<tr><td> 1</td><td>1 </td><td>50</td><td>98</td><td>50</td></tr>\n",
       "\t<tr><td> 2</td><td>1 </td><td>60</td><td>97</td><td>60</td></tr>\n",
       "\t<tr><td> 3</td><td>1 </td><td>45</td><td>86</td><td>78</td></tr>\n",
       "\t<tr><td> 4</td><td>1 </td><td>30</td><td>98</td><td>58</td></tr>\n",
       "\t<tr><td> 5</td><td>2 </td><td>25</td><td>80</td><td>65</td></tr>\n",
       "\t<tr><td> 6</td><td>2 </td><td>50</td><td>89</td><td>98</td></tr>\n",
       "\t<tr><td> 7</td><td>2 </td><td>80</td><td>90</td><td>45</td></tr>\n",
       "\t<tr><td> 8</td><td>2 </td><td>90</td><td>78</td><td>25</td></tr>\n",
       "\t<tr><td> 9</td><td>3 </td><td>20</td><td>98</td><td>15</td></tr>\n",
       "\t<tr><td>10</td><td>3 </td><td>50</td><td>98</td><td>45</td></tr>\n",
       "\t<tr><td>11</td><td>3 </td><td>65</td><td>65</td><td>65</td></tr>\n",
       "\t<tr><td>12</td><td>3 </td><td>45</td><td>85</td><td>32</td></tr>\n",
       "\t<tr><td>13</td><td>4 </td><td>46</td><td>98</td><td>65</td></tr>\n",
       "\t<tr><td>14</td><td>4 </td><td>48</td><td>87</td><td>12</td></tr>\n",
       "\t<tr><td>15</td><td>4 </td><td>75</td><td>56</td><td>78</td></tr>\n",
       "\t<tr><td>16</td><td>4 </td><td>58</td><td>98</td><td>65</td></tr>\n",
       "\t<tr><td>17</td><td>5 </td><td>65</td><td>68</td><td>98</td></tr>\n",
       "\t<tr><td>18</td><td>5 </td><td>80</td><td>78</td><td>90</td></tr>\n",
       "\t<tr><td>19</td><td>5 </td><td>89</td><td>68</td><td>87</td></tr>\n",
       "\t<tr><td>20</td><td>5 </td><td>78</td><td>83</td><td>58</td></tr>\n",
       "</tbody>\n",
       "</table>\n"
      ],
      "text/latex": [
       "\\begin{tabular}{r|lllll}\n",
       " id & class & math & english & science\\\\\n",
       "\\hline\n",
       "\t  1 & 1  & 50 & 98 & 50\\\\\n",
       "\t  2 & 1  & 60 & 97 & 60\\\\\n",
       "\t  3 & 1  & 45 & 86 & 78\\\\\n",
       "\t  4 & 1  & 30 & 98 & 58\\\\\n",
       "\t  5 & 2  & 25 & 80 & 65\\\\\n",
       "\t  6 & 2  & 50 & 89 & 98\\\\\n",
       "\t  7 & 2  & 80 & 90 & 45\\\\\n",
       "\t  8 & 2  & 90 & 78 & 25\\\\\n",
       "\t  9 & 3  & 20 & 98 & 15\\\\\n",
       "\t 10 & 3  & 50 & 98 & 45\\\\\n",
       "\t 11 & 3  & 65 & 65 & 65\\\\\n",
       "\t 12 & 3  & 45 & 85 & 32\\\\\n",
       "\t 13 & 4  & 46 & 98 & 65\\\\\n",
       "\t 14 & 4  & 48 & 87 & 12\\\\\n",
       "\t 15 & 4  & 75 & 56 & 78\\\\\n",
       "\t 16 & 4  & 58 & 98 & 65\\\\\n",
       "\t 17 & 5  & 65 & 68 & 98\\\\\n",
       "\t 18 & 5  & 80 & 78 & 90\\\\\n",
       "\t 19 & 5  & 89 & 68 & 87\\\\\n",
       "\t 20 & 5  & 78 & 83 & 58\\\\\n",
       "\\end{tabular}\n"
      ],
      "text/markdown": [
       "\n",
       "| id | class | math | english | science |\n",
       "|---|---|---|---|---|\n",
       "|  1 | 1  | 50 | 98 | 50 |\n",
       "|  2 | 1  | 60 | 97 | 60 |\n",
       "|  3 | 1  | 45 | 86 | 78 |\n",
       "|  4 | 1  | 30 | 98 | 58 |\n",
       "|  5 | 2  | 25 | 80 | 65 |\n",
       "|  6 | 2  | 50 | 89 | 98 |\n",
       "|  7 | 2  | 80 | 90 | 45 |\n",
       "|  8 | 2  | 90 | 78 | 25 |\n",
       "|  9 | 3  | 20 | 98 | 15 |\n",
       "| 10 | 3  | 50 | 98 | 45 |\n",
       "| 11 | 3  | 65 | 65 | 65 |\n",
       "| 12 | 3  | 45 | 85 | 32 |\n",
       "| 13 | 4  | 46 | 98 | 65 |\n",
       "| 14 | 4  | 48 | 87 | 12 |\n",
       "| 15 | 4  | 75 | 56 | 78 |\n",
       "| 16 | 4  | 58 | 98 | 65 |\n",
       "| 17 | 5  | 65 | 68 | 98 |\n",
       "| 18 | 5  | 80 | 78 | 90 |\n",
       "| 19 | 5  | 89 | 68 | 87 |\n",
       "| 20 | 5  | 78 | 83 | 58 |\n",
       "\n"
      ],
      "text/plain": [
       "   id class math english science\n",
       "1   1 1     50   98      50     \n",
       "2   2 1     60   97      60     \n",
       "3   3 1     45   86      78     \n",
       "4   4 1     30   98      58     \n",
       "5   5 2     25   80      65     \n",
       "6   6 2     50   89      98     \n",
       "7   7 2     80   90      45     \n",
       "8   8 2     90   78      25     \n",
       "9   9 3     20   98      15     \n",
       "10 10 3     50   98      45     \n",
       "11 11 3     65   65      65     \n",
       "12 12 3     45   85      32     \n",
       "13 13 4     46   98      65     \n",
       "14 14 4     48   87      12     \n",
       "15 15 4     75   56      78     \n",
       "16 16 4     58   98      65     \n",
       "17 17 5     65   68      98     \n",
       "18 18 5     80   78      90     \n",
       "19 19 5     89   68      87     \n",
       "20 20 5     78   83      58     "
      ]
     },
     "metadata": {},
     "output_type": "display_data"
    }
   ],
   "source": [
    "exam <-read.csv('csv_exam.csv')\n",
    "exam"
   ]
  },
  {
   "cell_type": "code",
   "execution_count": 40,
   "metadata": {
    "collapsed": true,
    "jupyter": {
     "outputs_hidden": true
    }
   },
   "outputs": [
    {
     "data": {
      "text/html": [
       "<table>\n",
       "<thead><tr><th scope=col>id</th><th scope=col>class</th><th scope=col>math</th><th scope=col>english</th><th scope=col>science</th></tr></thead>\n",
       "<tbody>\n",
       "\t<tr><td> 1</td><td>1 </td><td>50</td><td>98</td><td>50</td></tr>\n",
       "\t<tr><td> 2</td><td>1 </td><td>60</td><td>97</td><td>60</td></tr>\n",
       "\t<tr><td> 3</td><td>1 </td><td>NA</td><td>86</td><td>78</td></tr>\n",
       "\t<tr><td> 4</td><td>1 </td><td>30</td><td>98</td><td>58</td></tr>\n",
       "\t<tr><td> 5</td><td>2 </td><td>25</td><td>80</td><td>65</td></tr>\n",
       "\t<tr><td> 6</td><td>2 </td><td>50</td><td>89</td><td>98</td></tr>\n",
       "\t<tr><td> 7</td><td>2 </td><td>80</td><td>90</td><td>45</td></tr>\n",
       "\t<tr><td> 8</td><td>2 </td><td>NA</td><td>78</td><td>25</td></tr>\n",
       "\t<tr><td> 9</td><td>3 </td><td>20</td><td>98</td><td>15</td></tr>\n",
       "\t<tr><td>10</td><td>3 </td><td>50</td><td>98</td><td>45</td></tr>\n",
       "\t<tr><td>11</td><td>3 </td><td>65</td><td>65</td><td>65</td></tr>\n",
       "\t<tr><td>12</td><td>3 </td><td>45</td><td>85</td><td>32</td></tr>\n",
       "\t<tr><td>13</td><td>4 </td><td>46</td><td>98</td><td>65</td></tr>\n",
       "\t<tr><td>14</td><td>4 </td><td>48</td><td>87</td><td>12</td></tr>\n",
       "\t<tr><td>15</td><td>4 </td><td>NA</td><td>56</td><td>78</td></tr>\n",
       "\t<tr><td>16</td><td>4 </td><td>58</td><td>98</td><td>65</td></tr>\n",
       "\t<tr><td>17</td><td>5 </td><td>65</td><td>68</td><td>98</td></tr>\n",
       "\t<tr><td>18</td><td>5 </td><td>80</td><td>78</td><td>90</td></tr>\n",
       "\t<tr><td>19</td><td>5 </td><td>89</td><td>68</td><td>87</td></tr>\n",
       "\t<tr><td>20</td><td>5 </td><td>78</td><td>83</td><td>58</td></tr>\n",
       "</tbody>\n",
       "</table>\n"
      ],
      "text/latex": [
       "\\begin{tabular}{r|lllll}\n",
       " id & class & math & english & science\\\\\n",
       "\\hline\n",
       "\t  1 & 1  & 50 & 98 & 50\\\\\n",
       "\t  2 & 1  & 60 & 97 & 60\\\\\n",
       "\t  3 & 1  & NA & 86 & 78\\\\\n",
       "\t  4 & 1  & 30 & 98 & 58\\\\\n",
       "\t  5 & 2  & 25 & 80 & 65\\\\\n",
       "\t  6 & 2  & 50 & 89 & 98\\\\\n",
       "\t  7 & 2  & 80 & 90 & 45\\\\\n",
       "\t  8 & 2  & NA & 78 & 25\\\\\n",
       "\t  9 & 3  & 20 & 98 & 15\\\\\n",
       "\t 10 & 3  & 50 & 98 & 45\\\\\n",
       "\t 11 & 3  & 65 & 65 & 65\\\\\n",
       "\t 12 & 3  & 45 & 85 & 32\\\\\n",
       "\t 13 & 4  & 46 & 98 & 65\\\\\n",
       "\t 14 & 4  & 48 & 87 & 12\\\\\n",
       "\t 15 & 4  & NA & 56 & 78\\\\\n",
       "\t 16 & 4  & 58 & 98 & 65\\\\\n",
       "\t 17 & 5  & 65 & 68 & 98\\\\\n",
       "\t 18 & 5  & 80 & 78 & 90\\\\\n",
       "\t 19 & 5  & 89 & 68 & 87\\\\\n",
       "\t 20 & 5  & 78 & 83 & 58\\\\\n",
       "\\end{tabular}\n"
      ],
      "text/markdown": [
       "\n",
       "| id | class | math | english | science |\n",
       "|---|---|---|---|---|\n",
       "|  1 | 1  | 50 | 98 | 50 |\n",
       "|  2 | 1  | 60 | 97 | 60 |\n",
       "|  3 | 1  | NA | 86 | 78 |\n",
       "|  4 | 1  | 30 | 98 | 58 |\n",
       "|  5 | 2  | 25 | 80 | 65 |\n",
       "|  6 | 2  | 50 | 89 | 98 |\n",
       "|  7 | 2  | 80 | 90 | 45 |\n",
       "|  8 | 2  | NA | 78 | 25 |\n",
       "|  9 | 3  | 20 | 98 | 15 |\n",
       "| 10 | 3  | 50 | 98 | 45 |\n",
       "| 11 | 3  | 65 | 65 | 65 |\n",
       "| 12 | 3  | 45 | 85 | 32 |\n",
       "| 13 | 4  | 46 | 98 | 65 |\n",
       "| 14 | 4  | 48 | 87 | 12 |\n",
       "| 15 | 4  | NA | 56 | 78 |\n",
       "| 16 | 4  | 58 | 98 | 65 |\n",
       "| 17 | 5  | 65 | 68 | 98 |\n",
       "| 18 | 5  | 80 | 78 | 90 |\n",
       "| 19 | 5  | 89 | 68 | 87 |\n",
       "| 20 | 5  | 78 | 83 | 58 |\n",
       "\n"
      ],
      "text/plain": [
       "   id class math english science\n",
       "1   1 1     50   98      50     \n",
       "2   2 1     60   97      60     \n",
       "3   3 1     NA   86      78     \n",
       "4   4 1     30   98      58     \n",
       "5   5 2     25   80      65     \n",
       "6   6 2     50   89      98     \n",
       "7   7 2     80   90      45     \n",
       "8   8 2     NA   78      25     \n",
       "9   9 3     20   98      15     \n",
       "10 10 3     50   98      45     \n",
       "11 11 3     65   65      65     \n",
       "12 12 3     45   85      32     \n",
       "13 13 4     46   98      65     \n",
       "14 14 4     48   87      12     \n",
       "15 15 4     NA   56      78     \n",
       "16 16 4     58   98      65     \n",
       "17 17 5     65   68      98     \n",
       "18 18 5     80   78      90     \n",
       "19 19 5     89   68      87     \n",
       "20 20 5     78   83      58     "
      ]
     },
     "metadata": {},
     "output_type": "display_data"
    }
   ],
   "source": [
    "exam[c(3,8,15),'math'] <-NA\n",
    "exam"
   ]
  },
  {
   "cell_type": "code",
   "execution_count": 43,
   "metadata": {},
   "outputs": [
    {
     "data": {
      "text/html": [
       "<table>\n",
       "<thead><tr><th scope=col>mean_math</th></tr></thead>\n",
       "<tbody>\n",
       "\t<tr><td>NA</td></tr>\n",
       "</tbody>\n",
       "</table>\n"
      ],
      "text/latex": [
       "\\begin{tabular}{r|l}\n",
       " mean\\_math\\\\\n",
       "\\hline\n",
       "\t NA\\\\\n",
       "\\end{tabular}\n"
      ],
      "text/markdown": [
       "\n",
       "| mean_math |\n",
       "|---|\n",
       "| NA |\n",
       "\n"
      ],
      "text/plain": [
       "  mean_math\n",
       "1 NA       "
      ]
     },
     "metadata": {},
     "output_type": "display_data"
    },
    {
     "data": {
      "text/html": [
       "<table>\n",
       "<thead><tr><th scope=col>mean_math</th></tr></thead>\n",
       "<tbody>\n",
       "\t<tr><td>55.23529</td></tr>\n",
       "</tbody>\n",
       "</table>\n"
      ],
      "text/latex": [
       "\\begin{tabular}{r|l}\n",
       " mean\\_math\\\\\n",
       "\\hline\n",
       "\t 55.23529\\\\\n",
       "\\end{tabular}\n"
      ],
      "text/markdown": [
       "\n",
       "| mean_math |\n",
       "|---|\n",
       "| 55.23529 |\n",
       "\n"
      ],
      "text/plain": [
       "  mean_math\n",
       "1 55.23529 "
      ]
     },
     "metadata": {},
     "output_type": "display_data"
    }
   ],
   "source": [
    "exam %>% summarise(mean_math = mean(math))\n",
    "\n",
    "exam %>% summarise(mean_math = mean(math, na.rm=T))"
   ]
  },
  {
   "cell_type": "code",
   "execution_count": 47,
   "metadata": {},
   "outputs": [
    {
     "data": {
      "text/html": [
       "&lt;NA&gt;"
      ],
      "text/latex": [
       "<NA>"
      ],
      "text/markdown": [
       "&lt;NA&gt;"
      ],
      "text/plain": [
       "[1] NA"
      ]
     },
     "metadata": {},
     "output_type": "display_data"
    },
    {
     "data": {
      "text/html": [
       "55.2352941176471"
      ],
      "text/latex": [
       "55.2352941176471"
      ],
      "text/markdown": [
       "55.2352941176471"
      ],
      "text/plain": [
       "[1] 55.23529"
      ]
     },
     "metadata": {},
     "output_type": "display_data"
    }
   ],
   "source": [
    "mean(exam$math)\n",
    "mean(exam$math, na.rm=T)"
   ]
  },
  {
   "cell_type": "code",
   "execution_count": 49,
   "metadata": {
    "collapsed": true,
    "jupyter": {
     "outputs_hidden": true
    }
   },
   "outputs": [
    {
     "name": "stdout",
     "output_type": "stream",
     "text": [
      "package 'readxl' successfully unpacked and MD5 sums checked\n"
     ]
    },
    {
     "name": "stderr",
     "output_type": "stream",
     "text": [
      "Warning message:\n",
      "\"cannot remove prior installation of package 'readxl'\"Warning message in file.copy(savedcopy, lib, recursive = TRUE):\n",
      "\"C:\\ProgramData\\Anaconda3\\Lib\\R\\library\\00LOCK\\readxl\\DESCRIPTION를 C:\\ProgramData\\Anaconda3\\Lib\\R\\library\\readxl\\DESCRIPTION로 복사하는데 문제가 발생했습니다: Permission denied\"Warning message in file.copy(savedcopy, lib, recursive = TRUE):\n",
      "\"C:\\ProgramData\\Anaconda3\\Lib\\R\\library\\00LOCK\\readxl\\doc\\cell-and-column-types.html를 C:\\ProgramData\\Anaconda3\\Lib\\R\\library\\readxl\\doc\\cell-and-column-types.html로 복사하는데 문제가 발생했습니다: Permission denied\"Warning message in file.copy(savedcopy, lib, recursive = TRUE):\n",
      "\"C:\\ProgramData\\Anaconda3\\Lib\\R\\library\\00LOCK\\readxl\\doc\\cell-and-column-types.R를 C:\\ProgramData\\Anaconda3\\Lib\\R\\library\\readxl\\doc\\cell-and-column-types.R로 복사하는데 문제가 발생했습니다: Permission denied\"Warning message in file.copy(savedcopy, lib, recursive = TRUE):\n",
      "\"C:\\ProgramData\\Anaconda3\\Lib\\R\\library\\00LOCK\\readxl\\doc\\cell-and-column-types.Rmd를 C:\\ProgramData\\Anaconda3\\Lib\\R\\library\\readxl\\doc\\cell-and-column-types.Rmd로 복사하는데 문제가 발생했습니다: Permission denied\"Warning message in file.copy(savedcopy, lib, recursive = TRUE):\n",
      "\"C:\\ProgramData\\Anaconda3\\Lib\\R\\library\\00LOCK\\readxl\\doc\\index.html를 C:\\ProgramData\\Anaconda3\\Lib\\R\\library\\readxl\\doc\\index.html로 복사하는데 문제가 발생했습니다: Permission denied\"Warning message in file.copy(savedcopy, lib, recursive = TRUE):\n",
      "\"C:\\ProgramData\\Anaconda3\\Lib\\R\\library\\00LOCK\\readxl\\doc\\sheet-geometry.html를 C:\\ProgramData\\Anaconda3\\Lib\\R\\library\\readxl\\doc\\sheet-geometry.html로 복사하는데 문제가 발생했습니다: Permission denied\"Warning message in file.copy(savedcopy, lib, recursive = TRUE):\n",
      "\"C:\\ProgramData\\Anaconda3\\Lib\\R\\library\\00LOCK\\readxl\\doc\\sheet-geometry.R를 C:\\ProgramData\\Anaconda3\\Lib\\R\\library\\readxl\\doc\\sheet-geometry.R로 복사하는데 문제가 발생했습니다: Permission denied\"Warning message in file.copy(savedcopy, lib, recursive = TRUE):\n",
      "\"C:\\ProgramData\\Anaconda3\\Lib\\R\\library\\00LOCK\\readxl\\doc\\sheet-geometry.Rmd를 C:\\ProgramData\\Anaconda3\\Lib\\R\\library\\readxl\\doc\\sheet-geometry.Rmd로 복사하는데 문제가 발생했습니다: Permission denied\"Warning message in file.copy(savedcopy, lib, recursive = TRUE):\n",
      "\"C:\\ProgramData\\Anaconda3\\Lib\\R\\library\\00LOCK\\readxl\\extdata\\clippy.xls를 C:\\ProgramData\\Anaconda3\\Lib\\R\\library\\readxl\\extdata\\clippy.xls로 복사하는데 문제가 발생했습니다: Permission denied\"Warning message in file.copy(savedcopy, lib, recursive = TRUE):\n",
      "\"C:\\ProgramData\\Anaconda3\\Lib\\R\\library\\00LOCK\\readxl\\extdata\\clippy.xlsx를 C:\\ProgramData\\Anaconda3\\Lib\\R\\library\\readxl\\extdata\\clippy.xlsx로 복사하는데 문제가 발생했습니다: Permission denied\"Warning message in file.copy(savedcopy, lib, recursive = TRUE):\n",
      "\"C:\\ProgramData\\Anaconda3\\Lib\\R\\library\\00LOCK\\readxl\\extdata\\datasets.xls를 C:\\ProgramData\\Anaconda3\\Lib\\R\\library\\readxl\\extdata\\datasets.xls로 복사하는데 문제가 발생했습니다: Permission denied\"Warning message in file.copy(savedcopy, lib, recursive = TRUE):\n",
      "\"C:\\ProgramData\\Anaconda3\\Lib\\R\\library\\00LOCK\\readxl\\extdata\\datasets.xlsx를 C:\\ProgramData\\Anaconda3\\Lib\\R\\library\\readxl\\extdata\\datasets.xlsx로 복사하는데 문제가 발생했습니다: Permission denied\"Warning message in file.copy(savedcopy, lib, recursive = TRUE):\n",
      "\"C:\\ProgramData\\Anaconda3\\Lib\\R\\library\\00LOCK\\readxl\\extdata\\deaths.xls를 C:\\ProgramData\\Anaconda3\\Lib\\R\\library\\readxl\\extdata\\deaths.xls로 복사하는데 문제가 발생했습니다: Permission denied\"Warning message in file.copy(savedcopy, lib, recursive = TRUE):\n",
      "\"C:\\ProgramData\\Anaconda3\\Lib\\R\\library\\00LOCK\\readxl\\extdata\\deaths.xlsx를 C:\\ProgramData\\Anaconda3\\Lib\\R\\library\\readxl\\extdata\\deaths.xlsx로 복사하는데 문제가 발생했습니다: Permission denied\"Warning message in file.copy(savedcopy, lib, recursive = TRUE):\n",
      "\"C:\\ProgramData\\Anaconda3\\Lib\\R\\library\\00LOCK\\readxl\\extdata\\geometry.xls를 C:\\ProgramData\\Anaconda3\\Lib\\R\\library\\readxl\\extdata\\geometry.xls로 복사하는데 문제가 발생했습니다: Permission denied\"Warning message in file.copy(savedcopy, lib, recursive = TRUE):\n",
      "\"C:\\ProgramData\\Anaconda3\\Lib\\R\\library\\00LOCK\\readxl\\extdata\\geometry.xlsx를 C:\\ProgramData\\Anaconda3\\Lib\\R\\library\\readxl\\extdata\\geometry.xlsx로 복사하는데 문제가 발생했습니다: Permission denied\"Warning message in file.copy(savedcopy, lib, recursive = TRUE):\n",
      "\"C:\\ProgramData\\Anaconda3\\Lib\\R\\library\\00LOCK\\readxl\\extdata\\type-me.xls를 C:\\ProgramData\\Anaconda3\\Lib\\R\\library\\readxl\\extdata\\type-me.xls로 복사하는데 문제가 발생했습니다: Permission denied\"Warning message in file.copy(savedcopy, lib, recursive = TRUE):\n",
      "\"C:\\ProgramData\\Anaconda3\\Lib\\R\\library\\00LOCK\\readxl\\extdata\\type-me.xlsx를 C:\\ProgramData\\Anaconda3\\Lib\\R\\library\\readxl\\extdata\\type-me.xlsx로 복사하는데 문제가 발생했습니다: Permission denied\"Warning message in file.copy(savedcopy, lib, recursive = TRUE):\n",
      "\"C:\\ProgramData\\Anaconda3\\Lib\\R\\library\\00LOCK\\readxl\\help\\aliases.rds를 C:\\ProgramData\\Anaconda3\\Lib\\R\\library\\readxl\\help\\aliases.rds로 복사하는데 문제가 발생했습니다: Permission denied\"Warning message in file.copy(savedcopy, lib, recursive = TRUE):\n",
      "\"C:\\ProgramData\\Anaconda3\\Lib\\R\\library\\00LOCK\\readxl\\help\\AnIndex를 C:\\ProgramData\\Anaconda3\\Lib\\R\\library\\readxl\\help\\AnIndex로 복사하는데 문제가 발생했습니다: Permission denied\"Warning message in file.copy(savedcopy, lib, recursive = TRUE):\n",
      "\"C:\\ProgramData\\Anaconda3\\Lib\\R\\library\\00LOCK\\readxl\\help\\figures\\logo.png를 C:\\ProgramData\\Anaconda3\\Lib\\R\\library\\readxl\\help\\figures\\logo.png로 복사하는데 문제가 발생했습니다: Permission denied\"Warning message in file.copy(savedcopy, lib, recursive = TRUE):\n",
      "\"C:\\ProgramData\\Anaconda3\\Lib\\R\\library\\00LOCK\\readxl\\help\\paths.rds를 C:\\ProgramData\\Anaconda3\\Lib\\R\\library\\readxl\\help\\paths.rds로 복사하는데 문제가 발생했습니다: Permission denied\"Warning message in file.copy(savedcopy, lib, recursive = TRUE):\n",
      "\"C:\\ProgramData\\Anaconda3\\Lib\\R\\library\\00LOCK\\readxl\\help\\readxl.rdb를 C:\\ProgramData\\Anaconda3\\Lib\\R\\library\\readxl\\help\\readxl.rdb로 복사하는데 문제가 발생했습니다: Permission denied\"Warning message in file.copy(savedcopy, lib, recursive = TRUE):\n",
      "\"C:\\ProgramData\\Anaconda3\\Lib\\R\\library\\00LOCK\\readxl\\help\\readxl.rdx를 C:\\ProgramData\\Anaconda3\\Lib\\R\\library\\readxl\\help\\readxl.rdx로 복사하는데 문제가 발생했습니다: Permission denied\"Warning message in file.copy(savedcopy, lib, recursive = TRUE):\n",
      "\"C:\\ProgramData\\Anaconda3\\Lib\\R\\library\\00LOCK\\readxl\\html\\00Index.html를 C:\\ProgramData\\Anaconda3\\Lib\\R\\library\\readxl\\html\\00Index.html로 복사하는데 문제가 발생했습니다: Permission denied\"Warning message in file.copy(savedcopy, lib, recursive = TRUE):\n",
      "\"C:\\ProgramData\\Anaconda3\\Lib\\R\\library\\00LOCK\\readxl\\html\\cell-specification.html를 C:\\ProgramData\\Anaconda3\\Lib\\R\\library\\readxl\\html\\cell-specification.html로 복사하는데 문제가 발생했습니다: Permission denied\"Warning message in file.copy(savedcopy, lib, recursive = TRUE):\n",
      "\"C:\\ProgramData\\Anaconda3\\Lib\\R\\library\\00LOCK\\readxl\\html\\excel_format.html를 C:\\ProgramData\\Anaconda3\\Lib\\R\\library\\readxl\\html\\excel_format.html로 복사하는데 문제가 발생했습니다: Permission denied\"Warning message in file.copy(savedcopy, lib, recursive = TRUE):\n",
      "\"C:\\ProgramData\\Anaconda3\\Lib\\R\\library\\00LOCK\\readxl\\html\\excel_sheets.html를 C:\\ProgramData\\Anaconda3\\Lib\\R\\library\\readxl\\html\\excel_sheets.html로 복사하는데 문제가 발생했습니다: Permission denied\"Warning message in file.copy(savedcopy, lib, recursive = TRUE):\n",
      "\"C:\\ProgramData\\Anaconda3\\Lib\\R\\library\\00LOCK\\readxl\\html\\R.css를 C:\\ProgramData\\Anaconda3\\Lib\\R\\library\\readxl\\html\\R.css로 복사하는데 문제가 발생했습니다: Permission denied\"Warning message in file.copy(savedcopy, lib, recursive = TRUE):\n",
      "\"C:\\ProgramData\\Anaconda3\\Lib\\R\\library\\00LOCK\\readxl\\html\\readxl-package.html를 C:\\ProgramData\\Anaconda3\\Lib\\R\\library\\readxl\\html\\readxl-package.html로 복사하는데 문제가 발생했습니다: Permission denied\"Warning message in file.copy(savedcopy, lib, recursive = TRUE):\n",
      "\"C:\\ProgramData\\Anaconda3\\Lib\\R\\library\\00LOCK\\readxl\\html\\readxl_example.html를 C:\\ProgramData\\Anaconda3\\Lib\\R\\library\\readxl\\html\\readxl_example.html로 복사하는데 문제가 발생했습니다: Permission denied\"Warning message in file.copy(savedcopy, lib, recursive = TRUE):\n",
      "\"C:\\ProgramData\\Anaconda3\\Lib\\R\\library\\00LOCK\\readxl\\html\\readxl_progress.html를 C:\\ProgramData\\Anaconda3\\Lib\\R\\library\\readxl\\html\\readxl_progress.html로 복사하는데 문제가 발생했습니다: Permission denied\"Warning message in file.copy(savedcopy, lib, recursive = TRUE):\n",
      "\"C:\\ProgramData\\Anaconda3\\Lib\\R\\library\\00LOCK\\readxl\\html\\read_excel.html를 C:\\ProgramData\\Anaconda3\\Lib\\R\\library\\readxl\\html\\read_excel.html로 복사하는데 문제가 발생했습니다: Permission denied\"Warning message in file.copy(savedcopy, lib, recursive = TRUE):\n",
      "\"C:\\ProgramData\\Anaconda3\\Lib\\R\\library\\00LOCK\\readxl\\INDEX를 C:\\ProgramData\\Anaconda3\\Lib\\R\\library\\readxl\\INDEX로 복사하는데 문제가 발생했습니다: Permission denied\"Warning message in file.copy(savedcopy, lib, recursive = TRUE):\n",
      "\"C:\\ProgramData\\Anaconda3\\Lib\\R\\library\\00LOCK\\readxl\\libs\\x64\\readxl.dll를 C:\\ProgramData\\Anaconda3\\Lib\\R\\library\\readxl\\libs\\x64\\readxl.dll로 복사하는데 문제가 발생했습니다: Permission denied\"Warning message in file.copy(savedcopy, lib, recursive = TRUE):\n",
      "\"C:\\ProgramData\\Anaconda3\\Lib\\R\\library\\00LOCK\\readxl\\MD5를 C:\\ProgramData\\Anaconda3\\Lib\\R\\library\\readxl\\MD5로 복사하는데 문제가 발생했습니다: Permission denied\"Warning message in file.copy(savedcopy, lib, recursive = TRUE):\n",
      "\"C:\\ProgramData\\Anaconda3\\Lib\\R\\library\\00LOCK\\readxl\\Meta\\features.rds를 C:\\ProgramData\\Anaconda3\\Lib\\R\\library\\readxl\\Meta\\features.rds로 복사하는데 문제가 발생했습니다: Permission denied\"Warning message in file.copy(savedcopy, lib, recursive = TRUE):\n",
      "\"C:\\ProgramData\\Anaconda3\\Lib\\R\\library\\00LOCK\\readxl\\Meta\\hsearch.rds를 C:\\ProgramData\\Anaconda3\\Lib\\R\\library\\readxl\\Meta\\hsearch.rds로 복사하는데 문제가 발생했습니다: Permission denied\"Warning message in file.copy(savedcopy, lib, recursive = TRUE):\n",
      "\"C:\\ProgramData\\Anaconda3\\Lib\\R\\library\\00LOCK\\readxl\\Meta\\links.rds를 C:\\ProgramData\\Anaconda3\\Lib\\R\\library\\readxl\\Meta\\links.rds로 복사하는데 문제가 발생했습니다: Permission denied\"Warning message in file.copy(savedcopy, lib, recursive = TRUE):\n",
      "\"C:\\ProgramData\\Anaconda3\\Lib\\R\\library\\00LOCK\\readxl\\Meta\\nsInfo.rds를 C:\\ProgramData\\Anaconda3\\Lib\\R\\library\\readxl\\Meta\\nsInfo.rds로 복사하는데 문제가 발생했습니다: Permission denied\"Warning message in file.copy(savedcopy, lib, recursive = TRUE):\n",
      "\"C:\\ProgramData\\Anaconda3\\Lib\\R\\library\\00LOCK\\readxl\\Meta\\package.rds를 C:\\ProgramData\\Anaconda3\\Lib\\R\\library\\readxl\\Meta\\package.rds로 복사하는데 문제가 발생했습니다: Permission denied\"Warning message in file.copy(savedcopy, lib, recursive = TRUE):\n",
      "\"C:\\ProgramData\\Anaconda3\\Lib\\R\\library\\00LOCK\\readxl\\Meta\\Rd.rds를 C:\\ProgramData\\Anaconda3\\Lib\\R\\library\\readxl\\Meta\\Rd.rds로 복사하는데 문제가 발생했습니다: Permission denied\"Warning message in file.copy(savedcopy, lib, recursive = TRUE):\n",
      "\"C:\\ProgramData\\Anaconda3\\Lib\\R\\library\\00LOCK\\readxl\\Meta\\vignette.rds를 C:\\ProgramData\\Anaconda3\\Lib\\R\\library\\readxl\\Meta\\vignette.rds로 복사하는데 문제가 발생했습니다: Permission denied\"Warning message in file.copy(savedcopy, lib, recursive = TRUE):\n",
      "\"C:\\ProgramData\\Anaconda3\\Lib\\R\\library\\00LOCK\\readxl\\NAMESPACE를 C:\\ProgramData\\Anaconda3\\Lib\\R\\library\\readxl\\NAMESPACE로 복사하는데 문제가 발생했습니다: Permission denied\"Warning message in file.copy(savedcopy, lib, recursive = TRUE):\n",
      "\"C:\\ProgramData\\Anaconda3\\Lib\\R\\library\\00LOCK\\readxl\\NEWS.md를 C:\\ProgramData\\Anaconda3\\Lib\\R\\library\\readxl\\NEWS.md로 복사하는데 문제가 발생했습니다: Permission denied\"Warning message in file.copy(savedcopy, lib, recursive = TRUE):\n",
      "\"C:\\ProgramData\\Anaconda3\\Lib\\R\\library\\00LOCK\\readxl\\R\\readxl를 C:\\ProgramData\\Anaconda3\\Lib\\R\\library\\readxl\\R\\readxl로 복사하는데 문제가 발생했습니다: Permission denied\"Warning message in file.copy(savedcopy, lib, recursive = TRUE):\n",
      "\"C:\\ProgramData\\Anaconda3\\Lib\\R\\library\\00LOCK\\readxl\\R\\readxl.rdb를 C:\\ProgramData\\Anaconda3\\Lib\\R\\library\\readxl\\R\\readxl.rdb로 복사하는데 문제가 발생했습니다: Permission denied\"Warning message in file.copy(savedcopy, lib, recursive = TRUE):\n",
      "\"C:\\ProgramData\\Anaconda3\\Lib\\R\\library\\00LOCK\\readxl\\R\\readxl.rdx를 C:\\ProgramData\\Anaconda3\\Lib\\R\\library\\readxl\\R\\readxl.rdx로 복사하는데 문제가 발생했습니다: Permission denied\"Warning message:\n",
      "\"restored 'readxl'\""
     ]
    },
    {
     "name": "stdout",
     "output_type": "stream",
     "text": [
      "\n",
      "The downloaded binary packages are in\n",
      "\tC:\\Users\\ICT03_07\\AppData\\Local\\Temp\\Rtmpk97K7q\\downloaded_packages\n"
     ]
    }
   ],
   "source": [
    "install.packages(\"readxl\")\n",
    "library(readxl)"
   ]
  },
  {
   "cell_type": "code",
   "execution_count": 50,
   "metadata": {},
   "outputs": [
    {
     "name": "stdout",
     "output_type": "stream",
     "text": [
      "'data.frame':\t20 obs. of  5 variables:\n",
      " $ id     : int  1 2 3 4 5 6 7 8 9 10 ...\n",
      " $ class  : int  1 1 1 1 2 2 2 2 3 3 ...\n",
      " $ math   : int  50 60 NA 30 25 50 80 NA 20 50 ...\n",
      " $ english: int  98 97 86 98 80 89 90 78 98 98 ...\n",
      " $ science: int  50 60 78 58 65 98 45 25 15 45 ...\n"
     ]
    }
   ],
   "source": [
    "str(exam)"
   ]
  },
  {
   "cell_type": "code",
   "execution_count": 51,
   "metadata": {},
   "outputs": [
    {
     "data": {
      "text/plain": [
       "       id            class        math          english        science     \n",
       " Min.   : 1.00   Min.   :1   Min.   :20.00   Min.   :56.0   Min.   :12.00  \n",
       " 1st Qu.: 5.75   1st Qu.:2   1st Qu.:46.00   1st Qu.:78.0   1st Qu.:45.00  \n",
       " Median :10.50   Median :3   Median :50.00   Median :86.5   Median :62.50  \n",
       " Mean   :10.50   Mean   :3   Mean   :55.24   Mean   :84.9   Mean   :59.45  \n",
       " 3rd Qu.:15.25   3rd Qu.:4   3rd Qu.:65.00   3rd Qu.:98.0   3rd Qu.:78.00  \n",
       " Max.   :20.00   Max.   :5   Max.   :89.00   Max.   :98.0   Max.   :98.00  \n",
       "                             NA's   :3                                     "
      ]
     },
     "metadata": {},
     "output_type": "display_data"
    }
   ],
   "source": [
    "summary(exam)"
   ]
  },
  {
   "cell_type": "code",
   "execution_count": 53,
   "metadata": {},
   "outputs": [
    {
     "data": {
      "text/html": [
       "55.2352941176471"
      ],
      "text/latex": [
       "55.2352941176471"
      ],
      "text/markdown": [
       "55.2352941176471"
      ],
      "text/plain": [
       "[1] 55.23529"
      ]
     },
     "metadata": {},
     "output_type": "display_data"
    }
   ],
   "source": [
    "mean(exam$math, na.rm=T)"
   ]
  },
  {
   "cell_type": "code",
   "execution_count": 54,
   "metadata": {},
   "outputs": [
    {
     "data": {
      "text/plain": [
       "\n",
       "FALSE \n",
       "   20 "
      ]
     },
     "metadata": {},
     "output_type": "display_data"
    }
   ],
   "source": [
    "exam$math <- ifelse(is.na(exam$math),55,exam$math)\n",
    "table(is.na(exam$math))"
   ]
  },
  {
   "cell_type": "code",
   "execution_count": 56,
   "metadata": {},
   "outputs": [],
   "source": [
    "mpg <- as.data.frame(ggplot2::mpg)\n",
    "mpg[c(65,124,131,153,212),'hwy'] <- NA"
   ]
  },
  {
   "cell_type": "code",
   "execution_count": 58,
   "metadata": {},
   "outputs": [
    {
     "data": {
      "text/plain": [
       "\n",
       "FALSE \n",
       "  234 "
      ]
     },
     "metadata": {},
     "output_type": "display_data"
    },
    {
     "data": {
      "text/plain": [
       "\n",
       "FALSE  TRUE \n",
       "  229     5 "
      ]
     },
     "metadata": {},
     "output_type": "display_data"
    }
   ],
   "source": [
    "table(is.na(mpg$drv))\n",
    "table(is.na(mpg$hwy))"
   ]
  },
  {
   "cell_type": "code",
   "execution_count": 63,
   "metadata": {
    "collapsed": true,
    "jupyter": {
     "outputs_hidden": true
    }
   },
   "outputs": [
    {
     "data": {
      "text/html": [
       "<table>\n",
       "<thead><tr><th scope=col>manufacturer</th><th scope=col>model</th><th scope=col>displ</th><th scope=col>year</th><th scope=col>cyl</th><th scope=col>trans</th><th scope=col>drv</th><th scope=col>cty</th><th scope=col>hwy</th><th scope=col>fl</th><th scope=col>class</th></tr></thead>\n",
       "<tbody>\n",
       "\t<tr><td>audi              </td><td>a4                </td><td>1.8               </td><td>1999              </td><td>4                 </td><td>auto(l5)          </td><td>f                 </td><td>18                </td><td>29                </td><td>p                 </td><td>compact           </td></tr>\n",
       "\t<tr><td>audi              </td><td>a4                </td><td>1.8               </td><td>1999              </td><td>4                 </td><td>manual(m5)        </td><td>f                 </td><td>21                </td><td>29                </td><td>p                 </td><td>compact           </td></tr>\n",
       "\t<tr><td>audi              </td><td>a4                </td><td>2.0               </td><td>2008              </td><td>4                 </td><td>manual(m6)        </td><td>f                 </td><td>20                </td><td>31                </td><td>p                 </td><td>compact           </td></tr>\n",
       "\t<tr><td>audi              </td><td>a4                </td><td>2.0               </td><td>2008              </td><td>4                 </td><td>auto(av)          </td><td>f                 </td><td>21                </td><td>30                </td><td>p                 </td><td>compact           </td></tr>\n",
       "\t<tr><td>audi              </td><td>a4                </td><td>2.8               </td><td>1999              </td><td>6                 </td><td>auto(l5)          </td><td>f                 </td><td>16                </td><td>26                </td><td>p                 </td><td>compact           </td></tr>\n",
       "\t<tr><td>audi              </td><td>a4                </td><td>2.8               </td><td>1999              </td><td>6                 </td><td>manual(m5)        </td><td>f                 </td><td>18                </td><td>26                </td><td>p                 </td><td>compact           </td></tr>\n",
       "\t<tr><td>audi              </td><td>a4                </td><td>3.1               </td><td>2008              </td><td>6                 </td><td>auto(av)          </td><td>f                 </td><td>18                </td><td>27                </td><td>p                 </td><td>compact           </td></tr>\n",
       "\t<tr><td>audi              </td><td>a4 quattro        </td><td>1.8               </td><td>1999              </td><td>4                 </td><td>manual(m5)        </td><td>4                 </td><td>18                </td><td>26                </td><td>p                 </td><td>compact           </td></tr>\n",
       "\t<tr><td>audi              </td><td>a4 quattro        </td><td>1.8               </td><td>1999              </td><td>4                 </td><td>auto(l5)          </td><td>4                 </td><td>16                </td><td>25                </td><td>p                 </td><td>compact           </td></tr>\n",
       "\t<tr><td>audi              </td><td>a4 quattro        </td><td>2.0               </td><td>2008              </td><td>4                 </td><td>manual(m6)        </td><td>4                 </td><td>20                </td><td>28                </td><td>p                 </td><td>compact           </td></tr>\n",
       "\t<tr><td>audi              </td><td>a4 quattro        </td><td>2.0               </td><td>2008              </td><td>4                 </td><td>auto(s6)          </td><td>4                 </td><td>19                </td><td>27                </td><td>p                 </td><td>compact           </td></tr>\n",
       "\t<tr><td>audi              </td><td>a4 quattro        </td><td>2.8               </td><td>1999              </td><td>6                 </td><td>auto(l5)          </td><td>4                 </td><td>15                </td><td>25                </td><td>p                 </td><td>compact           </td></tr>\n",
       "\t<tr><td>audi              </td><td>a4 quattro        </td><td>2.8               </td><td>1999              </td><td>6                 </td><td>manual(m5)        </td><td>4                 </td><td>17                </td><td>25                </td><td>p                 </td><td>compact           </td></tr>\n",
       "\t<tr><td>audi              </td><td>a4 quattro        </td><td>3.1               </td><td>2008              </td><td>6                 </td><td>auto(s6)          </td><td>4                 </td><td>17                </td><td>25                </td><td>p                 </td><td>compact           </td></tr>\n",
       "\t<tr><td>audi              </td><td>a4 quattro        </td><td>3.1               </td><td>2008              </td><td>6                 </td><td>manual(m6)        </td><td>4                 </td><td>15                </td><td>25                </td><td>p                 </td><td>compact           </td></tr>\n",
       "\t<tr><td>audi              </td><td>a6 quattro        </td><td>2.8               </td><td>1999              </td><td>6                 </td><td>auto(l5)          </td><td>4                 </td><td>15                </td><td>24                </td><td>p                 </td><td>midsize           </td></tr>\n",
       "\t<tr><td>audi              </td><td>a6 quattro        </td><td>3.1               </td><td>2008              </td><td>6                 </td><td>auto(s6)          </td><td>4                 </td><td>17                </td><td>25                </td><td>p                 </td><td>midsize           </td></tr>\n",
       "\t<tr><td>audi              </td><td>a6 quattro        </td><td>4.2               </td><td>2008              </td><td>8                 </td><td>auto(s6)          </td><td>4                 </td><td>16                </td><td>23                </td><td>p                 </td><td>midsize           </td></tr>\n",
       "\t<tr><td>chevrolet         </td><td>c1500 suburban 2wd</td><td>5.3               </td><td>2008              </td><td>8                 </td><td>auto(l4)          </td><td>r                 </td><td>14                </td><td>20                </td><td>r                 </td><td>suv               </td></tr>\n",
       "\t<tr><td>chevrolet         </td><td>c1500 suburban 2wd</td><td>5.3               </td><td>2008              </td><td>8                 </td><td>auto(l4)          </td><td>r                 </td><td>11                </td><td>15                </td><td>e                 </td><td>suv               </td></tr>\n",
       "\t<tr><td>chevrolet         </td><td>c1500 suburban 2wd</td><td>5.3               </td><td>2008              </td><td>8                 </td><td>auto(l4)          </td><td>r                 </td><td>14                </td><td>20                </td><td>r                 </td><td>suv               </td></tr>\n",
       "\t<tr><td>chevrolet         </td><td>c1500 suburban 2wd</td><td>5.7               </td><td>1999              </td><td>8                 </td><td>auto(l4)          </td><td>r                 </td><td>13                </td><td>17                </td><td>r                 </td><td>suv               </td></tr>\n",
       "\t<tr><td>chevrolet         </td><td>c1500 suburban 2wd</td><td>6.0               </td><td>2008              </td><td>8                 </td><td>auto(l4)          </td><td>r                 </td><td>12                </td><td>17                </td><td>r                 </td><td>suv               </td></tr>\n",
       "\t<tr><td>chevrolet         </td><td>corvette          </td><td>5.7               </td><td>1999              </td><td>8                 </td><td>manual(m6)        </td><td>r                 </td><td>16                </td><td>26                </td><td>p                 </td><td>2seater           </td></tr>\n",
       "\t<tr><td>chevrolet         </td><td>corvette          </td><td>5.7               </td><td>1999              </td><td>8                 </td><td>auto(l4)          </td><td>r                 </td><td>15                </td><td>23                </td><td>p                 </td><td>2seater           </td></tr>\n",
       "\t<tr><td>chevrolet         </td><td>corvette          </td><td>6.2               </td><td>2008              </td><td>8                 </td><td>manual(m6)        </td><td>r                 </td><td>16                </td><td>26                </td><td>p                 </td><td>2seater           </td></tr>\n",
       "\t<tr><td>chevrolet         </td><td>corvette          </td><td>6.2               </td><td>2008              </td><td>8                 </td><td>auto(s6)          </td><td>r                 </td><td>15                </td><td>25                </td><td>p                 </td><td>2seater           </td></tr>\n",
       "\t<tr><td>chevrolet         </td><td>corvette          </td><td>7.0               </td><td>2008              </td><td>8                 </td><td>manual(m6)        </td><td>r                 </td><td>15                </td><td>24                </td><td>p                 </td><td>2seater           </td></tr>\n",
       "\t<tr><td>chevrolet         </td><td>k1500 tahoe 4wd   </td><td>5.3               </td><td>2008              </td><td>8                 </td><td>auto(l4)          </td><td>4                 </td><td>14                </td><td>19                </td><td>r                 </td><td>suv               </td></tr>\n",
       "\t<tr><td>chevrolet         </td><td>k1500 tahoe 4wd   </td><td>5.3               </td><td>2008              </td><td>8                 </td><td>auto(l4)          </td><td>4                 </td><td>11                </td><td>14                </td><td>e                 </td><td>suv               </td></tr>\n",
       "\t<tr><td>...</td><td>...</td><td>...</td><td>...</td><td>...</td><td>...</td><td>...</td><td>...</td><td>...</td><td>...</td><td>...</td></tr>\n",
       "\t<tr><td>toyota           </td><td>toyota tacoma 4wd</td><td>3.4              </td><td>1999             </td><td>6                </td><td>auto(l4)         </td><td>4                </td><td>15               </td><td>19               </td><td>r                </td><td>pickup           </td></tr>\n",
       "\t<tr><td>toyota           </td><td>toyota tacoma 4wd</td><td>4.0              </td><td>2008             </td><td>6                </td><td>manual(m6)       </td><td>4                </td><td>15               </td><td>18               </td><td>r                </td><td>pickup           </td></tr>\n",
       "\t<tr><td>toyota           </td><td>toyota tacoma 4wd</td><td>4.0              </td><td>2008             </td><td>6                </td><td>auto(l5)         </td><td>4                </td><td>16               </td><td>20               </td><td>r                </td><td>pickup           </td></tr>\n",
       "\t<tr><td>volkswagen       </td><td>gti              </td><td>2.0              </td><td>1999             </td><td>4                </td><td>manual(m5)       </td><td>f                </td><td>21               </td><td>29               </td><td>r                </td><td>compact          </td></tr>\n",
       "\t<tr><td>volkswagen       </td><td>gti              </td><td>2.0              </td><td>1999             </td><td>4                </td><td>auto(l4)         </td><td>f                </td><td>19               </td><td>26               </td><td>r                </td><td>compact          </td></tr>\n",
       "\t<tr><td>volkswagen       </td><td>gti              </td><td>2.0              </td><td>2008             </td><td>4                </td><td>manual(m6)       </td><td>f                </td><td>21               </td><td>29               </td><td>p                </td><td>compact          </td></tr>\n",
       "\t<tr><td>volkswagen       </td><td>gti              </td><td>2.0              </td><td>2008             </td><td>4                </td><td>auto(s6)         </td><td>f                </td><td>22               </td><td>29               </td><td>p                </td><td>compact          </td></tr>\n",
       "\t<tr><td>volkswagen       </td><td>gti              </td><td>2.8              </td><td>1999             </td><td>6                </td><td>manual(m5)       </td><td>f                </td><td>17               </td><td>NA               </td><td>r                </td><td>compact          </td></tr>\n",
       "\t<tr><td>volkswagen       </td><td>jetta            </td><td>1.9              </td><td>1999             </td><td>4                </td><td>manual(m5)       </td><td>f                </td><td>33               </td><td>44               </td><td>d                </td><td>compact          </td></tr>\n",
       "\t<tr><td>volkswagen       </td><td>jetta            </td><td>2.0              </td><td>1999             </td><td>4                </td><td>manual(m5)       </td><td>f                </td><td>21               </td><td>29               </td><td>r                </td><td>compact          </td></tr>\n",
       "\t<tr><td>volkswagen       </td><td>jetta            </td><td>2.0              </td><td>1999             </td><td>4                </td><td>auto(l4)         </td><td>f                </td><td>19               </td><td>26               </td><td>r                </td><td>compact          </td></tr>\n",
       "\t<tr><td>volkswagen       </td><td>jetta            </td><td>2.0              </td><td>2008             </td><td>4                </td><td>auto(s6)         </td><td>f                </td><td>22               </td><td>29               </td><td>p                </td><td>compact          </td></tr>\n",
       "\t<tr><td>volkswagen       </td><td>jetta            </td><td>2.0              </td><td>2008             </td><td>4                </td><td>manual(m6)       </td><td>f                </td><td>21               </td><td>29               </td><td>p                </td><td>compact          </td></tr>\n",
       "\t<tr><td>volkswagen       </td><td>jetta            </td><td>2.5              </td><td>2008             </td><td>5                </td><td>auto(s6)         </td><td>f                </td><td>21               </td><td>29               </td><td>r                </td><td>compact          </td></tr>\n",
       "\t<tr><td>volkswagen       </td><td>jetta            </td><td>2.5              </td><td>2008             </td><td>5                </td><td>manual(m5)       </td><td>f                </td><td>21               </td><td>29               </td><td>r                </td><td>compact          </td></tr>\n",
       "\t<tr><td>volkswagen       </td><td>jetta            </td><td>2.8              </td><td>1999             </td><td>6                </td><td>auto(l4)         </td><td>f                </td><td>16               </td><td>23               </td><td>r                </td><td>compact          </td></tr>\n",
       "\t<tr><td>volkswagen       </td><td>jetta            </td><td>2.8              </td><td>1999             </td><td>6                </td><td>manual(m5)       </td><td>f                </td><td>17               </td><td>24               </td><td>r                </td><td>compact          </td></tr>\n",
       "\t<tr><td>volkswagen       </td><td>new beetle       </td><td>1.9              </td><td>1999             </td><td>4                </td><td>manual(m5)       </td><td>f                </td><td>35               </td><td>44               </td><td>d                </td><td>subcompact       </td></tr>\n",
       "\t<tr><td>volkswagen       </td><td>new beetle       </td><td>1.9              </td><td>1999             </td><td>4                </td><td>auto(l4)         </td><td>f                </td><td>29               </td><td>41               </td><td>d                </td><td>subcompact       </td></tr>\n",
       "\t<tr><td>volkswagen       </td><td>new beetle       </td><td>2.0              </td><td>1999             </td><td>4                </td><td>manual(m5)       </td><td>f                </td><td>21               </td><td>29               </td><td>r                </td><td>subcompact       </td></tr>\n",
       "\t<tr><td>volkswagen       </td><td>new beetle       </td><td>2.0              </td><td>1999             </td><td>4                </td><td>auto(l4)         </td><td>f                </td><td>19               </td><td>26               </td><td>r                </td><td>subcompact       </td></tr>\n",
       "\t<tr><td>volkswagen       </td><td>new beetle       </td><td>2.5              </td><td>2008             </td><td>5                </td><td>manual(m5)       </td><td>f                </td><td>20               </td><td>28               </td><td>r                </td><td>subcompact       </td></tr>\n",
       "\t<tr><td>volkswagen       </td><td>new beetle       </td><td>2.5              </td><td>2008             </td><td>5                </td><td>auto(s6)         </td><td>f                </td><td>20               </td><td>29               </td><td>r                </td><td>subcompact       </td></tr>\n",
       "\t<tr><td>volkswagen       </td><td>passat           </td><td>1.8              </td><td>1999             </td><td>4                </td><td>manual(m5)       </td><td>f                </td><td>21               </td><td>29               </td><td>p                </td><td>midsize          </td></tr>\n",
       "\t<tr><td>volkswagen       </td><td>passat           </td><td>1.8              </td><td>1999             </td><td>4                </td><td>auto(l5)         </td><td>f                </td><td>18               </td><td>29               </td><td>p                </td><td>midsize          </td></tr>\n",
       "\t<tr><td>volkswagen       </td><td>passat           </td><td>2.0              </td><td>2008             </td><td>4                </td><td>auto(s6)         </td><td>f                </td><td>19               </td><td>28               </td><td>p                </td><td>midsize          </td></tr>\n",
       "\t<tr><td>volkswagen       </td><td>passat           </td><td>2.0              </td><td>2008             </td><td>4                </td><td>manual(m6)       </td><td>f                </td><td>21               </td><td>29               </td><td>p                </td><td>midsize          </td></tr>\n",
       "\t<tr><td>volkswagen       </td><td>passat           </td><td>2.8              </td><td>1999             </td><td>6                </td><td>auto(l5)         </td><td>f                </td><td>16               </td><td>26               </td><td>p                </td><td>midsize          </td></tr>\n",
       "\t<tr><td>volkswagen       </td><td>passat           </td><td>2.8              </td><td>1999             </td><td>6                </td><td>manual(m5)       </td><td>f                </td><td>18               </td><td>26               </td><td>p                </td><td>midsize          </td></tr>\n",
       "\t<tr><td>volkswagen       </td><td>passat           </td><td>3.6              </td><td>2008             </td><td>6                </td><td>auto(s6)         </td><td>f                </td><td>17               </td><td>26               </td><td>p                </td><td>midsize          </td></tr>\n",
       "</tbody>\n",
       "</table>\n"
      ],
      "text/latex": [
       "\\begin{tabular}{r|lllllllllll}\n",
       " manufacturer & model & displ & year & cyl & trans & drv & cty & hwy & fl & class\\\\\n",
       "\\hline\n",
       "\t audi               & a4                 & 1.8                & 1999               & 4                  & auto(l5)           & f                  & 18                 & 29                 & p                  & compact           \\\\\n",
       "\t audi               & a4                 & 1.8                & 1999               & 4                  & manual(m5)         & f                  & 21                 & 29                 & p                  & compact           \\\\\n",
       "\t audi               & a4                 & 2.0                & 2008               & 4                  & manual(m6)         & f                  & 20                 & 31                 & p                  & compact           \\\\\n",
       "\t audi               & a4                 & 2.0                & 2008               & 4                  & auto(av)           & f                  & 21                 & 30                 & p                  & compact           \\\\\n",
       "\t audi               & a4                 & 2.8                & 1999               & 6                  & auto(l5)           & f                  & 16                 & 26                 & p                  & compact           \\\\\n",
       "\t audi               & a4                 & 2.8                & 1999               & 6                  & manual(m5)         & f                  & 18                 & 26                 & p                  & compact           \\\\\n",
       "\t audi               & a4                 & 3.1                & 2008               & 6                  & auto(av)           & f                  & 18                 & 27                 & p                  & compact           \\\\\n",
       "\t audi               & a4 quattro         & 1.8                & 1999               & 4                  & manual(m5)         & 4                  & 18                 & 26                 & p                  & compact           \\\\\n",
       "\t audi               & a4 quattro         & 1.8                & 1999               & 4                  & auto(l5)           & 4                  & 16                 & 25                 & p                  & compact           \\\\\n",
       "\t audi               & a4 quattro         & 2.0                & 2008               & 4                  & manual(m6)         & 4                  & 20                 & 28                 & p                  & compact           \\\\\n",
       "\t audi               & a4 quattro         & 2.0                & 2008               & 4                  & auto(s6)           & 4                  & 19                 & 27                 & p                  & compact           \\\\\n",
       "\t audi               & a4 quattro         & 2.8                & 1999               & 6                  & auto(l5)           & 4                  & 15                 & 25                 & p                  & compact           \\\\\n",
       "\t audi               & a4 quattro         & 2.8                & 1999               & 6                  & manual(m5)         & 4                  & 17                 & 25                 & p                  & compact           \\\\\n",
       "\t audi               & a4 quattro         & 3.1                & 2008               & 6                  & auto(s6)           & 4                  & 17                 & 25                 & p                  & compact           \\\\\n",
       "\t audi               & a4 quattro         & 3.1                & 2008               & 6                  & manual(m6)         & 4                  & 15                 & 25                 & p                  & compact           \\\\\n",
       "\t audi               & a6 quattro         & 2.8                & 1999               & 6                  & auto(l5)           & 4                  & 15                 & 24                 & p                  & midsize           \\\\\n",
       "\t audi               & a6 quattro         & 3.1                & 2008               & 6                  & auto(s6)           & 4                  & 17                 & 25                 & p                  & midsize           \\\\\n",
       "\t audi               & a6 quattro         & 4.2                & 2008               & 8                  & auto(s6)           & 4                  & 16                 & 23                 & p                  & midsize           \\\\\n",
       "\t chevrolet          & c1500 suburban 2wd & 5.3                & 2008               & 8                  & auto(l4)           & r                  & 14                 & 20                 & r                  & suv               \\\\\n",
       "\t chevrolet          & c1500 suburban 2wd & 5.3                & 2008               & 8                  & auto(l4)           & r                  & 11                 & 15                 & e                  & suv               \\\\\n",
       "\t chevrolet          & c1500 suburban 2wd & 5.3                & 2008               & 8                  & auto(l4)           & r                  & 14                 & 20                 & r                  & suv               \\\\\n",
       "\t chevrolet          & c1500 suburban 2wd & 5.7                & 1999               & 8                  & auto(l4)           & r                  & 13                 & 17                 & r                  & suv               \\\\\n",
       "\t chevrolet          & c1500 suburban 2wd & 6.0                & 2008               & 8                  & auto(l4)           & r                  & 12                 & 17                 & r                  & suv               \\\\\n",
       "\t chevrolet          & corvette           & 5.7                & 1999               & 8                  & manual(m6)         & r                  & 16                 & 26                 & p                  & 2seater           \\\\\n",
       "\t chevrolet          & corvette           & 5.7                & 1999               & 8                  & auto(l4)           & r                  & 15                 & 23                 & p                  & 2seater           \\\\\n",
       "\t chevrolet          & corvette           & 6.2                & 2008               & 8                  & manual(m6)         & r                  & 16                 & 26                 & p                  & 2seater           \\\\\n",
       "\t chevrolet          & corvette           & 6.2                & 2008               & 8                  & auto(s6)           & r                  & 15                 & 25                 & p                  & 2seater           \\\\\n",
       "\t chevrolet          & corvette           & 7.0                & 2008               & 8                  & manual(m6)         & r                  & 15                 & 24                 & p                  & 2seater           \\\\\n",
       "\t chevrolet          & k1500 tahoe 4wd    & 5.3                & 2008               & 8                  & auto(l4)           & 4                  & 14                 & 19                 & r                  & suv               \\\\\n",
       "\t chevrolet          & k1500 tahoe 4wd    & 5.3                & 2008               & 8                  & auto(l4)           & 4                  & 11                 & 14                 & e                  & suv               \\\\\n",
       "\t ... & ... & ... & ... & ... & ... & ... & ... & ... & ... & ...\\\\\n",
       "\t toyota            & toyota tacoma 4wd & 3.4               & 1999              & 6                 & auto(l4)          & 4                 & 15                & 19                & r                 & pickup           \\\\\n",
       "\t toyota            & toyota tacoma 4wd & 4.0               & 2008              & 6                 & manual(m6)        & 4                 & 15                & 18                & r                 & pickup           \\\\\n",
       "\t toyota            & toyota tacoma 4wd & 4.0               & 2008              & 6                 & auto(l5)          & 4                 & 16                & 20                & r                 & pickup           \\\\\n",
       "\t volkswagen        & gti               & 2.0               & 1999              & 4                 & manual(m5)        & f                 & 21                & 29                & r                 & compact          \\\\\n",
       "\t volkswagen        & gti               & 2.0               & 1999              & 4                 & auto(l4)          & f                 & 19                & 26                & r                 & compact          \\\\\n",
       "\t volkswagen        & gti               & 2.0               & 2008              & 4                 & manual(m6)        & f                 & 21                & 29                & p                 & compact          \\\\\n",
       "\t volkswagen        & gti               & 2.0               & 2008              & 4                 & auto(s6)          & f                 & 22                & 29                & p                 & compact          \\\\\n",
       "\t volkswagen        & gti               & 2.8               & 1999              & 6                 & manual(m5)        & f                 & 17                & NA                & r                 & compact          \\\\\n",
       "\t volkswagen        & jetta             & 1.9               & 1999              & 4                 & manual(m5)        & f                 & 33                & 44                & d                 & compact          \\\\\n",
       "\t volkswagen        & jetta             & 2.0               & 1999              & 4                 & manual(m5)        & f                 & 21                & 29                & r                 & compact          \\\\\n",
       "\t volkswagen        & jetta             & 2.0               & 1999              & 4                 & auto(l4)          & f                 & 19                & 26                & r                 & compact          \\\\\n",
       "\t volkswagen        & jetta             & 2.0               & 2008              & 4                 & auto(s6)          & f                 & 22                & 29                & p                 & compact          \\\\\n",
       "\t volkswagen        & jetta             & 2.0               & 2008              & 4                 & manual(m6)        & f                 & 21                & 29                & p                 & compact          \\\\\n",
       "\t volkswagen        & jetta             & 2.5               & 2008              & 5                 & auto(s6)          & f                 & 21                & 29                & r                 & compact          \\\\\n",
       "\t volkswagen        & jetta             & 2.5               & 2008              & 5                 & manual(m5)        & f                 & 21                & 29                & r                 & compact          \\\\\n",
       "\t volkswagen        & jetta             & 2.8               & 1999              & 6                 & auto(l4)          & f                 & 16                & 23                & r                 & compact          \\\\\n",
       "\t volkswagen        & jetta             & 2.8               & 1999              & 6                 & manual(m5)        & f                 & 17                & 24                & r                 & compact          \\\\\n",
       "\t volkswagen        & new beetle        & 1.9               & 1999              & 4                 & manual(m5)        & f                 & 35                & 44                & d                 & subcompact       \\\\\n",
       "\t volkswagen        & new beetle        & 1.9               & 1999              & 4                 & auto(l4)          & f                 & 29                & 41                & d                 & subcompact       \\\\\n",
       "\t volkswagen        & new beetle        & 2.0               & 1999              & 4                 & manual(m5)        & f                 & 21                & 29                & r                 & subcompact       \\\\\n",
       "\t volkswagen        & new beetle        & 2.0               & 1999              & 4                 & auto(l4)          & f                 & 19                & 26                & r                 & subcompact       \\\\\n",
       "\t volkswagen        & new beetle        & 2.5               & 2008              & 5                 & manual(m5)        & f                 & 20                & 28                & r                 & subcompact       \\\\\n",
       "\t volkswagen        & new beetle        & 2.5               & 2008              & 5                 & auto(s6)          & f                 & 20                & 29                & r                 & subcompact       \\\\\n",
       "\t volkswagen        & passat            & 1.8               & 1999              & 4                 & manual(m5)        & f                 & 21                & 29                & p                 & midsize          \\\\\n",
       "\t volkswagen        & passat            & 1.8               & 1999              & 4                 & auto(l5)          & f                 & 18                & 29                & p                 & midsize          \\\\\n",
       "\t volkswagen        & passat            & 2.0               & 2008              & 4                 & auto(s6)          & f                 & 19                & 28                & p                 & midsize          \\\\\n",
       "\t volkswagen        & passat            & 2.0               & 2008              & 4                 & manual(m6)        & f                 & 21                & 29                & p                 & midsize          \\\\\n",
       "\t volkswagen        & passat            & 2.8               & 1999              & 6                 & auto(l5)          & f                 & 16                & 26                & p                 & midsize          \\\\\n",
       "\t volkswagen        & passat            & 2.8               & 1999              & 6                 & manual(m5)        & f                 & 18                & 26                & p                 & midsize          \\\\\n",
       "\t volkswagen        & passat            & 3.6               & 2008              & 6                 & auto(s6)          & f                 & 17                & 26                & p                 & midsize          \\\\\n",
       "\\end{tabular}\n"
      ],
      "text/markdown": [
       "\n",
       "| manufacturer | model | displ | year | cyl | trans | drv | cty | hwy | fl | class |\n",
       "|---|---|---|---|---|---|---|---|---|---|---|\n",
       "| audi               | a4                 | 1.8                | 1999               | 4                  | auto(l5)           | f                  | 18                 | 29                 | p                  | compact            |\n",
       "| audi               | a4                 | 1.8                | 1999               | 4                  | manual(m5)         | f                  | 21                 | 29                 | p                  | compact            |\n",
       "| audi               | a4                 | 2.0                | 2008               | 4                  | manual(m6)         | f                  | 20                 | 31                 | p                  | compact            |\n",
       "| audi               | a4                 | 2.0                | 2008               | 4                  | auto(av)           | f                  | 21                 | 30                 | p                  | compact            |\n",
       "| audi               | a4                 | 2.8                | 1999               | 6                  | auto(l5)           | f                  | 16                 | 26                 | p                  | compact            |\n",
       "| audi               | a4                 | 2.8                | 1999               | 6                  | manual(m5)         | f                  | 18                 | 26                 | p                  | compact            |\n",
       "| audi               | a4                 | 3.1                | 2008               | 6                  | auto(av)           | f                  | 18                 | 27                 | p                  | compact            |\n",
       "| audi               | a4 quattro         | 1.8                | 1999               | 4                  | manual(m5)         | 4                  | 18                 | 26                 | p                  | compact            |\n",
       "| audi               | a4 quattro         | 1.8                | 1999               | 4                  | auto(l5)           | 4                  | 16                 | 25                 | p                  | compact            |\n",
       "| audi               | a4 quattro         | 2.0                | 2008               | 4                  | manual(m6)         | 4                  | 20                 | 28                 | p                  | compact            |\n",
       "| audi               | a4 quattro         | 2.0                | 2008               | 4                  | auto(s6)           | 4                  | 19                 | 27                 | p                  | compact            |\n",
       "| audi               | a4 quattro         | 2.8                | 1999               | 6                  | auto(l5)           | 4                  | 15                 | 25                 | p                  | compact            |\n",
       "| audi               | a4 quattro         | 2.8                | 1999               | 6                  | manual(m5)         | 4                  | 17                 | 25                 | p                  | compact            |\n",
       "| audi               | a4 quattro         | 3.1                | 2008               | 6                  | auto(s6)           | 4                  | 17                 | 25                 | p                  | compact            |\n",
       "| audi               | a4 quattro         | 3.1                | 2008               | 6                  | manual(m6)         | 4                  | 15                 | 25                 | p                  | compact            |\n",
       "| audi               | a6 quattro         | 2.8                | 1999               | 6                  | auto(l5)           | 4                  | 15                 | 24                 | p                  | midsize            |\n",
       "| audi               | a6 quattro         | 3.1                | 2008               | 6                  | auto(s6)           | 4                  | 17                 | 25                 | p                  | midsize            |\n",
       "| audi               | a6 quattro         | 4.2                | 2008               | 8                  | auto(s6)           | 4                  | 16                 | 23                 | p                  | midsize            |\n",
       "| chevrolet          | c1500 suburban 2wd | 5.3                | 2008               | 8                  | auto(l4)           | r                  | 14                 | 20                 | r                  | suv                |\n",
       "| chevrolet          | c1500 suburban 2wd | 5.3                | 2008               | 8                  | auto(l4)           | r                  | 11                 | 15                 | e                  | suv                |\n",
       "| chevrolet          | c1500 suburban 2wd | 5.3                | 2008               | 8                  | auto(l4)           | r                  | 14                 | 20                 | r                  | suv                |\n",
       "| chevrolet          | c1500 suburban 2wd | 5.7                | 1999               | 8                  | auto(l4)           | r                  | 13                 | 17                 | r                  | suv                |\n",
       "| chevrolet          | c1500 suburban 2wd | 6.0                | 2008               | 8                  | auto(l4)           | r                  | 12                 | 17                 | r                  | suv                |\n",
       "| chevrolet          | corvette           | 5.7                | 1999               | 8                  | manual(m6)         | r                  | 16                 | 26                 | p                  | 2seater            |\n",
       "| chevrolet          | corvette           | 5.7                | 1999               | 8                  | auto(l4)           | r                  | 15                 | 23                 | p                  | 2seater            |\n",
       "| chevrolet          | corvette           | 6.2                | 2008               | 8                  | manual(m6)         | r                  | 16                 | 26                 | p                  | 2seater            |\n",
       "| chevrolet          | corvette           | 6.2                | 2008               | 8                  | auto(s6)           | r                  | 15                 | 25                 | p                  | 2seater            |\n",
       "| chevrolet          | corvette           | 7.0                | 2008               | 8                  | manual(m6)         | r                  | 15                 | 24                 | p                  | 2seater            |\n",
       "| chevrolet          | k1500 tahoe 4wd    | 5.3                | 2008               | 8                  | auto(l4)           | 4                  | 14                 | 19                 | r                  | suv                |\n",
       "| chevrolet          | k1500 tahoe 4wd    | 5.3                | 2008               | 8                  | auto(l4)           | 4                  | 11                 | 14                 | e                  | suv                |\n",
       "| ... | ... | ... | ... | ... | ... | ... | ... | ... | ... | ... |\n",
       "| toyota            | toyota tacoma 4wd | 3.4               | 1999              | 6                 | auto(l4)          | 4                 | 15                | 19                | r                 | pickup            |\n",
       "| toyota            | toyota tacoma 4wd | 4.0               | 2008              | 6                 | manual(m6)        | 4                 | 15                | 18                | r                 | pickup            |\n",
       "| toyota            | toyota tacoma 4wd | 4.0               | 2008              | 6                 | auto(l5)          | 4                 | 16                | 20                | r                 | pickup            |\n",
       "| volkswagen        | gti               | 2.0               | 1999              | 4                 | manual(m5)        | f                 | 21                | 29                | r                 | compact           |\n",
       "| volkswagen        | gti               | 2.0               | 1999              | 4                 | auto(l4)          | f                 | 19                | 26                | r                 | compact           |\n",
       "| volkswagen        | gti               | 2.0               | 2008              | 4                 | manual(m6)        | f                 | 21                | 29                | p                 | compact           |\n",
       "| volkswagen        | gti               | 2.0               | 2008              | 4                 | auto(s6)          | f                 | 22                | 29                | p                 | compact           |\n",
       "| volkswagen        | gti               | 2.8               | 1999              | 6                 | manual(m5)        | f                 | 17                | NA                | r                 | compact           |\n",
       "| volkswagen        | jetta             | 1.9               | 1999              | 4                 | manual(m5)        | f                 | 33                | 44                | d                 | compact           |\n",
       "| volkswagen        | jetta             | 2.0               | 1999              | 4                 | manual(m5)        | f                 | 21                | 29                | r                 | compact           |\n",
       "| volkswagen        | jetta             | 2.0               | 1999              | 4                 | auto(l4)          | f                 | 19                | 26                | r                 | compact           |\n",
       "| volkswagen        | jetta             | 2.0               | 2008              | 4                 | auto(s6)          | f                 | 22                | 29                | p                 | compact           |\n",
       "| volkswagen        | jetta             | 2.0               | 2008              | 4                 | manual(m6)        | f                 | 21                | 29                | p                 | compact           |\n",
       "| volkswagen        | jetta             | 2.5               | 2008              | 5                 | auto(s6)          | f                 | 21                | 29                | r                 | compact           |\n",
       "| volkswagen        | jetta             | 2.5               | 2008              | 5                 | manual(m5)        | f                 | 21                | 29                | r                 | compact           |\n",
       "| volkswagen        | jetta             | 2.8               | 1999              | 6                 | auto(l4)          | f                 | 16                | 23                | r                 | compact           |\n",
       "| volkswagen        | jetta             | 2.8               | 1999              | 6                 | manual(m5)        | f                 | 17                | 24                | r                 | compact           |\n",
       "| volkswagen        | new beetle        | 1.9               | 1999              | 4                 | manual(m5)        | f                 | 35                | 44                | d                 | subcompact        |\n",
       "| volkswagen        | new beetle        | 1.9               | 1999              | 4                 | auto(l4)          | f                 | 29                | 41                | d                 | subcompact        |\n",
       "| volkswagen        | new beetle        | 2.0               | 1999              | 4                 | manual(m5)        | f                 | 21                | 29                | r                 | subcompact        |\n",
       "| volkswagen        | new beetle        | 2.0               | 1999              | 4                 | auto(l4)          | f                 | 19                | 26                | r                 | subcompact        |\n",
       "| volkswagen        | new beetle        | 2.5               | 2008              | 5                 | manual(m5)        | f                 | 20                | 28                | r                 | subcompact        |\n",
       "| volkswagen        | new beetle        | 2.5               | 2008              | 5                 | auto(s6)          | f                 | 20                | 29                | r                 | subcompact        |\n",
       "| volkswagen        | passat            | 1.8               | 1999              | 4                 | manual(m5)        | f                 | 21                | 29                | p                 | midsize           |\n",
       "| volkswagen        | passat            | 1.8               | 1999              | 4                 | auto(l5)          | f                 | 18                | 29                | p                 | midsize           |\n",
       "| volkswagen        | passat            | 2.0               | 2008              | 4                 | auto(s6)          | f                 | 19                | 28                | p                 | midsize           |\n",
       "| volkswagen        | passat            | 2.0               | 2008              | 4                 | manual(m6)        | f                 | 21                | 29                | p                 | midsize           |\n",
       "| volkswagen        | passat            | 2.8               | 1999              | 6                 | auto(l5)          | f                 | 16                | 26                | p                 | midsize           |\n",
       "| volkswagen        | passat            | 2.8               | 1999              | 6                 | manual(m5)        | f                 | 18                | 26                | p                 | midsize           |\n",
       "| volkswagen        | passat            | 3.6               | 2008              | 6                 | auto(s6)          | f                 | 17                | 26                | p                 | midsize           |\n",
       "\n"
      ],
      "text/plain": [
       "    manufacturer model              displ year cyl trans      drv cty hwy fl \n",
       "1   audi         a4                 1.8   1999 4   auto(l5)   f   18  29  p  \n",
       "2   audi         a4                 1.8   1999 4   manual(m5) f   21  29  p  \n",
       "3   audi         a4                 2.0   2008 4   manual(m6) f   20  31  p  \n",
       "4   audi         a4                 2.0   2008 4   auto(av)   f   21  30  p  \n",
       "5   audi         a4                 2.8   1999 6   auto(l5)   f   16  26  p  \n",
       "6   audi         a4                 2.8   1999 6   manual(m5) f   18  26  p  \n",
       "7   audi         a4                 3.1   2008 6   auto(av)   f   18  27  p  \n",
       "8   audi         a4 quattro         1.8   1999 4   manual(m5) 4   18  26  p  \n",
       "9   audi         a4 quattro         1.8   1999 4   auto(l5)   4   16  25  p  \n",
       "10  audi         a4 quattro         2.0   2008 4   manual(m6) 4   20  28  p  \n",
       "11  audi         a4 quattro         2.0   2008 4   auto(s6)   4   19  27  p  \n",
       "12  audi         a4 quattro         2.8   1999 6   auto(l5)   4   15  25  p  \n",
       "13  audi         a4 quattro         2.8   1999 6   manual(m5) 4   17  25  p  \n",
       "14  audi         a4 quattro         3.1   2008 6   auto(s6)   4   17  25  p  \n",
       "15  audi         a4 quattro         3.1   2008 6   manual(m6) 4   15  25  p  \n",
       "16  audi         a6 quattro         2.8   1999 6   auto(l5)   4   15  24  p  \n",
       "17  audi         a6 quattro         3.1   2008 6   auto(s6)   4   17  25  p  \n",
       "18  audi         a6 quattro         4.2   2008 8   auto(s6)   4   16  23  p  \n",
       "19  chevrolet    c1500 suburban 2wd 5.3   2008 8   auto(l4)   r   14  20  r  \n",
       "20  chevrolet    c1500 suburban 2wd 5.3   2008 8   auto(l4)   r   11  15  e  \n",
       "21  chevrolet    c1500 suburban 2wd 5.3   2008 8   auto(l4)   r   14  20  r  \n",
       "22  chevrolet    c1500 suburban 2wd 5.7   1999 8   auto(l4)   r   13  17  r  \n",
       "23  chevrolet    c1500 suburban 2wd 6.0   2008 8   auto(l4)   r   12  17  r  \n",
       "24  chevrolet    corvette           5.7   1999 8   manual(m6) r   16  26  p  \n",
       "25  chevrolet    corvette           5.7   1999 8   auto(l4)   r   15  23  p  \n",
       "26  chevrolet    corvette           6.2   2008 8   manual(m6) r   16  26  p  \n",
       "27  chevrolet    corvette           6.2   2008 8   auto(s6)   r   15  25  p  \n",
       "28  chevrolet    corvette           7.0   2008 8   manual(m6) r   15  24  p  \n",
       "29  chevrolet    k1500 tahoe 4wd    5.3   2008 8   auto(l4)   4   14  19  r  \n",
       "30  chevrolet    k1500 tahoe 4wd    5.3   2008 8   auto(l4)   4   11  14  e  \n",
       "... ...          ...                ...   ...  ... ...        ... ... ... ...\n",
       "205 toyota       toyota tacoma 4wd  3.4   1999 6   auto(l4)   4   15  19  r  \n",
       "206 toyota       toyota tacoma 4wd  4.0   2008 6   manual(m6) 4   15  18  r  \n",
       "207 toyota       toyota tacoma 4wd  4.0   2008 6   auto(l5)   4   16  20  r  \n",
       "208 volkswagen   gti                2.0   1999 4   manual(m5) f   21  29  r  \n",
       "209 volkswagen   gti                2.0   1999 4   auto(l4)   f   19  26  r  \n",
       "210 volkswagen   gti                2.0   2008 4   manual(m6) f   21  29  p  \n",
       "211 volkswagen   gti                2.0   2008 4   auto(s6)   f   22  29  p  \n",
       "212 volkswagen   gti                2.8   1999 6   manual(m5) f   17  NA  r  \n",
       "213 volkswagen   jetta              1.9   1999 4   manual(m5) f   33  44  d  \n",
       "214 volkswagen   jetta              2.0   1999 4   manual(m5) f   21  29  r  \n",
       "215 volkswagen   jetta              2.0   1999 4   auto(l4)   f   19  26  r  \n",
       "216 volkswagen   jetta              2.0   2008 4   auto(s6)   f   22  29  p  \n",
       "217 volkswagen   jetta              2.0   2008 4   manual(m6) f   21  29  p  \n",
       "218 volkswagen   jetta              2.5   2008 5   auto(s6)   f   21  29  r  \n",
       "219 volkswagen   jetta              2.5   2008 5   manual(m5) f   21  29  r  \n",
       "220 volkswagen   jetta              2.8   1999 6   auto(l4)   f   16  23  r  \n",
       "221 volkswagen   jetta              2.8   1999 6   manual(m5) f   17  24  r  \n",
       "222 volkswagen   new beetle         1.9   1999 4   manual(m5) f   35  44  d  \n",
       "223 volkswagen   new beetle         1.9   1999 4   auto(l4)   f   29  41  d  \n",
       "224 volkswagen   new beetle         2.0   1999 4   manual(m5) f   21  29  r  \n",
       "225 volkswagen   new beetle         2.0   1999 4   auto(l4)   f   19  26  r  \n",
       "226 volkswagen   new beetle         2.5   2008 5   manual(m5) f   20  28  r  \n",
       "227 volkswagen   new beetle         2.5   2008 5   auto(s6)   f   20  29  r  \n",
       "228 volkswagen   passat             1.8   1999 4   manual(m5) f   21  29  p  \n",
       "229 volkswagen   passat             1.8   1999 4   auto(l5)   f   18  29  p  \n",
       "230 volkswagen   passat             2.0   2008 4   auto(s6)   f   19  28  p  \n",
       "231 volkswagen   passat             2.0   2008 4   manual(m6) f   21  29  p  \n",
       "232 volkswagen   passat             2.8   1999 6   auto(l5)   f   16  26  p  \n",
       "233 volkswagen   passat             2.8   1999 6   manual(m5) f   18  26  p  \n",
       "234 volkswagen   passat             3.6   2008 6   auto(s6)   f   17  26  p  \n",
       "    class     \n",
       "1   compact   \n",
       "2   compact   \n",
       "3   compact   \n",
       "4   compact   \n",
       "5   compact   \n",
       "6   compact   \n",
       "7   compact   \n",
       "8   compact   \n",
       "9   compact   \n",
       "10  compact   \n",
       "11  compact   \n",
       "12  compact   \n",
       "13  compact   \n",
       "14  compact   \n",
       "15  compact   \n",
       "16  midsize   \n",
       "17  midsize   \n",
       "18  midsize   \n",
       "19  suv       \n",
       "20  suv       \n",
       "21  suv       \n",
       "22  suv       \n",
       "23  suv       \n",
       "24  2seater   \n",
       "25  2seater   \n",
       "26  2seater   \n",
       "27  2seater   \n",
       "28  2seater   \n",
       "29  suv       \n",
       "30  suv       \n",
       "... ...       \n",
       "205 pickup    \n",
       "206 pickup    \n",
       "207 pickup    \n",
       "208 compact   \n",
       "209 compact   \n",
       "210 compact   \n",
       "211 compact   \n",
       "212 compact   \n",
       "213 compact   \n",
       "214 compact   \n",
       "215 compact   \n",
       "216 compact   \n",
       "217 compact   \n",
       "218 compact   \n",
       "219 compact   \n",
       "220 compact   \n",
       "221 compact   \n",
       "222 subcompact\n",
       "223 subcompact\n",
       "224 subcompact\n",
       "225 subcompact\n",
       "226 subcompact\n",
       "227 subcompact\n",
       "228 midsize   \n",
       "229 midsize   \n",
       "230 midsize   \n",
       "231 midsize   \n",
       "232 midsize   \n",
       "233 midsize   \n",
       "234 midsize   "
      ]
     },
     "metadata": {},
     "output_type": "display_data"
    }
   ],
   "source": [
    "mpg"
   ]
  },
  {
   "cell_type": "code",
   "execution_count": 68,
   "metadata": {},
   "outputs": [
    {
     "data": {
      "text/html": [
       "<table>\n",
       "<thead><tr><th scope=col>drv</th><th scope=col>mean_math</th></tr></thead>\n",
       "<tbody>\n",
       "\t<tr><td>4       </td><td>19.24242</td></tr>\n",
       "\t<tr><td>f       </td><td>28.20000</td></tr>\n",
       "\t<tr><td>r       </td><td>21.00000</td></tr>\n",
       "</tbody>\n",
       "</table>\n"
      ],
      "text/latex": [
       "\\begin{tabular}{r|ll}\n",
       " drv & mean\\_math\\\\\n",
       "\\hline\n",
       "\t 4        & 19.24242\\\\\n",
       "\t f        & 28.20000\\\\\n",
       "\t r        & 21.00000\\\\\n",
       "\\end{tabular}\n"
      ],
      "text/markdown": [
       "\n",
       "| drv | mean_math |\n",
       "|---|---|\n",
       "| 4        | 19.24242 |\n",
       "| f        | 28.20000 |\n",
       "| r        | 21.00000 |\n",
       "\n"
      ],
      "text/plain": [
       "  drv mean_math\n",
       "1 4   19.24242 \n",
       "2 f   28.20000 \n",
       "3 r   21.00000 "
      ]
     },
     "metadata": {},
     "output_type": "display_data"
    }
   ],
   "source": [
    "mpg %>% filter(!is.na(hwy)) %>%\n",
    "  group_by(drv) %>%\n",
    "  summarise(mean_math = mean(hwy))\n",
    "   "
   ]
  },
  {
   "cell_type": "code",
   "execution_count": 69,
   "metadata": {},
   "outputs": [
    {
     "data": {
      "text/html": [
       "<table>\n",
       "<thead><tr><th scope=col>sex</th><th scope=col>score</th></tr></thead>\n",
       "<tbody>\n",
       "\t<tr><td>1</td><td>5</td></tr>\n",
       "\t<tr><td>2</td><td>4</td></tr>\n",
       "\t<tr><td>1</td><td>3</td></tr>\n",
       "\t<tr><td>3</td><td>4</td></tr>\n",
       "\t<tr><td>2</td><td>2</td></tr>\n",
       "\t<tr><td>1</td><td>6</td></tr>\n",
       "</tbody>\n",
       "</table>\n"
      ],
      "text/latex": [
       "\\begin{tabular}{r|ll}\n",
       " sex & score\\\\\n",
       "\\hline\n",
       "\t 1 & 5\\\\\n",
       "\t 2 & 4\\\\\n",
       "\t 1 & 3\\\\\n",
       "\t 3 & 4\\\\\n",
       "\t 2 & 2\\\\\n",
       "\t 1 & 6\\\\\n",
       "\\end{tabular}\n"
      ],
      "text/markdown": [
       "\n",
       "| sex | score |\n",
       "|---|---|\n",
       "| 1 | 5 |\n",
       "| 2 | 4 |\n",
       "| 1 | 3 |\n",
       "| 3 | 4 |\n",
       "| 2 | 2 |\n",
       "| 1 | 6 |\n",
       "\n"
      ],
      "text/plain": [
       "  sex score\n",
       "1 1   5    \n",
       "2 2   4    \n",
       "3 1   3    \n",
       "4 3   4    \n",
       "5 2   2    \n",
       "6 1   6    "
      ]
     },
     "metadata": {},
     "output_type": "display_data"
    }
   ],
   "source": [
    "outlier <- data.frame(sex=c(1,2,1,3,2,1), score=c(5,4,3,4,2,6))\n",
    "outlier"
   ]
  },
  {
   "cell_type": "code",
   "execution_count": 72,
   "metadata": {},
   "outputs": [
    {
     "data": {
      "text/plain": [
       "\n",
       "1 2 3 \n",
       "3 2 1 "
      ]
     },
     "metadata": {},
     "output_type": "display_data"
    },
    {
     "data": {
      "text/plain": [
       "\n",
       "2 3 4 5 6 \n",
       "1 1 2 1 1 "
      ]
     },
     "metadata": {},
     "output_type": "display_data"
    }
   ],
   "source": [
    "table(outlier$sex)\n",
    "table(outlier$score)"
   ]
  },
  {
   "cell_type": "code",
   "execution_count": 73,
   "metadata": {},
   "outputs": [
    {
     "data": {
      "text/html": [
       "<table>\n",
       "<thead><tr><th scope=col>sex</th><th scope=col>score</th></tr></thead>\n",
       "<tbody>\n",
       "\t<tr><td> 1</td><td>5 </td></tr>\n",
       "\t<tr><td> 2</td><td>4 </td></tr>\n",
       "\t<tr><td> 1</td><td>3 </td></tr>\n",
       "\t<tr><td>NA</td><td>4 </td></tr>\n",
       "\t<tr><td> 2</td><td>2 </td></tr>\n",
       "\t<tr><td> 1</td><td>6 </td></tr>\n",
       "</tbody>\n",
       "</table>\n"
      ],
      "text/latex": [
       "\\begin{tabular}{r|ll}\n",
       " sex & score\\\\\n",
       "\\hline\n",
       "\t  1 & 5 \\\\\n",
       "\t  2 & 4 \\\\\n",
       "\t  1 & 3 \\\\\n",
       "\t NA & 4 \\\\\n",
       "\t  2 & 2 \\\\\n",
       "\t  1 & 6 \\\\\n",
       "\\end{tabular}\n"
      ],
      "text/markdown": [
       "\n",
       "| sex | score |\n",
       "|---|---|\n",
       "|  1 | 5  |\n",
       "|  2 | 4  |\n",
       "|  1 | 3  |\n",
       "| NA | 4  |\n",
       "|  2 | 2  |\n",
       "|  1 | 6  |\n",
       "\n"
      ],
      "text/plain": [
       "  sex score\n",
       "1  1  5    \n",
       "2  2  4    \n",
       "3  1  3    \n",
       "4 NA  4    \n",
       "5  2  2    \n",
       "6  1  6    "
      ]
     },
     "metadata": {},
     "output_type": "display_data"
    }
   ],
   "source": [
    "outlier$sex <- ifelse(outlier$sex==3,NA,outlier$sex)\n",
    "outlier"
   ]
  },
  {
   "cell_type": "code",
   "execution_count": 74,
   "metadata": {},
   "outputs": [
    {
     "data": {
      "text/html": [
       "<table>\n",
       "<thead><tr><th scope=col>sex</th><th scope=col>score</th></tr></thead>\n",
       "<tbody>\n",
       "\t<tr><td> 1</td><td> 5</td></tr>\n",
       "\t<tr><td> 2</td><td> 4</td></tr>\n",
       "\t<tr><td> 1</td><td> 3</td></tr>\n",
       "\t<tr><td>NA</td><td> 4</td></tr>\n",
       "\t<tr><td> 2</td><td> 2</td></tr>\n",
       "\t<tr><td> 1</td><td>NA</td></tr>\n",
       "</tbody>\n",
       "</table>\n"
      ],
      "text/latex": [
       "\\begin{tabular}{r|ll}\n",
       " sex & score\\\\\n",
       "\\hline\n",
       "\t  1 &  5\\\\\n",
       "\t  2 &  4\\\\\n",
       "\t  1 &  3\\\\\n",
       "\t NA &  4\\\\\n",
       "\t  2 &  2\\\\\n",
       "\t  1 & NA\\\\\n",
       "\\end{tabular}\n"
      ],
      "text/markdown": [
       "\n",
       "| sex | score |\n",
       "|---|---|\n",
       "|  1 |  5 |\n",
       "|  2 |  4 |\n",
       "|  1 |  3 |\n",
       "| NA |  4 |\n",
       "|  2 |  2 |\n",
       "|  1 | NA |\n",
       "\n"
      ],
      "text/plain": [
       "  sex score\n",
       "1  1   5   \n",
       "2  2   4   \n",
       "3  1   3   \n",
       "4 NA   4   \n",
       "5  2   2   \n",
       "6  1  NA   "
      ]
     },
     "metadata": {},
     "output_type": "display_data"
    }
   ],
   "source": [
    "outlier$score <- ifelse(outlier$score>5,NA,outlier$score)\n",
    "outlier"
   ]
  },
  {
   "cell_type": "code",
   "execution_count": 77,
   "metadata": {},
   "outputs": [
    {
     "data": {
      "text/html": [
       "<table>\n",
       "<thead><tr><th scope=col>sex</th><th scope=col>mean_score</th><th scope=col>n</th></tr></thead>\n",
       "<tbody>\n",
       "\t<tr><td>1</td><td>4</td><td>2</td></tr>\n",
       "\t<tr><td>2</td><td>3</td><td>2</td></tr>\n",
       "</tbody>\n",
       "</table>\n"
      ],
      "text/latex": [
       "\\begin{tabular}{r|lll}\n",
       " sex & mean\\_score & n\\\\\n",
       "\\hline\n",
       "\t 1 & 4 & 2\\\\\n",
       "\t 2 & 3 & 2\\\\\n",
       "\\end{tabular}\n"
      ],
      "text/markdown": [
       "\n",
       "| sex | mean_score | n |\n",
       "|---|---|---|\n",
       "| 1 | 4 | 2 |\n",
       "| 2 | 3 | 2 |\n",
       "\n"
      ],
      "text/plain": [
       "  sex mean_score n\n",
       "1 1   4          2\n",
       "2 2   3          2"
      ]
     },
     "metadata": {},
     "output_type": "display_data"
    }
   ],
   "source": [
    "outlier %>%\n",
    "  filter(!is.na(sex) & !is.na(score)) %>%\n",
    "  group_by(sex) %>%\n",
    "  summarise(mean_score=mean(score),\n",
    "            n=n())\n"
   ]
  },
  {
   "cell_type": "code",
   "execution_count": 78,
   "metadata": {},
   "outputs": [
    {
     "data": {
      "image/png": "[encoded data removed]",
      "text/plain": [
       "plot without title"
      ]
     },
     "metadata": {},
     "output_type": "display_data"
    }
   ],
   "source": [
    "mpg <- as.data.frame(ggplot2::mpg)"
   ]
  },
  {
   "cell_type": "code",
   "execution_count": 79,
   "metadata": {},
   "outputs": [
    {
     "data": {
      "text/html": [
       "<ol class=list-inline>\n",
       "\t<li>234</li>\n",
       "\t<li>11</li>\n",
       "</ol>\n"
      ],
      "text/latex": [
       "\\begin{enumerate*}\n",
       "\\item 234\n",
       "\\item 11\n",
       "\\end{enumerate*}\n"
      ],
      "text/markdown": [
       "1. 234\n",
       "2. 11\n",
       "\n",
       "\n"
      ],
      "text/plain": [
       "[1] 234  11"
      ]
     },
     "metadata": {},
     "output_type": "display_data"
    }
   ],
   "source": [
    "dim(mpg)"
   ]
  },
  {
   "cell_type": "code",
   "execution_count": 80,
   "metadata": {},
   "outputs": [
    {
     "name": "stdout",
     "output_type": "stream",
     "text": [
      "'data.frame':\t234 obs. of  11 variables:\n",
      " $ manufacturer: chr  \"audi\" \"audi\" \"audi\" \"audi\" ...\n",
      " $ model       : chr  \"a4\" \"a4\" \"a4\" \"a4\" ...\n",
      " $ displ       : num  1.8 1.8 2 2 2.8 2.8 3.1 1.8 1.8 2 ...\n",
      " $ year        : int  1999 1999 2008 2008 1999 1999 2008 1999 1999 2008 ...\n",
      " $ cyl         : int  4 4 4 4 6 6 6 4 4 4 ...\n",
      " $ trans       : chr  \"auto(l5)\" \"manual(m5)\" \"manual(m6)\" \"auto(av)\" ...\n",
      " $ drv         : chr  \"f\" \"f\" \"f\" \"f\" ...\n",
      " $ cty         : int  18 21 20 21 16 18 18 18 16 20 ...\n",
      " $ hwy         : int  29 29 31 30 26 26 27 26 25 28 ...\n",
      " $ fl          : chr  \"p\" \"p\" \"p\" \"p\" ...\n",
      " $ class       : chr  \"compact\" \"compact\" \"compact\" \"compact\" ...\n"
     ]
    }
   ],
   "source": [
    "str(mpg)"
   ]
  },
  {
   "cell_type": "code",
   "execution_count": 82,
   "metadata": {},
   "outputs": [
    {
     "data": {
      "text/html": [
       "<ol class=list-inline>\n",
       "\t<li>12</li>\n",
       "\t<li>18</li>\n",
       "\t<li>24</li>\n",
       "\t<li>27</li>\n",
       "\t<li>37</li>\n",
       "</ol>\n"
      ],
      "text/latex": [
       "\\begin{enumerate*}\n",
       "\\item 12\n",
       "\\item 18\n",
       "\\item 24\n",
       "\\item 27\n",
       "\\item 37\n",
       "\\end{enumerate*}\n"
      ],
      "text/markdown": [
       "1. 12\n",
       "2. 18\n",
       "3. 24\n",
       "4. 27\n",
       "5. 37\n",
       "\n",
       "\n"
      ],
      "text/plain": [
       "     [,1]\n",
       "[1,]   12\n",
       "[2,]   18\n",
       "[3,]   24\n",
       "[4,]   27\n",
       "[5,]   37\n",
       "attr(,\"class\")\n",
       "        1 \n",
       "\"integer\" "
      ]
     },
     "metadata": {},
     "output_type": "display_data"
    },
    {
     "data": {
      "image/png": "[encoded data removed]",
      "text/plain": [
       "plot without title"
      ]
     },
     "metadata": {},
     "output_type": "display_data"
    }
   ],
   "source": [
    "boxplot(mpg$hwy)$stats"
   ]
  },
  {
   "cell_type": "code",
   "execution_count": 84,
   "metadata": {},
   "outputs": [
    {
     "data": {
      "text/plain": [
       "\n",
       "FALSE  TRUE \n",
       "  231     3 "
      ]
     },
     "metadata": {},
     "output_type": "display_data"
    }
   ],
   "source": [
    "mpg$hwy <- ifelse(mpg$hwy < 12 | mpg$hwy > 37, NA, mpg$hwy)\n",
    "table(is.na(mpg$hwy))"
   ]
  },
  {
   "cell_type": "code",
   "execution_count": 87,
   "metadata": {},
   "outputs": [
    {
     "data": {
      "text/html": [
       "<table>\n",
       "<thead><tr><th scope=col>drv</th><th scope=col>mean_hwy</th></tr></thead>\n",
       "<tbody>\n",
       "\t<tr><td>4       </td><td>19.17476</td></tr>\n",
       "\t<tr><td>f       </td><td>27.72816</td></tr>\n",
       "\t<tr><td>r       </td><td>21.00000</td></tr>\n",
       "</tbody>\n",
       "</table>\n"
      ],
      "text/latex": [
       "\\begin{tabular}{r|ll}\n",
       " drv & mean\\_hwy\\\\\n",
       "\\hline\n",
       "\t 4        & 19.17476\\\\\n",
       "\t f        & 27.72816\\\\\n",
       "\t r        & 21.00000\\\\\n",
       "\\end{tabular}\n"
      ],
      "text/markdown": [
       "\n",
       "| drv | mean_hwy |\n",
       "|---|---|\n",
       "| 4        | 19.17476 |\n",
       "| f        | 27.72816 |\n",
       "| r        | 21.00000 |\n",
       "\n"
      ],
      "text/plain": [
       "  drv mean_hwy\n",
       "1 4   19.17476\n",
       "2 f   27.72816\n",
       "3 r   21.00000"
      ]
     },
     "metadata": {},
     "output_type": "display_data"
    }
   ],
   "source": [
    "mpg %>%\n",
    "  group_by(drv) %>%\n",
    "  summarise(mean_hwy = mean(hwy, na.rm=T))"
   ]
  },
  {
   "cell_type": "code",
   "execution_count": 93,
   "metadata": {},
   "outputs": [],
   "source": [
    "mpg <- as.data.frame(ggplot2::mpg)\n",
    "mpg[c(10,14,58,93),'drv'] <-'k'\n",
    "mpg[c(29,43,129,203),'cty'] <-c(3,4,39,42)"
   ]
  },
  {
   "cell_type": "code",
   "execution_count": 94,
   "metadata": {},
   "outputs": [
    {
     "data": {
      "text/plain": [
       "\n",
       "FALSE  TRUE \n",
       "  230     4 "
      ]
     },
     "metadata": {},
     "output_type": "display_data"
    }
   ],
   "source": [
    "mpg$drv <- ifelse(mpg$drv %in% c(\"4\", \"f\", \"r\"), mpg$drv, NA)\n",
    "table(is.na(mpg$drv))"
   ]
  },
  {
   "cell_type": "code",
   "execution_count": 96,
   "metadata": {
    "collapsed": true,
    "jupyter": {
     "outputs_hidden": true
    }
   },
   "outputs": [
    {
     "data": {
      "text/html": [
       "<table>\n",
       "<tbody>\n",
       "\t<tr><td> 9</td></tr>\n",
       "\t<tr><td>14</td></tr>\n",
       "\t<tr><td>16</td></tr>\n",
       "\t<tr><td>19</td></tr>\n",
       "\t<tr><td>26</td></tr>\n",
       "</tbody>\n",
       "</table>\n"
      ],
      "text/latex": [
       "\\begin{tabular}{l}\n",
       "\t  9\\\\\n",
       "\t 14\\\\\n",
       "\t 16\\\\\n",
       "\t 19\\\\\n",
       "\t 26\\\\\n",
       "\\end{tabular}\n"
      ],
      "text/markdown": [
       "\n",
       "|  9 |\n",
       "| 14 |\n",
       "| 16 |\n",
       "| 19 |\n",
       "| 26 |\n",
       "\n"
      ],
      "text/plain": [
       "     [,1]\n",
       "[1,]  9  \n",
       "[2,] 14  \n",
       "[3,] 16  \n",
       "[4,] 19  \n",
       "[5,] 26  "
      ]
     },
     "metadata": {},
     "output_type": "display_data"
    },
    {
     "data": {
      "image/png": "[encoded data removed]",
      "text/plain": [
       "plot without title"
      ]
     },
     "metadata": {},
     "output_type": "display_data"
    }
   ],
   "source": [
    "boxplot(mpg$cty)$stats"
   ]
  },
  {
   "cell_type": "code",
   "execution_count": 95,
   "metadata": {},
   "outputs": [
    {
     "data": {
      "text/plain": [
       "\n",
       "FALSE  TRUE \n",
       "  225     9 "
      ]
     },
     "metadata": {},
     "output_type": "display_data"
    }
   ],
   "source": [
    "mpg$cty <- ifelse(mpg$cty < 9 | mpg$cty > 26, NA, mpg$cty)\n",
    "table(is.na(mpg$cty))"
   ]
  },
  {
   "cell_type": "code",
   "execution_count": 101,
   "metadata": {},
   "outputs": [
    {
     "data": {
      "text/html": [
       "<table>\n",
       "<thead><tr><th scope=col>drv</th><th scope=col>mean_cty</th></tr></thead>\n",
       "<tbody>\n",
       "\t<tr><td>4       </td><td>14.24742</td></tr>\n",
       "\t<tr><td>f       </td><td>19.47000</td></tr>\n",
       "\t<tr><td>r       </td><td>13.95833</td></tr>\n",
       "</tbody>\n",
       "</table>\n"
      ],
      "text/latex": [
       "\\begin{tabular}{r|ll}\n",
       " drv & mean\\_cty\\\\\n",
       "\\hline\n",
       "\t 4        & 14.24742\\\\\n",
       "\t f        & 19.47000\\\\\n",
       "\t r        & 13.95833\\\\\n",
       "\\end{tabular}\n"
      ],
      "text/markdown": [
       "\n",
       "| drv | mean_cty |\n",
       "|---|---|\n",
       "| 4        | 14.24742 |\n",
       "| f        | 19.47000 |\n",
       "| r        | 13.95833 |\n",
       "\n"
      ],
      "text/plain": [
       "  drv mean_cty\n",
       "1 4   14.24742\n",
       "2 f   19.47000\n",
       "3 r   13.95833"
      ]
     },
     "metadata": {},
     "output_type": "display_data"
    }
   ],
   "source": [
    "mpg %>%\n",
    "  filter(!is.na(drv)) %>%\n",
    "  group_by(drv) %>%\n",
    "  summarise(mean_cty=mean(cty,na.rm=T))"
   ]
  }
 ],
 "metadata": {
  "kernelspec": {
   "display_name": "R",
   "language": "R",
   "name": "ir"
  },
  "language_info": {
   "name": ""
  }
 },
 "nbformat": 4,
 "nbformat_minor": 4
}
