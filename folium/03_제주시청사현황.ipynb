{
 "cells": [
  {
   "cell_type": "code",
   "execution_count": 1,
   "metadata": {},
   "outputs": [],
   "source": [
    "import folium\n",
    "import pandas as pd\n",
    "import requests\n",
    "import json\n",
    "import webbrowser"
   ]
  },
  {
   "cell_type": "code",
   "execution_count": 2,
   "metadata": {},
   "outputs": [],
   "source": [
    "# 검색어를 던져서 응답 데이터중에 주소, 위도, 경도 질의어 리턴 함수\n",
    "def net_get_geo_coder(query):\n",
    "    KAKAO_API_KEY='5175c0a009281f3d39afe4b7dcaa6d3d'\n",
    "    url = '''\n",
    "    https://dapi.kakao.com/v2/local/search/keyword.json?query={0}&category_group_code=PO3\n",
    "    '''.format(query)\n",
    "    headers={'Authorization': 'KakaoAK {0}'.format(KAKAO_API_KEY)}\n",
    "    # API 쿼리 수행\n",
    "    res = requests.get(url, headers=headers)\n",
    "    res = res.json()\n",
    "    try:\n",
    "        return [float(res['documents'][0]['y']), float(res['documents'][0]['x'])]\n",
    "    except:\n",
    "        pass\n",
    "    \n",
    "    # 데이터 추출 => 리턴 값이 하나 이상이면 튜플로 리턴이 된다!!!\n",
    "    # 데이터 리턴 : 주소, 위도, 경도, 질의어 순으로 튜플형태로 리턴  "
   ]
  },
  {
   "cell_type": "code",
   "execution_count": 3,
   "metadata": {},
   "outputs": [],
   "source": [
    "geoData = []\n",
    "geoData=net_get_geo_coder('제주특별자치도 서귀포시 신중로 55')"
   ]
  },
  {
   "cell_type": "code",
   "execution_count": 180,
   "metadata": {},
   "outputs": [
    {
     "data": {
      "text/plain": [
       "[33.2556629640412, 126.510542736677]"
      ]
     },
     "execution_count": 180,
     "metadata": {},
     "output_type": "execute_result"
    }
   ],
   "source": [
    "geoData"
   ]
  },
  {
   "cell_type": "code",
   "execution_count": 8,
   "metadata": {},
   "outputs": [],
   "source": [
    "map = folium.Map(location=[33.4995342412698, 126.531171087129], zoom_start=10)\n",
    "filename = 'jeju.csv'\n",
    "df = pd.read_csv(filename, encoding='CP949', header=0)\n",
    "geoData = []"
   ]
  },
  {
   "cell_type": "code",
   "execution_count": 7,
   "metadata": {},
   "outputs": [
    {
     "data": {
      "text/html": [
       "<div>\n",
       "<style scoped>\n",
       "    .dataframe tbody tr th:only-of-type {\n",
       "        vertical-align: middle;\n",
       "    }\n",
       "\n",
       "    .dataframe tbody tr th {\n",
       "        vertical-align: top;\n",
       "    }\n",
       "\n",
       "    .dataframe thead th {\n",
       "        text-align: right;\n",
       "    }\n",
       "</style>\n",
       "<table border=\"1\" class=\"dataframe\">\n",
       "  <thead>\n",
       "    <tr style=\"text-align: right;\">\n",
       "      <th></th>\n",
       "      <th>지역</th>\n",
       "      <th>읍면동</th>\n",
       "      <th>전화번호</th>\n",
       "      <th>주소</th>\n",
       "      <th>일반현황</th>\n",
       "      <th>청사현황</th>\n",
       "      <th>자치센터현황</th>\n",
       "      <th>데이터기준일자</th>\n",
       "      <th>Unnamed: 8</th>\n",
       "    </tr>\n",
       "  </thead>\n",
       "  <tbody>\n",
       "    <tr>\n",
       "      <th>0</th>\n",
       "      <td>제주시</td>\n",
       "      <td>일도1동</td>\n",
       "      <td>064-728-4412</td>\n",
       "      <td>제주특별자치도 제주시 성지로 71 (일도일동)</td>\n",
       "      <td>인구 3146명 / 면적 0.33㎢ / 11통 61개반</td>\n",
       "      <td>지상 3층  / 연면적 585㎡</td>\n",
       "      <td>개소일 2000-12-20</td>\n",
       "      <td>2019-06-20</td>\n",
       "      <td>NaN</td>\n",
       "    </tr>\n",
       "    <tr>\n",
       "      <th>1</th>\n",
       "      <td>제주시</td>\n",
       "      <td>일도2동</td>\n",
       "      <td>064-728-4442</td>\n",
       "      <td>제주특별자치도 제주시 고마로 28 (일도이동)</td>\n",
       "      <td>인구 38400명 / 면적2.18㎢ / 48통326반</td>\n",
       "      <td>지상 2층·지하 1층 / 연면적 1307.01</td>\n",
       "      <td>총면적 617.22㎡ / 개소일 2000-12-24</td>\n",
       "      <td>2019-06-20</td>\n",
       "      <td>NaN</td>\n",
       "    </tr>\n",
       "    <tr>\n",
       "      <th>2</th>\n",
       "      <td>제주시</td>\n",
       "      <td>이도1동</td>\n",
       "      <td>064-728-1530</td>\n",
       "      <td>제주특별자치도 제주시 중앙로25길 17 (이도1동)</td>\n",
       "      <td>인구 7418명 / 면적 0.79㎢ / 16통 97개반</td>\n",
       "      <td>지상 2층 / 2층면적 205㎡</td>\n",
       "      <td>개소일 2000-12-28</td>\n",
       "      <td>2019-06-20</td>\n",
       "      <td>NaN</td>\n",
       "    </tr>\n",
       "    <tr>\n",
       "      <th>3</th>\n",
       "      <td>제주시</td>\n",
       "      <td>이도2동</td>\n",
       "      <td>064-755-2021</td>\n",
       "      <td>제주특별자치도 제주시 오복3길 8 (이도이동)</td>\n",
       "      <td>인구 41428명 / 면적 5.4㎢ / 49통 323반</td>\n",
       "      <td>지하 1층·지상 3층 / 연면적 1223.52㎡</td>\n",
       "      <td>총면적 388.9㎡  / 개소일 2000-10-05</td>\n",
       "      <td>2019-06-20</td>\n",
       "      <td>NaN</td>\n",
       "    </tr>\n",
       "    <tr>\n",
       "      <th>4</th>\n",
       "      <td>제주시</td>\n",
       "      <td>삼도1동</td>\n",
       "      <td>064-728-4532</td>\n",
       "      <td>제주특별자치도 제주시 전농로 40 (삼도일동)</td>\n",
       "      <td>인구 14281명 / 면적0.87㎢ / 18통122반</td>\n",
       "      <td>지하 1층·지상3층 / 연면적 2070.37㎡</td>\n",
       "      <td>총면적 456.55㎡</td>\n",
       "      <td>2019-06-20</td>\n",
       "      <td>NaN</td>\n",
       "    </tr>\n",
       "  </tbody>\n",
       "</table>\n",
       "</div>"
      ],
      "text/plain": [
       "    지역   읍면동          전화번호                            주소  \\\n",
       "0  제주시  일도1동  064-728-4412     제주특별자치도 제주시 성지로 71 (일도일동)   \n",
       "1  제주시  일도2동  064-728-4442     제주특별자치도 제주시 고마로 28 (일도이동)   \n",
       "2  제주시  이도1동  064-728-1530  제주특별자치도 제주시 중앙로25길 17 (이도1동)   \n",
       "3  제주시  이도2동  064-755-2021     제주특별자치도 제주시 오복3길 8 (이도이동)   \n",
       "4  제주시  삼도1동  064-728-4532     제주특별자치도 제주시 전농로 40 (삼도일동)   \n",
       "\n",
       "                             일반현황                        청사현황  \\\n",
       "0  인구 3146명 / 면적 0.33㎢ / 11통 61개반           지상 3층  / 연면적 585㎡   \n",
       "1   인구 38400명 / 면적2.18㎢ / 48통326반   지상 2층·지하 1층 / 연면적 1307.01   \n",
       "2  인구 7418명 / 면적 0.79㎢ / 16통 97개반           지상 2층 / 2층면적 205㎡   \n",
       "3  인구 41428명 / 면적 5.4㎢ / 49통 323반  지하 1층·지상 3층 / 연면적 1223.52㎡   \n",
       "4   인구 14281명 / 면적0.87㎢ / 18통122반   지하 1층·지상3층 / 연면적 2070.37㎡   \n",
       "\n",
       "                         자치센터현황     데이터기준일자  Unnamed: 8  \n",
       "0                개소일 2000-12-20  2019-06-20         NaN  \n",
       "1  총면적 617.22㎡ / 개소일 2000-12-24  2019-06-20         NaN  \n",
       "2                개소일 2000-12-28  2019-06-20         NaN  \n",
       "3  총면적 388.9㎡  / 개소일 2000-10-05  2019-06-20         NaN  \n",
       "4                   총면적 456.55㎡  2019-06-20         NaN  "
      ]
     },
     "execution_count": 7,
     "metadata": {},
     "output_type": "execute_result"
    }
   ],
   "source": [
    "df.head()"
   ]
  },
  {
   "cell_type": "code",
   "execution_count": 9,
   "metadata": {},
   "outputs": [],
   "source": [
    "df['도로명주소']=df['주소'].str.split('(').str.get(0)"
   ]
  },
  {
   "cell_type": "code",
   "execution_count": 186,
   "metadata": {},
   "outputs": [
    {
     "data": {
      "text/html": [
       "<div>\n",
       "<style scoped>\n",
       "    .dataframe tbody tr th:only-of-type {\n",
       "        vertical-align: middle;\n",
       "    }\n",
       "\n",
       "    .dataframe tbody tr th {\n",
       "        vertical-align: top;\n",
       "    }\n",
       "\n",
       "    .dataframe thead th {\n",
       "        text-align: right;\n",
       "    }\n",
       "</style>\n",
       "<table border=\"1\" class=\"dataframe\">\n",
       "  <thead>\n",
       "    <tr style=\"text-align: right;\">\n",
       "      <th></th>\n",
       "      <th>청사명</th>\n",
       "      <th>도로명주소</th>\n",
       "      <th>지번주소</th>\n",
       "      <th>층수</th>\n",
       "      <th>연면적</th>\n",
       "      <th>주차장수</th>\n",
       "      <th>장애인주차장수</th>\n",
       "      <th>신축년도</th>\n",
       "      <th>데이터기준일자</th>\n",
       "    </tr>\n",
       "  </thead>\n",
       "  <tbody>\n",
       "    <tr>\n",
       "      <th>0</th>\n",
       "      <td>1청사</td>\n",
       "      <td>제주특별자치도 서귀포시 중앙로 105</td>\n",
       "      <td>제주특별자치도 서귀포시 서홍동 440-1</td>\n",
       "      <td>지상 6 / 지하 2</td>\n",
       "      <td>23677.17</td>\n",
       "      <td>206</td>\n",
       "      <td>10.0</td>\n",
       "      <td>2017</td>\n",
       "      <td>2018-11-26</td>\n",
       "    </tr>\n",
       "    <tr>\n",
       "      <th>1</th>\n",
       "      <td>2청사</td>\n",
       "      <td>제주특별자치도 서귀포시 신중로 55</td>\n",
       "      <td>제주특별자치도 서귀포시 법환동 731</td>\n",
       "      <td>지상 4 / 지하 1</td>\n",
       "      <td>10070.00</td>\n",
       "      <td>301</td>\n",
       "      <td>5.0</td>\n",
       "      <td>1994</td>\n",
       "      <td>2018-11-26</td>\n",
       "    </tr>\n",
       "    <tr>\n",
       "      <th>2</th>\n",
       "      <td>대정읍</td>\n",
       "      <td>제주특별자치도 서귀포시 대정읍 하모중앙로 20</td>\n",
       "      <td>제주특별자치도 서귀포시 대정읍 하모리 1413</td>\n",
       "      <td>지상 2/  지하 1</td>\n",
       "      <td>1280.97</td>\n",
       "      <td>25</td>\n",
       "      <td>NaN</td>\n",
       "      <td>1979</td>\n",
       "      <td>2018-11-26</td>\n",
       "    </tr>\n",
       "    <tr>\n",
       "      <th>3</th>\n",
       "      <td>남원읍</td>\n",
       "      <td>제주특별자치도 서귀포시 남원읍 태위로 695</td>\n",
       "      <td>제주특별자치도 서귀포시 남원읍 남원리 205-1</td>\n",
       "      <td>지상 3 / 지하 1</td>\n",
       "      <td>3786.35</td>\n",
       "      <td>34</td>\n",
       "      <td>4.0</td>\n",
       "      <td>2015</td>\n",
       "      <td>2018-11-26</td>\n",
       "    </tr>\n",
       "    <tr>\n",
       "      <th>4</th>\n",
       "      <td>성산읍</td>\n",
       "      <td>제주특별자치도 서귀포시 성산읍 일주동로 4330</td>\n",
       "      <td>제주특별자치도 서귀포시 성산읍 고성리 1023-2</td>\n",
       "      <td>지상 2 / 지하 1</td>\n",
       "      <td>1628.83</td>\n",
       "      <td>73</td>\n",
       "      <td>4.0</td>\n",
       "      <td>1982</td>\n",
       "      <td>2018-11-26</td>\n",
       "    </tr>\n",
       "  </tbody>\n",
       "</table>\n",
       "</div>"
      ],
      "text/plain": [
       "   청사명                       도로명주소                         지번주소           층수  \\\n",
       "0  1청사        제주특별자치도 서귀포시 중앙로 105       제주특별자치도 서귀포시 서홍동 440-1  지상 6 / 지하 2   \n",
       "1  2청사         제주특별자치도 서귀포시 신중로 55         제주특별자치도 서귀포시 법환동 731  지상 4 / 지하 1   \n",
       "2  대정읍   제주특별자치도 서귀포시 대정읍 하모중앙로 20    제주특별자치도 서귀포시 대정읍 하모리 1413  지상 2/  지하 1   \n",
       "3  남원읍    제주특별자치도 서귀포시 남원읍 태위로 695   제주특별자치도 서귀포시 남원읍 남원리 205-1  지상 3 / 지하 1   \n",
       "4  성산읍  제주특별자치도 서귀포시 성산읍 일주동로 4330  제주특별자치도 서귀포시 성산읍 고성리 1023-2  지상 2 / 지하 1   \n",
       "\n",
       "        연면적  주차장수  장애인주차장수  신축년도     데이터기준일자  \n",
       "0  23677.17   206     10.0  2017  2018-11-26  \n",
       "1  10070.00   301      5.0  1994  2018-11-26  \n",
       "2   1280.97    25      NaN  1979  2018-11-26  \n",
       "3   3786.35    34      4.0  2015  2018-11-26  \n",
       "4   1628.83    73      4.0  1982  2018-11-26  "
      ]
     },
     "execution_count": 186,
     "metadata": {},
     "output_type": "execute_result"
    }
   ],
   "source": [
    "df.head()"
   ]
  },
  {
   "cell_type": "code",
   "execution_count": 10,
   "metadata": {},
   "outputs": [
    {
     "name": "stdout",
     "output_type": "stream",
     "text": [
      "None\n",
      "[33.5116386887787, 126.538286857559]\n"
     ]
    },
    {
     "ename": "KeyError",
     "evalue": "'청사명'",
     "output_type": "error",
     "traceback": [
      "\u001b[1;31m---------------------------------------------------------------------------\u001b[0m",
      "\u001b[1;31mTypeError\u001b[0m                                 Traceback (most recent call last)",
      "\u001b[1;32mC:\\ProgramData\\Anaconda3\\lib\\site-packages\\pandas\\core\\indexes\\base.py\u001b[0m in \u001b[0;36mget_value\u001b[1;34m(self, series, key)\u001b[0m\n\u001b[0;32m   4380\u001b[0m             \u001b[1;32mtry\u001b[0m\u001b[1;33m:\u001b[0m\u001b[1;33m\u001b[0m\u001b[1;33m\u001b[0m\u001b[0m\n\u001b[1;32m-> 4381\u001b[1;33m                 \u001b[1;32mreturn\u001b[0m \u001b[0mlibindex\u001b[0m\u001b[1;33m.\u001b[0m\u001b[0mget_value_box\u001b[0m\u001b[1;33m(\u001b[0m\u001b[0ms\u001b[0m\u001b[1;33m,\u001b[0m \u001b[0mkey\u001b[0m\u001b[1;33m)\u001b[0m\u001b[1;33m\u001b[0m\u001b[1;33m\u001b[0m\u001b[0m\n\u001b[0m\u001b[0;32m   4382\u001b[0m             \u001b[1;32mexcept\u001b[0m \u001b[0mIndexError\u001b[0m\u001b[1;33m:\u001b[0m\u001b[1;33m\u001b[0m\u001b[1;33m\u001b[0m\u001b[0m\n",
      "\u001b[1;32mpandas/_libs/index.pyx\u001b[0m in \u001b[0;36mpandas._libs.index.get_value_box\u001b[1;34m()\u001b[0m\n",
      "\u001b[1;32mpandas/_libs/index.pyx\u001b[0m in \u001b[0;36mpandas._libs.index.get_value_at\u001b[1;34m()\u001b[0m\n",
      "\u001b[1;32mpandas/_libs/util.pxd\u001b[0m in \u001b[0;36mpandas._libs.util.get_value_at\u001b[1;34m()\u001b[0m\n",
      "\u001b[1;32mpandas/_libs/util.pxd\u001b[0m in \u001b[0;36mpandas._libs.util.validate_indexer\u001b[1;34m()\u001b[0m\n",
      "\u001b[1;31mTypeError\u001b[0m: 'str' object cannot be interpreted as an integer",
      "\nDuring handling of the above exception, another exception occurred:\n",
      "\u001b[1;31mKeyError\u001b[0m                                  Traceback (most recent call last)",
      "\u001b[1;32m<ipython-input-10-b9ad76dce09b>\u001b[0m in \u001b[0;36m<module>\u001b[1;34m\u001b[0m\n\u001b[0;32m      5\u001b[0m     \u001b[0mprint\u001b[0m\u001b[1;33m(\u001b[0m\u001b[0mgeoData\u001b[0m\u001b[1;33m)\u001b[0m\u001b[1;33m\u001b[0m\u001b[1;33m\u001b[0m\u001b[0m\n\u001b[0;32m      6\u001b[0m     \u001b[1;32mif\u001b[0m \u001b[0mgeoData\u001b[0m \u001b[1;33m!=\u001b[0m \u001b[1;32mNone\u001b[0m\u001b[1;33m:\u001b[0m\u001b[1;33m\u001b[0m\u001b[1;33m\u001b[0m\u001b[0m\n\u001b[1;32m----> 7\u001b[1;33m         \u001b[0mfolium\u001b[0m\u001b[1;33m.\u001b[0m\u001b[0mMarker\u001b[0m\u001b[1;33m(\u001b[0m\u001b[0mgeoData\u001b[0m\u001b[1;33m,\u001b[0m \u001b[0mpopup\u001b[0m\u001b[1;33m=\u001b[0m\u001b[0mrow\u001b[0m\u001b[1;33m[\u001b[0m\u001b[1;34m'청사명'\u001b[0m\u001b[1;33m]\u001b[0m\u001b[1;33m,\u001b[0m \u001b[0micon\u001b[0m\u001b[1;33m=\u001b[0m\u001b[0mfolium\u001b[0m\u001b[1;33m.\u001b[0m\u001b[0mIcon\u001b[0m\u001b[1;33m(\u001b[0m\u001b[0mcolor\u001b[0m\u001b[1;33m=\u001b[0m\u001b[1;34m'red'\u001b[0m\u001b[1;33m)\u001b[0m\u001b[1;33m)\u001b[0m\u001b[1;33m.\u001b[0m\u001b[0madd_to\u001b[0m\u001b[1;33m(\u001b[0m\u001b[0mmap\u001b[0m\u001b[1;33m)\u001b[0m\u001b[1;33m\u001b[0m\u001b[1;33m\u001b[0m\u001b[0m\n\u001b[0m\u001b[0;32m      8\u001b[0m \u001b[1;33m\u001b[0m\u001b[0m\n\u001b[0;32m      9\u001b[0m \u001b[0msvFilename\u001b[0m \u001b[1;33m=\u001b[0m \u001b[1;34m'jeju1.html'\u001b[0m\u001b[1;33m\u001b[0m\u001b[1;33m\u001b[0m\u001b[0m\n",
      "\u001b[1;32mC:\\ProgramData\\Anaconda3\\lib\\site-packages\\pandas\\core\\series.py\u001b[0m in \u001b[0;36m__getitem__\u001b[1;34m(self, key)\u001b[0m\n\u001b[0;32m    866\u001b[0m         \u001b[0mkey\u001b[0m \u001b[1;33m=\u001b[0m \u001b[0mcom\u001b[0m\u001b[1;33m.\u001b[0m\u001b[0mapply_if_callable\u001b[0m\u001b[1;33m(\u001b[0m\u001b[0mkey\u001b[0m\u001b[1;33m,\u001b[0m \u001b[0mself\u001b[0m\u001b[1;33m)\u001b[0m\u001b[1;33m\u001b[0m\u001b[1;33m\u001b[0m\u001b[0m\n\u001b[0;32m    867\u001b[0m         \u001b[1;32mtry\u001b[0m\u001b[1;33m:\u001b[0m\u001b[1;33m\u001b[0m\u001b[1;33m\u001b[0m\u001b[0m\n\u001b[1;32m--> 868\u001b[1;33m             \u001b[0mresult\u001b[0m \u001b[1;33m=\u001b[0m \u001b[0mself\u001b[0m\u001b[1;33m.\u001b[0m\u001b[0mindex\u001b[0m\u001b[1;33m.\u001b[0m\u001b[0mget_value\u001b[0m\u001b[1;33m(\u001b[0m\u001b[0mself\u001b[0m\u001b[1;33m,\u001b[0m \u001b[0mkey\u001b[0m\u001b[1;33m)\u001b[0m\u001b[1;33m\u001b[0m\u001b[1;33m\u001b[0m\u001b[0m\n\u001b[0m\u001b[0;32m    869\u001b[0m \u001b[1;33m\u001b[0m\u001b[0m\n\u001b[0;32m    870\u001b[0m             \u001b[1;32mif\u001b[0m \u001b[1;32mnot\u001b[0m \u001b[0mis_scalar\u001b[0m\u001b[1;33m(\u001b[0m\u001b[0mresult\u001b[0m\u001b[1;33m)\u001b[0m\u001b[1;33m:\u001b[0m\u001b[1;33m\u001b[0m\u001b[1;33m\u001b[0m\u001b[0m\n",
      "\u001b[1;32mC:\\ProgramData\\Anaconda3\\lib\\site-packages\\pandas\\core\\indexes\\base.py\u001b[0m in \u001b[0;36mget_value\u001b[1;34m(self, series, key)\u001b[0m\n\u001b[0;32m   4387\u001b[0m                     \u001b[1;32mraise\u001b[0m \u001b[0mInvalidIndexError\u001b[0m\u001b[1;33m(\u001b[0m\u001b[0mkey\u001b[0m\u001b[1;33m)\u001b[0m\u001b[1;33m\u001b[0m\u001b[1;33m\u001b[0m\u001b[0m\n\u001b[0;32m   4388\u001b[0m                 \u001b[1;32melse\u001b[0m\u001b[1;33m:\u001b[0m\u001b[1;33m\u001b[0m\u001b[1;33m\u001b[0m\u001b[0m\n\u001b[1;32m-> 4389\u001b[1;33m                     \u001b[1;32mraise\u001b[0m \u001b[0me1\u001b[0m\u001b[1;33m\u001b[0m\u001b[1;33m\u001b[0m\u001b[0m\n\u001b[0m\u001b[0;32m   4390\u001b[0m             \u001b[1;32mexcept\u001b[0m \u001b[0mException\u001b[0m\u001b[1;33m:\u001b[0m  \u001b[1;31m# pragma: no cover\u001b[0m\u001b[1;33m\u001b[0m\u001b[1;33m\u001b[0m\u001b[0m\n\u001b[0;32m   4391\u001b[0m                 \u001b[1;32mraise\u001b[0m \u001b[0me1\u001b[0m\u001b[1;33m\u001b[0m\u001b[1;33m\u001b[0m\u001b[0m\n",
      "\u001b[1;32mC:\\ProgramData\\Anaconda3\\lib\\site-packages\\pandas\\core\\indexes\\base.py\u001b[0m in \u001b[0;36mget_value\u001b[1;34m(self, series, key)\u001b[0m\n\u001b[0;32m   4373\u001b[0m         \u001b[1;32mtry\u001b[0m\u001b[1;33m:\u001b[0m\u001b[1;33m\u001b[0m\u001b[1;33m\u001b[0m\u001b[0m\n\u001b[0;32m   4374\u001b[0m             return self._engine.get_value(s, k,\n\u001b[1;32m-> 4375\u001b[1;33m                                           tz=getattr(series.dtype, 'tz', None))\n\u001b[0m\u001b[0;32m   4376\u001b[0m         \u001b[1;32mexcept\u001b[0m \u001b[0mKeyError\u001b[0m \u001b[1;32mas\u001b[0m \u001b[0me1\u001b[0m\u001b[1;33m:\u001b[0m\u001b[1;33m\u001b[0m\u001b[1;33m\u001b[0m\u001b[0m\n\u001b[0;32m   4377\u001b[0m             \u001b[1;32mif\u001b[0m \u001b[0mlen\u001b[0m\u001b[1;33m(\u001b[0m\u001b[0mself\u001b[0m\u001b[1;33m)\u001b[0m \u001b[1;33m>\u001b[0m \u001b[1;36m0\u001b[0m \u001b[1;32mand\u001b[0m \u001b[1;33m(\u001b[0m\u001b[0mself\u001b[0m\u001b[1;33m.\u001b[0m\u001b[0mholds_integer\u001b[0m\u001b[1;33m(\u001b[0m\u001b[1;33m)\u001b[0m \u001b[1;32mor\u001b[0m \u001b[0mself\u001b[0m\u001b[1;33m.\u001b[0m\u001b[0mis_boolean\u001b[0m\u001b[1;33m(\u001b[0m\u001b[1;33m)\u001b[0m\u001b[1;33m)\u001b[0m\u001b[1;33m:\u001b[0m\u001b[1;33m\u001b[0m\u001b[1;33m\u001b[0m\u001b[0m\n",
      "\u001b[1;32mpandas/_libs/index.pyx\u001b[0m in \u001b[0;36mpandas._libs.index.IndexEngine.get_value\u001b[1;34m()\u001b[0m\n",
      "\u001b[1;32mpandas/_libs/index.pyx\u001b[0m in \u001b[0;36mpandas._libs.index.IndexEngine.get_value\u001b[1;34m()\u001b[0m\n",
      "\u001b[1;32mpandas/_libs/index.pyx\u001b[0m in \u001b[0;36mpandas._libs.index.IndexEngine.get_loc\u001b[1;34m()\u001b[0m\n",
      "\u001b[1;32mpandas/_libs/hashtable_class_helper.pxi\u001b[0m in \u001b[0;36mpandas._libs.hashtable.PyObjectHashTable.get_item\u001b[1;34m()\u001b[0m\n",
      "\u001b[1;32mpandas/_libs/hashtable_class_helper.pxi\u001b[0m in \u001b[0;36mpandas._libs.hashtable.PyObjectHashTable.get_item\u001b[1;34m()\u001b[0m\n",
      "\u001b[1;31mKeyError\u001b[0m: '청사명'"
     ]
    }
   ],
   "source": [
    "map=folium.Map()\n",
    "for index, row in df.iterrows():\n",
    "    #print(index,row)\n",
    "    geoData = net_get_geo_coder(row['도로명주소'])\n",
    "    print(geoData)\n",
    "    if geoData != None:\n",
    "        folium.Marker(geoData, popup=row['청사명'], icon=folium.Icon(color='red')).add_to(map)\n",
    "\n",
    "svFilename = 'jeju1.html'\n",
    "map.save(svFilename)\n",
    "webbrowser.open(svFilename)  "
   ]
  }
 ],
 "metadata": {
  "kernelspec": {
   "display_name": "Python 3",
   "language": "python",
   "name": "python3"
  },
  "language_info": {
   "codemirror_mode": {
    "name": "ipython",
    "version": 3
   },
   "file_extension": ".py",
   "mimetype": "text/x-python",
   "name": "python",
   "nbconvert_exporter": "python",
   "pygments_lexer": "ipython3",
   "version": "3.7.3"
  }
 },
 "nbformat": 4,
 "nbformat_minor": 4
}
