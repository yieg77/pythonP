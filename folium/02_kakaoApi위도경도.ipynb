{
 "cells": [
  {
   "cell_type": "markdown",
   "metadata": {},
   "source": [
    "https://developers.kakao.com/docs/restapi/local"
   ]
  },
  {
   "cell_type": "code",
   "execution_count": 16,
   "metadata": {},
   "outputs": [],
   "source": [
    "# API를 이용한 http통신을 통해서 획득\n",
    "# requests, urllib, beautifulSop, Selenium등등이 웹 크롤링 기술 대상 모듈이다.\n",
    "\n",
    "KAKAO_API_KEY='5175c0a009281f3d39afe4b7dcaa6d3d'\n",
    "url = '''\n",
    "https://dapi.kakao.com/v2/local/search/keyword.json?query={0}&category_group_code=PO3\n",
    "'''.format('제주시청')\n",
    "headers={'Authorization': 'KakaoAK {0}'.format(KAKAO_API_KEY)}\n",
    "res = requests.get(url, headers=headers)"
   ]
  },
  {
   "cell_type": "code",
   "execution_count": 17,
   "metadata": {},
   "outputs": [],
   "source": [
    "import requests"
   ]
  },
  {
   "cell_type": "code",
   "execution_count": 18,
   "metadata": {},
   "outputs": [],
   "source": [
    "res = res.json()"
   ]
  },
  {
   "cell_type": "code",
   "execution_count": 19,
   "metadata": {},
   "outputs": [
    {
     "name": "stdout",
     "output_type": "stream",
     "text": [
      "제주특별자치도 제주시 이도2동 1176-1 33.4995342412698 126.531171087129 제주시청\n"
     ]
    }
   ],
   "source": [
    "print(res['documents'][0]['address_name'],\n",
    "res['documents'][0]['y'],\n",
    "res['documents'][0]['x'],\n",
    "res['documents'][0]['place_name'])"
   ]
  },
  {
   "cell_type": "code",
   "execution_count": 20,
   "metadata": {},
   "outputs": [],
   "source": [
    "# 검색어를 던져서 응답 데이터중에 주소, 위도, 경도 질의어 리턴 함수\n",
    "def net_get_geo_coder(query):\n",
    "    KAKAO_API_KEY='5175c0a009281f3d39afe4b7dcaa6d3d'\n",
    "    url = '''\n",
    "    https://dapi.kakao.com/v2/local/search/keyword.json?query={0}&category_group_code=PO3\n",
    "    '''.format(query)\n",
    "    headers={'Authorization': 'KakaoAK {0}'.format(KAKAO_API_KEY)}\n",
    "    # API 쿼리 수행\n",
    "    res = requests.get(url, headers=headers)\n",
    "    res = res.json()\n",
    "    # 데이터 추출 => 리턴 값이 하나 이상이면 튜플로 리턴이 된다!!!\n",
    "    # 데이터 리턴 : 주소, 위도, 경도, 질의어 순으로 튜플형태로 리턴\n",
    "    return res['documents'][0]['address_name'], res['documents'][0]['y'], res['documents'][0]['x'], res['documents'][0]['place_name']"
   ]
  },
  {
   "cell_type": "code",
   "execution_count": 21,
   "metadata": {},
   "outputs": [
    {
     "data": {
      "text/plain": [
       "('제주특별자치도 서귀포시 하효동 152-1', '33.2633027229827', '126.615561813032', '효돈동주민센터')"
      ]
     },
     "execution_count": 21,
     "metadata": {},
     "output_type": "execute_result"
    }
   ],
   "source": [
    "net_get_geo_coder('효돈동')"
   ]
  },
  {
   "cell_type": "code",
   "execution_count": null,
   "metadata": {},
   "outputs": [],
   "source": []
  }
 ],
 "metadata": {
  "kernelspec": {
   "display_name": "Python 3",
   "language": "python",
   "name": "python3"
  },
  "language_info": {
   "codemirror_mode": {
    "name": "ipython",
    "version": 3
   },
   "file_extension": ".py",
   "mimetype": "text/x-python",
   "name": "python",
   "nbconvert_exporter": "python",
   "pygments_lexer": "ipython3",
   "version": "3.7.3"
  }
 },
 "nbformat": 4,
 "nbformat_minor": 2
}
