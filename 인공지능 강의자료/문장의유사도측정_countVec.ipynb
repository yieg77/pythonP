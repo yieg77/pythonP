{
 "cells": [
  {
   "cell_type": "markdown",
   "metadata": {},
   "source": [
    "- 많은 문장과 문서중에서 유사한 문장을 찾는 방법\n",
    "- 문장을 벡터로 표현, 백터간 거리를 구할 수 있다\n",
    "- 벡터화 할 때 단어의 의미를 포함하여 벡터화 할 경우  \n",
    "- 분포가설에 따라 가까운 거리일수록 의미적으로 가까운 텍스트\n",
    "- 비슷한 내용을 가진 텍스트를 벡터화 해서 백터간 거리를 구해본다면 가까운 거리일수록 의미적으로 가까운 텍스트이다."
   ]
  },
  {
   "cell_type": "code",
   "execution_count": 31,
   "metadata": {},
   "outputs": [],
   "source": [
    "# 머신러닝 모듈\n",
    "from sklearn.feature_extraction.text import CountVectorizer"
   ]
  },
  {
   "cell_type": "markdown",
   "metadata": {},
   "source": [
    "### CountVectorizer\n",
    "- 문서를 토큰 리스트로 변환\n",
    "- 각 문서의 토큰 출현 빈도를 카운트\n",
    "- 각 문서의 BOW(Bag of Words)를 벡터로 변환한다\n",
    "- Bag of Words란 단어들의 순서는 전혀 고려하지 않고, 단어들의 출현 빈도(frequency)에만 집중하는 텍스트 데이터의 수치화 표현 방법"
   ]
  },
  {
   "cell_type": "code",
   "execution_count": 32,
   "metadata": {},
   "outputs": [],
   "source": [
    "# min_df는 해당 값보다 빈도수가 낮은 단어는 무시하겠다는 뜻\n",
    "# max_df는 해당 값보다 많이 나오는, 빈도수가 높은 단어는 무시하겠다는 뜻\n",
    "vectorizer = CountVectorizer(min_df=1)"
   ]
  },
  {
   "cell_type": "code",
   "execution_count": 33,
   "metadata": {},
   "outputs": [],
   "source": [
    "# 몇가지로 테스트\n",
    "contents =['짱구랑 놀러가고 싶지만 바쁜데 어떻하죠?',\n",
    "          '짱구는 공원에서 산책하고 노는 것을 싫어해요.',\n",
    "          '짱구는 공원에서 노는 것도 싫어해요. 이상해요.',\n",
    "          '먼 곳으로 여행을 떠나고 싶은데 너무 바빠서 여행을 가지 못하고 있어요']"
   ]
  },
  {
   "cell_type": "code",
   "execution_count": 34,
   "metadata": {},
   "outputs": [
    {
     "data": {
      "text/plain": [
       "(4, 22)"
      ]
     },
     "execution_count": 34,
     "metadata": {},
     "output_type": "execute_result"
    }
   ],
   "source": [
    "# 벡터화\n",
    "x = vectorizer.fit_transform(contents)\n",
    "x.shape"
   ]
  },
  {
   "cell_type": "code",
   "execution_count": 35,
   "metadata": {},
   "outputs": [
    {
     "name": "stdout",
     "output_type": "stream",
     "text": [
      "22\n",
      "{'짱구랑': 21, '놀러가고': 7, '싶지만': 15, '바쁜데': 11, '어떻하죠': 16, '짱구는': 20, '공원에서': 4, '산책하고': 12, '노는': 6, '것을': 2, '싫어해요': 13, '것도': 1, '이상해요': 18, '곳으로': 3, '여행을': 17, '떠나고': 8, '싶은데': 14, '너무': 5, '바빠서': 10, '가지': 0, '못하고': 9, '있어요': 19}\n"
     ]
    }
   ],
   "source": [
    "print(len(vectorizer.vocabulary_))\n",
    "print(vectorizer.vocabulary_)"
   ]
  },
  {
   "cell_type": "code",
   "execution_count": 36,
   "metadata": {},
   "outputs": [],
   "source": [
    "# 특정 feature 이름을 확인\n",
    "tmp = vectorizer.get_feature_names()"
   ]
  },
  {
   "cell_type": "code",
   "execution_count": 37,
   "metadata": {},
   "outputs": [
    {
     "name": "stdout",
     "output_type": "stream",
     "text": [
      "22\n",
      "['가지', '것도', '것을', '곳으로', '공원에서', '너무', '노는', '놀러가고', '떠나고', '못하고', '바빠서', '바쁜데', '산책하고', '싫어해요', '싶은데', '싶지만', '어떻하죠', '여행을', '이상해요', '있어요', '짱구는', '짱구랑']\n"
     ]
    }
   ],
   "source": [
    "print(len(tmp))\n",
    "print( tmp)"
   ]
  },
  {
   "cell_type": "code",
   "execution_count": 38,
   "metadata": {},
   "outputs": [
    {
     "data": {
      "text/plain": [
       "array([[0, 0, 0, 0, 0, 0, 0, 1, 0, 0, 0, 1, 0, 0, 0, 1, 1, 0, 0, 0, 0, 1],\n",
       "       [0, 0, 1, 0, 1, 0, 1, 0, 0, 0, 0, 0, 1, 1, 0, 0, 0, 0, 0, 0, 1, 0],\n",
       "       [0, 1, 0, 0, 1, 0, 1, 0, 0, 0, 0, 0, 0, 1, 0, 0, 0, 0, 1, 0, 1, 0],\n",
       "       [1, 0, 0, 1, 0, 1, 0, 0, 1, 1, 1, 0, 0, 0, 1, 0, 0, 2, 0, 1, 0, 0]],\n",
       "      dtype=int64)"
      ]
     },
     "execution_count": 38,
     "metadata": {},
     "output_type": "execute_result"
    }
   ],
   "source": [
    "# 문장의 수\n",
    "x.toarray()"
   ]
  },
  {
   "cell_type": "code",
   "execution_count": 39,
   "metadata": {},
   "outputs": [
    {
     "name": "stdout",
     "output_type": "stream",
     "text": [
      "  (0, 16)\t1\n",
      "  (0, 11)\t1\n",
      "  (0, 15)\t1\n",
      "  (0, 7)\t1\n",
      "  (0, 21)\t1\n",
      "  (1, 13)\t1\n",
      "  (1, 2)\t1\n",
      "  (1, 6)\t1\n",
      "  (1, 12)\t1\n",
      "  (1, 4)\t1\n",
      "  (1, 20)\t1\n",
      "  (2, 18)\t1\n",
      "  (2, 1)\t1\n",
      "  (2, 13)\t1\n",
      "  (2, 6)\t1\n",
      "  (2, 4)\t1\n",
      "  (2, 20)\t1\n",
      "  (3, 19)\t1\n",
      "  (3, 9)\t1\n",
      "  (3, 0)\t1\n",
      "  (3, 10)\t1\n",
      "  (3, 5)\t1\n",
      "  (3, 14)\t1\n",
      "  (3, 8)\t1\n",
      "  (3, 17)\t2\n",
      "  (3, 3)\t1\n"
     ]
    }
   ],
   "source": [
    "print(x)"
   ]
  },
  {
   "cell_type": "code",
   "execution_count": 40,
   "metadata": {},
   "outputs": [
    {
     "data": {
      "text/plain": [
       "array([[0, 0, 0, 1],\n",
       "       [0, 0, 1, 0],\n",
       "       [0, 1, 0, 0],\n",
       "       [0, 0, 0, 1],\n",
       "       [0, 1, 1, 0],\n",
       "       [0, 0, 0, 1],\n",
       "       [0, 1, 1, 0],\n",
       "       [1, 0, 0, 0],\n",
       "       [0, 0, 0, 1],\n",
       "       [0, 0, 0, 1],\n",
       "       [0, 0, 0, 1],\n",
       "       [1, 0, 0, 0],\n",
       "       [0, 1, 0, 0],\n",
       "       [0, 1, 1, 0],\n",
       "       [0, 0, 0, 1],\n",
       "       [1, 0, 0, 0],\n",
       "       [1, 0, 0, 0],\n",
       "       [0, 0, 0, 2],\n",
       "       [0, 0, 1, 0],\n",
       "       [0, 0, 0, 1],\n",
       "       [0, 1, 1, 0],\n",
       "       [1, 0, 0, 0]], dtype=int64)"
      ]
     },
     "execution_count": 40,
     "metadata": {},
     "output_type": "execute_result"
    }
   ],
   "source": [
    "# 각 feature(특성)에 대한 벡터값\n",
    "x.toarray().transpose()\n",
    "# 가지:0 -> 0,0,0,1 네번째 문장에 한번 나타남."
   ]
  },
  {
   "cell_type": "code",
   "execution_count": 41,
   "metadata": {},
   "outputs": [
    {
     "data": {
      "text/plain": [
       "(4, 22)"
      ]
     },
     "execution_count": 41,
     "metadata": {},
     "output_type": "execute_result"
    }
   ],
   "source": [
    "# (4, 22) 언 패킹\n",
    "# 훈련 할 샘플 수 (훈련데이터수), 특성 수\n",
    "x.shape"
   ]
  },
  {
   "cell_type": "code",
   "execution_count": 42,
   "metadata": {},
   "outputs": [
    {
     "name": "stdout",
     "output_type": "stream",
     "text": [
      "4 22\n"
     ]
    }
   ],
   "source": [
    "num_samples, num_features = x.shape\n",
    "print(num_samples, num_features)"
   ]
  },
  {
   "cell_type": "code",
   "execution_count": 43,
   "metadata": {},
   "outputs": [
    {
     "data": {
      "text/plain": [
       "['짱구랑 놀러가고 싶지만 바쁜데 어떻하죠?',\n",
       " '짱구는 공원에서 산책하고 노는 것을 싫어해요.',\n",
       " '짱구는 공원에서 노는 것도 싫어해요. 이상해요.',\n",
       " '먼 곳으로 여행을 떠나고 싶은데 너무 바빠서 여행을 가지 못하고 있어요']"
      ]
     },
     "execution_count": 43,
     "metadata": {},
     "output_type": "execute_result"
    }
   ],
   "source": [
    "# 신규 데이터 문장을 벡터로 만들어서 유사도 체크\n",
    "contents"
   ]
  },
  {
   "cell_type": "code",
   "execution_count": 44,
   "metadata": {},
   "outputs": [
    {
     "name": "stdout",
     "output_type": "stream",
     "text": [
      "1 (1, 22) [[0 0 0 0 1 0 0 0 0 0 0 0 1 0 0 0 0 0 0 0 0 2]]\n"
     ]
    }
   ],
   "source": [
    "new_texts = ['짱구랑 공원에서 산책하고 짱구랑 놀고 싶어요']\n",
    "new_texts_vec = vectorizer.transform(new_texts)\n",
    "tmp = new_texts_vec.toarray()\n",
    "print(len(tmp), tmp.shape, tmp)\n",
    "#특성이 문장안에 있으면 1, 없으면 0 해서 개수가 종 22개짜리"
   ]
  },
  {
   "cell_type": "code",
   "execution_count": 45,
   "metadata": {},
   "outputs": [],
   "source": [
    "# SciPy는 파이썬을 기반의 과학, 분석, 그리고 엔지니어링을 위한 과학(계산)적 컴퓨팅 영역의 여러 기본적인 작업을 위한 라이브러리(패키지 모음)\n",
    "import scipy as sp"
   ]
  },
  {
   "cell_type": "code",
   "execution_count": 46,
   "metadata": {},
   "outputs": [],
   "source": [
    "# 거리 계산 -> v1, v2를 각각 나름 정규화(sp.linalg.norm)를 통해 정리를 하고 다시 계산 (0~1사이의 값을 갖도록 할수도 있음. )\n",
    "def distance_vec(v1, v2):\n",
    "    delta = v1 - v2\n",
    "    # 유클리드 거리 계산 사용되고 - 유클리드 노름\n",
    "    # 일반적으로 두 점 사이에 거리를 계산 할 때 사용!!\n",
    "    return sp.linalg.norm(delta.toarray())"
   ]
  },
  {
   "cell_type": "code",
   "execution_count": 47,
   "metadata": {},
   "outputs": [],
   "source": [
    "# 테스트 데이터를 훈련 데이터와 거리를 계산 하면서 최소 거리에 있는 훈련 데이터를 찾는다\n",
    "# 이것이 가장 유사도가 높은 문장이다\n",
    "# 훈련데이터에서 벡터를 뽑는 방법"
   ]
  },
  {
   "cell_type": "code",
   "execution_count": 48,
   "metadata": {},
   "outputs": [
    {
     "name": "stdout",
     "output_type": "stream",
     "text": [
      "  (0, 16)\t1\n",
      "  (0, 11)\t1\n",
      "  (0, 15)\t1\n",
      "  (0, 7)\t1\n",
      "  (0, 21)\t1\n"
     ]
    }
   ],
   "source": [
    "print(x.getrow(0))"
   ]
  },
  {
   "cell_type": "code",
   "execution_count": 49,
   "metadata": {},
   "outputs": [
    {
     "name": "stdout",
     "output_type": "stream",
     "text": [
      "[[0 0 0 0 0 0 0 1 0 0 0 1 0 0 0 1 1 0 0 0 0 1]]\n"
     ]
    }
   ],
   "source": [
    "print(x.getrow(0).toarray())"
   ]
  },
  {
   "cell_type": "code",
   "execution_count": 50,
   "metadata": {},
   "outputs": [
    {
     "name": "stdout",
     "output_type": "stream",
     "text": [
      "  (0, 4)\t1\n",
      "  (0, 12)\t1\n",
      "  (0, 21)\t2\n"
     ]
    }
   ],
   "source": [
    "print(new_texts_vec)"
   ]
  },
  {
   "cell_type": "code",
   "execution_count": 51,
   "metadata": {},
   "outputs": [
    {
     "name": "stdout",
     "output_type": "stream",
     "text": [
      "[[0 0 0 0 1 0 0 0 0 0 0 0 1 0 0 0 0 0 0 0 0 2]]\n"
     ]
    }
   ],
   "source": [
    "print(new_texts_vec.toarray())"
   ]
  },
  {
   "cell_type": "code",
   "execution_count": 52,
   "metadata": {},
   "outputs": [
    {
     "data": {
      "text/plain": [
       "2.6457513110645907"
      ]
     },
     "execution_count": 52,
     "metadata": {},
     "output_type": "execute_result"
    }
   ],
   "source": [
    "distance_vec(x.getrow(0), new_texts_vec)"
   ]
  },
  {
   "cell_type": "code",
   "execution_count": 55,
   "metadata": {},
   "outputs": [
    {
     "name": "stdout",
     "output_type": "stream",
     "text": [
      "최소거리 :  2.6457513110645907 0 짱구랑 놀러가고 싶지만 바쁜데 어떻하죠?\n"
     ]
    }
   ],
   "source": [
    "min_distance = 65536-1 \n",
    "min_index = None\n",
    "for i in range(len(contents)):\n",
    "    dis = distance_vec(x.getrow(i), new_texts_vec)\n",
    "    #print(dis, i, contents[i])\n",
    "    if dis < min_distance:\n",
    "        min_distance = dis\n",
    "        min_index = i\n",
    "else:  #for문이 중간에 break 등으로 끊기지 않고, 끝까지 수행 되었을 때 수행하는 코드\n",
    "    print('최소거리 : ', min_distance, min_index, contents[min_index])"
   ]
  },
  {
   "cell_type": "code",
   "execution_count": 56,
   "metadata": {},
   "outputs": [
    {
     "data": {
      "text/plain": [
       "numpy.float64"
      ]
     },
     "execution_count": 56,
     "metadata": {},
     "output_type": "execute_result"
    }
   ],
   "source": [
    "type(min_distance)"
   ]
  },
  {
   "cell_type": "markdown",
   "metadata": {},
   "source": [
    "- **한글 벡터화의 합리적인 처리**"
   ]
  },
  {
   "cell_type": "code",
   "execution_count": 13,
   "metadata": {
    "collapsed": true,
    "jupyter": {
     "outputs_hidden": true
    }
   },
   "outputs": [
    {
     "name": "stderr",
     "output_type": "stream",
     "text": [
      "C:\\ProgramData\\Anaconda3\\lib\\site-packages\\jpype\\_core.py:210: UserWarning: \n",
      "-------------------------------------------------------------------------------\n",
      "Deprecated: convertStrings was not specified when starting the JVM. The default\n",
      "behavior in JPype will be False starting in JPype 0.8. The recommended setting\n",
      "for new code is convertStrings=False.  The legacy value of True was assumed for\n",
      "this session. If you are a user of an application that reported this warning,\n",
      "please file a ticket with the developer.\n",
      "-------------------------------------------------------------------------------\n",
      "\n",
      "  \"\"\")\n"
     ]
    }
   ],
   "source": [
    "from konlpy.tag import Okt\n",
    "t = Okt()"
   ]
  },
  {
   "cell_type": "markdown",
   "metadata": {
    "jupyter": {
     "source_hidden": true
    }
   },
   "source": [
    "- nouns : 명사 추출\n",
    "- morphs : 형태소 추출\n",
    "- pos : 품사 부착"
   ]
  },
  {
   "cell_type": "code",
   "execution_count": 14,
   "metadata": {},
   "outputs": [
    {
     "data": {
      "text/plain": [
       "['짱구', '랑', '놀러', '가고', '싶지만', '바쁜데', '어떻하죠', '?']"
      ]
     },
     "execution_count": 14,
     "metadata": {},
     "output_type": "execute_result"
    }
   ],
   "source": [
    "t.morphs(contents[0])"
   ]
  },
  {
   "cell_type": "code",
   "execution_count": 15,
   "metadata": {},
   "outputs": [
    {
     "data": {
      "text/plain": [
       "['짱구랑 놀러가고 싶지만 바쁜데 어떻하죠?',\n",
       " '짱구는 공원에서 산책하고 노는 것을 싫어해요.',\n",
       " '짱구는 공원에서 노는 것도 싫어해요. 이상해요.',\n",
       " '먼 곳으로 여행을 떠나고 싶은데 너무 바빠서 여행을 가지 못하고 있어요']"
      ]
     },
     "execution_count": 15,
     "metadata": {},
     "output_type": "execute_result"
    }
   ],
   "source": [
    "contents"
   ]
  },
  {
   "cell_type": "code",
   "execution_count": 16,
   "metadata": {},
   "outputs": [],
   "source": [
    "contents_ko_vectorize = [' '.join(t.morphs(content)) for content in contents]"
   ]
  },
  {
   "cell_type": "code",
   "execution_count": 17,
   "metadata": {},
   "outputs": [
    {
     "data": {
      "text/plain": [
       "['짱구 랑 놀러 가고 싶지만 바쁜데 어떻하죠 ?',\n",
       " '짱구 는 공원 에서 산책 하고 노 는 것 을 싫어해요 .',\n",
       " '짱구 는 공원 에서 노 는 것 도 싫어해요 . 이상해요 .',\n",
       " '먼 곳 으로 여행 을 떠나고 싶은데 너무 바빠서 여행 을 가지 못 하고 있어요']"
      ]
     },
     "execution_count": 17,
     "metadata": {},
     "output_type": "execute_result"
    }
   ],
   "source": [
    "contents_ko_vectorize"
   ]
  },
  {
   "cell_type": "code",
   "execution_count": 18,
   "metadata": {},
   "outputs": [
    {
     "name": "stdout",
     "output_type": "stream",
     "text": [
      "(4, 20)\n"
     ]
    }
   ],
   "source": [
    "X = vectorizer.fit_transform(contents_ko_vectorize)\n",
    "num_samples, num_features = X.shape\n",
    "print(X.shape)"
   ]
  },
  {
   "cell_type": "code",
   "execution_count": 19,
   "metadata": {},
   "outputs": [
    {
     "name": "stdout",
     "output_type": "stream",
     "text": [
      "['가고', '가지', '공원', '너무', '놀러', '떠나고', '바빠서', '바쁜데', '산책', '싫어해요', '싶은데', '싶지만', '어떻하죠', '에서', '여행', '으로', '이상해요', '있어요', '짱구', '하고']\n"
     ]
    }
   ],
   "source": [
    "print(vectorizer.get_feature_names())"
   ]
  },
  {
   "cell_type": "code",
   "execution_count": 20,
   "metadata": {},
   "outputs": [],
   "source": [
    "# 신규데이터 '짱구랑 공원에서 산책하고 놀고 싶어요' 이것과 거리가 가장 가까운 문자를 찾으시오\n",
    "new_texts = ['짱구랑 공원에서 산책하고 짱구랑 놀고 싶어요']"
   ]
  },
  {
   "cell_type": "code",
   "execution_count": 21,
   "metadata": {},
   "outputs": [],
   "source": [
    "# 신규데이터를 -> 훈련데이터를 정제하던 과정 그대로 전처리 후 테스트 수행\n",
    "new_texts = [' '.join(t.morphs(txt)) for txt in new_texts]"
   ]
  },
  {
   "cell_type": "code",
   "execution_count": 22,
   "metadata": {},
   "outputs": [
    {
     "data": {
      "text/plain": [
       "['짱구 랑 공원 에서 산책 하고 짱구 랑 놀고 싶어요']"
      ]
     },
     "execution_count": 22,
     "metadata": {},
     "output_type": "execute_result"
    }
   ],
   "source": [
    "new_texts"
   ]
  },
  {
   "cell_type": "code",
   "execution_count": 23,
   "metadata": {},
   "outputs": [
    {
     "data": {
      "text/plain": [
       "array([[0, 0, 1, 0, 0, 0, 0, 0, 1, 0, 0, 0, 0, 1, 0, 0, 0, 0, 2, 1]],\n",
       "      dtype=int64)"
      ]
     },
     "execution_count": 23,
     "metadata": {},
     "output_type": "execute_result"
    }
   ],
   "source": [
    "new_texts_vec = vectorizer.transform(new_texts)\n",
    "new_texts_vec.toarray()"
   ]
  },
  {
   "cell_type": "code",
   "execution_count": 28,
   "metadata": {},
   "outputs": [
    {
     "name": "stdout",
     "output_type": "stream",
     "text": [
      "3.1622776601683795 0 짱구랑 놀러가고 싶지만 바쁜데 어떻하죠?\n",
      "1.4142135623730951 1 짱구는 공원에서 산책하고 노는 것을 싫어해요.\n",
      "2.23606797749979 2 짱구는 공원에서 노는 것도 싫어해요. 이상해요.\n",
      "4.242640687119285 3 먼 곳으로 여행을 떠나고 싶은데 너무 바빠서 여행을 가지 못하고 있어요\n",
      "최소거리 :  1.4142135623730951 1 짱구는 공원에서 산책하고 노는 것을 싫어해요.\n"
     ]
    }
   ],
   "source": [
    "min_distance = 65536 - 1\n",
    "min_index = None\n",
    "for i in range(len(contents)):\n",
    "    dis = distance_vec(X.getrow(i), new_texts_vec)\n",
    "    print(dis, i, contents[i])\n",
    "    if dis < min_distance:\n",
    "        min_distance = dis\n",
    "        min_index = i\n",
    "else:\n",
    "    print('최소거리 : ', min_distance, min_index, contents[min_index])"
   ]
  },
  {
   "cell_type": "code",
   "execution_count": 29,
   "metadata": {},
   "outputs": [
    {
     "name": "stdout",
     "output_type": "stream",
     "text": [
      "짱구는 공원에서 산책하고 노는 것을 싫어해요.\n",
      "[[0 0 1 0 0 0 0 0 1 1 0 0 0 1 0 0 0 0 1 1]]\n",
      "--------------------------------------------------\n",
      "['짱구 랑 공원 에서 산책 하고 짱구 랑 놀고 싶어요']\n",
      "[[0 0 1 0 0 0 0 0 1 0 0 0 0 1 0 0 0 0 2 1]]\n"
     ]
    }
   ],
   "source": [
    "# 문장의 벡터값을 확인해서 비교\n",
    "for i in range(len(contents)):\n",
    "    if i == min_index:\n",
    "        print(contents[i])\n",
    "        print(X.getrow(i).toarray())\n",
    "print('-'*50)\n",
    "print(new_texts)\n",
    "print(new_texts_vec.toarray())"
   ]
  },
  {
   "cell_type": "code",
   "execution_count": 36,
   "metadata": {},
   "outputs": [],
   "source": [
    "# 거리 계산 -> v1, v2를 각각 나름 정규화(sp.linalg.norm)를 통해 정리를 하고 다시 계산\n",
    "def distance_vec_normalized(v1, v2):\n",
    "    v1.normalized = v1 / sp.linalg.norm(v1.toarray())\n",
    "    v2.normalized = v2 / sp.linalg.norm(v2.toarray())\n",
    "    delta = v1 - v2\n",
    "    # 유클리드 거리 계산 사용되고 - 유클리드 노름\n",
    "    # 일반적으로 두 점 사이에 거리를 계산 할 때 사용!!\n",
    "    return sp.linalg.norm(delta.toarray())"
   ]
  },
  {
   "cell_type": "code",
   "execution_count": 37,
   "metadata": {},
   "outputs": [
    {
     "name": "stdout",
     "output_type": "stream",
     "text": [
      "3.1622776601683795 0 짱구랑 놀러가고 싶지만 바쁜데 어떻하죠?\n",
      "1.4142135623730951 1 짱구는 공원에서 산책하고 노는 것을 싫어해요.\n",
      "2.23606797749979 2 짱구는 공원에서 노는 것도 싫어해요. 이상해요.\n",
      "4.242640687119285 3 먼 곳으로 여행을 떠나고 싶은데 너무 바빠서 여행을 가지 못하고 있어요\n",
      "최소거리 :  1.4142135623730951 1 짱구는 공원에서 산책하고 노는 것을 싫어해요.\n"
     ]
    }
   ],
   "source": [
    "min_distance = 65536 - 1\n",
    "min_index = None\n",
    "for i in range(len(contents)):\n",
    "    dis = distance_vec_normalized(X.getrow(i), new_texts_vec)\n",
    "    print(dis, i, contents[i])\n",
    "    if dis < min_distance:\n",
    "        min_distance = dis\n",
    "        min_index = i\n",
    "else:\n",
    "    print('최소거리 : ', min_distance, min_index, contents[min_index])"
   ]
  }
 ],
 "metadata": {
  "kernelspec": {
   "display_name": "Python 3",
   "language": "python",
   "name": "python3"
  },
  "language_info": {
   "codemirror_mode": {
    "name": "ipython",
    "version": 3
   },
   "file_extension": ".py",
   "mimetype": "text/x-python",
   "name": "python",
   "nbconvert_exporter": "python",
   "pygments_lexer": "ipython3",
   "version": "3.7.3"
  }
 },
 "nbformat": 4,
 "nbformat_minor": 4
}
