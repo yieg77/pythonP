{
 "cells": [
  {
   "cell_type": "code",
   "execution_count": 5,
   "metadata": {},
   "outputs": [
    {
     "name": "stdout",
     "output_type": "stream",
     "text": [
      "(1.0, 0.3662040962227033)\n",
      "(0.6666666666666666, 0.5493061443340549)\n",
      "(0.3333333333333333, 0.3662040962227033)\n",
      "(0.3333333333333333, 0.5493061443340549)\n",
      "(0.3333333333333333, 1.0986122886681098)\n"
     ]
    }
   ],
   "source": [
    "import scipy as sp\n",
    "def myTfIdf(t, d, D):\n",
    "    tf = float(d.count(t)) / sum(d.count(w) for w in set(d))\n",
    "    idf = sp.log(float(len(D))) / (len([doc for doc in D if t in doc]))\n",
    "    return tf, idf\n",
    "\n",
    "a, abb, abc = ['가'],['가','나','나'],['가','나','다']\n",
    "D = [a, abb, abc]\n",
    "\n",
    "print(myTfIdf('가',a, D))\n",
    "print(myTfIdf('나',abb, D))\n",
    "print(myTfIdf('가',abc, D))\n",
    "print(myTfIdf('나',abc, D))\n",
    "print(myTfIdf('다',abc, D))"
   ]
  },
  {
   "cell_type": "code",
   "execution_count": 2,
   "metadata": {
    "collapsed": true,
    "jupyter": {
     "outputs_hidden": true
    }
   },
   "outputs": [
    {
     "data": {
      "text/plain": [
       "['짱구 랑 놀러 가고 싶지만 바쁜데 어떡하죠 ?',\n",
       " '짱구 는 공원 에서 산책 하고 노 는 것 을 싫어해요',\n",
       " '짱구 는 공원 에서 노 는 것 도 싫어해요 . 이상해요 .',\n",
       " '먼 곳 으로 여행 을 떠나고 싶은데 너무 바빠서 여행 을 가지 못 하고 있어요 .']"
      ]
     },
     "execution_count": 2,
     "metadata": {},
     "output_type": "execute_result"
    }
   ],
   "source": [
    "from sklearn.feature_extraction.text import TfidfVectorizer\n",
    "vectorizer = TfidfVectorizer(min_df=1, decode_error='ignore')  #최소빈도수 1\n",
    "\n",
    "from konlpy.tag import Okt\n",
    "t = Okt()\n",
    "\n",
    "contents=['짱구랑 놀러가고 싶지만 바쁜데 어떡하죠?',\n",
    "         '짱구는 공원에서 산책하고 노는 것을 싫어해요',\n",
    "         '짱구는 공원에서 노는 것도 싫어해요. 이상해요.',\n",
    "         '먼 곳으로 여행을 떠나고 싶은데 너무 바빠서 여행을 가지 못하고 있어요.']\n",
    "\n",
    "contents_ko_vectorize = [' '.join(t.morphs(content)) for content in contents]\n",
    "contents_ko_vectorize"
   ]
  },
  {
   "cell_type": "code",
   "execution_count": 6,
   "metadata": {
    "collapsed": true,
    "jupyter": {
     "outputs_hidden": true
    }
   },
   "outputs": [
    {
     "name": "stdout",
     "output_type": "stream",
     "text": [
      "4 20\n",
      "{'짱구': 18, '놀러': 4, '가고': 0, '싶지만': 11, '바쁜데': 7, '어떡하죠': 12, '공원': 2, '에서': 13, '산책': 8, '하고': 19, '싫어해요': 9, '이상해요': 16, '으로': 15, '여행': 14, '떠나고': 5, '싶은데': 10, '너무': 3, '바빠서': 6, '가지': 1, '있어요': 17}\n"
     ]
    }
   ],
   "source": [
    "#훈련\n",
    "X = vectorizer.fit_transform(contents_ko_vectorize)\n",
    "num_samples, num_features = X.shape\n",
    "print(num_samples, num_features) #형태소, 인덱스번호"
   ]
  },
  {
   "cell_type": "code",
   "execution_count": 7,
   "metadata": {},
   "outputs": [
    {
     "name": "stdout",
     "output_type": "stream",
     "text": [
      "{'짱구': 18, '놀러': 4, '가고': 0, '싶지만': 11, '바쁜데': 7, '어떡하죠': 12, '공원': 2, '에서': 13, '산책': 8, '하고': 19, '싫어해요': 9, '이상해요': 16, '으로': 15, '여행': 14, '떠나고': 5, '싶은데': 10, '너무': 3, '바빠서': 6, '가지': 1, '있어요': 17}\n",
      "['가고', '가지', '공원', '너무', '놀러', '떠나고', '바빠서', '바쁜데', '산책', '싫어해요', '싶은데', '싶지만', '어떡하죠', '에서', '여행', '으로', '이상해요', '있어요', '짱구', '하고']\n"
     ]
    }
   ],
   "source": [
    "print(vectorizer.vocabulary_)\n",
    "\n",
    "tmp=vectorizer.get_feature_names() #가나다순\n",
    "print(tmp)"
   ]
  },
  {
   "cell_type": "code",
   "execution_count": 8,
   "metadata": {
    "collapsed": true,
    "jupyter": {
     "outputs_hidden": true
    }
   },
   "outputs": [
    {
     "name": "stdout",
     "output_type": "stream",
     "text": [
      "[[0.43003652 0.         0.         0.         0.43003652 0.\n",
      "  0.         0.43003652 0.         0.         0.         0.43003652\n",
      "  0.43003652 0.         0.         0.         0.         0.\n",
      "  0.27448674 0.        ]\n",
      " [0.         0.         0.39954636 0.         0.         0.\n",
      "  0.         0.         0.5067739  0.39954636 0.         0.\n",
      "  0.         0.39954636 0.         0.         0.         0.\n",
      "  0.32346721 0.39954636]\n",
      " [0.         0.         0.43584673 0.         0.         0.\n",
      "  0.         0.         0.         0.43584673 0.         0.\n",
      "  0.         0.43584673 0.         0.         0.55281632 0.\n",
      "  0.35285549 0.        ]\n",
      " [0.         0.29333722 0.         0.29333722 0.         0.29333722\n",
      "  0.29333722 0.         0.         0.         0.29333722 0.\n",
      "  0.         0.         0.58667444 0.29333722 0.         0.29333722\n",
      "  0.         0.23127044]]\n"
     ]
    }
   ],
   "source": [
    "print(X.toarray())"
   ]
  },
  {
   "cell_type": "code",
   "execution_count": 9,
   "metadata": {},
   "outputs": [
    {
     "data": {
      "text/plain": [
       "array([[0.43003652, 0.        , 0.        , 0.        ],\n",
       "       [0.        , 0.        , 0.        , 0.29333722],\n",
       "       [0.        , 0.39954636, 0.43584673, 0.        ],\n",
       "       [0.        , 0.        , 0.        , 0.29333722],\n",
       "       [0.43003652, 0.        , 0.        , 0.        ],\n",
       "       [0.        , 0.        , 0.        , 0.29333722],\n",
       "       [0.        , 0.        , 0.        , 0.29333722],\n",
       "       [0.43003652, 0.        , 0.        , 0.        ],\n",
       "       [0.        , 0.5067739 , 0.        , 0.        ],\n",
       "       [0.        , 0.39954636, 0.43584673, 0.        ],\n",
       "       [0.        , 0.        , 0.        , 0.29333722],\n",
       "       [0.43003652, 0.        , 0.        , 0.        ],\n",
       "       [0.43003652, 0.        , 0.        , 0.        ],\n",
       "       [0.        , 0.39954636, 0.43584673, 0.        ],\n",
       "       [0.        , 0.        , 0.        , 0.58667444],\n",
       "       [0.        , 0.        , 0.        , 0.29333722],\n",
       "       [0.        , 0.        , 0.55281632, 0.        ],\n",
       "       [0.        , 0.        , 0.        , 0.29333722],\n",
       "       [0.27448674, 0.32346721, 0.35285549, 0.        ],\n",
       "       [0.        , 0.39954636, 0.        , 0.23127044]])"
      ]
     },
     "execution_count": 9,
     "metadata": {},
     "output_type": "execute_result"
    }
   ],
   "source": [
    "X.toarray().transpose()"
   ]
  },
  {
   "cell_type": "code",
   "execution_count": 11,
   "metadata": {},
   "outputs": [
    {
     "data": {
      "text/plain": [
       "array([[0.        , 0.        , 0.37189141, 0.        , 0.        ,\n",
       "        0.        , 0.        , 0.        , 0.47169709, 0.        ,\n",
       "        0.        , 0.        , 0.        , 0.37189141, 0.        ,\n",
       "        0.        , 0.        , 0.        , 0.60215629, 0.37189141]])"
      ]
     },
     "execution_count": 11,
     "metadata": {},
     "output_type": "execute_result"
    }
   ],
   "source": [
    "#테스트\n",
    "new_texts=['짱구랑 공원에서 산책하고 짱구랑 놀고 싶어요']\n",
    "new_texts=[' '.join(t.morphs(txt)) for txt in new_texts]\n",
    "\n",
    "new_texts_vec = vectorizer.transform(new_texts)\n",
    "new_texts_vec.toarray()"
   ]
  },
  {
   "cell_type": "code",
   "execution_count": 12,
   "metadata": {},
   "outputs": [
    {
     "name": "stdout",
     "output_type": "stream",
     "text": [
      "1.2920650789466022 0 짱구랑 놀러가고 싶지만 바쁜데 어떡하죠?\n",
      "0.4907439935936256 1 짱구는 공원에서 산책하고 노는 것을 싫어해요\n",
      "0.9626531429051035 2 짱구는 공원에서 노는 것도 싫어해요. 이상해요.\n",
      "1.3520299645258842 3 먼 곳으로 여행을 떠나고 싶은데 너무 바빠서 여행을 가지 못하고 있어요.\n",
      "최소거리:  0.4907439935936256 1 짱구는 공원에서 산책하고 노는 것을 싫어해요\n"
     ]
    }
   ],
   "source": [
    "import scipy as sp\n",
    "\n",
    "def distance_vec_normalized(v1, v2):\n",
    "    v1.normalized = v1 / sp.linalg.norm(v1.toarray())\n",
    "    v2.normalized = v2 / sp.linalg.norm(v2.toarray())\n",
    "    delta = v1-v2\n",
    "    #유클리드 거리 계산 : 일반적으로 두 점 사이의 거리를 계산할 때 사용\n",
    "    return sp.linalg.norm(delta.toarray())\n",
    "\n",
    "min_distance = 65536\n",
    "min_index = None\n",
    "for i in range(len(contents)):\n",
    "    dis = distance_vec_normalized(X.getrow(i), new_texts_vec)\n",
    "    print(dis, i, contents[i])\n",
    "    if dis < min_distance:\n",
    "        min_distance=dis\n",
    "        min_index=i\n",
    "else:\n",
    "    print('최소거리: ', min_distance, min_index, contents[min_index])\n",
    "        "
   ]
  },
  {
   "cell_type": "code",
   "execution_count": 13,
   "metadata": {},
   "outputs": [],
   "source": [
    "import platform\n",
    "from matplotlib import font_manager"
   ]
  },
  {
   "cell_type": "code",
   "execution_count": 14,
   "metadata": {},
   "outputs": [],
   "source": [
    "from bs4 import BeautifulSoup\n",
    "import requests\n",
    "from urllib.request import urlopen\n",
    "import urllib"
   ]
  },
  {
   "cell_type": "code",
   "execution_count": 15,
   "metadata": {
    "collapsed": true,
    "jupyter": {
     "outputs_hidden": true
    }
   },
   "outputs": [
    {
     "name": "stdout",
     "output_type": "stream",
     "text": [
      "\n"
     ]
    },
    {
     "ename": "ValueError",
     "evalue": "unknown url type: ''",
     "output_type": "error",
     "traceback": [
      "\u001b[1;31m---------------------------------------------------------------------------\u001b[0m",
      "\u001b[1;31mValueError\u001b[0m                                Traceback (most recent call last)",
      "\u001b[1;32m<ipython-input-15-21823c6ea7c9>\u001b[0m in \u001b[0;36m<module>\u001b[1;34m\u001b[0m\n\u001b[0;32m      2\u001b[0m \u001b[0mtarget_url\u001b[0m\u001b[1;33m=\u001b[0m\u001b[1;34m''\u001b[0m\u001b[1;33m\u001b[0m\u001b[1;33m\u001b[0m\u001b[0m\n\u001b[0;32m      3\u001b[0m \u001b[0mprint\u001b[0m\u001b[1;33m(\u001b[0m\u001b[0mtarget_url\u001b[0m\u001b[1;33m)\u001b[0m\u001b[1;33m\u001b[0m\u001b[1;33m\u001b[0m\u001b[0m\n\u001b[1;32m----> 4\u001b[1;33m \u001b[0mreq\u001b[0m\u001b[1;33m=\u001b[0m\u001b[0murllib\u001b[0m\u001b[1;33m.\u001b[0m\u001b[0mrequest\u001b[0m\u001b[1;33m.\u001b[0m\u001b[0mRequest\u001b[0m\u001b[1;33m(\u001b[0m\u001b[0mtarget_url\u001b[0m\u001b[1;33m,\u001b[0m \u001b[0mheaders\u001b[0m\u001b[1;33m=\u001b[0m\u001b[1;33m{\u001b[0m\u001b[1;34m'User=Agent'\u001b[0m\u001b[1;33m:\u001b[0m\u001b[1;34m'Mozilla/5.0'\u001b[0m\u001b[1;33m}\u001b[0m\u001b[1;33m)\u001b[0m\u001b[1;33m\u001b[0m\u001b[1;33m\u001b[0m\u001b[0m\n\u001b[0m\u001b[0;32m      5\u001b[0m \u001b[0mresponse\u001b[0m\u001b[1;33m=\u001b[0m\u001b[0murllib\u001b[0m\u001b[1;33m.\u001b[0m\u001b[0mrequest\u001b[0m\u001b[1;33m.\u001b[0m\u001b[0murlopen\u001b[0m\u001b[1;33m(\u001b[0m\u001b[0mreq\u001b[0m\u001b[1;33m)\u001b[0m\u001b[1;33m.\u001b[0m\u001b[0mread\u001b[0m\u001b[1;33m(\u001b[0m\u001b[1;33m)\u001b[0m\u001b[1;33m\u001b[0m\u001b[1;33m\u001b[0m\u001b[0m\n\u001b[0;32m      6\u001b[0m \u001b[0mresponse\u001b[0m\u001b[1;33m\u001b[0m\u001b[1;33m\u001b[0m\u001b[0m\n",
      "\u001b[1;32mC:\\ProgramData\\Anaconda3\\lib\\urllib\\request.py\u001b[0m in \u001b[0;36m__init__\u001b[1;34m(self, url, data, headers, origin_req_host, unverifiable, method)\u001b[0m\n\u001b[0;32m    326\u001b[0m                  \u001b[0morigin_req_host\u001b[0m\u001b[1;33m=\u001b[0m\u001b[1;32mNone\u001b[0m\u001b[1;33m,\u001b[0m \u001b[0munverifiable\u001b[0m\u001b[1;33m=\u001b[0m\u001b[1;32mFalse\u001b[0m\u001b[1;33m,\u001b[0m\u001b[1;33m\u001b[0m\u001b[1;33m\u001b[0m\u001b[0m\n\u001b[0;32m    327\u001b[0m                  method=None):\n\u001b[1;32m--> 328\u001b[1;33m         \u001b[0mself\u001b[0m\u001b[1;33m.\u001b[0m\u001b[0mfull_url\u001b[0m \u001b[1;33m=\u001b[0m \u001b[0murl\u001b[0m\u001b[1;33m\u001b[0m\u001b[1;33m\u001b[0m\u001b[0m\n\u001b[0m\u001b[0;32m    329\u001b[0m         \u001b[0mself\u001b[0m\u001b[1;33m.\u001b[0m\u001b[0mheaders\u001b[0m \u001b[1;33m=\u001b[0m \u001b[1;33m{\u001b[0m\u001b[1;33m}\u001b[0m\u001b[1;33m\u001b[0m\u001b[1;33m\u001b[0m\u001b[0m\n\u001b[0;32m    330\u001b[0m         \u001b[0mself\u001b[0m\u001b[1;33m.\u001b[0m\u001b[0munredirected_hdrs\u001b[0m \u001b[1;33m=\u001b[0m \u001b[1;33m{\u001b[0m\u001b[1;33m}\u001b[0m\u001b[1;33m\u001b[0m\u001b[1;33m\u001b[0m\u001b[0m\n",
      "\u001b[1;32mC:\\ProgramData\\Anaconda3\\lib\\urllib\\request.py\u001b[0m in \u001b[0;36mfull_url\u001b[1;34m(self, url)\u001b[0m\n\u001b[0;32m    352\u001b[0m         \u001b[0mself\u001b[0m\u001b[1;33m.\u001b[0m\u001b[0m_full_url\u001b[0m \u001b[1;33m=\u001b[0m \u001b[0munwrap\u001b[0m\u001b[1;33m(\u001b[0m\u001b[0murl\u001b[0m\u001b[1;33m)\u001b[0m\u001b[1;33m\u001b[0m\u001b[1;33m\u001b[0m\u001b[0m\n\u001b[0;32m    353\u001b[0m         \u001b[0mself\u001b[0m\u001b[1;33m.\u001b[0m\u001b[0m_full_url\u001b[0m\u001b[1;33m,\u001b[0m \u001b[0mself\u001b[0m\u001b[1;33m.\u001b[0m\u001b[0mfragment\u001b[0m \u001b[1;33m=\u001b[0m \u001b[0msplittag\u001b[0m\u001b[1;33m(\u001b[0m\u001b[0mself\u001b[0m\u001b[1;33m.\u001b[0m\u001b[0m_full_url\u001b[0m\u001b[1;33m)\u001b[0m\u001b[1;33m\u001b[0m\u001b[1;33m\u001b[0m\u001b[0m\n\u001b[1;32m--> 354\u001b[1;33m         \u001b[0mself\u001b[0m\u001b[1;33m.\u001b[0m\u001b[0m_parse\u001b[0m\u001b[1;33m(\u001b[0m\u001b[1;33m)\u001b[0m\u001b[1;33m\u001b[0m\u001b[1;33m\u001b[0m\u001b[0m\n\u001b[0m\u001b[0;32m    355\u001b[0m \u001b[1;33m\u001b[0m\u001b[0m\n\u001b[0;32m    356\u001b[0m     \u001b[1;33m@\u001b[0m\u001b[0mfull_url\u001b[0m\u001b[1;33m.\u001b[0m\u001b[0mdeleter\u001b[0m\u001b[1;33m\u001b[0m\u001b[1;33m\u001b[0m\u001b[0m\n",
      "\u001b[1;32mC:\\ProgramData\\Anaconda3\\lib\\urllib\\request.py\u001b[0m in \u001b[0;36m_parse\u001b[1;34m(self)\u001b[0m\n\u001b[0;32m    381\u001b[0m         \u001b[0mself\u001b[0m\u001b[1;33m.\u001b[0m\u001b[0mtype\u001b[0m\u001b[1;33m,\u001b[0m \u001b[0mrest\u001b[0m \u001b[1;33m=\u001b[0m \u001b[0msplittype\u001b[0m\u001b[1;33m(\u001b[0m\u001b[0mself\u001b[0m\u001b[1;33m.\u001b[0m\u001b[0m_full_url\u001b[0m\u001b[1;33m)\u001b[0m\u001b[1;33m\u001b[0m\u001b[1;33m\u001b[0m\u001b[0m\n\u001b[0;32m    382\u001b[0m         \u001b[1;32mif\u001b[0m \u001b[0mself\u001b[0m\u001b[1;33m.\u001b[0m\u001b[0mtype\u001b[0m \u001b[1;32mis\u001b[0m \u001b[1;32mNone\u001b[0m\u001b[1;33m:\u001b[0m\u001b[1;33m\u001b[0m\u001b[1;33m\u001b[0m\u001b[0m\n\u001b[1;32m--> 383\u001b[1;33m             \u001b[1;32mraise\u001b[0m \u001b[0mValueError\u001b[0m\u001b[1;33m(\u001b[0m\u001b[1;34m\"unknown url type: %r\"\u001b[0m \u001b[1;33m%\u001b[0m \u001b[0mself\u001b[0m\u001b[1;33m.\u001b[0m\u001b[0mfull_url\u001b[0m\u001b[1;33m)\u001b[0m\u001b[1;33m\u001b[0m\u001b[1;33m\u001b[0m\u001b[0m\n\u001b[0m\u001b[0;32m    384\u001b[0m         \u001b[0mself\u001b[0m\u001b[1;33m.\u001b[0m\u001b[0mhost\u001b[0m\u001b[1;33m,\u001b[0m \u001b[0mself\u001b[0m\u001b[1;33m.\u001b[0m\u001b[0mselector\u001b[0m \u001b[1;33m=\u001b[0m \u001b[0msplithost\u001b[0m\u001b[1;33m(\u001b[0m\u001b[0mrest\u001b[0m\u001b[1;33m)\u001b[0m\u001b[1;33m\u001b[0m\u001b[1;33m\u001b[0m\u001b[0m\n\u001b[0;32m    385\u001b[0m         \u001b[1;32mif\u001b[0m \u001b[0mself\u001b[0m\u001b[1;33m.\u001b[0m\u001b[0mhost\u001b[0m\u001b[1;33m:\u001b[0m\u001b[1;33m\u001b[0m\u001b[1;33m\u001b[0m\u001b[0m\n",
      "\u001b[1;31mValueError\u001b[0m: unknown url type: ''"
     ]
    }
   ],
   "source": [
    "keyword='최저임금'\n",
    "target_url=''\n",
    "print(target_url)\n",
    "req=urllib.request.Request(target_url, headers={'User=Agent':'Mozilla/5.0'})\n",
    "response=urllib.request.urlopen(req).read()\n",
    "response"
   ]
  },
  {
   "cell_type": "code",
   "execution_count": null,
   "metadata": {},
   "outputs": [],
   "source": [
    "soup=BeautifulSoup(response, 'html.parser')\n",
    "\n",
    "#dl 태그\n",
    "[dl.text for dl in soup.findAll('dl')]"
   ]
  },
  {
   "cell_type": "code",
   "execution_count": 16,
   "metadata": {
    "collapsed": true,
    "jupyter": {
     "outputs_hidden": true
    }
   },
   "outputs": [
    {
     "name": "stdout",
     "output_type": "stream",
     "text": [
      "Collecting gensim\n",
      "  Downloading https://files.pythonhosted.org/packages/09/ed/b59a2edde05b7f5755ea68648487c150c7c742361e9c8733c6d4ca005020/gensim-3.8.1-cp37-cp37m-win_amd64.whl (24.2MB)\n",
      "Requirement already satisfied: six>=1.5.0 in c:\\programdata\\anaconda3\\lib\\site-packages (from gensim) (1.12.0)\n",
      "Collecting smart-open>=1.8.1 (from gensim)\n",
      "  Downloading https://files.pythonhosted.org/packages/37/c0/25d19badc495428dec6a4bf7782de617ee0246a9211af75b302a2681dea7/smart_open-1.8.4.tar.gz (63kB)\n",
      "Requirement already satisfied: numpy>=1.11.3 in c:\\programdata\\anaconda3\\lib\\site-packages (from gensim) (1.16.4)\n",
      "Requirement already satisfied: scipy>=0.18.1 in c:\\programdata\\anaconda3\\lib\\site-packages (from gensim) (1.2.1)\n",
      "Requirement already satisfied: boto>=2.32 in c:\\programdata\\anaconda3\\lib\\site-packages (from smart-open>=1.8.1->gensim) (2.49.0)\n",
      "Requirement already satisfied: requests in c:\\programdata\\anaconda3\\lib\\site-packages (from smart-open>=1.8.1->gensim) (2.22.0)\n",
      "Collecting boto3 (from smart-open>=1.8.1->gensim)\n",
      "  Downloading https://files.pythonhosted.org/packages/65/5c/13362c8a4a863e84763e3ebdfba41908a117c3b26306580d172bbbcd7492/boto3-1.9.251-py2.py3-none-any.whl (128kB)\n",
      "Requirement already satisfied: urllib3!=1.25.0,!=1.25.1,<1.26,>=1.21.1 in c:\\programdata\\anaconda3\\lib\\site-packages (from requests->smart-open>=1.8.1->gensim) (1.24.2)\n",
      "Requirement already satisfied: chardet<3.1.0,>=3.0.2 in c:\\programdata\\anaconda3\\lib\\site-packages (from requests->smart-open>=1.8.1->gensim) (3.0.4)\n",
      "Requirement already satisfied: idna<2.9,>=2.5 in c:\\programdata\\anaconda3\\lib\\site-packages (from requests->smart-open>=1.8.1->gensim) (2.8)\n",
      "Requirement already satisfied: certifi>=2017.4.17 in c:\\programdata\\anaconda3\\lib\\site-packages (from requests->smart-open>=1.8.1->gensim) (2019.6.16)\n",
      "Collecting botocore<1.13.0,>=1.12.251 (from boto3->smart-open>=1.8.1->gensim)\n",
      "  Downloading https://files.pythonhosted.org/packages/4c/f6/0f2b87d990e3e9511cf2fec31ce71093f021c70a133a59c2a482dc7d104a/botocore-1.12.251-py2.py3-none-any.whl (5.7MB)\n",
      "Collecting jmespath<1.0.0,>=0.7.1 (from boto3->smart-open>=1.8.1->gensim)\n",
      "  Downloading https://files.pythonhosted.org/packages/83/94/7179c3832a6d45b266ddb2aac329e101367fbdb11f425f13771d27f225bb/jmespath-0.9.4-py2.py3-none-any.whl\n",
      "Collecting s3transfer<0.3.0,>=0.2.0 (from boto3->smart-open>=1.8.1->gensim)\n",
      "  Downloading https://files.pythonhosted.org/packages/16/8a/1fc3dba0c4923c2a76e1ff0d52b305c44606da63f718d14d3231e21c51b0/s3transfer-0.2.1-py2.py3-none-any.whl (70kB)\n",
      "Requirement already satisfied: docutils<0.16,>=0.10 in c:\\programdata\\anaconda3\\lib\\site-packages (from botocore<1.13.0,>=1.12.251->boto3->smart-open>=1.8.1->gensim) (0.14)\n",
      "Requirement already satisfied: python-dateutil<3.0.0,>=2.1; python_version >= \"2.7\" in c:\\programdata\\anaconda3\\lib\\site-packages (from botocore<1.13.0,>=1.12.251->boto3->smart-open>=1.8.1->gensim) (2.8.0)\n",
      "Building wheels for collected packages: smart-open\n",
      "  Building wheel for smart-open (setup.py): started\n",
      "  Building wheel for smart-open (setup.py): finished with status 'done'\n",
      "  Stored in directory: C:\\Users\\ICT03_07\\AppData\\Local\\pip\\Cache\\wheels\\5f\\ea\\fb\\5b1a947b369724063b2617011f1540c44eb00e28c3d2ca8692\n",
      "Successfully built smart-open\n",
      "Installing collected packages: jmespath, botocore, s3transfer, boto3, smart-open, gensim\n",
      "Successfully installed boto3-1.9.251 botocore-1.12.251 gensim-3.8.1 jmespath-0.9.4 s3transfer-0.2.1 smart-open-1.8.4\n"
     ]
    }
   ],
   "source": [
    "!pip install gensim"
   ]
  },
  {
   "cell_type": "code",
   "execution_count": null,
   "metadata": {},
   "outputs": [],
   "source": []
  }
 ],
 "metadata": {
  "kernelspec": {
   "display_name": "Python 3",
   "language": "python",
   "name": "python3"
  },
  "language_info": {
   "codemirror_mode": {
    "name": "ipython",
    "version": 3
   },
   "file_extension": ".py",
   "mimetype": "text/x-python",
   "name": "python",
   "nbconvert_exporter": "python",
   "pygments_lexer": "ipython3",
   "version": "3.7.3"
  }
 },
 "nbformat": 4,
 "nbformat_minor": 4
}
