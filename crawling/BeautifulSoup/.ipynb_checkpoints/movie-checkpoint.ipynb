{
 "cells": [
  {
   "cell_type": "code",
   "execution_count": 14,
   "metadata": {},
   "outputs": [],
   "source": [
    "import urllib.request, os\n",
    "from bs4 import BeautifulSoup"
   ]
  },
  {
   "cell_type": "code",
   "execution_count": 15,
   "metadata": {},
   "outputs": [],
   "source": [
    "response=urllib.request.urlopen(\"http://www.cgv.co.kr/movies/\")\n",
    "bs = BeautifulSoup(response, 'html.parser')"
   ]
  },
  {
   "cell_type": "code",
   "execution_count": 18,
   "metadata": {},
   "outputs": [],
   "source": [
    "result = bs.select('span.thumb-image>img')\n",
    "result"
   ]
  },
  {
   "cell_type": "code",
   "execution_count": 36,
   "metadata": {},
   "outputs": [
    {
     "name": "stdout",
     "output_type": "stream",
     "text": [
      "나쁜 녀석들- 더 무비\n",
      "애드 아스트라\n",
      "예스터데이\n",
      "타짜- 원 아이드 잭\n",
      "벌새\n",
      "뷰티풀 보이\n",
      "힘을 내요, 미스터 리\n",
      "분노의 질주- 홉스&쇼\n",
      "봉오동 전투\n",
      "타짜- 원 아이드 잭\n",
      "유열의 음악앨범\n",
      "유전\n"
     ]
    }
   ],
   "source": [
    "result1=bs.select('strong.title')\n",
    "result1\n",
    "for movie in result1:\n",
    "    print(movie.string)"
   ]
  },
  {
   "cell_type": "code",
   "execution_count": 44,
   "metadata": {},
   "outputs": [
    {
     "data": {
      "text/plain": [
       "[<img alt=\"나쁜 녀석들- 더 무비 포스터\" onerror=\"errorImage(this)\" src=\"http://img.cgv.co.kr/Movie/Thumbnail/Poster/000082/82110/82110_185.jpg\"/>,\n",
       " <img alt=\"애드 아스트라 포스터\" onerror=\"errorImage(this)\" src=\"http://img.cgv.co.kr/Movie/Thumbnail/Poster/000082/82019/82019_185.jpg\"/>,\n",
       " <img alt=\"예스터데이 포스터\" onerror=\"errorImage(this)\" src=\"http://img.cgv.co.kr/Movie/Thumbnail/Poster/000082/82078/82078_185.jpg\"/>,\n",
       " <img alt=\"타짜- 원 아이드 잭 포스터\" onerror=\"errorImage(this)\" src=\"http://img.cgv.co.kr/Movie/Thumbnail/Poster/000082/82108/82108_185.jpg\"/>,\n",
       " <img alt=\"벌새 포스터\" onerror=\"errorImage(this)\" src=\"http://img.cgv.co.kr/Movie/Thumbnail/Poster/000082/82060/82060_185.jpg\"/>,\n",
       " <img alt=\"뷰티풀 보이 포스터\" onerror=\"errorImage(this)\" src=\"http://img.cgv.co.kr/Movie/Thumbnail/Poster/000082/82192/82192_185.jpg\"/>,\n",
       " <img alt=\"힘을 내요, 미스터 리 포스터\" onerror=\"errorImage(this)\" src=\"http://img.cgv.co.kr/Movie/Thumbnail/Poster/000082/82129/82129_185.jpg\"/>,\n",
       " <img alt=\"[분노의 질주- 홉스&amp;쇼]1차 예고편\" src=\"http://img.cgv.co.kr/Movie/Thumbnail/Trailer/82082/82082169277_1024.jpg\"/>,\n",
       " <img alt=\"[분노의 질주- 홉스&amp;쇼]1차 예고편\" src=\"http://img.cgv.co.kr/Movie/Thumbnail/Poster/000082/82082/82082_185.jpg\"/>,\n",
       " <img alt=\"[봉오동 전투]2차 예고편\" src=\"http://img.cgv.co.kr/Movie/Thumbnail/Trailer/82013/82013169034_1024.jpg\" style=\"width:126px;height:71px;\"/>,\n",
       " <img alt=\"[타짜- 원 아이드 잭]타짜 메이드 영상\" src=\"http://img.cgv.co.kr/Movie/Thumbnail/Trailer/82108/82108170590_1024.jpg\" style=\"width:126px;height:71px;\"/>,\n",
       " <img alt=\"[유열의 음악앨범]감성가득 예고편\" src=\"http://img.cgv.co.kr/Movie/Thumbnail/Trailer/82083/82083170529_1024.jpg\" style=\"width:126px;height:71px;\"/>,\n",
       " <img alt=\"[유전]메인 예고편-유전\" src=\"http://img.cgv.co.kr/Movie/Thumbnail/Trailer/80784/80784155841_1024.JPG\" style=\"width:126px;height:71px;\"/>]"
      ]
     },
     "execution_count": 44,
     "metadata": {},
     "output_type": "execute_result"
    }
   ],
   "source": [
    "result2=bs.select('span.thumb-image>img')\n",
    "result2\n",
    "for i in result2:\n",
    "    print(i['src'])"
   ]
  },
  {
   "cell_type": "code",
   "execution_count": null,
   "metadata": {},
   "outputs": [],
   "source": [
    "result2=bs.find_all('span.thumb-image>img')\n",
    "result2"
   ]
  }
 ],
 "metadata": {
  "kernelspec": {
   "display_name": "Python 3",
   "language": "python",
   "name": "python3"
  },
  "language_info": {
   "codemirror_mode": {
    "name": "ipython",
    "version": 3
   },
   "file_extension": ".py",
   "mimetype": "text/x-python",
   "name": "python",
   "nbconvert_exporter": "python",
   "pygments_lexer": "ipython3",
   "version": "3.7.3"
  }
 },
 "nbformat": 4,
 "nbformat_minor": 4
}
