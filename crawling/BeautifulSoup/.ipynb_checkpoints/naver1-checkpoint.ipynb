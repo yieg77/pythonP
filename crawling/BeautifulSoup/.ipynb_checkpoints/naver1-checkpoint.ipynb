{
 "cells": [
  {
   "cell_type": "code",
   "execution_count": 127,
   "metadata": {},
   "outputs": [],
   "source": [
    "import urllib.request\n",
    "from bs4 import BeautifulSoup"
   ]
  },
  {
   "cell_type": "code",
   "execution_count": 137,
   "metadata": {},
   "outputs": [],
   "source": [
    "url=\"https://news.naver.com\"\n",
    "response=urllib.request.urlopen(url)\n",
    "bs = BeautifulSoup(response, 'html.parser')"
   ]
  },
  {
   "cell_type": "code",
   "execution_count": 153,
   "metadata": {},
   "outputs": [
    {
     "name": "stdout",
     "output_type": "stream",
     "text": [
      "\"정경심 구속되면 유시민 책임져\"..'알릴레오2' 첫방에 野 비난\n",
      "국대떡볶이 대표 '文대통령·조국 비판' 일파만파···\"돈 좀 벌었나\" vs \"소신 지지\"(종합)\n",
      "유시민 \"檢 정경심 공소장 변경은 공문서 허위작성죄 아니냐\"\n",
      "유시민 \"표창장건은 '밑밥'…아들·딸 스펙 너무 부지런히 만들었다\"\n",
      "문준용, 곽상도 겨냥 \"내 아내 시아버지 찬스 없다. 얼마든지 살펴보라\"\n",
      "한일정상 만남 사실상 불발…여사들은 '가벼운 포옹'\n",
      "유시민 \"윤석열 검사다운 검사라 생각했는데 정치 뛰어들었다\"\n",
      "박지원 \"문재인·조국·윤석열 공동운명체…조국 물러날 경우 끔찍해\"\n",
      "‘文의 DMZ 평화지대구상’ 北안전보장 ‘묘수’될까\n",
      "與, '檢 고발' 검토…유시민 \"정경심 영장 기각되면 책임져야\"\n"
     ]
    }
   ],
   "source": [
    "#result = bs.select('ul.section_list_ranking  a')\n",
    "result = bs.find('ul','section_list_ranking').find_all('a')\n",
    "result\n",
    "\n",
    "for i in result:\n",
    "    print(i.text)"
   ]
  },
  {
   "cell_type": "code",
   "execution_count": 182,
   "metadata": {},
   "outputs": [
    {
     "name": "stdout",
     "output_type": "stream",
     "text": [
      "제목:  \"정경심 구속되면 유시민 책임져\"..'알릴레오2' 첫방에 野 비난\n",
      "링크:  /main/ranking/read.nhn?mid=etc&sid1=111&rankingType=popular_day&oid=018&aid=0004475661&date=20190925&type=1&rankingSeq=1&rankingSectionId=100\n",
      "\n",
      "\n",
      "[이데일리 박지혜 기자] 유시민 노무현재단 이사장이 윤석열 검찰총장과 한동훈 대검 반부패부장까지 정조준해 “조국 법무부 장관의 부인 정경심 동양대 교수의 영장이 기각되면 책임져야 한다”라는 취지의 발언을 내놨다.이에 오신환 바른미래당 원내대표, 민경욱 자유한국당 의원 등 야당 의원들이 일제히 비난하고 나섰다.민경욱 의원은 25일 페이스북에 유 이사장의 발언을 전하며 “빙하기 이후 영장 기각이 얼마나 많았는데 새삼스럽게 정경심만?”이라며 되물었다.같은 당의 김용태 의원도 “이제 유시민이 군사정권 차지철 뺨치게 생겼다. 급하긴 급한가 보다”라며 “문재인 대통령은 없고 더불어민주당 화력은 시원찮으니 여권 2인자를 자처하며 최전방에서 돌격전을 지휘하는 형국”이라고 비판했다.이어 “이제 유시민은 검찰이 말을 듣지 않자 법원을 겁박하고 나섰다. 정경심 영장 발부하지 말라고 아예 판사들 협박하는 것”이라며 “윤석열은 배신했어도 김명수 대법원장은 그러지 말라 경고하는 것인가”라고 덧붙였다.김 의원은 “이쯤 되면 수사 방해, 재판 방해가 아니라 진짜 사법농단, 헌정유린 아닌가”라며 “조국 쯤이야 개인비리지만 유시민은 한 발 더 내디면 국사범이 될 것임을 분명히 경고해둔다”라고 주장했다.오신환 원내대표는 “(정 교수 영장) 인용 시 (유 이사장은) 책임져라”라며 “입진보(말로만 하는 진보) 그만하고”라고 꼬집었다.같은 당의 하태경 의원은 “검찰을 증거 조작하는 범죄집단 취급하는 유시민은 정신줄 놓고 있다”라며 “유시민 작가가 형법을 아예 새로 쓰고 있다”라고 비난했다.하 의원은 “살아 있는 권력 2인자이고 정경심을 두고 약자라고 말한 데서는 유 작가가 왜 이렇게까지 됐는지 측은해지기까지 하다”라며 “세상이 아무리 시끄럽고 혼란스러워도 제발 정신줄은 단단히 붙들고 살자”라고 페이스북에 썼다.유 이사장은 전날 노무현재단 유튜브 채널 ‘알릴레오 시즌2’에서 “정 교수에 대해 (검찰이) 구속영장을 청구하리라 본다. 기각될 확률과 발부될 확률이 반반쯤 된다고 본다. 영장이 기각되면 (검찰이) 책임져야 한다”라며 “국정농단 수사보다 더 많은 수사 인력을 갖고 한 달 반동안 70군데 가까이 압수수색 했는데 영장이 기각될 정도의 수사 결과밖에 내지 못했다면 최초의 판단이 잘못된 것”이라고 주장했다.이어 “조 장관을 피의자로 보기 어렵고, 정 교수를 구속영장 청구하고 영장이 발부되면 이 상황에서도 장관을 할 수 있겠냐고 야당에서 마지막 총공세가 있을 것”이라고 관측했다.그는 또 “영장이 기각된다면 인사조치가 있어야 한다. 한동훈 대검 반부패부장 등 특수부들이 책임져야 한다”며 “그래서 검찰이 명분을 세우려면 영장판사가 누구일지 날짜를 살펴봐서 발부될 확률이 높은 날 청구할 것”이라고 추정했다.그는 “윤석열 총장은 지금이라도 멈춰야 한다. 제대로 일해 왔던 검사답게 검사로 판단을 내려야 한다”면서 “정권에 굴복하라는 말이 아니라 증거와 사실이 가리키는 방향에서 합리적으로 결론을 내려 최대한 증거에 의거해서 불구속 기소하거나 불기소하는 정도로 가야 한다”고 말했다.박지혜 (noname@edaily.co.kr)네이버 홈에서 ‘이데일리’ 뉴스꿀잼가득, 청춘뉘우스~\n"
     ]
    }
   ],
   "source": [
    "results=bs.select('.section_list_ranking li a')\n",
    "\n",
    "results\n",
    "\n",
    "for result in results[:1]:\n",
    "    #print(type(result))\n",
    "    print('제목: ', result.attrs['title'])\n",
    "    print('링크: ', result.attrs['href'])\n",
    "    print()\n",
    "    \n",
    "    url2=\"https://news.naver.com\"+result.attrs['href']\n",
    "    response2=urllib.request.urlopen(url2)\n",
    "    bs2=BeautifulSoup(response2, 'html.parser')\n",
    "    #print(bs2)\n",
    "    \n",
    "    content_t=bs2.select('title')\n",
    "    content=bs2.select_one('#articleBodyContents')\n",
    "    #print(content)\n",
    "    #print(content.contents)\n",
    "    #print(content.contents[8:10])\n",
    "    print()\n",
    "    \n",
    "    output=\"\"\n",
    "    for item in content.contents[8:]:\n",
    "        stripped = str(item).strip()\n",
    "\n",
    "        if stripped==\"\":\n",
    "            continue\n",
    "        if stripped[0] not in ['<','/']:\n",
    "            output+=str(item).strip()\n",
    "\n",
    "    print(output)\n",
    "    #print(output.replace('본문 내용TV플레이어',''))\n",
    "    "
   ]
  }
 ],
 "metadata": {
  "kernelspec": {
   "display_name": "Python 3",
   "language": "python",
   "name": "python3"
  },
  "language_info": {
   "codemirror_mode": {
    "name": "ipython",
    "version": 3
   },
   "file_extension": ".py",
   "mimetype": "text/x-python",
   "name": "python",
   "nbconvert_exporter": "python",
   "pygments_lexer": "ipython3",
   "version": "3.7.3"
  }
 },
 "nbformat": 4,
 "nbformat_minor": 4
}
