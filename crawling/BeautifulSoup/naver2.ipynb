{
 "cells": [
  {
   "cell_type": "code",
   "execution_count": 8,
   "metadata": {},
   "outputs": [],
   "source": [
    "import urllib.request\n",
    "from bs4 import BeautifulSoup"
   ]
  },
  {
   "cell_type": "code",
   "execution_count": 9,
   "metadata": {},
   "outputs": [],
   "source": [
    "response=urllib.request.urlopen(\"https://www.naver.com/\")\n",
    "bs = BeautifulSoup(response, 'html.parser')"
   ]
  },
  {
   "cell_type": "code",
   "execution_count": 10,
   "metadata": {},
   "outputs": [
    {
     "name": "stdout",
     "output_type": "stream",
     "text": [
      "1 꾸까꽃반값할인 \n",
      "2 에이치몰 쏙담마켓 \n",
      "3 라뜨라쥬 미네랄 빙하수 \n",
      "4 티르티르 \n",
      "5 꾸까 \n",
      "6 무신사 헤드 플리스 특가 \n",
      "7 데미무어 \n",
      "8 애쉬튼 커쳐 \n",
      "9 국대떡볶이 \n",
      "10 비트코인 \n",
      "11 밀라 쿠니스 \n",
      "12 cj더마켓원더세일 \n",
      "13 박혜민 \n",
      "14 트럼프 탄핵 \n",
      "15 lg화학 \n",
      "16 유시민 \n",
      "17 자연과환경 \n",
      "18 비트코인 시세 \n",
      "19 임재현 \n",
      "20 무신사 헤드 플리스 \n"
     ]
    }
   ],
   "source": [
    "result = bs.select('ul.ah_l span.ah_r,span.ah_k')\n",
    "\n",
    "for i in result[:40]:   \n",
    "    #print(result.index(i), i.string, end='')\n",
    "    print(i.string, end=' ')\n",
    "    if result.index(i)%2==1: print()\n",
    "    if i.index==39: break"
   ]
  },
  {
   "cell_type": "code",
   "execution_count": null,
   "metadata": {},
   "outputs": [],
   "source": []
  },
  {
   "cell_type": "code",
   "execution_count": 4,
   "metadata": {},
   "outputs": [
    {
     "data": {
      "text/plain": [
       "[]"
      ]
     },
     "execution_count": 4,
     "metadata": {},
     "output_type": "execute_result"
    }
   ],
   "source": []
  }
 ],
 "metadata": {
  "kernelspec": {
   "display_name": "Python 3",
   "language": "python",
   "name": "python3"
  },
  "language_info": {
   "codemirror_mode": {
    "name": "ipython",
    "version": 3
   },
   "file_extension": ".py",
   "mimetype": "text/x-python",
   "name": "python",
   "nbconvert_exporter": "python",
   "pygments_lexer": "ipython3",
   "version": "3.7.3"
  }
 },
 "nbformat": 4,
 "nbformat_minor": 4
}
