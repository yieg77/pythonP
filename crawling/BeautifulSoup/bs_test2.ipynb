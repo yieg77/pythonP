{
 "cells": [
  {
   "cell_type": "code",
   "execution_count": 3,
   "metadata": {},
   "outputs": [],
   "source": [
    "import urllib.request\n",
    "from bs4 import BeautifulSoup"
   ]
  },
  {
   "cell_type": "code",
   "execution_count": 31,
   "metadata": {},
   "outputs": [],
   "source": [
    "url = \"https://search.naver.com/search.naver?sm=top_hty&fbm=1&ie=utf8&query=%EC%A0%9C%EC%A3%BC+%EC%95%84%EB%9D%BC%EB%8F%99+%EB%82%A0%EC%94%A8\"\n",
    "pages = urllib.request.urlopen(url)\n",
    "bs = BeautifulSoup(pages, \"html.parser\")"
   ]
  },
  {
   "cell_type": "code",
   "execution_count": 13,
   "metadata": {},
   "outputs": [
    {
     "data": {
      "text/plain": [
       "bs4.BeautifulSoup"
      ]
     },
     "execution_count": 13,
     "metadata": {},
     "output_type": "execute_result"
    }
   ],
   "source": [
    "type(bs)"
   ]
  },
  {
   "cell_type": "code",
   "execution_count": 28,
   "metadata": {},
   "outputs": [
    {
     "data": {
      "text/plain": [
       "'1,194.60'"
      ]
     },
     "execution_count": 28,
     "metadata": {},
     "output_type": "execute_result"
    }
   ],
   "source": [
    "result = bs.select('span.spt_con>strong')\n",
    "result[0].string"
   ]
  },
  {
   "cell_type": "code",
   "execution_count": 48,
   "metadata": {},
   "outputs": [
    {
     "data": {
      "text/plain": [
       "'현재: 21'"
      ]
     },
     "execution_count": 48,
     "metadata": {},
     "output_type": "execute_result"
    }
   ],
   "source": [
    "result = bs.select('div.info_data>p.info_temperature>span.todaytemp')\n",
    "'현재: '+result[0].string"
   ]
  },
  {
   "cell_type": "code",
   "execution_count": 47,
   "metadata": {},
   "outputs": [
    {
     "data": {
      "text/plain": [
       "'최저: 19'"
      ]
     },
     "execution_count": 47,
     "metadata": {},
     "output_type": "execute_result"
    }
   ],
   "source": [
    "result = bs.select('span.merge>span.min>span.num')\n",
    "'최저: '+result[0].string"
   ]
  },
  {
   "cell_type": "code",
   "execution_count": 69,
   "metadata": {},
   "outputs": [
    {
     "data": {
      "text/plain": [
       "'최고: 25'"
      ]
     },
     "execution_count": 69,
     "metadata": {},
     "output_type": "execute_result"
    }
   ],
   "source": [
    "result = bs.select('span.merge>span.max>span.num')\n",
    "'최고: '+result[0].string"
   ]
  },
  {
   "cell_type": "code",
   "execution_count": 67,
   "metadata": {},
   "outputs": [
    {
     "data": {
      "text/plain": [
       "[<p class=\"info_temperature\"><span class=\"todaytemp\">21</span><span class=\"tempmark\"><span class=\"blind\">도씨</span>℃</span> </p>,\n",
       " <p class=\"info_temperature\"><span class=\"todaytemp\">18</span><span class=\"tempmark\"><span class=\"blind\">도씨</span>℃</span> </p>,\n",
       " <p class=\"info_temperature\"><span class=\"todaytemp\">25</span><span class=\"tempmark\"><span class=\"blind\">도씨</span>℃</span> </p>,\n",
       " <p class=\"info_temperature\"><span class=\"todaytemp\">21</span><span class=\"tempmark\"><span class=\"blind\">도씨</span>℃</span> </p>,\n",
       " <p class=\"info_temperature\"><span class=\"todaytemp\">26</span><span class=\"tempmark\"><span class=\"blind\">도씨</span>℃</span> </p>]"
      ]
     },
     "execution_count": 67,
     "metadata": {},
     "output_type": "execute_result"
    }
   ],
   "source": [
    "todaytemp=bs.find_all(attrs={'class':'info_temperature'})\n",
    "todaytemp\n",
    "#todaytemp.find_all(class_='todaytemp')"
   ]
  },
  {
   "cell_type": "raw",
   "metadata": {},
   "source": [
    "result"
   ]
  },
  {
   "cell_type": "code",
   "execution_count": 74,
   "metadata": {},
   "outputs": [],
   "source": [
    "bs.find(\"span\").find(\"span\")"
   ]
  }
 ],
 "metadata": {
  "kernelspec": {
   "display_name": "Python 3",
   "language": "python",
   "name": "python3"
  },
  "language_info": {
   "codemirror_mode": {
    "name": "ipython",
    "version": 3
   },
   "file_extension": ".py",
   "mimetype": "text/x-python",
   "name": "python",
   "nbconvert_exporter": "python",
   "pygments_lexer": "ipython3",
   "version": "3.7.3"
  }
 },
 "nbformat": 4,
 "nbformat_minor": 4
}
